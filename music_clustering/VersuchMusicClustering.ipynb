{
 "cells": [
  {
   "cell_type": "markdown",
   "metadata": {},
   "source": [
    "## Vor dem Versuch zu klärende Fragen\n",
    "\n",
    "### Transcodierung von MP3 nach WAV und Merkmalsextraktion\n",
    "In diesem Versuch wird der MP3 Decoder [mpg123](http://www.mpg123.de/) eingesetzt. Installieren und testen sie diesen Decoder vor dem Versuch auf ihrem Rechner. Machen Sie sich zunächst mit dem in Kapitel [Gegebene Module zur Transcodierung und Feature Extraction](#Gegebene-Module-zur-Transcodierung-und-Feature-Extraction) aufgeführten Code vertraut. Versuchen Sie Funktion und Ablauf dieses Programms zu verstehen und beantworten Sie folgende Fragen.\n",
    "\n",
    "1.Was versteht man unter den statistischen Größen _Mittelwert, Standardabweichung, Skewness und Kurtosis_?"
   ]
  },
  {
   "cell_type": "markdown",
   "metadata": {},
   "source": [
    "- unter dem Mittelwert versteht man den Wert, den man erhählt, wenn man alle Werte einer Stichprobe aufsummiert und diesen Wert dann durch die Anzahl der Werte teilt.\n",
    "- die Standartabweichung gibt die Abweichung eines einzelnen Wertes vom Mittelwert an\n",
    "- den Begriff der Skewness gibt es nur im Bezug auf asymmetrische Verteilung. Sie gibt an, wie stark die asymmetrie ist.\n",
    "- Kurtosis beschreibt die \"peaks\" einer Verteilung and beschreibt wie stark diese um den Mittelwert sind"
   ]
  },
  {
   "cell_type": "markdown",
   "metadata": {},
   "source": [
    "2.Was beschreibt die Fourier-Transformierte eines zeitlich ausgedehnten Signals?"
   ]
  },
  {
   "cell_type": "markdown",
   "metadata": {},
   "source": [
    "- Sie beschreibt die Funktion, die das Spektrum beschreibt, welches durch die Fourier Transformation (zerlegte Signale) erzeugt wurde."
   ]
  },
  {
   "cell_type": "markdown",
   "metadata": {},
   "source": [
    "3.Mit welcher Samplingrate werden die WAV Dateien abgetastet?"
   ]
  },
  {
   "cell_type": "markdown",
   "metadata": {},
   "source": [
    "- Die WAV Daten werden mit 10 kHz abgetastet, das bedeutet 10000 mal in der Sekunde"
   ]
  },
  {
   "cell_type": "markdown",
   "metadata": {},
   "source": [
    "4.Insgesamt werden 42 Merkmale pro Musiksequenz extrahiert. Beschreiben Sie kurz diese Merkmale"
   ]
  },
  {
   "cell_type": "markdown",
   "metadata": {
    "collapsed": true
   },
   "source": [
    "- Es wird der Mittelwert, die Standardabweichung, die Kurtosis und die Skewness für meherer Blockgrößen berechnet 1, 10, 100 und 1000. Dadurch  Außerdem noch die unterschieldichen Powerwerte."
   ]
  },
  {
   "cell_type": "markdown",
   "metadata": {},
   "source": [
    "### Genetischer Algorithmus für die Merkmalsselektion\n",
    "\n",
    "1. Beschreiben Sie die Prozesschritte im genetischen Algorithmus [Genetischer Algorithmus](https://www.hdm-stuttgart.de/~maucher/Python/FunktionenAlgorithmen/html/genAlgTSP.html)\n",
    "2. In diesem Versuch wird davon ausgegangen, dass Merkmale dann gut sind, wenn durch sie die erste Teilsequenz eines Musikstücks durch einen ähnlichen Vektor wie die jeweils zweite Teilsequenz beschrieben wird. Wie kann mit dieser Annahme der genetische Algorithmus für die Merkmalsselektion angewandt werden. Unter Merkmalsselektion versteht man allgemein die Suche nach den $r$ besten Merkmalen aus einer Menge von insgesamt $R$ Merkmalen. In diesem Versuch werden initial $R=42$ Merkmale extrahiert, aus denen dann die besten $r<R$ Merkmale zu bestimmen sind. Überlegen Sie hierfür speziell wie die Fitnessfunktion, die Kreuzung und die Mutation zu realisieren sind.\n"
   ]
  },
  {
   "cell_type": "markdown",
   "metadata": {
    "collapsed": true
   },
   "source": [
    "1. Der Genetische Algorithmus besteht aus 5 Schritten\n",
    "    1. Berechnung der Fitness: für jedes Individum wird der Fitnesswert berechnet, die Fitnessfunktion bewertet, wie \n",
    "gut eine Individum das Optimierungsziel erfüllt\n",
    "    2. Selektion: Es werden zufällig 2 Individuen zum kreuzen ausgewählt, wobei die Wahrscheinlichkeit ausgewählt zu werden umso höher is je besser der Fitnesswert eines Individums ist\n",
    "    3. Crossover: Zwei Individuen (A, B) werden mit einander kombiniert um 2 neue Individuen zu erzeugen. Dabei wird ein zufälliger Kreuzungspunkt im Zustandsvektor gewählt an dem dieser gesplitet wird. Es wird dann die erste Hälfte des Zustandvektors von Individum A mit der zweiten Hälfte des Zustandvektors von Individum B kombiniert. Analog funktioniert es mit dem 2. Nachkommen Individum.\n",
    "    4. Mutation: Mit einer relative kleinen Wahrscheinlichkeit werden 2 Stellen im Zustandsvektor vertauscht\n",
    "    5. Austausch: Die 2 Individuen mit dem schlechtesten Fitnesswert werden durch die 2 besten Induvidien, welche neu generiert wurden, ersetzt. \n",
    "    Voraussetzungen:\n",
    "        - Der Zustandsvektor der Induvidien unterscheidet sich von schon existierenden Individuen\n",
    "        - Die neuen Induvidien haben einen besseren Fitnesswert als die 2 schlechtesten\n",
    "        \n",
    "\n",
    "2. \n",
    "    Der Zustand ist ein Vektor mit 42 Stellen. Jede Stelle kann entweder 0 oder 1 enthalten. \n",
    "    1 Bedeutet das Merkmal wird in die Bewertung mit einbezogen. \n",
    "    0 Bedeutet das Merkmal wird nicht mit einbezogen.\n",
    "    \n",
    "    Eine Mögliche Erweiterung währe hier statt einfachem ein oder aus auch Zwischenwerte zuzulassen, somit könnten die Mermale unterschiedlich stark gewichtet werden.\n",
    "    \n",
    "    - Fitnessfunktion:\n",
    "        - Es werden die selektierten Merkmale für den 1. Abschnitt und den 2. Abschnitt des Musikstücks separat berechnet. Davon berechnet man die Ähnlichkeit (z.B. Euklidische Distanz). Das Inverse davon ist dann der Fitnesswert\n",
    "    - Kreuzung\n",
    "        - Es wird ein zufälliger Kreuzungspunkt ausgewählt und die Vektoren an dieser Stelle gesplittet und neu kombiniert\n",
    "        \n",
    "        ```\n",
    "            Bsp:\n",
    "            a = [x1, x2, x3,   x4, x5, .... x42]\n",
    "            b = [y1, y2, y3,   y4, y5, .... y42]\n",
    "                             ^\n",
    "                       Kreuzungspunkt  \n",
    "            \n",
    "            a' = [x1, x2, x3, y4, y5, .... y42]\n",
    "            b' = [y1, y2, y3, x4, x5, .....x42]\n",
    "        ```\n",
    "        \n",
    "    - Mutation\n",
    "        - Zwei Stellen im Zustandsvektor werden vertauscht"
   ]
  },
  {
   "cell_type": "markdown",
   "metadata": {},
   "source": [
    "### Clustering und Playlistgenerierung\n",
    "\n",
    "1. Wie kann mit einem hierarchischen Clustering der Musikfiles eine Menge von Playlists erzeugt werden, so dass innerhalb einer Playlist möglichst ähnliche Titel zu finden sind?"
   ]
  },
  {
   "cell_type": "code",
   "execution_count": 4,
   "metadata": {
    "collapsed": true
   },
   "outputs": [],
   "source": []
  },
  {
   "cell_type": "markdown",
   "metadata": {},
   "source": [
    "# Durchführung\n",
    "##Gegebene Module zur Transcodierung und Feature Extraction\n",
    "Mit dem in diesem Abschnitt gegebenen Code werden die im Unterverzeichnis _BandCollection_ befindlichen mp3-Files zunächst in wave decodiert. Danach werden aus den wave Dateien Audiomerkmale erhoben.\n",
    "\n",
    "Von jedem Musikstück werden zwei disjunkte Teilsequenzen erhoben und von beiden Teilsequenzen jeweils ein Merkmalsvektor gebildet. Der Grund hierfür ist: Für die später folgende Bestimmung der wichtigsten Merkmale (Merkmalsselektion mit dem genetischen Algorithmus), wird angenommen dass Merkmale dann gut sind, wenn die aus ihnen gebildeten Merkmalsvektoren für Teilsequenzen des gleichen Musikstücks nahe beieinander liegen und die Merkmalsvektoren von Teilsequenzen unterschiedlicher Musikstücke weiter voneinander entfernt sind. In der Merkmalsselektion werden dann die Merkmale als relevant erachtet, für die diese Annahme zutrifft. \n",
    "\n",
    "**Aufgaben:**\n",
    "\n",
    "1. Stellen Sie im unten gegebenen Code die Verzeichnisse für Ihre Musikdateien (aktuell Unterverzeichnis _BandCollection_) und für den Ort Ihres _mpg123_ Decoders richtig ein.\n",
    "2. Die verwendete Musiksammlung sollte mindestens 5 verschiedene Interpreten möglichst unterschiedlicher Genres enthalten. Von jedem Interpret sollten mehrere Titel (evtl. ein ganzes Album) enthalten sein.\n",
    "3. Führen Sie den in diesem Abschnitt gegebenen Programmcode zur Audiofeature-Extraction aus. Damit werden für alle Musiksequenzen jeweils 42 Merkmale extrahiert. Die extrahierten Merkmalsvektoren der jeweils ersten Sequenz werden in das File _FeatureFileTrainingAllList1.csv_ geschrieben, die der zweiten Teilsequen in das File _FeatureFileTestAllList2.csv_. \n"
   ]
  },
  {
   "cell_type": "code",
   "execution_count": 18,
   "metadata": {
    "collapsed": true
   },
   "outputs": [],
   "source": [
    "import subprocess\n",
    "import wave\n",
    "import struct\n",
    "import numpy\n",
    "import os\n",
    "import pandas as pd\n",
    "\n",
    "numpy.set_printoptions(precision=2,suppress=True)\n",
    "\n",
    "#Names of features extracted in this module\n",
    "FeatNames=[\"amp1mean\",\"amp1std\",\"amp1skew\",\"amp1kurt\",\"amp1dmean\",\"amp1dstd\",\"amp1dskew\",\"amp1dkurt\",\"amp10mean\",\"amp10std\",\n",
    "           \"amp10skew\",\"amp10kurt\",\"amp10dmean\",\"amp10dstd\",\"amp10dskew\",\"amp10dkurt\",\"amp100mean\",\"amp100std\",\"amp100skew\",\n",
    "           \"amp100kurt\",\"amp100dmean\",\"amp100dstd\",\"amp100dskew\",\"amp100dkurt\",\"amp1000mean\",\"amp1000std\",\"amp1000skew\",\n",
    "           \"amp1000kurt\",\"amp1000dmean\",\"amp1000dstd\",\"amp1000dskew\",\"amp1000dkurt\",\"power1\",\"power2\",\"power3\",\"power4\",\n",
    "           \"power5\",\"power6\",\"power7\",\"power8\",\"power9\",\"power10\"]"
   ]
  },
  {
   "cell_type": "code",
   "execution_count": 10,
   "metadata": {
    "collapsed": true
   },
   "outputs": [],
   "source": [
    "def moments(x):\n",
    "    mean = x.mean()\n",
    "    std = x.var()**0.5\n",
    "    skewness = ((x - mean)**3).mean() / std**3\n",
    "    kurtosis = ((x - mean)**4).mean() / std**4\n",
    "    return [mean, std, skewness, kurtosis]"
   ]
  },
  {
   "cell_type": "code",
   "execution_count": 11,
   "metadata": {
    "collapsed": true
   },
   "outputs": [],
   "source": [
    "#Feature category 2: Frequency domain parameters\n",
    "def fftfeatures(wavdata):\n",
    "    f = numpy.fft.fft(wavdata)\n",
    "    f = f[2:(f.size / 2 + 1)]\n",
    "    f = abs(f)\n",
    "    total_power = f.sum()\n",
    "    f = numpy.array_split(f, 10)\n",
    "    return [e.sum() / total_power for e in f]"
   ]
  },
  {
   "cell_type": "code",
   "execution_count": 12,
   "metadata": {
    "collapsed": true
   },
   "outputs": [],
   "source": [
    "#Creating the entire feature vector per music-file\n",
    "def features(x):\n",
    "    x = numpy.array(x)\n",
    "    f = []\n",
    "\n",
    "    xs = x\n",
    "    diff = xs[1:] - xs[:-1]\n",
    "    f.extend(moments(xs))\n",
    "    f.extend(moments(diff))\n",
    "\n",
    "    xs = x.reshape(-1, 10).mean(1)\n",
    "    diff = xs[1:] - xs[:-1]\n",
    "    f.extend(moments(xs))\n",
    "    f.extend(moments(diff))\n",
    "\n",
    "    xs = x.reshape(-1, 100).mean(1)\n",
    "    diff = xs[1:] - xs[:-1]\n",
    "    f.extend(moments(xs))\n",
    "    f.extend(moments(diff))\n",
    "\n",
    "    xs = x.reshape(-1, 1000).mean(1)\n",
    "    diff = xs[1:] - xs[:-1]\n",
    "    f.extend(moments(xs))\n",
    "    f.extend(moments(diff))\n",
    "\n",
    "    f.extend(fftfeatures(x))\n",
    "    return f"
   ]
  },
  {
   "cell_type": "code",
   "execution_count": 13,
   "metadata": {
    "collapsed": true
   },
   "outputs": [],
   "source": [
    "def read_wav(wav_file):\n",
    "    \"\"\"Returns two chunks of sound data from wave file.\"\"\"\n",
    "    w = wave.open(wav_file)\n",
    "    n = 60 * 10000\n",
    "    if w.getnframes() < n * 3:\n",
    "        raise ValueError('Wave file too short')\n",
    "    #For each music file 2 sequences, each containing n frames are subtracted. The first sequence starts at postion n,\n",
    "    #the second sequence starts at postion 2n. The reason for extracting 2 subsequences is, that later on we like to\n",
    "    #find the best features and in this exercise we assume that good features have the property that they are similar for 2 subsequences\n",
    "    #of the same song, but differ for subsequences of different songs.\n",
    "    w.setpos(n)\n",
    "    frames = w.readframes(n)\n",
    "    wav_data1 = struct.unpack('%dh' % n, frames)\n",
    "    frames = w.readframes(n)\n",
    "    wav_data2 = struct.unpack('%dh' % n, frames)\n",
    "    return wav_data1, wav_data2"
   ]
  },
  {
   "cell_type": "code",
   "execution_count": 30,
   "metadata": {
    "collapsed": true
   },
   "outputs": [],
   "source": [
    "def compute_chunk_features(mp3_file):\n",
    "    \"\"\"Return feature vectors for two chunks of an MP3 file.\"\"\"\n",
    "    # Extract MP3 file to a mono, 10kHz WAV file\n",
    "    #mpg123_command = 'C:\\Program Files (x86)\\mpg123-1.22.0-x86\\mpg123-1.22.0-x86\\\\mpg123.exe -w \"%s\" -r 10000 -m \"%s\"'\n",
    "    #mpg123_command = 'C:\\\\Program Files (x86)\\\\mpg123-1.21.0-x86-64\\\\mpg123.exe -w \"%s\" -r 10000 -m \"%s\"'\n",
    "    mpg123_command = '/usr/local/bin/mpg123 -w \"%s\" -r 10000 -m \"%s\"'\n",
    "    out_file = 'temp.wav'\n",
    "    cmd = mpg123_command % (out_file, mp3_file)\n",
    "    temp = subprocess.call(cmd, shell=True)\n",
    "    # Read in chunks of data from WAV file\n",
    "    wav_data1, wav_data2 = read_wav(out_file)\n",
    "    # We'll cover how the features are computed in the next section!\n",
    "    return numpy.array(features(wav_data1)), numpy.array(features(wav_data2))"
   ]
  },
  {
   "cell_type": "code",
   "execution_count": 117,
   "metadata": {
    "collapsed": false,
    "scrolled": false
   },
   "outputs": [
    {
     "name": "stdout",
     "output_type": "stream",
     "text": [
      "--------------------Adele\\01 Hometown Glory.mp3--------------------\n",
      "--------------------Adele\\02 I'll Be Waiting.mp3--------------------\n",
      "--------------------Adele\\03 Don't You Remember.mp3--------------------\n",
      "--------------------Adele\\04 Turning Tables.mp3--------------------\n",
      "--------------------Adele\\05 Set Fire To The Rain.mp3--------------------\n",
      "--------------------Adele\\06 If It Hadn't Been For Love.mp3--------------------\n",
      "Error: Chunk Features failed\n",
      "--------------------Adele\\08 Take It All.mp3--------------------\n",
      "--------------------Adele\\09 Rumour Has It.mp3--------------------\n",
      "Error: Chunk Features failed\n",
      "--------------------Adele\\11 One And Only.mp3--------------------\n",
      "--------------------Adele\\12 Lovesong.mp3--------------------\n",
      "--------------------Adele\\13 Chasing Pavements.mp3--------------------\n",
      "--------------------Adele\\14 I Can't Make You Love Me.mp3--------------------\n",
      "--------------------Adele\\15 Make You Feel My Love.mp3--------------------\n",
      "--------------------Adele\\16 Someone Like You.mp3--------------------\n",
      "--------------------Adele\\17 Rolling In The Deep.mp3--------------------\n",
      "--------------------BeastieBoys\\01 So What'cha Want.mp3--------------------\n",
      "Error: Chunk Features failed\n",
      "--------------------BeastieBoys\\03 Ch-Check It Out.mp3--------------------\n",
      "--------------------BeastieBoys\\04 No Sleep Till Brooklyn.mp3--------------------\n",
      "--------------------BeastieBoys\\05 Hey Ladies.mp3--------------------\n",
      "--------------------BeastieBoys\\06 Pass the Mic.mp3--------------------\n",
      "--------------------BeastieBoys\\07 An Open Letter to NYC.mp3--------------------\n",
      "--------------------BeastieBoys\\08 Root Down.mp3--------------------\n",
      "--------------------BeastieBoys\\09 Shake Your Rump.mp3--------------------\n",
      "--------------------BeastieBoys\\10 Intergalactic.mp3--------------------\n",
      "--------------------BeastieBoys\\11 Sure Shot.mp3--------------------\n",
      "--------------------BeastieBoys\\12 Body Movin' (Fatboy Slim Remix).mp3--------------------\n",
      "Error: Chunk Features failed\n",
      "Error: Chunk Features failed\n",
      "--------------------BeastieBoys\\15 Fight for Your Right.mp3--------------------\n",
      "--------------------Garrett\\01 Smooth Criminal 1.mp3--------------------\n",
      "--------------------Garrett\\02 Who Wants to Live Forever_ 1.mp3--------------------\n",
      "--------------------Garrett\\03 Clair de Lune 1.mp3--------------------\n",
      "--------------------Garrett\\04 He's a Pirate (Pirates of the Car 1.mp3--------------------\n",
      "--------------------Garrett\\05 Summertime 1.mp3--------------------\n",
      "Error: Chunk Features failed\n",
      "Error: Chunk Features failed\n",
      "Error: Chunk Features failed\n",
      "--------------------Garrett\\09 O Mio Babbino Caro 1.mp3--------------------\n",
      "--------------------Garrett\\10 Air.mp3--------------------\n",
      "--------------------Garrett\\11 Thunderstruck.mp3--------------------\n",
      "--------------------Garrett\\12 New Day.mp3--------------------\n",
      "Error: Chunk Features failed\n",
      "--------------------Garrett\\14 Rock Prelude.mp3--------------------\n",
      "Error: Chunk Features failed\n",
      "--------------------Garrett\\16 Little Wing.mp3--------------------\n",
      "--------------------LanaDelRey\\01 Born to Die.mp3--------------------\n",
      "--------------------LanaDelRey\\02 Off to the Races.mp3--------------------\n",
      "--------------------LanaDelRey\\03 Blue Jeans (Remastered).mp3--------------------\n",
      "--------------------LanaDelRey\\04 Video Games (Remastered).mp3--------------------\n",
      "--------------------LanaDelRey\\05 Diet Mountain Dew.mp3--------------------\n",
      "--------------------LanaDelRey\\06 National Anthem.mp3--------------------\n",
      "--------------------LanaDelRey\\07 Dark Paradise.mp3--------------------\n",
      "--------------------LanaDelRey\\08 Radio.mp3--------------------\n",
      "--------------------LanaDelRey\\09 Carmen.mp3--------------------\n",
      "--------------------LanaDelRey\\10 Million Dollar Man.mp3--------------------\n",
      "--------------------LanaDelRey\\11 Summertime Sadness.mp3--------------------\n",
      "--------------------LanaDelRey\\12 This Is What Makes Us Girls.mp3--------------------\n",
      "--------------------RageAgainstTheMachine\\01 Bombtrack.mp3--------------------\n",
      "--------------------RageAgainstTheMachine\\02 Killing In the Name.mp3--------------------\n",
      "--------------------RageAgainstTheMachine\\03 Take the Power Back.mp3--------------------\n",
      "--------------------RageAgainstTheMachine\\04 Settle for Nothing.mp3--------------------\n",
      "--------------------RageAgainstTheMachine\\05 Bullet In the Head.mp3--------------------\n",
      "--------------------RageAgainstTheMachine\\06 Know Your Enemy.mp3--------------------\n",
      "--------------------RageAgainstTheMachine\\07 Wake Up.mp3--------------------\n",
      "--------------------RageAgainstTheMachine\\08 Fistful of Steel.mp3--------------------\n",
      "--------------------RageAgainstTheMachine\\09 Township Rebellion.mp3--------------------\n",
      "--------------------RageAgainstTheMachine\\10 Freedom.mp3--------------------\n"
     ]
    }
   ],
   "source": [
    "fileList=[]\n",
    "featureList1=[]\n",
    "featureList2=[]\n",
    "#Specify the name of the directory, which contains your MP3 files here.\n",
    "# This directory should contain for each band/author one subdirectory, which contains all songs of this author\n",
    "for path, dirs, files in os.walk('./BandCollection'):\n",
    "    #print '-'*10,dirs,files\n",
    "    for f in files:\n",
    "        if not f.endswith('.mp3'):\n",
    "            # Skip any non-MP3 files\n",
    "            continue\n",
    "        mp3_file = os.path.join(path, f)\n",
    "        #print mp3_file\n",
    "        # Extract the track name (i.e. the file name) plus the names\n",
    "        # of the two preceding directories. This will be useful\n",
    "        # later for plotting.\n",
    "        tail, track = os.path.split(mp3_file)\n",
    "        tail, dir1 = os.path.split(tail)\n",
    "        tail, dir2 = os.path.split(tail)\n",
    "        # Compute features. feature_vec1 and feature_vec2 are lists of floating\n",
    "        # point numbers representing the statistical features we have extracted\n",
    "        # from the raw sound data.\n",
    "        try:\n",
    "            feature_vec1, feature_vec2 = compute_chunk_features(mp3_file)\n",
    "        except:\n",
    "            print \"Error: Chunk Features failed\"\n",
    "            continue\n",
    "        #title=str(track)\n",
    "        title=str(dir1)+'\\\\'+str(track)\n",
    "        print '-'*20+ title +'-'*20\n",
    "        #print \"       feature vector 1:\",feature_vec1\n",
    "        #print \"       feature vector 2:\",feature_vec2\n",
    "        fileList.append(title)\n",
    "        featureList1.append(feature_vec1)\n",
    "        featureList2.append(feature_vec2)\n",
    "\n",
    "# Write feature vecotrs of all music files to pandas data-frame\n",
    "MusicFeaturesTrain=pd.DataFrame(index=fileList,data=numpy.array(featureList1),columns=FeatNames)\n",
    "MusicFeaturesTrain.to_csv(\"FeatureFileTrainingAllList1.csv\")\n",
    "\n",
    "MusicFeaturesTest=pd.DataFrame(index=fileList,data=numpy.array(featureList2),columns=FeatNames)\n",
    "MusicFeaturesTest.to_csv(\"FeatureFileTestAllList2.csv\")"
   ]
  },
  {
   "cell_type": "markdown",
   "metadata": {},
   "source": [
    "## Matching der Teilsequenzen\n",
    "In diesem Abschnitt soll ein Verfahren implementiert werden, mit dem die Übereinstimmung der ersten Teilsequenz eines Musikstücks mit den zweiten Teilsequenzen aller anderen Musikstücke berechnet werden kann.\n",
    "\n",
    "**Aufagben:**\n",
    "1.Lesen Sie die im vorigen Teilversuch angelegten zwei csv-Dateien in jeweils einen eigenen Pandas Dataframe ein."
   ]
  },
  {
   "cell_type": "code",
   "execution_count": 188,
   "metadata": {
    "collapsed": false
   },
   "outputs": [],
   "source": [
    "import pandas as pd\n",
    "from sklearn.preprocessing import StandardScaler\n",
    "scale = StandardScaler()\n",
    "\n",
    "MusicFeaturesTrain = pd.read_csv('./FeatureFileTrainingAllList1.csv')\n",
    "MusicFeaturesTest = pd.read_csv('./FeatureFileTestAllList2.csv')\n",
    "\n",
    "collist = MusicFeaturesTrain.columns.tolist()[1:]\n",
    "MusicFeaturesTrain[collist] = scale.fit_transform(MusicFeaturesTrain[collist].as_matrix())\n",
    "\n",
    "MusicFeaturesTest[collist] = scale.fit_transform(MusicFeaturesTest[collist].as_matrix())"
   ]
  },
  {
   "cell_type": "markdown",
   "metadata": {},
   "source": [
    "2.Bestimmen Sie zu jeder Teilsequenz aus der Datei _FeatureFileTrainingAllList1.csv_ die euklidische Distanz zu allen Teilsequenzen aus der Datei _FeatureFileTestAllList2.csv_ und schreiben Sie diese Distanzen in eine aufsteigend geordnete Liste. Schreiben Sie auch die zugehörigen Argumente (Teilsequenzen) in eine geordnete Liste, sodass für jede Teilsequenz aus _FeatureFileTrainingAllList1.csv_ die am nächsten liegende Teilsequenz aus _FeatureFileTestAllList2.csv_ an erster Stelle steht, die zweitnächste Teilsequenz an zweiter usw."
   ]
  },
  {
   "cell_type": "code",
   "execution_count": 133,
   "metadata": {
    "collapsed": false
   },
   "outputs": [],
   "source": [
    "from scipy.spatial.distance import euclidean\n",
    "\n",
    "def get_euclid_dist(seq1, seq2):\n",
    "    return euclidean(seq1, seq2)"
   ]
  },
  {
   "cell_type": "code",
   "execution_count": 134,
   "metadata": {
    "collapsed": false,
    "scrolled": false
   },
   "outputs": [
    {
     "data": {
      "text/plain": [
       "[('LanaDelRey\\\\02 Off to the Races.mp3',\n",
       "  [('BeastieBoys\\\\06 Pass the Mic.mp3', 5.0798898249250684),\n",
       "   ('LanaDelRey\\\\12 This Is What Makes Us Girls.mp3', 6.68111149637968),\n",
       "   ('LanaDelRey\\\\07 Dark Paradise.mp3', 6.8159469514778532),\n",
       "   ('RageAgainstTheMachine\\\\10 Freedom.mp3', 6.8473651472989046),\n",
       "   ('LanaDelRey\\\\08 Radio.mp3', 6.9155745458343487),\n",
       "   (\"BeastieBoys\\\\12 Body Movin' (Fatboy Slim Remix).mp3\", 7.0025235850786345),\n",
       "   ('LanaDelRey\\\\09 Carmen.mp3', 7.0171643942515347),\n",
       "   (\"Garrett\\\\04 He's a Pirate (Pirates of the Car 1.mp3\", 7.3800621194004181),\n",
       "   ('BeastieBoys\\\\07 An Open Letter to NYC.mp3', 7.432101149474895),\n",
       "   ('LanaDelRey\\\\02 Off to the Races.mp3', 7.5450429614224941),\n",
       "   ('Garrett\\\\11 Thunderstruck.mp3', 7.594664702689828),\n",
       "   ('Adele\\\\12 Lovesong.mp3', 7.6922242583208726),\n",
       "   ('Garrett\\\\05 Summertime 1.mp3', 7.7321860167509096),\n",
       "   ('Adele\\\\17 Rolling In The Deep.mp3', 7.8413334683198217),\n",
       "   ('Adele\\\\11 One And Only.mp3', 8.0035252032406596),\n",
       "   ('RageAgainstTheMachine\\\\09 Township Rebellion.mp3', 8.0443748231413927),\n",
       "   ('RageAgainstTheMachine\\\\07 Wake Up.mp3', 8.1187686399582475),\n",
       "   ('BeastieBoys\\\\03 Ch-Check It Out.mp3', 8.1730442491484823),\n",
       "   ('LanaDelRey\\\\01 Born to Die.mp3', 8.3198477829635955),\n",
       "   ('RageAgainstTheMachine\\\\06 Know Your Enemy.mp3', 8.3282355862383426),\n",
       "   ('LanaDelRey\\\\11 Summertime Sadness.mp3', 8.3402164815606508),\n",
       "   ('LanaDelRey\\\\03 Blue Jeans (Remastered).mp3', 8.3508666543867882),\n",
       "   ('Garrett\\\\02 Who Wants to Live Forever_ 1.mp3', 8.4521136098674958),\n",
       "   ('RageAgainstTheMachine\\\\05 Bullet In the Head.mp3', 8.4832582515009367),\n",
       "   ('LanaDelRey\\\\04 Video Games (Remastered).mp3', 8.5196914708257996),\n",
       "   ('RageAgainstTheMachine\\\\01 Bombtrack.mp3', 8.6251657798252097),\n",
       "   ('BeastieBoys\\\\08 Root Down.mp3', 8.7460594262856635),\n",
       "   ('LanaDelRey\\\\06 National Anthem.mp3', 8.7687026464386051),\n",
       "   (\"Adele\\\\02 I'll Be Waiting.mp3\", 8.7932356369736109),\n",
       "   ('Garrett\\\\10 Air.mp3', 8.9668235961404132),\n",
       "   (\"Adele\\\\03 Don't You Remember.mp3\", 8.9676026500435402),\n",
       "   ('RageAgainstTheMachine\\\\02 Killing In the Name.mp3', 9.1002139020836292),\n",
       "   ('LanaDelRey\\\\05 Diet Mountain Dew.mp3', 9.1888577133131744),\n",
       "   ('Adele\\\\13 Chasing Pavements.mp3', 9.339951330068704),\n",
       "   ('Adele\\\\09 Rumour Has It.mp3', 9.3781920533965852),\n",
       "   ('RageAgainstTheMachine\\\\04 Settle for Nothing.mp3', 9.5648931831920017),\n",
       "   ('Garrett\\\\14 Rock Prelude.mp3', 9.5958378132138762),\n",
       "   ('Garrett\\\\12 New Day.mp3', 9.6692676543902341),\n",
       "   ('Garrett\\\\09 O Mio Babbino Caro 1.mp3', 9.7665248973421654),\n",
       "   (\"Adele\\\\06 If It Hadn't Been For Love.mp3\", 9.8263780636531326),\n",
       "   ('RageAgainstTheMachine\\\\03 Take the Power Back.mp3', 9.8732310714821097),\n",
       "   ('Garrett\\\\01 Smooth Criminal 1.mp3', 9.9086356170738448),\n",
       "   ('Adele\\\\01 Hometown Glory.mp3', 10.221189770807779),\n",
       "   ('Garrett\\\\03 Clair de Lune 1.mp3', 10.227821194437883),\n",
       "   ('LanaDelRey\\\\10 Million Dollar Man.mp3', 10.304203339865165),\n",
       "   ('BeastieBoys\\\\10 Intergalactic.mp3', 10.335952404865481),\n",
       "   ('Adele\\\\05 Set Fire To The Rain.mp3', 10.502521142491124),\n",
       "   ('Adele\\\\16 Someone Like You.mp3', 10.568324129792282),\n",
       "   ('Adele\\\\04 Turning Tables.mp3', 10.568377695115588),\n",
       "   ('Adele\\\\08 Take It All.mp3', 10.588084186924531),\n",
       "   ('BeastieBoys\\\\15 Fight for Your Right.mp3', 10.607195535160125),\n",
       "   (\"Adele\\\\14 I Can't Make You Love Me.mp3\", 10.741896767972477),\n",
       "   ('BeastieBoys\\\\11 Sure Shot.mp3', 10.97393452543689),\n",
       "   ('Adele\\\\15 Make You Feel My Love.mp3', 10.996242204237076),\n",
       "   ('Garrett\\\\16 Little Wing.mp3', 11.478156691685276),\n",
       "   ('RageAgainstTheMachine\\\\08 Fistful of Steel.mp3', 11.746989452089087),\n",
       "   ('BeastieBoys\\\\04 No Sleep Till Brooklyn.mp3', 12.884293556605938),\n",
       "   ('BeastieBoys\\\\09 Shake Your Rump.mp3', 13.551114724860946),\n",
       "   (\"BeastieBoys\\\\01 So What'cha Want.mp3\", 13.700866448346172),\n",
       "   ('BeastieBoys\\\\05 Hey Ladies.mp3', 14.915592115689089)])]"
      ]
     },
     "execution_count": 134,
     "metadata": {},
     "output_type": "execute_result"
    }
   ],
   "source": [
    "distance_dict_euc = {}\n",
    "\n",
    "for seq1 in MusicFeaturesTrain.iterrows():\n",
    "    seq1_vector_tuple = (seq1[1].values[:1][0], seq1[1].values[1:]) \n",
    "    dist_list = []\n",
    "\n",
    "    for seq2 in MusicFeaturesTest.iterrows():\n",
    "        seq2_vector_tuple = (seq2[1].values[:1][0], seq2[1].values[1:])\n",
    "        distance = get_euclid_dist(seq1_vector_tuple[1], seq2_vector_tuple[1])\n",
    "\n",
    "        dist_list.append((seq2_vector_tuple[0], distance))\n",
    "\n",
    "    dist_list.sort(key=lambda x: x[1])\n",
    "    distance_dict_euc[seq1_vector_tuple[0]] = dist_list\n",
    "\n",
    "distance_dict_euc.items()[:1]"
   ]
  },
  {
   "cell_type": "markdown",
   "metadata": {},
   "source": [
    "3.Bestimmen Sie über alle Teilsequenzen aus _FeatureFileTrainingAllList1.csv_ den **mittleren Rang** an dem die zugehörige zweite Teilsequenz erscheint. Liegt z.B. für die erste Teilsequenz des Musikstücks A die zweite Teilsequenz nur an fünfter Stelle der geordneten nächsten Nachbarliste. Dann würde diese Teilsequenz mit dem Rang 5 in den Mittelwert einfließen."
   ]
  },
  {
   "cell_type": "code",
   "execution_count": 154,
   "metadata": {
    "collapsed": false
   },
   "outputs": [
    {
     "name": "stdout",
     "output_type": "stream",
     "text": [
      "[10, 1, 1, 10, 1, 1, 1, 1, 1, 1, 1, 8, 1, 1, 2, 12, 2, 3, 1, 2, 9, 1, 1, 1, 2, 2, 2, 12, 1, 2, 1, 2, 1, 2, 13, 1, 1, 7, 1, 1, 1, 1, 1, 1, 1, 2, 6, 1, 1, 1, 1, 1, 1, 1, 1, 1, 2, 1, 1, 1]\n",
      "Mittlere Distanz: 2.51666666667\n"
     ]
    }
   ],
   "source": [
    "distance_vals = []\n",
    "\n",
    "for seq1, seqs  in distance_dict_euc.items():\n",
    "    for index, seq in enumerate(seqs):\n",
    "        if seq[0] == seq1:\n",
    "            distance_vals.append(index + 1)\n",
    "            break\n",
    "\n",
    "avg_euclid = sum(distance_vals) / float(len(distance_vals))\n",
    "\n",
    "print distance_vals\n",
    "print 'Durchschnittliche Distanz: ' + str(avg_euclid)"
   ]
  },
  {
   "cell_type": "markdown",
   "metadata": {},
   "source": [
    "4.Bestimmen Sie jetzt den mittleren Rang, für den Fall, dass _correlation_ anstelle _euclidean_ als Ähnlichkeitsmaß verwendet wird. Welches Ähnlichkeitsmaß ist für diese Anwendung zu bevorzugen?"
   ]
  },
  {
   "cell_type": "code",
   "execution_count": 136,
   "metadata": {
    "collapsed": true
   },
   "outputs": [],
   "source": [
    "from scipy.spatial.distance import correlation\n",
    "\n",
    "def get_corr_dist(seq1, seq2):\n",
    "    return correlation(seq1, seq2)"
   ]
  },
  {
   "cell_type": "code",
   "execution_count": 137,
   "metadata": {
    "collapsed": false
   },
   "outputs": [
    {
     "data": {
      "text/plain": [
       "[('LanaDelRey\\\\02 Off to the Races.mp3',\n",
       "  [('BeastieBoys\\\\06 Pass the Mic.mp3', 0.24326409569075658),\n",
       "   ('LanaDelRey\\\\09 Carmen.mp3', 0.47598591340250418),\n",
       "   ('LanaDelRey\\\\08 Radio.mp3', 0.58261805107703835),\n",
       "   ('LanaDelRey\\\\02 Off to the Races.mp3', 0.58799975479689826),\n",
       "   ('RageAgainstTheMachine\\\\10 Freedom.mp3', 0.59835419629745568),\n",
       "   ('LanaDelRey\\\\07 Dark Paradise.mp3', 0.60236972529448907),\n",
       "   ('LanaDelRey\\\\12 This Is What Makes Us Girls.mp3', 0.60719320745371697),\n",
       "   ('BeastieBoys\\\\03 Ch-Check It Out.mp3', 0.62523854075726781),\n",
       "   ('BeastieBoys\\\\07 An Open Letter to NYC.mp3', 0.63492007624795233),\n",
       "   ('BeastieBoys\\\\10 Intergalactic.mp3', 0.74919225875841544),\n",
       "   ('LanaDelRey\\\\06 National Anthem.mp3', 0.7654348415054224),\n",
       "   (\"BeastieBoys\\\\12 Body Movin' (Fatboy Slim Remix).mp3\",\n",
       "    0.81249870243007005),\n",
       "   ('BeastieBoys\\\\08 Root Down.mp3', 0.83194030373975036),\n",
       "   (\"Garrett\\\\04 He's a Pirate (Pirates of the Car 1.mp3\",\n",
       "    0.87311745258147411),\n",
       "   ('BeastieBoys\\\\11 Sure Shot.mp3', 0.88817875864357665),\n",
       "   ('LanaDelRey\\\\04 Video Games (Remastered).mp3', 0.89598272691835446),\n",
       "   ('Garrett\\\\10 Air.mp3', 0.90330658051967716),\n",
       "   ('LanaDelRey\\\\01 Born to Die.mp3', 0.91479887337247989),\n",
       "   ('Adele\\\\11 One And Only.mp3', 0.93686278623767016),\n",
       "   ('RageAgainstTheMachine\\\\09 Township Rebellion.mp3', 0.94416346704314025),\n",
       "   ('Adele\\\\12 Lovesong.mp3', 0.95940589231600404),\n",
       "   ('Garrett\\\\11 Thunderstruck.mp3', 0.96669635611097227),\n",
       "   ('RageAgainstTheMachine\\\\05 Bullet In the Head.mp3', 0.96876294164356214),\n",
       "   ('Garrett\\\\01 Smooth Criminal 1.mp3', 0.96888994377283832),\n",
       "   ('LanaDelRey\\\\03 Blue Jeans (Remastered).mp3', 0.97468874004909223),\n",
       "   ('LanaDelRey\\\\11 Summertime Sadness.mp3', 0.99865882129885408),\n",
       "   ('BeastieBoys\\\\15 Fight for Your Right.mp3', 1.0160942513656579),\n",
       "   ('Garrett\\\\14 Rock Prelude.mp3', 1.0173211831810924),\n",
       "   ('LanaDelRey\\\\05 Diet Mountain Dew.mp3', 1.0335530619259057),\n",
       "   ('RageAgainstTheMachine\\\\08 Fistful of Steel.mp3', 1.0483652749652286),\n",
       "   ('RageAgainstTheMachine\\\\06 Know Your Enemy.mp3', 1.0580275468869511),\n",
       "   ('BeastieBoys\\\\09 Shake Your Rump.mp3', 1.0637008009150519),\n",
       "   ('Adele\\\\17 Rolling In The Deep.mp3', 1.0637142209124444),\n",
       "   ('BeastieBoys\\\\04 No Sleep Till Brooklyn.mp3', 1.0648656530302683),\n",
       "   ('Adele\\\\16 Someone Like You.mp3', 1.1048137935033817),\n",
       "   ('Adele\\\\15 Make You Feel My Love.mp3', 1.1269023791249941),\n",
       "   ('Garrett\\\\05 Summertime 1.mp3', 1.1346098760992067),\n",
       "   ('BeastieBoys\\\\05 Hey Ladies.mp3', 1.1362124831953757),\n",
       "   ('RageAgainstTheMachine\\\\02 Killing In the Name.mp3', 1.1504392219362436),\n",
       "   (\"BeastieBoys\\\\01 So What'cha Want.mp3\", 1.152249146664821),\n",
       "   (\"Adele\\\\06 If It Hadn't Been For Love.mp3\", 1.1550732216521349),\n",
       "   ('RageAgainstTheMachine\\\\03 Take the Power Back.mp3', 1.1573967463975541),\n",
       "   ('RageAgainstTheMachine\\\\07 Wake Up.mp3', 1.1761680038292788),\n",
       "   ('Adele\\\\09 Rumour Has It.mp3', 1.1811567216949892),\n",
       "   ('Garrett\\\\02 Who Wants to Live Forever_ 1.mp3', 1.1908819307778622),\n",
       "   ('Garrett\\\\03 Clair de Lune 1.mp3', 1.1920432805844443),\n",
       "   ('Garrett\\\\16 Little Wing.mp3', 1.202470356814872),\n",
       "   ('Adele\\\\01 Hometown Glory.mp3', 1.2128123385855454),\n",
       "   ('Adele\\\\08 Take It All.mp3', 1.2208714587333074),\n",
       "   ('Garrett\\\\09 O Mio Babbino Caro 1.mp3', 1.2236333291076353),\n",
       "   (\"Adele\\\\03 Don't You Remember.mp3\", 1.232532575582687),\n",
       "   ('RageAgainstTheMachine\\\\04 Settle for Nothing.mp3', 1.2380281553203349),\n",
       "   ('RageAgainstTheMachine\\\\01 Bombtrack.mp3', 1.2422995727531991),\n",
       "   (\"Adele\\\\14 I Can't Make You Love Me.mp3\", 1.2554272708646408),\n",
       "   ('LanaDelRey\\\\10 Million Dollar Man.mp3', 1.2782730516294856),\n",
       "   ('Adele\\\\04 Turning Tables.mp3', 1.304459207364262),\n",
       "   (\"Adele\\\\02 I'll Be Waiting.mp3\", 1.3112562118759628),\n",
       "   ('Garrett\\\\12 New Day.mp3', 1.3185248884881822),\n",
       "   ('Adele\\\\13 Chasing Pavements.mp3', 1.3293204883545804),\n",
       "   ('Adele\\\\05 Set Fire To The Rain.mp3', 1.3345221713155966)])]"
      ]
     },
     "execution_count": 137,
     "metadata": {},
     "output_type": "execute_result"
    }
   ],
   "source": [
    "distance_dict_corr = {}\n",
    "\n",
    "for seq1 in MusicFeaturesTrain.iterrows():\n",
    "    seq1_vector_tuple = (seq1[1].values[:1][0], seq1[1].values[1:]) \n",
    "    dist_list = []\n",
    "\n",
    "    for seq2 in MusicFeaturesTest.iterrows():\n",
    "        seq2_vector_tuple = (seq2[1].values[:1][0], seq2[1].values[1:])\n",
    "        distance = get_corr_dist(seq1_vector_tuple[1], seq2_vector_tuple[1])\n",
    "\n",
    "        dist_list.append((seq2_vector_tuple[0], distance))\n",
    "\n",
    "    dist_list.sort(key=lambda x: x[1])\n",
    "    distance_dict_corr[seq1_vector_tuple[0]] = dist_list\n",
    "\n",
    "distance_dict_corr.items()[:1]"
   ]
  },
  {
   "cell_type": "code",
   "execution_count": 155,
   "metadata": {
    "collapsed": false
   },
   "outputs": [
    {
     "name": "stdout",
     "output_type": "stream",
     "text": [
      "[4, 1, 1, 14, 1, 1, 1, 1, 1, 1, 1, 2, 1, 1, 2, 12, 3, 3, 1, 2, 27, 1, 1, 1, 2, 1, 1, 8, 1, 2, 3, 2, 1, 2, 8, 1, 1, 10, 1, 1, 1, 1, 1, 1, 1, 2, 6, 1, 1, 1, 1, 1, 1, 3, 3, 1, 1, 1, 1, 1]\n",
      "Mittlere Distanz: 2.65\n"
     ]
    }
   ],
   "source": [
    "distance_vals = []\n",
    "\n",
    "for seq1, seqs  in distance_dict_corr.items():\n",
    "    for index, seq in enumerate(seqs):\n",
    "        if seq[0] == seq1:\n",
    "            distance_vals.append(index + 1)\n",
    "            break\n",
    "\n",
    "avg_correlation = sum(distance_vals) / float(len(distance_vals))\n",
    "\n",
    "print distance_vals\n",
    "print 'Durchschnittliche Distanz: ' + str(avg_correlation)"
   ]
  },
  {
   "cell_type": "markdown",
   "metadata": {
    "collapsed": true
   },
   "source": [
    "5.Diskutieren Sie das Ergebnis"
   ]
  },
  {
   "cell_type": "markdown",
   "metadata": {},
   "source": [
    "### Auswertung:\n",
    "\n",
    "Die correlation bietet in diesem Beispiel ein deutlich besserers Ergebnis. Wenn man die beiden Listen der einzelnen Ränge vergleicht, fällt auf, dass es bei der correlation nur sehr wenige \"Ausreißer\" gibt, der über den Rang 10 hinaus geht. Außerdem ist keiner der Ränge bei der correlation Distanz über 20.\n",
    "\n",
    "Beim Euclid hingegen gibt es einige sehr große \"Außreiser\", die über Rang 20 hinausgehen und einer der sogar bei 38 liegt. Bei diesem Lied könnte es sein, dass die Features, die bei der ersten Sequenz extrahiert wurden, nicht wie erwartet in der zweiten Sequenz wieder auftreten.\n",
    "\n",
    "Die correlation macht in diesem Fall mehr Sinn, da es bei Musik eher um den Zusammenhang der Noten geht. Das bedeutet, dass das Verhältnis zwischen den Werten wichtig ist und nicht nur, wie gleich die Werte sind.\n",
    "\n",
    "Wenn die Noten in der zweiten Sequenz alle eine Oktave höher sind, stimmt bei der correlation die Distanz noch, beim Euclid dagegen wird die Distanz größer."
   ]
  },
  {
   "cell_type": "markdown",
   "metadata": {},
   "source": [
    "## Merkmalsauswahl mit dem genetischen Algorithmus\n",
    "In diesem Abschnitt soll unter Anwendung eines selbst zu implementierenden genetischen Algorithmus eine Untermenge wichtiger Merkmale aus den insgesamt 42 angelegten Merkmalen berechnet werden.\n",
    "Als Vorlage kann hierfür die Implementierung für die [Lösung des TSP Problems](https://www.hdm-stuttgart.de/~maucher/Python/FunktionenAlgorithmen/html/genAlgTSP.html) herangezogen werden. Anzupassen sind dann jedoch mindestens die Fitness-Funktion, die Kreuzungs- und die Mutationsfunktion. Die Fitness soll so wie im vorigen Teilabschnitt mit dem mittleren Rang berechnet werden. Die Populationsgröße, die Anzahl der auszuwählenden Merkmale und die Anzahl der Iterationen sollen als Parameter einstellbar sein.\n",
    "\n",
    "Der Fitnesswert des besten Individuums in der Population soll in jeder Iteration gespeichert werden. Der Verlauf dieses besten Fitness-Wertes über den Fortlauf der **Iterationen soll graphisch ausgegeben** werden.\n",
    "\n",
    "Ein Pandas Frame, der nur die berechneten **wichtigsten Merkmale aus _FeatureFileTrainingAllList1.csv_ enthält soll angelegt und in die csv Datei _subFeaturesTrain1.csv_ geschrieben** werden.\n",
    "\n",
    "**Aufgaben:**\n",
    "1. Implementieren Sie die die Merkmalsauswahl mit dem genetischen Algorithmus entsprechend der o.g. Beschreibung\n",
    "2. Beschreiben Sie kurz das Konzept ihrer Kreuzungs- und Mutationsfunktion. \n",
    "3. Bestimmen Sie eine möglichst kleine Merkmalsuntermenge mit einem möglichst guten mittleren Rang? Geben Sie sowohl die gefundenen wichtigsten Merkmale als auch den zugehörigen mittleren Rang an.  \n",
    "4. <strike>Um wieviel verschlechtert sich der Mittlere Rang, wenn nur die 10 wichtigsten Merkmale benutzt werden?</strike>"
   ]
  },
  {
   "cell_type": "code",
   "execution_count": 169,
   "metadata": {
    "collapsed": true
   },
   "outputs": [],
   "source": [
    "def calculate_cost(imp_feature_vec):\n",
    "    distance_dict_euclid = {}\n",
    "\n",
    "    for seq1 in MusicFeaturesTrain.iterrows():\n",
    "        seq1_vector_tuple = (seq1[1].values[:1][0], get_modified_features(seq1[1].values[1:], imp_feature_vec)) \n",
    "        dist_list = []\n",
    "\n",
    "        for seq2 in MusicFeaturesTest.iterrows():\n",
    "            seq2_vector_tuple = (seq2[1].values[:1][0], get_modified_features(seq2[1].values[1:], imp_feature_vec))\n",
    "            distance = get_euclid_dist(seq1_vector_tuple[1], seq2_vector_tuple[1])\n",
    "\n",
    "            dist_list.append((seq2_vector_tuple[0], distance))\n",
    "\n",
    "        dist_list.sort(key=lambda x: x[1])\n",
    "        distance_dict_euclid[seq1_vector_tuple[0]] = dist_list\n",
    "\n",
    "    distance_vals = []\n",
    "\n",
    "    for seq1, seqs  in distance_dict_euclid.items():\n",
    "        for index, seq in enumerate(seqs):\n",
    "            if seq[0] == seq1:\n",
    "                distance_vals.append(index + 1)\n",
    "                break\n",
    "\n",
    "    avg_euclid = sum(distance_vals) / float(len(distance_vals))\n",
    "    \n",
    "    return avg_euclid\n",
    "    "
   ]
  },
  {
   "cell_type": "code",
   "execution_count": 170,
   "metadata": {
    "collapsed": false
   },
   "outputs": [],
   "source": [
    "def get_modified_features(feature_vec, imp_feature_vec):\n",
    "    new_feature_vec = []\n",
    "    for index, feature in enumerate(feature_vec):\n",
    "        new_feature_vec.append(feature * imp_feature_vec[index])\n",
    "    return new_feature_vec\n",
    "        "
   ]
  },
  {
   "cell_type": "code",
   "execution_count": 171,
   "metadata": {
    "collapsed": false
   },
   "outputs": [
    {
     "name": "stdout",
     "output_type": "stream",
     "text": [
      "Middle range for this vector is: 3.96666666667\n"
     ]
    }
   ],
   "source": [
    "middle_range_test = calculate_cost([0, 1, 0, 1, 1, 0, 0, 0, 1, 0, 1, 1, 0, 1, 1, 0, 1, 1, 0, 1, 0, 0, 0, 0, 0, 0, 0, 0, 1, 0, 0, 1, 0, 0, 1, 0, 1, 1, 1, 1, 1, 1])\n",
    "print 'Middle range for this vector is: ' + str(middle_range_test)"
   ]
  },
  {
   "cell_type": "markdown",
   "metadata": {},
   "source": [
    "#### Genetischer Algorithmus für die Music Feature Selection"
   ]
  },
  {
   "cell_type": "code",
   "execution_count": 189,
   "metadata": {
    "collapsed": false
   },
   "outputs": [
    {
     "name": "stdout",
     "output_type": "stream",
     "text": [
      "Iteration:  0 best distance:  2.43333333333\n"
     ]
    },
    {
     "name": "stderr",
     "output_type": "stream",
     "text": [
      "/Users/TG/Library/Enthought/Canopy_64bit/User/lib/python2.7/site-packages/ipykernel/__main__.py:77: DeprecationWarning: using a non-integer number instead of an integer will result in an error in the future\n",
      "/Users/TG/Library/Enthought/Canopy_64bit/User/lib/python2.7/site-packages/ipykernel/__main__.py:78: DeprecationWarning: using a non-integer number instead of an integer will result in an error in the future\n",
      "/Users/TG/Library/Enthought/Canopy_64bit/User/lib/python2.7/site-packages/ipykernel/__main__.py:79: DeprecationWarning: using a non-integer number instead of an integer will result in an error in the future\n",
      "/Users/TG/Library/Enthought/Canopy_64bit/User/lib/python2.7/site-packages/ipykernel/__main__.py:80: DeprecationWarning: using a non-integer number instead of an integer will result in an error in the future\n"
     ]
    },
    {
     "name": "stdout",
     "output_type": "stream",
     "text": [
      "Iteration:  1 best distance:  2.43333333333\n",
      "Iteration:  2 best distance:  2.43333333333\n",
      "Iteration:  3 best distance:  2.43333333333\n",
      "Iteration:  4 best distance:  2.43333333333\n",
      "Iteration:  5 best distance:  2.43333333333\n",
      "Iteration:  6 best distance:  2.43333333333\n",
      "Iteration:  7 best distance:  2.43333333333\n",
      "Iteration:  8 best distance:  2.43333333333\n",
      "Iteration:  9 best distance:  2.43333333333\n",
      "Iteration:  10 best distance:  2.33333333333\n",
      "Iteration:  11 best distance:  2.26666666667\n",
      "Iteration:  12 best distance:  2.26666666667\n"
     ]
    },
    {
     "name": "stderr",
     "output_type": "stream",
     "text": [
      "/Users/TG/Library/Enthought/Canopy_64bit/User/lib/python2.7/site-packages/ipykernel/__main__.py:90: DeprecationWarning: using a non-integer number instead of an integer will result in an error in the future\n",
      "/Users/TG/Library/Enthought/Canopy_64bit/User/lib/python2.7/site-packages/ipykernel/__main__.py:91: DeprecationWarning: using a non-integer number instead of an integer will result in an error in the future\n",
      "/Users/TG/Library/Enthought/Canopy_64bit/User/lib/python2.7/site-packages/ipykernel/__main__.py:92: DeprecationWarning: using a non-integer number instead of an integer will result in an error in the future\n",
      "/Users/TG/Library/Enthought/Canopy_64bit/User/lib/python2.7/site-packages/ipykernel/__main__.py:93: DeprecationWarning: using a non-integer number instead of an integer will result in an error in the future\n"
     ]
    },
    {
     "name": "stdout",
     "output_type": "stream",
     "text": [
      "Iteration:  13 best distance:  2.26666666667\n",
      "Iteration:  14 best distance:  2.26666666667\n",
      "Iteration:  15 best distance:  2.26666666667\n",
      "Iteration:  16 best distance:  2.26666666667\n",
      "Iteration:  17 best distance:  2.26666666667\n",
      "Iteration:  18 best distance:  2.26666666667\n",
      "Iteration:  19 best distance:  2.26666666667\n",
      "Iteration:  20 best distance:  2.26666666667\n",
      "Iteration:  21 best distance:  2.26666666667\n",
      "Iteration:  22 best distance:  2.26666666667\n",
      "Iteration:  23 best distance:  2.26666666667\n",
      "Iteration:  24 best distance:  2.26666666667\n",
      "Iteration:  25 best distance:  2.13333333333\n",
      "Iteration:  26 best distance:  2.13333333333\n",
      "Iteration:  27 best distance:  2.13333333333\n",
      "Iteration:  28 best distance:  2.13333333333\n",
      "Iteration:  29 best distance:  2.13333333333\n"
     ]
    },
    {
     "name": "stderr",
     "output_type": "stream",
     "text": [
      "/Users/TG/Library/Enthought/Canopy_64bit/User/lib/python2.7/site-packages/ipykernel/__main__.py:98: DeprecationWarning: using a non-integer number instead of an integer will result in an error in the future\n",
      "/Users/TG/Library/Enthought/Canopy_64bit/User/lib/python2.7/site-packages/ipykernel/__main__.py:99: DeprecationWarning: using a non-integer number instead of an integer will result in an error in the future\n",
      "/Users/TG/Library/Enthought/Canopy_64bit/User/lib/python2.7/site-packages/ipykernel/__main__.py:100: DeprecationWarning: using a non-integer number instead of an integer will result in an error in the future\n",
      "/Users/TG/Library/Enthought/Canopy_64bit/User/lib/python2.7/site-packages/ipykernel/__main__.py:101: DeprecationWarning: using a non-integer number instead of an integer will result in an error in the future\n"
     ]
    },
    {
     "name": "stdout",
     "output_type": "stream",
     "text": [
      "Iteration:  30 best distance:  2.13333333333\n",
      "Iteration:  31 best distance:  2.13333333333\n",
      "Iteration:  32 best distance:  2.13333333333\n",
      "Iteration:  33 best distance:  2.13333333333\n",
      "Iteration:  34 best distance:  2.13333333333\n",
      "Iteration:  35 best distance:  2.13333333333\n",
      "Iteration:  36 best distance:  2.13333333333\n",
      "Iteration:  37 best distance:  2.13333333333\n",
      "Iteration:  38 best distance:  2.13333333333\n",
      "Iteration:  39 best distance:  2.13333333333\n",
      "Iteration:  40 best distance:  2.13333333333\n",
      "Iteration:  41 best distance:  2.13333333333\n",
      "Iteration:  42 best distance:  2.13333333333\n",
      "Iteration:  43 best distance:  2.13333333333\n",
      "Iteration:  44 best distance:  2.13333333333\n",
      "Iteration:  45 best distance:  2.13333333333\n",
      "Iteration:  46 best distance:  2.13333333333\n",
      "Iteration:  47 best distance:  2.13333333333\n",
      "Iteration:  48 best distance:  2.13333333333\n",
      "Iteration:  49 best distance:  2.13333333333\n",
      "[ 2.43333333  2.43333333  2.43333333  2.43333333  2.43333333  2.43333333\n",
      "  2.43333333  2.43333333  2.43333333  2.43333333  2.33333333  2.26666667\n",
      "  2.26666667  2.26666667  2.26666667  2.26666667  2.26666667  2.26666667\n",
      "  2.26666667  2.26666667  2.26666667  2.26666667  2.26666667  2.26666667\n",
      "  2.26666667  2.13333333  2.13333333  2.13333333  2.13333333  2.13333333\n",
      "  2.13333333  2.13333333  2.13333333  2.13333333  2.13333333  2.13333333\n",
      "  2.13333333  2.13333333  2.13333333  2.13333333  2.13333333  2.13333333\n",
      "  2.13333333  2.13333333  2.13333333  2.13333333  2.13333333  2.13333333\n",
      "  2.13333333  2.13333333]\n",
      "[[0 0 0 0 0 0 1 1 1 1 0 1 0 0 1 1 1 1 1 1 0 0 1 1 0 1 0 0 1 1 0 0 0 1 0 1 1\n",
      "  0 1 1 0 1]\n",
      " [0 1 0 0 0 0 1 1 1 0 0 1 0 0 1 1 1 1 1 1 0 0 1 1 0 1 0 0 1 1 0 0 0 1 0 1 1\n",
      "  0 1 1 0 1]\n",
      " [0 1 0 0 0 0 1 1 1 0 0 1 0 0 1 1 1 1 1 1 0 0 1 1 0 1 0 0 1 1 1 1 0 1 0 1 1\n",
      "  0 1 1 0 1]\n",
      " [0 0 0 0 0 0 1 1 1 1 0 1 0 0 1 1 1 1 1 1 0 0 1 1 0 1 0 0 1 1 1 1 0 1 0 1 1\n",
      "  0 1 1 0 1]\n",
      " [0 1 0 0 0 0 1 1 1 1 0 1 0 0 1 1 1 1 0 1 1 0 1 1 1 0 1 1 1 1 0 0 0 1 0 1 1\n",
      "  0 1 1 0 1]\n",
      " [0 1 0 0 0 0 1 1 1 1 0 1 0 0 1 1 1 1 1 1 0 0 1 1 0 1 0 0 1 1 1 1 0 1 0 1 1\n",
      "  0 1 1 0 1]\n",
      " [0 0 0 0 0 0 1 1 1 1 0 1 0 0 1 1 1 1 0 1 1 0 1 1 1 0 1 1 1 1 0 0 0 1 0 1 1\n",
      "  0 1 1 0 1]\n",
      " [0 1 0 0 0 0 1 1 1 1 0 1 0 0 1 1 1 1 1 1 0 0 1 1 0 1 0 0 1 1 1 1 0 0 0 1 1\n",
      "  0 1 1 0 1]\n",
      " [0 0 0 0 0 0 1 1 1 0 0 1 0 0 1 1 1 1 1 1 0 0 1 1 0 1 0 0 1 1 1 1 0 1 0 1 1\n",
      "  0 1 1 0 1]\n",
      " [0 0 0 0 0 0 1 1 1 1 0 1 0 0 1 1 1 1 1 1 0 0 1 1 0 1 0 0 1 1 1 1 0 0 0 1 1\n",
      "  0 1 1 0 1]]\n"
     ]
    }
   ],
   "source": [
    "# -*- coding:utf-8 -*-\n",
    "import numpy as np\n",
    "from scipy.spatial.distance import pdist,squareform\n",
    "\n",
    "np.random.seed()\n",
    "    \n",
    "###########################################################################\n",
    "#              Genetischer Algorithmus zur Lösung des TSP                 #\n",
    "###########################################################################\n",
    "\n",
    "ITERATIONS=50;\n",
    "POPULATION_SIZE=10;\n",
    "CROSSPROP=0.99;\n",
    "MUTPROP=0.05;\n",
    "NUMBER_OF_FEATURES=42\n",
    "\n",
    "iteration = 0;\n",
    "\n",
    "#In diesem Array wird für jede Iteration die beste Distanz gespeichert\n",
    "bestDist=np.zeros(ITERATIONS) \n",
    "\n",
    "\n",
    "#Erzeugen einer zufälligen Startpopulation\n",
    "population= np.array([ np.random.randint(2, size=NUMBER_OF_FEATURES) for i in range(POPULATION_SIZE) ])\n",
    "\n",
    "cost=np.zeros(POPULATION_SIZE)\n",
    "\n",
    "for iteration in range(ITERATIONS):\n",
    "\n",
    "    for (i, pop) in enumerate(population):\n",
    "        cost[i]=calculate_cost(pop)\n",
    "\n",
    "    sortedIndex=cost.argsort(axis=0)#Indizees der nach ansteigenden Kosten sortierten Chromosomen\n",
    "    sortedCost=cost[sortedIndex] #die ansteigend sortierten Kosten\n",
    "    bestDist[iteration]=sortedCost[0]\n",
    "\n",
    "    print 'Iteration: ', str(iteration), 'best distance: ', bestDist[iteration]\n",
    "    \n",
    "    sortedPopulation=population[sortedIndex] #Sortierung der Population nach ansteigenden Kosten\n",
    "    InvertedCost=1/(sortedCost + 0.001) #Berechung des Nutzen (Fitness) aus den Kosten\n",
    "    #InvertedCost enthält die berechneten Fitness-Werte\n",
    "\n",
    "\n",
    "    # 2.Selektion: Zufällige Auswahl von Chromosomen aus der Population####################\n",
    "    # Mit dem folgenden Prozess wird gewährleistet, dass die Wahrscheinlichkeit für die\n",
    "    # Selektion eines Chromosoms umso größer ist, je größer sein Nutzenwert ist.\n",
    "    InvertedCostSum = InvertedCost.sum()\n",
    "    rn1 = InvertedCostSum*np.random.rand()\n",
    "    found1 = False\n",
    "    index=1\n",
    "    while not found1:\n",
    "            if rn1<InvertedCost[:index].sum(axis=0):\n",
    "                    found1=index\n",
    "            else:\n",
    "                    index+=1\n",
    "    found1=found1-1\n",
    "    equal=True\n",
    "\n",
    "    while equal:\n",
    "            rn2=InvertedCostSum*np.random.rand()\n",
    "            found2 = False\n",
    "            index=1\n",
    "            while not found2:\n",
    "                    if rn2<InvertedCost[:index].sum(axis=0):\n",
    "                            found2=index\n",
    "                    else:\n",
    "                            index+=1\n",
    "            found2=found2-1\n",
    "            if found2 != found1:\n",
    "                    equal=False\n",
    "    parent1=sortedPopulation[found1]\n",
    "    parent2=sortedPopulation[found2]\n",
    "\n",
    "    crossrn=np.random.rand()\n",
    "    if crossrn<CROSSPROP:\n",
    "        cp=np.ceil(np.random.rand()*NUMBER_OF_FEATURES)\n",
    "        head1=parent1[:cp]\n",
    "        tail1=parent1[cp:]\n",
    "        head2=parent2[:cp]\n",
    "        tail2=parent2[cp:]\n",
    "\n",
    "        child1=np.append(head1,tail2)\n",
    "        child2=np.append(head2,tail1)\n",
    "\n",
    "\n",
    "    #4. Mutation#########################################################################################\n",
    "        mutrn=np.random.rand()\n",
    "        if mutrn<MUTPROP:\n",
    "            mutInd=np.ceil(np.random.rand(2)*(NUMBER_OF_FEATURES-1))\n",
    "            first=child1[mutInd[0]]\n",
    "            second=child1[mutInd[1]]\n",
    "            child1[mutInd[0]]=second\n",
    "            child1[mutInd[1]]=first\n",
    "\n",
    "        mutrn=np.random.rand()\n",
    "        if mutrn<MUTPROP:\n",
    "            mutInd=np.ceil(np.random.rand(2)*(NUMBER_OF_FEATURES-1))\n",
    "            first=child2[mutInd[0]]\n",
    "            second=child2[mutInd[1]]\n",
    "            child2[mutInd[0]]=second\n",
    "            child2[mutInd[1]]=first\n",
    "\n",
    "        #child1 und child2 sind die Resultate der Mutation################################################\n",
    "\n",
    "\n",
    "    #5. Ersetze die bisher schlechtesten Chromosomen durch die neu gebildeten Chromosomen, falls die neuen\n",
    "    #besser sind\n",
    "    costChild1=calculate_cost(child1)\n",
    "    costChild2=calculate_cost(child2)\n",
    "\n",
    "    replace1=False\n",
    "    replace2=False\n",
    "    index=POPULATION_SIZE-1\n",
    "\n",
    "    while index > 0:\n",
    "            if sortedCost[index]>costChild1 and not replace1:\n",
    "                    if not np.ndarray.any(np.ndarray.all(child1==sortedPopulation,axis=1)):\n",
    "                            sortedPopulation[index]=child1\n",
    "                    replace1=True\n",
    "            elif sortedCost[index]>costChild2 and not replace2:\n",
    "                    if not np.ndarray.any(np.ndarray.all(child2==sortedPopulation,axis=1)):\n",
    "                            sortedPopulation[index]=child2\n",
    "                    replace2=True\n",
    "            if replace1 and replace2:\n",
    "                    break\n",
    "            index=index-1\n",
    "    population=sortedPopulation\n",
    "\n",
    "print bestDist\n",
    "print population"
   ]
  },
  {
   "cell_type": "code",
   "execution_count": 190,
   "metadata": {
    "collapsed": false
   },
   "outputs": [
    {
     "data": {
      "text/plain": [
       "<matplotlib.text.Text at 0x1165ddd50>"
      ]
     },
     "execution_count": 190,
     "metadata": {},
     "output_type": "execute_result"
    },
    {
     "data": {
      "image/png": "[encoded data removed]",
      "text/plain": [
       "<matplotlib.figure.Figure at 0x116438410>"
      ]
     },
     "metadata": {},
     "output_type": "display_data"
    }
   ],
   "source": [
    "%matplotlib inline\n",
    "from matplotlib import pyplot as plt\n",
    "\n",
    "plt.plot(range(len(bestDist)), bestDist, color=\"green\")\n",
    "plt.xlabel(\"generation\")\n",
    "plt.ylabel(\"cost\")\n",
    "plt.title(\"improvement of cost over time\")"
   ]
  },
  {
   "cell_type": "markdown",
   "metadata": {},
   "source": [
    "### Beobachtungen\n",
    "\n",
    "Mit den Einstellungen:  \n",
    "**ITERATIONS=50;  \n",
    "POPULATION_SIZE=4;  \n",
    "CROSSPROP=0.99;  \n",
    "MUTPROP=0.05;  \n",
    "NUMBER_OF_FEATURES=42**  \n",
    "Distanzfunktion: Correlation  \n",
    "\n",
    "kommt der genetische Algorithmus von einem Startwert von 2.56 auf 2.246667.\n",
    "\n",
    "-----\n",
    "\n",
    "Beim erhöhen der Populationsgröße auf:  \n",
    "**POPULATION_SIZE=10;**  \n",
    "sinkt die best distance in 50 Iterationen vom ersten Wert 2.45 auf 1.8.\n",
    "Der beste feature vector sieht in diesem Fall so aus:  \n",
    "**[0 0 1 1 0 0 1 1 1 1 1 0 0 0 1 1 1 0 0 0 1 1 0 0 1 1 1 0 0 0 0 0 1 1 1 0 0 1 1 1 1 1]**  \n",
    "Distanzfunktion: Correlation  \n",
    "\n",
    "![cost_1.8](./img/cost_1_8.jpg)\n",
    "\n",
    "-----\n",
    "\n",
    "Beim testen der selben Populationsgröße ohne skalieren der Werte kommen wir auf deutlich schlechtere Werte.\n",
    "Der Startwert liegt jetzt bei 4.13333333333 und sinkt im Laufe der Iterationen nicht.\n",
    "Distanzfunktion: Correlation \n",
    "\n",
    "-----\n",
    "\n",
    "Beim weiteren erhöhen der Population und kleiner Modifikation der Mutationsrate:  \n",
    "**\n",
    "ITERATIONS=50;  \n",
    "POPULATION_SIZE=20;  \n",
    "CROSSPROP=0.99;  \n",
    "MUTPROP=0.07;  \n",
    "NUMBER_OF_FEATURES=42  \n",
    "**  \n",
    "Distanzfunktion: Correlation  \n",
    "\n",
    "hierbei sinkt die best distance langsam vom Startwert 2.31666666667 auf 2.01666666667.  \n",
    "Das beste Individuum in diesem Fall ist:  \n",
    "**[1 0 1 1 0 0 0 0 1 1 1 0 0 1 1 0 1 0 0 1 0 1 1 0 1 0 1 0 1 1 0 0 1 1 0 1 1 1 1 0 0 0]**\n",
    "\n",
    "![cost_1.8](./img/mut_pop_changed.jpg)\n",
    "\n",
    "-------\n",
    "\n",
    "Nachdem wir die Distanzfunktion von Correlation auf Euclid geändert haben und die Werte auf:\n",
    "**ITERATIONS=50;  \n",
    "POPULATION_SIZE=10;  \n",
    "CROSSPROP=0.99;  \n",
    "MUTPROP=0.05;  \n",
    "NUMBER_OF_FEATURES=42**   \n",
    "Distanzfunktion: Euclid\n",
    "\n",
    "gestellt haben, kommen wir über die 50 Iterationen von einem Wert von 2.43333333333 auf 2.13333333333.  \n",
    "Der beste Vector hierbei war:  \n",
    "**[0 0 0 0 0 0 1 1 1 1 0 1 0 0 1 1 1 1 1 1 0 0 1 1 0 1 0 0 1 1 0 0 0 1 0 1 1 0 1 1 0 1]**  \n",
    "\n",
    "\n",
    "![cost_1.8](./img/first_euclid.jpg)\n",
    "\n",
    "\n"
   ]
  },
  {
   "cell_type": "markdown",
   "metadata": {},
   "source": [
    "#### Music Feature Selection"
   ]
  },
  {
   "cell_type": "code",
   "execution_count": 24,
   "metadata": {
    "collapsed": false
   },
   "outputs": [],
   "source": [
    "#Your Code"
   ]
  },
  {
   "cell_type": "markdown",
   "metadata": {},
   "source": [
    "## Clustering und automatische Playlistgenerierung\n",
    "Implementieren Sie ein hierarchisches Clustering aller Subsequenzen in _subFeaturesTrain1.csv_. Diese _.csv_-Datei enthält nur die im vorigen Schritt ermittelten wichtigsten Merkmale. Das hierarchische Clustering ist in einem Dendrogram der Art wie in der unten gegebenen Abbildung zu visualisieren.\n",
    "\n",
    "Die gefundenen Cluster sind mit den zugehörigen Musiktiteln in der Konsole auszugeben. \n",
    "\n",
    "**Aufgaben:**\n",
    "\n",
    "1. Optimieren Sie die Parameter\n",
    "\n",
    "    1. metric (Ähnlichkeitsmaß)\n",
    "    2. linkage method\n",
    "    3. Clusteranzahl\n",
    "    \n",
    "2. Für welche Parameterkonstellation erlangen Sie das für Sie subjektiv betrachtet günstigste Ergebnis?\n",
    "3. Überlegen Sie sich Ansätze um diese Art der Musikgruppierung zu verbessern?\n",
    "\n",
    "![Abbildung Music Clustering](https://www.hdm-stuttgart.de/~maucher/ipnotebooks/DataMining//Bilder/playlistCluster.png \"Music Clustering\")"
   ]
  },
  {
   "cell_type": "code",
   "execution_count": 92,
   "metadata": {
    "collapsed": false
   },
   "outputs": [
    {
     "ename": "TypeError",
     "evalue": "fit() takes at least 2 arguments (1 given)",
     "output_type": "error",
     "traceback": [
      "\u001b[0;31m---------------------------------------------------------------------------\u001b[0m",
      "\u001b[0;31mTypeError\u001b[0m                                 Traceback (most recent call last)",
      "\u001b[0;32m<ipython-input-92-f3b447436371>\u001b[0m in \u001b[0;36m<module>\u001b[0;34m()\u001b[0m\n\u001b[1;32m      3\u001b[0m \u001b[0magglo\u001b[0m \u001b[0;34m=\u001b[0m \u001b[0mFeatureAgglomeration\u001b[0m\u001b[0;34m(\u001b[0m\u001b[0;34m)\u001b[0m\u001b[0;34m\u001b[0m\u001b[0m\n\u001b[1;32m      4\u001b[0m \u001b[0;34m\u001b[0m\u001b[0m\n\u001b[0;32m----> 5\u001b[0;31m \u001b[0magglo\u001b[0m\u001b[0;34m.\u001b[0m\u001b[0mfit\u001b[0m\u001b[0;34m(\u001b[0m\u001b[0;34m)\u001b[0m\u001b[0;34m\u001b[0m\u001b[0m\n\u001b[0m",
      "\u001b[0;31mTypeError\u001b[0m: fit() takes at least 2 arguments (1 given)"
     ]
    }
   ],
   "source": [
    "from sklearn.cluster import FeatureAgglomeration\n",
    "\n",
    "agglo = FeatureAgglomeration()\n",
    "\n",
    "agglo.fit()\n"
   ]
  },
  {
   "cell_type": "code",
   "execution_count": null,
   "metadata": {
    "collapsed": true
   },
   "outputs": [],
   "source": []
  }
 ],
 "metadata": {
  "kernelspec": {
   "display_name": "Python 2",
   "language": "python",
   "name": "python2"
  },
  "language_info": {
   "codemirror_mode": {
    "name": "ipython",
    "version": 2
   },
   "file_extension": ".py",
   "mimetype": "text/x-python",
   "name": "python",
   "nbconvert_exporter": "python",
   "pygments_lexer": "ipython2",
   "version": "2.7.11"
  }
 },
 "nbformat": 4,
 "nbformat_minor": 0
}
