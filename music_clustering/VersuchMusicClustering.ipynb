{
 "cells": [
  {
   "cell_type": "markdown",
   "metadata": {},
   "source": [
    "## Vor dem Versuch zu klärende Fragen\n",
    "\n",
    "### Transcodierung von MP3 nach WAV und Merkmalsextraktion\n",
    "In diesem Versuch wird der MP3 Decoder [mpg123](http://www.mpg123.de/) eingesetzt. Installieren und testen sie diesen Decoder vor dem Versuch auf ihrem Rechner. Machen Sie sich zunächst mit dem in Kapitel [Gegebene Module zur Transcodierung und Feature Extraction](#Gegebene-Module-zur-Transcodierung-und-Feature-Extraction) aufgeführten Code vertraut. Versuchen Sie Funktion und Ablauf dieses Programms zu verstehen und beantworten Sie folgende Fragen.\n",
    "\n",
    "1.Was versteht man unter den statistischen Größen _Mittelwert, Standardabweichung, Skewness und Kurtosis_?"
   ]
  },
  {
   "cell_type": "markdown",
   "metadata": {},
   "source": [
    "- unter dem Mittelwert versteht man den Wert, den man erhählt, wenn man alle Werte einer Stichprobe aufsummiert und diesen Wert dann durch die Anzahl der Werte teilt.\n",
    "- die Standartabweichung gibt die Abweichung eines einzelnen Wertes vom Mittelwert an\n",
    "- den Begriff der Skewness gibt es nur im Bezug auf asymmetrische Verteilung. Sie gibt an, wie stark die asymmetrie ist.\n",
    "- Kurtosis beschreibt die \"peaks\" einer Verteilung and beschreibt wie stark diese um den Mittelwert sind"
   ]
  },
  {
   "cell_type": "markdown",
   "metadata": {},
   "source": [
    "2.Was beschreibt die Fourier-Transformierte eines zeitlich ausgedehnten Signals?"
   ]
  },
  {
   "cell_type": "markdown",
   "metadata": {},
   "source": [
    "- Sie beschreibt die Funktion, die das Spektrum beschreibt, welches durch die Fourier Transformation (zerlegte Signale) erzeugt wurde."
   ]
  },
  {
   "cell_type": "markdown",
   "metadata": {},
   "source": [
    "3.Mit welcher Samplingrate werden die WAV Dateien abgetastet?"
   ]
  },
  {
   "cell_type": "markdown",
   "metadata": {},
   "source": [
    "- Die WAV Daten werden mit 10 kHz abgetastet, das bedeutet 10000 mal in der Sekunde"
   ]
  },
  {
   "cell_type": "markdown",
   "metadata": {},
   "source": [
    "4.Insgesamt werden 42 Merkmale pro Musiksequenz extrahiert. Beschreiben Sie kurz diese Merkmale"
   ]
  },
  {
   "cell_type": "markdown",
   "metadata": {
    "collapsed": true
   },
   "source": [
    "- Es wird der Mittelwert, die Standardabweichung, die Kurtosis und die Skewness für meherer Blockgrößen berechnet 1, 10, 100 und 1000. Dadurch  Außerdem noch die unterschieldichen Powerwerte."
   ]
  },
  {
   "cell_type": "markdown",
   "metadata": {},
   "source": [
    "### Genetischer Algorithmus für die Merkmalsselektion\n",
    "\n",
    "1. Beschreiben Sie die Prozesschritte im genetischen Algorithmus [Genetischer Algorithmus](https://www.hdm-stuttgart.de/~maucher/Python/FunktionenAlgorithmen/html/genAlgTSP.html)\n",
    "2. In diesem Versuch wird davon ausgegangen, dass Merkmale dann gut sind, wenn durch sie die erste Teilsequenz eines Musikstücks durch einen ähnlichen Vektor wie die jeweils zweite Teilsequenz beschrieben wird. Wie kann mit dieser Annahme der genetische Algorithmus für die Merkmalsselektion angewandt werden. Unter Merkmalsselektion versteht man allgemein die Suche nach den $r$ besten Merkmalen aus einer Menge von insgesamt $R$ Merkmalen. In diesem Versuch werden initial $R=42$ Merkmale extrahiert, aus denen dann die besten $r<R$ Merkmale zu bestimmen sind. Überlegen Sie hierfür speziell wie die Fitnessfunktion, die Kreuzung und die Mutation zu realisieren sind.\n"
   ]
  },
  {
   "cell_type": "markdown",
   "metadata": {
    "collapsed": true
   },
   "source": [
    "1. Der Genetische Algorithmus besteht aus 5 Schritten\n",
    "    1. Berechnung der Fitness: für jedes Individum wird der Fitnesswert berechnet, die Fitnessfunktion bewertet, wie \n",
    "gut eine Individum das Optimierungsziel erfüllt\n",
    "    2. Selektion: Es werden zufällig 2 Individuen zum kreuzen ausgewählt, wobei die Wahrscheinlichkeit ausgewählt zu werden umso höher is je besser der Fitnesswert eines Individums ist\n",
    "    3. Crossover: Zwei Individuen (A, B) werden mit einander kombiniert um 2 neue Individuen zu erzeugen. Dabei wird ein zufälliger Kreuzungspunkt im Zustandsvektor gewählt an dem dieser gesplitet wird. Es wird dann die erste Hälfte des Zustandvektors von Individum A mit der zweiten Hälfte des Zustandvektors von Individum B kombiniert. Analog funktioniert es mit dem 2. Nachkommen Individum.\n",
    "    4. Mutation: Mit einer relative kleinen Wahrscheinlichkeit werden 2 Stellen im Zustandsvektor vertauscht\n",
    "    5. Austausch: Die 2 Individuen mit dem schlechtesten Fitnesswert werden durch die 2 besten Induvidien, welche neu generiert wurden, ersetzt. \n",
    "    Voraussetzungen:\n",
    "        - Der Zustandsvektor der Induvidien unterscheidet sich von schon existierenden Individuen\n",
    "        - Die neuen Induvidien haben einen besseren Fitnesswert als die 2 schlechtesten\n",
    "        \n",
    "\n",
    "2. \n",
    "    Der Zustand ist ein Vektor mit 42 Stellen. Jede Stelle kann entweder 0 oder 1 enthalten. \n",
    "    1 Bedeutet das Merkmal wird in die Bewertung mit einbezogen. \n",
    "    0 Bedeutet das Merkmal wird nicht mit einbezogen.\n",
    "    \n",
    "    Eine Mögliche Erweiterung währe hier statt einfachem ein oder aus auch Zwischenwerte zuzulassen, somit könnten die Mermale unterschiedlich stark gewichtet werden.\n",
    "    \n",
    "    - Fitnessfunktion:\n",
    "        - Es werden die selektierten Merkmale für den 1. Abschnitt und den 2. Abschnitt des Musikstücks separat berechnet. Davon berechnet man die Ähnlichkeit (z.B. Euklidische Distanz). Das Inverse davon ist dann der Fitnesswert\n",
    "    - Kreuzung\n",
    "        - Es wird ein zufälliger Kreuzungspunkt ausgewählt und die Vektoren an dieser Stelle gesplittet und neu kombiniert\n",
    "        \n",
    "        ```\n",
    "            Bsp:\n",
    "            a = [x1, x2, x3,   x4, x5, .... x42]\n",
    "            b = [y1, y2, y3,   y4, y5, .... y42]\n",
    "                             ^\n",
    "                       Kreuzungspunkt  \n",
    "            \n",
    "            a' = [x1, x2, x3, y4, y5, .... y42]\n",
    "            b' = [y1, y2, y3, x4, x5, .....x42]\n",
    "        ```\n",
    "        \n",
    "    - Mutation\n",
    "        - Zwei Stellen im Zustandsvektor werden vertauscht"
   ]
  },
  {
   "cell_type": "markdown",
   "metadata": {},
   "source": [
    "### Clustering und Playlistgenerierung\n",
    "\n",
    "1. Wie kann mit einem hierarchischen Clustering der Musikfiles eine Menge von Playlists erzeugt werden, so dass innerhalb einer Playlist möglichst ähnliche Titel zu finden sind?"
   ]
  },
  {
   "cell_type": "code",
   "execution_count": 4,
   "metadata": {
    "collapsed": true
   },
   "outputs": [],
   "source": []
  },
  {
   "cell_type": "markdown",
   "metadata": {},
   "source": [
    "# Durchführung\n",
    "##Gegebene Module zur Transcodierung und Feature Extraction\n",
    "Mit dem in diesem Abschnitt gegebenen Code werden die im Unterverzeichnis _BandCollection_ befindlichen mp3-Files zunächst in wave decodiert. Danach werden aus den wave Dateien Audiomerkmale erhoben.\n",
    "\n",
    "Von jedem Musikstück werden zwei disjunkte Teilsequenzen erhoben und von beiden Teilsequenzen jeweils ein Merkmalsvektor gebildet. Der Grund hierfür ist: Für die später folgende Bestimmung der wichtigsten Merkmale (Merkmalsselektion mit dem genetischen Algorithmus), wird angenommen dass Merkmale dann gut sind, wenn die aus ihnen gebildeten Merkmalsvektoren für Teilsequenzen des gleichen Musikstücks nahe beieinander liegen und die Merkmalsvektoren von Teilsequenzen unterschiedlicher Musikstücke weiter voneinander entfernt sind. In der Merkmalsselektion werden dann die Merkmale als relevant erachtet, für die diese Annahme zutrifft. \n",
    "\n",
    "**Aufgaben:**\n",
    "\n",
    "1. Stellen Sie im unten gegebenen Code die Verzeichnisse für Ihre Musikdateien (aktuell Unterverzeichnis _BandCollection_) und für den Ort Ihres _mpg123_ Decoders richtig ein.\n",
    "2. Die verwendete Musiksammlung sollte mindestens 5 verschiedene Interpreten möglichst unterschiedlicher Genres enthalten. Von jedem Interpret sollten mehrere Titel (evtl. ein ganzes Album) enthalten sein.\n",
    "3. Führen Sie den in diesem Abschnitt gegebenen Programmcode zur Audiofeature-Extraction aus. Damit werden für alle Musiksequenzen jeweils 42 Merkmale extrahiert. Die extrahierten Merkmalsvektoren der jeweils ersten Sequenz werden in das File _FeatureFileTrainingAllList1.csv_ geschrieben, die der zweiten Teilsequen in das File _FeatureFileTestAllList2.csv_. \n"
   ]
  },
  {
   "cell_type": "code",
   "execution_count": 18,
   "metadata": {
    "collapsed": true
   },
   "outputs": [],
   "source": [
    "import subprocess\n",
    "import wave\n",
    "import struct\n",
    "import numpy\n",
    "import os\n",
    "import pandas as pd\n",
    "\n",
    "numpy.set_printoptions(precision=2,suppress=True)\n",
    "\n",
    "#Names of features extracted in this module\n",
    "FeatNames=[\"amp1mean\",\"amp1std\",\"amp1skew\",\"amp1kurt\",\"amp1dmean\",\"amp1dstd\",\"amp1dskew\",\"amp1dkurt\",\"amp10mean\",\"amp10std\",\n",
    "           \"amp10skew\",\"amp10kurt\",\"amp10dmean\",\"amp10dstd\",\"amp10dskew\",\"amp10dkurt\",\"amp100mean\",\"amp100std\",\"amp100skew\",\n",
    "           \"amp100kurt\",\"amp100dmean\",\"amp100dstd\",\"amp100dskew\",\"amp100dkurt\",\"amp1000mean\",\"amp1000std\",\"amp1000skew\",\n",
    "           \"amp1000kurt\",\"amp1000dmean\",\"amp1000dstd\",\"amp1000dskew\",\"amp1000dkurt\",\"power1\",\"power2\",\"power3\",\"power4\",\n",
    "           \"power5\",\"power6\",\"power7\",\"power8\",\"power9\",\"power10\"]"
   ]
  },
  {
   "cell_type": "code",
   "execution_count": 10,
   "metadata": {
    "collapsed": true
   },
   "outputs": [],
   "source": [
    "def moments(x):\n",
    "    mean = x.mean()\n",
    "    std = x.var()**0.5\n",
    "    skewness = ((x - mean)**3).mean() / std**3\n",
    "    kurtosis = ((x - mean)**4).mean() / std**4\n",
    "    return [mean, std, skewness, kurtosis]"
   ]
  },
  {
   "cell_type": "code",
   "execution_count": 11,
   "metadata": {
    "collapsed": true
   },
   "outputs": [],
   "source": [
    "#Feature category 2: Frequency domain parameters\n",
    "def fftfeatures(wavdata):\n",
    "    f = numpy.fft.fft(wavdata)\n",
    "    f = f[2:(f.size / 2 + 1)]\n",
    "    f = abs(f)\n",
    "    total_power = f.sum()\n",
    "    f = numpy.array_split(f, 10)\n",
    "    return [e.sum() / total_power for e in f]"
   ]
  },
  {
   "cell_type": "code",
   "execution_count": 12,
   "metadata": {
    "collapsed": true
   },
   "outputs": [],
   "source": [
    "#Creating the entire feature vector per music-file\n",
    "def features(x):\n",
    "    x = numpy.array(x)\n",
    "    f = []\n",
    "\n",
    "    xs = x\n",
    "    diff = xs[1:] - xs[:-1]\n",
    "    f.extend(moments(xs))\n",
    "    f.extend(moments(diff))\n",
    "\n",
    "    xs = x.reshape(-1, 10).mean(1)\n",
    "    diff = xs[1:] - xs[:-1]\n",
    "    f.extend(moments(xs))\n",
    "    f.extend(moments(diff))\n",
    "\n",
    "    xs = x.reshape(-1, 100).mean(1)\n",
    "    diff = xs[1:] - xs[:-1]\n",
    "    f.extend(moments(xs))\n",
    "    f.extend(moments(diff))\n",
    "\n",
    "    xs = x.reshape(-1, 1000).mean(1)\n",
    "    diff = xs[1:] - xs[:-1]\n",
    "    f.extend(moments(xs))\n",
    "    f.extend(moments(diff))\n",
    "\n",
    "    f.extend(fftfeatures(x))\n",
    "    return f"
   ]
  },
  {
   "cell_type": "code",
   "execution_count": 13,
   "metadata": {
    "collapsed": true
   },
   "outputs": [],
   "source": [
    "def read_wav(wav_file):\n",
    "    \"\"\"Returns two chunks of sound data from wave file.\"\"\"\n",
    "    w = wave.open(wav_file)\n",
    "    n = 60 * 10000\n",
    "    if w.getnframes() < n * 3:\n",
    "        raise ValueError('Wave file too short')\n",
    "    #For each music file 2 sequences, each containing n frames are subtracted. The first sequence starts at postion n,\n",
    "    #the second sequence starts at postion 2n. The reason for extracting 2 subsequences is, that later on we like to\n",
    "    #find the best features and in this exercise we assume that good features have the property that they are similar for 2 subsequences\n",
    "    #of the same song, but differ for subsequences of different songs.\n",
    "    w.setpos(n)\n",
    "    frames = w.readframes(n)\n",
    "    wav_data1 = struct.unpack('%dh' % n, frames)\n",
    "    frames = w.readframes(n)\n",
    "    wav_data2 = struct.unpack('%dh' % n, frames)\n",
    "    return wav_data1, wav_data2"
   ]
  },
  {
   "cell_type": "code",
   "execution_count": 30,
   "metadata": {
    "collapsed": true
   },
   "outputs": [],
   "source": [
    "def compute_chunk_features(mp3_file):\n",
    "    \"\"\"Return feature vectors for two chunks of an MP3 file.\"\"\"\n",
    "    # Extract MP3 file to a mono, 10kHz WAV file\n",
    "    #mpg123_command = 'C:\\Program Files (x86)\\mpg123-1.22.0-x86\\mpg123-1.22.0-x86\\\\mpg123.exe -w \"%s\" -r 10000 -m \"%s\"'\n",
    "    #mpg123_command = 'C:\\\\Program Files (x86)\\\\mpg123-1.21.0-x86-64\\\\mpg123.exe -w \"%s\" -r 10000 -m \"%s\"'\n",
    "    mpg123_command = '/usr/local/bin/mpg123 -w \"%s\" -r 10000 -m \"%s\"'\n",
    "    out_file = 'temp.wav'\n",
    "    cmd = mpg123_command % (out_file, mp3_file)\n",
    "    temp = subprocess.call(cmd, shell=True)\n",
    "    # Read in chunks of data from WAV file\n",
    "    wav_data1, wav_data2 = read_wav(out_file)\n",
    "    # We'll cover how the features are computed in the next section!\n",
    "    return numpy.array(features(wav_data1)), numpy.array(features(wav_data2))"
   ]
  },
  {
   "cell_type": "code",
   "execution_count": 117,
   "metadata": {
    "collapsed": false,
    "scrolled": false
   },
   "outputs": [
    {
     "name": "stdout",
     "output_type": "stream",
     "text": [
      "--------------------Adele\\01 Hometown Glory.mp3--------------------\n",
      "--------------------Adele\\02 I'll Be Waiting.mp3--------------------\n",
      "--------------------Adele\\03 Don't You Remember.mp3--------------------\n",
      "--------------------Adele\\04 Turning Tables.mp3--------------------\n",
      "--------------------Adele\\05 Set Fire To The Rain.mp3--------------------\n",
      "--------------------Adele\\06 If It Hadn't Been For Love.mp3--------------------\n",
      "Error: Chunk Features failed\n",
      "--------------------Adele\\08 Take It All.mp3--------------------\n",
      "--------------------Adele\\09 Rumour Has It.mp3--------------------\n",
      "Error: Chunk Features failed\n",
      "--------------------Adele\\11 One And Only.mp3--------------------\n",
      "--------------------Adele\\12 Lovesong.mp3--------------------\n",
      "--------------------Adele\\13 Chasing Pavements.mp3--------------------\n",
      "--------------------Adele\\14 I Can't Make You Love Me.mp3--------------------\n",
      "--------------------Adele\\15 Make You Feel My Love.mp3--------------------\n",
      "--------------------Adele\\16 Someone Like You.mp3--------------------\n",
      "--------------------Adele\\17 Rolling In The Deep.mp3--------------------\n",
      "--------------------BeastieBoys\\01 So What'cha Want.mp3--------------------\n",
      "Error: Chunk Features failed\n",
      "--------------------BeastieBoys\\03 Ch-Check It Out.mp3--------------------\n",
      "--------------------BeastieBoys\\04 No Sleep Till Brooklyn.mp3--------------------\n",
      "--------------------BeastieBoys\\05 Hey Ladies.mp3--------------------\n",
      "--------------------BeastieBoys\\06 Pass the Mic.mp3--------------------\n",
      "--------------------BeastieBoys\\07 An Open Letter to NYC.mp3--------------------\n",
      "--------------------BeastieBoys\\08 Root Down.mp3--------------------\n",
      "--------------------BeastieBoys\\09 Shake Your Rump.mp3--------------------\n",
      "--------------------BeastieBoys\\10 Intergalactic.mp3--------------------\n",
      "--------------------BeastieBoys\\11 Sure Shot.mp3--------------------\n",
      "--------------------BeastieBoys\\12 Body Movin' (Fatboy Slim Remix).mp3--------------------\n",
      "Error: Chunk Features failed\n",
      "Error: Chunk Features failed\n",
      "--------------------BeastieBoys\\15 Fight for Your Right.mp3--------------------\n",
      "--------------------Garrett\\01 Smooth Criminal 1.mp3--------------------\n",
      "--------------------Garrett\\02 Who Wants to Live Forever_ 1.mp3--------------------\n",
      "--------------------Garrett\\03 Clair de Lune 1.mp3--------------------\n",
      "--------------------Garrett\\04 He's a Pirate (Pirates of the Car 1.mp3--------------------\n",
      "--------------------Garrett\\05 Summertime 1.mp3--------------------\n",
      "Error: Chunk Features failed\n",
      "Error: Chunk Features failed\n",
      "Error: Chunk Features failed\n",
      "--------------------Garrett\\09 O Mio Babbino Caro 1.mp3--------------------\n",
      "--------------------Garrett\\10 Air.mp3--------------------\n",
      "--------------------Garrett\\11 Thunderstruck.mp3--------------------\n",
      "--------------------Garrett\\12 New Day.mp3--------------------\n",
      "Error: Chunk Features failed\n",
      "--------------------Garrett\\14 Rock Prelude.mp3--------------------\n",
      "Error: Chunk Features failed\n",
      "--------------------Garrett\\16 Little Wing.mp3--------------------\n",
      "--------------------LanaDelRey\\01 Born to Die.mp3--------------------\n",
      "--------------------LanaDelRey\\02 Off to the Races.mp3--------------------\n",
      "--------------------LanaDelRey\\03 Blue Jeans (Remastered).mp3--------------------\n",
      "--------------------LanaDelRey\\04 Video Games (Remastered).mp3--------------------\n",
      "--------------------LanaDelRey\\05 Diet Mountain Dew.mp3--------------------\n",
      "--------------------LanaDelRey\\06 National Anthem.mp3--------------------\n",
      "--------------------LanaDelRey\\07 Dark Paradise.mp3--------------------\n",
      "--------------------LanaDelRey\\08 Radio.mp3--------------------\n",
      "--------------------LanaDelRey\\09 Carmen.mp3--------------------\n",
      "--------------------LanaDelRey\\10 Million Dollar Man.mp3--------------------\n",
      "--------------------LanaDelRey\\11 Summertime Sadness.mp3--------------------\n",
      "--------------------LanaDelRey\\12 This Is What Makes Us Girls.mp3--------------------\n",
      "--------------------RageAgainstTheMachine\\01 Bombtrack.mp3--------------------\n",
      "--------------------RageAgainstTheMachine\\02 Killing In the Name.mp3--------------------\n",
      "--------------------RageAgainstTheMachine\\03 Take the Power Back.mp3--------------------\n",
      "--------------------RageAgainstTheMachine\\04 Settle for Nothing.mp3--------------------\n",
      "--------------------RageAgainstTheMachine\\05 Bullet In the Head.mp3--------------------\n",
      "--------------------RageAgainstTheMachine\\06 Know Your Enemy.mp3--------------------\n",
      "--------------------RageAgainstTheMachine\\07 Wake Up.mp3--------------------\n",
      "--------------------RageAgainstTheMachine\\08 Fistful of Steel.mp3--------------------\n",
      "--------------------RageAgainstTheMachine\\09 Township Rebellion.mp3--------------------\n",
      "--------------------RageAgainstTheMachine\\10 Freedom.mp3--------------------\n"
     ]
    }
   ],
   "source": [
    "fileList=[]\n",
    "featureList1=[]\n",
    "featureList2=[]\n",
    "#Specify the name of the directory, which contains your MP3 files here.\n",
    "# This directory should contain for each band/author one subdirectory, which contains all songs of this author\n",
    "for path, dirs, files in os.walk('./BandCollection'):\n",
    "    #print '-'*10,dirs,files\n",
    "    for f in files:\n",
    "        if not f.endswith('.mp3'):\n",
    "            # Skip any non-MP3 files\n",
    "            continue\n",
    "        mp3_file = os.path.join(path, f)\n",
    "        #print mp3_file\n",
    "        # Extract the track name (i.e. the file name) plus the names\n",
    "        # of the two preceding directories. This will be useful\n",
    "        # later for plotting.\n",
    "        tail, track = os.path.split(mp3_file)\n",
    "        tail, dir1 = os.path.split(tail)\n",
    "        tail, dir2 = os.path.split(tail)\n",
    "        # Compute features. feature_vec1 and feature_vec2 are lists of floating\n",
    "        # point numbers representing the statistical features we have extracted\n",
    "        # from the raw sound data.\n",
    "        try:\n",
    "            feature_vec1, feature_vec2 = compute_chunk_features(mp3_file)\n",
    "        except:\n",
    "            print \"Error: Chunk Features failed\"\n",
    "            continue\n",
    "        #title=str(track)\n",
    "        title=str(dir1)+'\\\\'+str(track)\n",
    "        print '-'*20+ title +'-'*20\n",
    "        #print \"       feature vector 1:\",feature_vec1\n",
    "        #print \"       feature vector 2:\",feature_vec2\n",
    "        fileList.append(title)\n",
    "        featureList1.append(feature_vec1)\n",
    "        featureList2.append(feature_vec2)\n",
    "\n",
    "# Write feature vecotrs of all music files to pandas data-frame\n",
    "MusicFeaturesTrain=pd.DataFrame(index=fileList,data=numpy.array(featureList1),columns=FeatNames)\n",
    "MusicFeaturesTrain.to_csv(\"FeatureFileTrainingAllList1.csv\")\n",
    "\n",
    "MusicFeaturesTest=pd.DataFrame(index=fileList,data=numpy.array(featureList2),columns=FeatNames)\n",
    "MusicFeaturesTest.to_csv(\"FeatureFileTestAllList2.csv\")"
   ]
  },
  {
   "cell_type": "markdown",
   "metadata": {},
   "source": [
    "## Matching der Teilsequenzen\n",
    "In diesem Abschnitt soll ein Verfahren implementiert werden, mit dem die Übereinstimmung der ersten Teilsequenz eines Musikstücks mit den zweiten Teilsequenzen aller anderen Musikstücke berechnet werden kann.\n",
    "\n",
    "**Aufagben:**\n",
    "1.Lesen Sie die im vorigen Teilversuch angelegten zwei csv-Dateien in jeweils einen eigenen Pandas Dataframe ein."
   ]
  },
  {
   "cell_type": "code",
   "execution_count": 34,
   "metadata": {
    "collapsed": false
   },
   "outputs": [],
   "source": [
    "MusicFeaturesTrain = pd.read_csv('./FeatureFileTrainingAllList1.csv')\n",
    "MusicFeaturesTest = pd.read_csv('./FeatureFileTestAllList2.csv')"
   ]
  },
  {
   "cell_type": "markdown",
   "metadata": {},
   "source": [
    "2.Bestimmen Sie zu jeder Teilsequenz aus der Datei _FeatureFileTrainingAllList1.csv_ die euklidische Distanz zu allen Teilsequenzen aus der Datei _FeatureFileTestAllList2.csv_ und schreiben Sie diese Distanzen in eine aufsteigend geordnete Liste. Schreiben Sie auch die zugehörigen Argumente (Teilsequenzen) in eine geordnete Liste, sodass für jede Teilsequenz aus _FeatureFileTrainingAllList1.csv_ die am nächsten liegende Teilsequenz aus _FeatureFileTestAllList2.csv_ an erster Stelle steht, die zweitnächste Teilsequenz an zweiter usw."
   ]
  },
  {
   "cell_type": "code",
   "execution_count": 81,
   "metadata": {
    "collapsed": false
   },
   "outputs": [],
   "source": [
    "from scipy.spatial.distance import euclidean\n",
    "\n",
    "def get_euclid_dist(seq1, seq2):\n",
    "    return euclidean(seq1, seq2)"
   ]
  },
  {
   "cell_type": "code",
   "execution_count": 115,
   "metadata": {
    "collapsed": false,
    "scrolled": false
   },
   "outputs": [
    {
     "data": {
      "text/plain": [
       "[('LanaDelRey\\\\02 Off to the Races.mp3',\n",
       "  [('LanaDelRey\\\\09 Carmen.mp3', 813.34927534940255),\n",
       "   ('BeastieBoys\\\\09 Shake Your Rump.mp3', 872.52203904998248),\n",
       "   ('LanaDelRey\\\\12 This Is What Makes Us Girls.mp3', 1700.0652957221555),\n",
       "   ('LanaDelRey\\\\11 Summertime Sadness.mp3', 1837.4655652662279),\n",
       "   ('BeastieBoys\\\\05 Hey Ladies.mp3', 2037.0784324595786),\n",
       "   ('BeastieBoys\\\\15 Fight for Your Right.mp3', 2417.8443368458252),\n",
       "   ('LanaDelRey\\\\01 Born to Die.mp3', 2673.0730706819099),\n",
       "   ('BeastieBoys\\\\07 An Open Letter to NYC.mp3', 2711.7104348339135),\n",
       "   ('LanaDelRey\\\\07 Dark Paradise.mp3', 2921.7992522082804),\n",
       "   (\"BeastieBoys\\\\12 Body Movin' (Fatboy Slim Remix).mp3\", 2922.8690141604848),\n",
       "   ('BeastieBoys\\\\03 Ch-Check It Out.mp3', 2923.4815779014684),\n",
       "   ('Garrett\\\\11 Thunderstruck.mp3', 3425.6424541414185),\n",
       "   ('LanaDelRey\\\\02 Off to the Races.mp3', 3448.7574409192007),\n",
       "   ('BeastieBoys\\\\11 Sure Shot.mp3', 3617.8136576821439),\n",
       "   ('BeastieBoys\\\\04 No Sleep Till Brooklyn.mp3', 3710.8471787505528),\n",
       "   ('RageAgainstTheMachine\\\\05 Bullet In the Head.mp3', 3736.5813964153563),\n",
       "   ('LanaDelRey\\\\10 Million Dollar Man.mp3', 3790.0544905437669),\n",
       "   ('LanaDelRey\\\\03 Blue Jeans (Remastered).mp3', 3828.2741045173939),\n",
       "   ('Garrett\\\\14 Rock Prelude.mp3', 3840.5253667521215),\n",
       "   ('RageAgainstTheMachine\\\\10 Freedom.mp3', 3865.1709686223548),\n",
       "   ('BeastieBoys\\\\08 Root Down.mp3', 4066.23365432745),\n",
       "   (\"BeastieBoys\\\\01 So What'cha Want.mp3\", 4106.8832059027518),\n",
       "   ('RageAgainstTheMachine\\\\03 Take the Power Back.mp3', 4218.8257187533818),\n",
       "   ('Garrett\\\\10 Air.mp3', 4251.8305726367062),\n",
       "   ('RageAgainstTheMachine\\\\01 Bombtrack.mp3', 4278.4953247550238),\n",
       "   (\"Garrett\\\\04 He's a Pirate (Pirates of the Car 1.mp3\", 4330.3462684707265),\n",
       "   ('Garrett\\\\01 Smooth Criminal 1.mp3', 4351.4459375178903),\n",
       "   ('LanaDelRey\\\\08 Radio.mp3', 4456.8917719058991),\n",
       "   ('BeastieBoys\\\\06 Pass the Mic.mp3', 4629.1839730209649),\n",
       "   ('RageAgainstTheMachine\\\\02 Killing In the Name.mp3', 4765.4630875130224),\n",
       "   ('LanaDelRey\\\\04 Video Games (Remastered).mp3', 4932.7677698381449),\n",
       "   ('LanaDelRey\\\\05 Diet Mountain Dew.mp3', 4983.8961382834259),\n",
       "   ('LanaDelRey\\\\06 National Anthem.mp3', 5014.4284600247775),\n",
       "   ('Adele\\\\11 One And Only.mp3', 5160.4647114801464),\n",
       "   ('RageAgainstTheMachine\\\\07 Wake Up.mp3', 5195.5089467486441),\n",
       "   ('RageAgainstTheMachine\\\\04 Settle for Nothing.mp3', 5283.5845931904405),\n",
       "   ('Adele\\\\13 Chasing Pavements.mp3', 5382.5570018144099),\n",
       "   ('RageAgainstTheMachine\\\\09 Township Rebellion.mp3', 5496.1037487069962),\n",
       "   ('Adele\\\\17 Rolling In The Deep.mp3', 5594.7379937871783),\n",
       "   ('Adele\\\\12 Lovesong.mp3', 5605.2315521531082),\n",
       "   ('Garrett\\\\02 Who Wants to Live Forever_ 1.mp3', 5716.6941624190877),\n",
       "   ('Adele\\\\05 Set Fire To The Rain.mp3', 5755.483955026426),\n",
       "   (\"Adele\\\\03 Don't You Remember.mp3\", 5927.4997495807938),\n",
       "   (\"Adele\\\\02 I'll Be Waiting.mp3\", 6072.476926767612),\n",
       "   ('RageAgainstTheMachine\\\\06 Know Your Enemy.mp3', 6134.0746668736265),\n",
       "   ('RageAgainstTheMachine\\\\08 Fistful of Steel.mp3', 6168.0268638367197),\n",
       "   ('Garrett\\\\05 Summertime 1.mp3', 6360.0316667476627),\n",
       "   ('Garrett\\\\12 New Day.mp3', 7060.9404475268775),\n",
       "   (\"Adele\\\\06 If It Hadn't Been For Love.mp3\", 7186.9382220874941),\n",
       "   ('Garrett\\\\16 Little Wing.mp3', 7431.6585676991681),\n",
       "   ('Adele\\\\09 Rumour Has It.mp3', 7502.2929158109046),\n",
       "   ('BeastieBoys\\\\10 Intergalactic.mp3', 7752.7857408965592),\n",
       "   ('Adele\\\\04 Turning Tables.mp3', 7862.000998113228),\n",
       "   ('Garrett\\\\09 O Mio Babbino Caro 1.mp3', 7863.8464224135323),\n",
       "   ('Adele\\\\01 Hometown Glory.mp3', 8025.7284351777034),\n",
       "   ('Adele\\\\08 Take It All.mp3', 8500.6066841025495),\n",
       "   ('Adele\\\\16 Someone Like You.mp3', 8656.4109795917302),\n",
       "   ('Adele\\\\15 Make You Feel My Love.mp3', 8679.5546629717101),\n",
       "   (\"Adele\\\\14 I Can't Make You Love Me.mp3\", 9064.9766016183366),\n",
       "   ('Garrett\\\\03 Clair de Lune 1.mp3', 10027.312909913728)])]"
      ]
     },
     "execution_count": 115,
     "metadata": {},
     "output_type": "execute_result"
    }
   ],
   "source": [
    "distance_dict_euc = {}\n",
    "\n",
    "for seq1 in MusicFeaturesTrain.iterrows():\n",
    "    seq1_vector_tuple = (seq1[1].values[:1][0], seq1[1].values[1:]) \n",
    "    dist_list = []\n",
    "\n",
    "    for seq2 in MusicFeaturesTest.iterrows():\n",
    "        seq2_vector_tuple = (seq2[1].values[:1][0], seq2[1].values[1:])\n",
    "        distance = get_euclid_dist(seq1_vector_tuple[1], seq2_vector_tuple[1])\n",
    "\n",
    "        dist_list.append((seq2_vector_tuple[0], distance))\n",
    "\n",
    "    dist_list.sort(key=lambda x: x[1])\n",
    "    distance_dict_euc[seq1_vector_tuple[0]] = dist_list\n",
    "\n",
    "distance_dict_euc.items()[:1]"
   ]
  },
  {
   "cell_type": "markdown",
   "metadata": {},
   "source": [
    "3.Bestimmen Sie über alle Teilsequenzen aus _FeatureFileTrainingAllList1.csv_ den **mittleren Rang** an dem die zugehörige zweite Teilsequenz erscheint. Liegt z.B. für die erste Teilsequenz des Musikstücks A die zweite Teilsequenz nur an fünfter Stelle der geordneten nächsten Nachbarliste. Dann würde diese Teilsequenz mit dem Rang 5 in den Mittelwert einfließen."
   ]
  },
  {
   "cell_type": "code",
   "execution_count": 110,
   "metadata": {
    "collapsed": false
   },
   "outputs": [
    {
     "name": "stdout",
     "output_type": "stream",
     "text": [
      "[13, 18, 4, 18, 25, 2, 2, 1, 2, 1, 3, 1, 3, 1, 1, 18, 5, 3, 3, 1, 38, 1, 7, 7, 12, 1, 1, 9, 4, 6, 3, 1, 3, 3, 6, 1, 1, 7, 2, 1, 1, 1, 2, 1, 1, 16, 24, 1, 2, 1, 1, 4, 5, 3, 1, 5, 5, 2, 1, 5]\n",
      "Mittlere Distanz: 5\n"
     ]
    }
   ],
   "source": [
    "distance_vals = []\n",
    "\n",
    "for seq1, seqs  in distance_dict_euc.items():\n",
    "    for index, seq in enumerate(seqs):\n",
    "        if seq[0] == seq1:\n",
    "            distance_vals.append(index + 1)\n",
    "            break\n",
    "\n",
    "mean_euclid = sum(distance_vals) / len(distance_vals)\n",
    "\n",
    "print distance_vals\n",
    "print 'Mittlere Distanz: ' + str(mean_euclid)"
   ]
  },
  {
   "cell_type": "markdown",
   "metadata": {},
   "source": [
    "4.Bestimmen Sie jetzt den mittleren Rang, für den Fall, dass _correlation_ anstelle _euclidean_ als Ähnlichkeitsmaß verwendet wird. Welches Ähnlichkeitsmaß ist für diese Anwendung zu bevorzugen?"
   ]
  },
  {
   "cell_type": "code",
   "execution_count": 106,
   "metadata": {
    "collapsed": true
   },
   "outputs": [],
   "source": [
    "from scipy.spatial.distance import correlation\n",
    "\n",
    "def get_corr_dist(seq1, seq2):\n",
    "    return correlation(seq1, seq2)"
   ]
  },
  {
   "cell_type": "code",
   "execution_count": 116,
   "metadata": {
    "collapsed": false
   },
   "outputs": [
    {
     "data": {
      "text/plain": [
       "[('LanaDelRey\\\\02 Off to the Races.mp3',\n",
       "  [('RageAgainstTheMachine\\\\10 Freedom.mp3', 0.00068287382005072228),\n",
       "   ('BeastieBoys\\\\09 Shake Your Rump.mp3', 0.0015679220900988167),\n",
       "   ('BeastieBoys\\\\11 Sure Shot.mp3', 0.0016337567904449735),\n",
       "   ('LanaDelRey\\\\09 Carmen.mp3', 0.0017190833631162139),\n",
       "   ('LanaDelRey\\\\02 Off to the Races.mp3', 0.0021564367574465892),\n",
       "   ('BeastieBoys\\\\06 Pass the Mic.mp3', 0.0023949335651501924),\n",
       "   ('RageAgainstTheMachine\\\\09 Township Rebellion.mp3', 0.0024446503831492272),\n",
       "   ('RageAgainstTheMachine\\\\08 Fistful of Steel.mp3', 0.0027919406560013016),\n",
       "   ('LanaDelRey\\\\12 This Is What Makes Us Girls.mp3', 0.0056109240824123718),\n",
       "   (\"BeastieBoys\\\\01 So What'cha Want.mp3\", 0.0060154298883517976),\n",
       "   ('LanaDelRey\\\\11 Summertime Sadness.mp3', 0.0075670296439971363),\n",
       "   ('LanaDelRey\\\\07 Dark Paradise.mp3', 0.0081806560512264204),\n",
       "   ('BeastieBoys\\\\05 Hey Ladies.mp3', 0.0091777839794470184),\n",
       "   ('BeastieBoys\\\\07 An Open Letter to NYC.mp3', 0.0097235771521931857),\n",
       "   ('BeastieBoys\\\\04 No Sleep Till Brooklyn.mp3', 0.010380925947952035),\n",
       "   ('BeastieBoys\\\\03 Ch-Check It Out.mp3', 0.013199938285621715),\n",
       "   ('BeastieBoys\\\\15 Fight for Your Right.mp3', 0.013207814470363899),\n",
       "   ('RageAgainstTheMachine\\\\05 Bullet In the Head.mp3', 0.013350066671947491),\n",
       "   ('LanaDelRey\\\\01 Born to Die.mp3', 0.017940418838024885),\n",
       "   ('RageAgainstTheMachine\\\\07 Wake Up.mp3', 0.017959961656160095),\n",
       "   ('BeastieBoys\\\\10 Intergalactic.mp3', 0.019574204109279569),\n",
       "   ('Garrett\\\\10 Air.mp3', 0.019915901177205653),\n",
       "   ('RageAgainstTheMachine\\\\04 Settle for Nothing.mp3', 0.020894655390784167),\n",
       "   ('RageAgainstTheMachine\\\\03 Take the Power Back.mp3', 0.022521764647900011),\n",
       "   (\"BeastieBoys\\\\12 Body Movin' (Fatboy Slim Remix).mp3\",\n",
       "    0.023561679993361784),\n",
       "   ('RageAgainstTheMachine\\\\01 Bombtrack.mp3', 0.023918613464430916),\n",
       "   ('LanaDelRey\\\\08 Radio.mp3', 0.024429396983733698),\n",
       "   ('Garrett\\\\11 Thunderstruck.mp3', 0.026648038616727932),\n",
       "   ('Garrett\\\\14 Rock Prelude.mp3', 0.027655186691918354),\n",
       "   ('RageAgainstTheMachine\\\\06 Know Your Enemy.mp3', 0.032098067444800371),\n",
       "   ('RageAgainstTheMachine\\\\02 Killing In the Name.mp3', 0.036271336426253908),\n",
       "   ('LanaDelRey\\\\10 Million Dollar Man.mp3', 0.039150414520593535),\n",
       "   ('LanaDelRey\\\\06 National Anthem.mp3', 0.039686597823304415),\n",
       "   ('LanaDelRey\\\\03 Blue Jeans (Remastered).mp3', 0.040299629392200664),\n",
       "   ('Garrett\\\\01 Smooth Criminal 1.mp3', 0.040560279155847367),\n",
       "   ('BeastieBoys\\\\08 Root Down.mp3', 0.044677287602245097),\n",
       "   ('Adele\\\\11 One And Only.mp3', 0.0454848853259332),\n",
       "   (\"Garrett\\\\04 He's a Pirate (Pirates of the Car 1.mp3\",\n",
       "    0.053045515767231488),\n",
       "   ('LanaDelRey\\\\05 Diet Mountain Dew.mp3', 0.056960384022325616),\n",
       "   ('Adele\\\\13 Chasing Pavements.mp3', 0.056990111194103577),\n",
       "   ('Adele\\\\12 Lovesong.mp3', 0.057309098741331832),\n",
       "   ('Garrett\\\\02 Who Wants to Live Forever_ 1.mp3', 0.060994286132862063),\n",
       "   ('Garrett\\\\12 New Day.mp3', 0.063612998653100328),\n",
       "   ('Garrett\\\\05 Summertime 1.mp3', 0.064002326456547243),\n",
       "   ('Adele\\\\05 Set Fire To The Rain.mp3', 0.064308952604711367),\n",
       "   ('LanaDelRey\\\\04 Video Games (Remastered).mp3', 0.066788417681188483),\n",
       "   ('Adele\\\\17 Rolling In The Deep.mp3', 0.075756052940187835),\n",
       "   (\"Adele\\\\06 If It Hadn't Been For Love.mp3\", 0.076189660928515646),\n",
       "   (\"Adele\\\\02 I'll Be Waiting.mp3\", 0.080582301009277435),\n",
       "   (\"Adele\\\\03 Don't You Remember.mp3\", 0.081198677655593188),\n",
       "   ('Garrett\\\\09 O Mio Babbino Caro 1.mp3', 0.086656438794133428),\n",
       "   ('Adele\\\\09 Rumour Has It.mp3', 0.090350595145807011),\n",
       "   ('Adele\\\\15 Make You Feel My Love.mp3', 0.11045910594090613),\n",
       "   ('Garrett\\\\03 Clair de Lune 1.mp3', 0.11668355245375939),\n",
       "   ('Garrett\\\\16 Little Wing.mp3', 0.12475014840095699),\n",
       "   ('Adele\\\\16 Someone Like You.mp3', 0.13110870407522435),\n",
       "   (\"Adele\\\\14 I Can't Make You Love Me.mp3\", 0.13807985688473945),\n",
       "   ('Adele\\\\01 Hometown Glory.mp3', 0.1416132912007968),\n",
       "   ('Adele\\\\08 Take It All.mp3', 0.14753991879689898),\n",
       "   ('Adele\\\\04 Turning Tables.mp3', 0.1569695984217141)])]"
      ]
     },
     "execution_count": 116,
     "metadata": {},
     "output_type": "execute_result"
    }
   ],
   "source": [
    "distance_dict_corr = {}\n",
    "\n",
    "for seq1 in MusicFeaturesTrain.iterrows():\n",
    "    seq1_vector_tuple = (seq1[1].values[:1][0], seq1[1].values[1:]) \n",
    "    dist_list = []\n",
    "\n",
    "    for seq2 in MusicFeaturesTest.iterrows():\n",
    "        seq2_vector_tuple = (seq2[1].values[:1][0], seq2[1].values[1:])\n",
    "        distance = get_corr_dist(seq1_vector_tuple[1], seq2_vector_tuple[1])\n",
    "\n",
    "        dist_list.append((seq2_vector_tuple[0], distance))\n",
    "\n",
    "    dist_list.sort(key=lambda x: x[1])\n",
    "    distance_dict_corr[seq1_vector_tuple[0]] = dist_list\n",
    "\n",
    "distance_dict_corr.items()[:1]"
   ]
  },
  {
   "cell_type": "code",
   "execution_count": 109,
   "metadata": {
    "collapsed": false
   },
   "outputs": [
    {
     "name": "stdout",
     "output_type": "stream",
     "text": [
      "[5, 9, 1, 10, 4, 8, 3, 1, 8, 1, 1, 1, 5, 1, 2, 8, 10, 1, 3, 1, 2, 1, 18, 7, 1, 3, 1, 12, 1, 12, 3, 2, 3, 2, 1, 3, 1, 1, 3, 1, 6, 1, 9, 1, 1, 16, 2, 1, 1, 2, 1, 9, 2, 2, 2, 9, 2, 1, 1, 8]\n",
      "Mittlere Distanz: 3\n"
     ]
    }
   ],
   "source": [
    "distance_vals = []\n",
    "\n",
    "for seq1, seqs  in distance_dict_corr.items():\n",
    "    for index, seq in enumerate(seqs):\n",
    "        if seq[0] == seq1:\n",
    "            distance_vals.append(index + 1)\n",
    "            break\n",
    "\n",
    "mean_correlation = sum(distance_vals) / len(distance_vals)\n",
    "\n",
    "print distance_vals\n",
    "print 'Mittlere Distanz: ' + str(mean_correlation)"
   ]
  },
  {
   "cell_type": "markdown",
   "metadata": {
    "collapsed": true
   },
   "source": [
    "5.Diskutieren Sie das Ergebnis"
   ]
  },
  {
   "cell_type": "markdown",
   "metadata": {},
   "source": [
    "### Auswertung:\n",
    "\n",
    "Die correlation bietet in diesem Beispiel ein deutlich besserers Ergebnis. Wenn man die beiden Listen der einzelnen Ränge vergleicht, fällt auf, dass es bei der correlation nur sehr wenige \"Ausreißer\" gibt, der über den Rang 10 hinaus geht. Außerdem ist keiner der Ränge bei der correlation Distanz über 20.\n",
    "\n",
    "Beim Euclid hingegen gibt es einige sehr große \"Außreiser\", die über Rang 20 hinausgehen und einer der sogar bei 38 liegt. Bei diesem Lied könnte es sein, dass die Features, die bei der ersten Sequenz extrahiert wurden, nicht wie erwartet in der zweiten Sequenz wieder auftreten.\n",
    "\n",
    "Die correlation macht in diesem Fall mehr Sinn, da es bei Musik eher um den Zusammenhang der Noten geht. Das bedeutet, dass das Verhältnis zwischen den Werten wichtig ist und nicht nur, wie gleich die Werte sind.\n",
    "\n",
    "Wenn die Noten in der zweiten Sequenz alle eine Oktave höher sind, stimmt bei der correlation die Distanz noch, beim Euclid dagegen wird die Distanz größer."
   ]
  },
  {
   "cell_type": "markdown",
   "metadata": {},
   "source": [
    "## Merkmalsauswahl mit dem genetischen Algorithmus\n",
    "In diesem Abschnitt soll unter Anwendung eines selbst zu implementierenden genetischen Algorithmus eine Untermenge wichtiger Merkmale aus den insgesamt 42 angelegten Merkmalen berechnet werden.\n",
    "Als Vorlage kann hierfür die Implementierung für die [Lösung des TSP Problems](https://www.hdm-stuttgart.de/~maucher/Python/FunktionenAlgorithmen/html/genAlgTSP.html) herangezogen werden. Anzupassen sind dann jedoch mindestens die Fitness-Funktion, die Kreuzungs- und die Mutationsfunktion. Die Fitness soll so wie im vorigen Teilabschnitt mit dem mittleren Rang berechnet werden. Die Populationsgröße, die Anzahl der auszuwählenden Merkmale und die Anzahl der Iterationen sollen als Parameter einstellbar sein.\n",
    "\n",
    "Der Fitnesswert des besten Individuums in der Population soll in jeder Iteration gespeichert werden. Der Verlauf dieses besten Fitness-Wertes über den Fortlauf der Iterationen soll graphisch ausgegeben werden.\n",
    "\n",
    "Ein Pandas Frame, der nur die berechneten wichtigsten Merkmale aus _FeatureFileTrainingAllList1.csv_ enthält soll angelegt und in die csv Datei _subFeaturesTrain1.csv_ geschrieben werden.\n",
    "\n",
    "**Aufgaben:**\n",
    "1. Implementieren Sie die die Merkmalsauswahl mit dem genetischen Algorithmus entsprechend der o.g. Beschreibung\n",
    "2. Beschreiben Sie kurz das Konzept ihrer Kreuzungs- und Mutationsfunktion. \n",
    "3. Bestimmen Sie eine möglichst kleine Merkmalsuntermenge mit einem möglichst guten mittleren Rang? Geben Sie sowohl die gefundenen wichtigsten Merkmale als auch den zugehörigen mittleren Rang an.\n",
    "4. Um wieviel verschlechtert sich der Mittlere Rang, wenn nur die 10 wichtigsten Merkmale benutzt werden?"
   ]
  },
  {
   "cell_type": "markdown",
   "metadata": {},
   "source": [
    "#### Genetischer Algorithmus für die Music Feature Selection"
   ]
  },
  {
   "cell_type": "code",
   "execution_count": null,
   "metadata": {
    "collapsed": true
   },
   "outputs": [],
   "source": []
  },
  {
   "cell_type": "markdown",
   "metadata": {},
   "source": [
    "#### Music Feature Selection"
   ]
  },
  {
   "cell_type": "code",
   "execution_count": 24,
   "metadata": {
    "collapsed": false
   },
   "outputs": [],
   "source": [
    "#Your Code"
   ]
  },
  {
   "cell_type": "markdown",
   "metadata": {},
   "source": [
    "## Clustering und automatische Playlistgenerierung\n",
    "Implementieren Sie ein hierarchisches Clustering aller Subsequenzen in _subFeaturesTrain1.csv_. Diese _.csv_-Datei enthält nur die im vorigen Schritt ermittelten wichtigsten Merkmale. Das hierarchische Clustering ist in einem Dendrogram der Art wie in der unten gegebenen Abbildung zu visualisieren.\n",
    "\n",
    "Die gefundenen Cluster sind mit den zugehörigen Musiktiteln in der Konsole auszugeben. \n",
    "\n",
    "**Aufgaben:**\n",
    "\n",
    "1. Optimieren Sie die Parameter\n",
    "\n",
    "    1. metric (Ähnlichkeitsmaß)\n",
    "    2. linkage method\n",
    "    3. Clusteranzahl\n",
    "    \n",
    "2. Für welche Parameterkonstellation erlangen Sie das für Sie subjektiv betrachtet günstigste Ergebnis?\n",
    "3. Überlegen Sie sich Ansätze um diese Art der Musikgruppierung zu verbessern?\n",
    "\n",
    "![Abbildung Music Clustering](https://www.hdm-stuttgart.de/~maucher/ipnotebooks/DataMining//Bilder/playlistCluster.png \"Music Clustering\")"
   ]
  },
  {
   "cell_type": "code",
   "execution_count": null,
   "metadata": {
    "collapsed": true
   },
   "outputs": [],
   "source": []
  }
 ],
 "metadata": {
  "kernelspec": {
   "display_name": "Python 2",
   "language": "python",
   "name": "python2"
  },
  "language_info": {
   "codemirror_mode": {
    "name": "ipython",
    "version": 2
   },
   "file_extension": ".py",
   "mimetype": "text/x-python",
   "name": "python",
   "nbconvert_exporter": "python",
   "pygments_lexer": "ipython2",
   "version": "2.7.11"
  }
 },
 "nbformat": 4,
 "nbformat_minor": 0
}
