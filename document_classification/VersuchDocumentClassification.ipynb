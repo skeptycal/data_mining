{
 "cells": [
  {
   "cell_type": "markdown",
   "metadata": {},
   "source": [
    "# Data Mining Versuch Document Classification\n",
    "* Autor: Prof. Dr. Johannes Maucher\n",
    "* Datum: 06.11.2015\n",
    "\n",
    "[Übersicht Ipython Notebooks im Data Mining Praktikum](Data Mining Praktikum.html)\n",
    "\n",
    "# Einführung\n",
    "## Lernziele:\n",
    "In diesem Versuch sollen Kenntnisse in folgenden Themen vermittelt werden:\n",
    "\n",
    "* Dokumentklassifikation: Klassifikation von Dokumenten, insbesondere Emails und RSS Feed\n",
    "* Naive Bayes Classifier: Weit verbreitete Klassifikationsmethode, welche unter bestimmten Randbedingungen sehr gut skaliert.\n",
    "\n",
    "\n",
    "## Theorie zur Vorbereitung\n",
    "### Parametrische Klassifikation und Naive Bayes Methode\n",
    "Klassifikatoren müssen zu einer gegebenen Eingabe $\\underline{x}$ die zugehörige Klasse $C_i$ bestimmen. Mithilfe der Wahrscheinlichkeitstheorie kann diese Aufgabe wie folgt beschrieben werden: Bestimme für alle möglichen Klassen $C_i$ die bedingte Wahrscheinlichkeit $P(C_i | \\underline{x})$, also die Wahrscheinlichkeit, dass die gegebene Eingabe $\\underline{x}$ in Klasse $C_i$ fällt. Wähle dann die Klasse aus, für welche diese Wahrscheinlichkeit maximal ist.\n",
    "\n",
    "Die Entscheidungsregeln von Klassifikatoren können mit Methoden des \"\"überwachten Lernens\"\" aus Trainingsdaten ermittelt werden. Im Fall des **parametrischen Lernens** kann aus den Trainingsdaten die sogenannte **Likelihood-Funktion** $p(\\underline{x} \\mid C_i)$ bestimmt werden. _Anmerkung:_ Allgemein werden mit $p(...)$ kontinuierliche Wahrscheinlichkeitsfunktionen und mit $P(...)$ diskrete Wahrscheinlichkeitswerte bezeichnet. \n",
    "\n",
    "Mithilfe der **Bayes-Formel**\n",
    "$$\n",
    "P(C_i \\mid \\underline{x}) = \\frac{p(\\underline{x} \\mid C_i) \\cdot P(C_i)}{p(\\underline{x})}\n",
    "$$\n",
    "\n",
    "kann aus der Likelihood die **a-posteriori-Wahrscheinlichkeit $P(C_i \\mid \\underline{x})$** berechnet werden. Darin wird $P(C_i)$ die **a-priori-Wahrscheinlichkeit** und $p(\\underline{x})$ die **Evidenz** genannt. Die a-priori-Wahrscheinlichkeit kann ebenfalls aus den Trainingsdaten ermittelt werden. Die Evidenz ist für die Klassifikationsentscheidung nicht relevant, da sie für alle Klassen $C_i$ gleich groß ist.\n",
    "\n",
    "Die Berechnung der Likelihood-Funktion $p(\\underline{x} \\mid C_i)$ ist dann sehr aufwendig, wenn $\\underline{x}=(x_1,x_2,\\ldots,x_Z)$ ein Vektor von voneinander abhängigen Variablen $x_i$ ist. Bei der **Naive Bayes Classification** wird jedoch von der vereinfachenden Annahme ausgegangen, dass die Eingabevariabeln $x_i$ voneinander unabhängig sind. Dann vereinfacht sich die bedingte Verbundwahrscheinlichkeits-Funktion $p(x_1,x_2,\\ldots,x_Z \\mid C_i)$ zu:\n",
    "\n",
    "$$\n",
    "p(x_1,x_2,\\ldots,x_Z \\mid C_i)=\\prod\\limits_{j=1}^Z p(x_j | C_i)\n",
    "$$\n",
    "\n",
    "### Anwendung der Naive Bayes Methode in der Dokumentklassifikation\n",
    "Auf der rechten Seite der vorigen Gleichung stehen nur noch von den jeweils anderen Variablen unabhängige bedingte Wahrscheinlichkeiten. Im Fall der Dokumentklassifikation sind die einzelnen Worte die Variablen, d.h. ein Ausdruck der Form $P(x_j | C_i)$ gibt an mit welcher Wahrscheinlichkeit ein Wort $x_j=w$ in einem Dokument der Klasse $C_i$ vorkommt. \n",
    "Die Menge aller Variablen $\\left\\{x_1,x_2,\\ldots,x_Z \\right\\}$ ist dann die Menge aller Wörter im Dokument. Damit gibt die linke Seite in der oben gegebenen Gleichung die _Wahrscheinlichkeit, dass die Wörter $\\left\\{x_1,x_2,\\ldots,x_Z \\right\\}$ in einem Dokument der Klasse $C_i$ vorkommen_ an.\n",
    "\n",
    "Für jedes Wort _w_ wird aus den Trainingsdaten die Wahrscheinlichkeit $P(w|G)$, mit der das Wort in Dokumenten der Kategorie _Good_ und die Wahrscheinlichkeit $P(w|B)$ mit der das Wort in Dokumenten der Kategorie _Bad_ auftaucht ermittelt. Trainingsdokumente werden in der Form\n",
    "\n",
    "$$\n",
    "tD=(String,Category)\n",
    "$$\n",
    "eingegeben. \n",
    "\n",
    "Wenn \n",
    "\n",
    "* mit der Variable $fc(w,cat)$ die Anzahl der Trainingsdokumente in Kategorie $cat$ in denen das Wort $w$ enthalten ist\n",
    "* mit der Variable $cc(cat)$ die Anzahl der Trainingsdokumente in Kategorie $cat$ \n",
    "\n",
    "gezählt wird, dann ist \n",
    "\n",
    "$$\n",
    "P(w|G)=\\frac{fc(w,G)}{cc(G)} \\quad \\quad P(w|B)=\\frac{fc(w,B)}{cc(B)}.\n",
    "$$\n",
    "\n",
    "Wird nun nach der Eingabe von $L$ Trainingsdokumenten ein neu zu klassifizierendes Dokument $D$ eingegeben und sei $W(D)$ die Menge aller Wörter in $D$, dann berechnen sich unter der Annahme, dass die Worte in $W(D)$ voneinander unabhängig sind (naive Bayes Annahme) die a-posteriori Wahrscheinlichkeiten zu:\n",
    "\n",
    "$$\n",
    "P(G|D)=\\frac{\\left( \\prod\\limits_{w \\in W(D)} P(w | G) \\right) \\cdot P(G)}{p(D)}\n",
    "$$\n",
    "und\n",
    "$$\n",
    "P(B|D)=\\frac{\\left( \\prod\\limits_{w \\in W(D)} P(w | B) \\right) \\cdot P(B)}{p(D)}.\n",
    "$$\n",
    "\n",
    "Die hierfür notwendigen a-priori-Wahrscheinlichkeiten berechnen sich zu \n",
    "\n",
    "$$\n",
    "P(G)=\\frac{cc(G)}{L}\n",
    "$$\n",
    "und\n",
    "$$\n",
    "P(B)=\\frac{cc(B)}{L}\n",
    "$$\n",
    "\n",
    "Die Evidenz $p(D)$ beeinflusst die Entscheidung nicht und kann deshalb ignoriert werden.\n",
    "\n",
    "\n",
    "## Vor dem Versuch zu klärende Fragen\n",
    "\n",
    "\n",
    "1. Wie wird ein Naive Bayes Classifier trainiert? Was muss beim Training für die spätere Klassifikation abgespeichert werden?\n",
    "2. Wie teilt ein Naiver Bayes Classifier ein neues Dokument ein?\n",
    "3. Welche naive Annahme liegt dem Bayes Classifier zugrunde? Ist diese Annahme im Fall der Dokumentklassifikation tatsächlich gegeben?\n",
    "4. Betrachten Sie die Formeln für die Berechnung von $P(G|D)$ und $P(B|D)$. Welches Problem stellt sich ein, wenn in der Menge $W(D)$ ein Wort vorkommt, das nicht in den Trainingsdaten der Kategorie $G$ vorkommt und ein anderes Wort aus $W(D)$ nicht in den Trainingsdaten der Kategorie $B$ enthalten ist? Wie könnte dieses Problem gelöst werden? \n",
    "\n"
   ]
  },
  {
   "cell_type": "markdown",
   "metadata": {
    "collapsed": true
   },
   "source": [
    "1. Es müssen referenz Texte existieren die jeweils einer der zu testenden Kateogorien zugeordnet sind. Dann wird für jedes Wort, dass insgesamt vorkommt die Häufigkeit in jeder Kategorie berechnet. \n",
    "\n",
    "    Für jede Kategorie (cat) und jedes Wort (w) wird berechnet:\n",
    "        - Anzahl der Dokument cc(cat)\n",
    "        - Anzahl der Dokumente welche das Wort enthalten fc(w, cat)\n",
    "    Daraus wird die Wahrscheinlichkeit berechnet: P(w|cat) = cc(cat) / fc(w, cat). Diese wird dann für die spätere Klassifkation gespeichert\n",
    "2. Für jede Kategorie (cat) wird berechnet:\n",
    "        - Die Bedingten Wahrscheinlichkeiten aller Wörter mit *P(w|cat)*\n",
    "        - Die Wahrscheinlichkeit P(cat) mit *cc(cat)/L*\n",
    "        Diese Wahrscheinlichkeiten werden dann alle Zusammenmultipliziert\n",
    "\n",
    "   Das Dokument bekommt dann die Kategorie mit der höchsten Wahrscheinlichkeit zugeordnet\n",
    "3. Der Bayes Classifier nimmt an, dass Wörter unabhängig voneinander sind. Dies ist natürlich nicht der Fall, da die genaue Semantik eines Textes sich aus der Struktur ergibt. Wie die Wörter im Verhältnis stehen und welche Aussagen sich daraus ergeben.\n",
    "4. Wenn ein Wort im zu testenden Dokument D vorkommt, aber in keinem Trainingsdokumenten der Kategorie Cat vorhanden ist ergibt sich streng nach der Formel die Wahrscheinlichkeit 0, dass dieses Wort in Dokumenten von Cat auftaucht und somit eine Gesamtwahrscheinlichkeit von 0. Das macht die Kategorisierung sehr unflexibel, da z.B. durch Dinge wie Eigennamen durchaus neue Wörter vorkommen, die nicht im Trainingsset enthalten sind. Ein bessere vorgehen wäre es dieses Wort für diese Kategorie zu ignorieren. Alternativ wäre es möglich einen künstlichen sehr niedrigen Wert für die Wahrscheinlichkeit zu setzen z.B. 0,01"
   ]
  },
  {
   "cell_type": "markdown",
   "metadata": {},
   "source": [
    "# Durchführung\n",
    "## Feature Extraction/ -Selection\n",
    "\n",
    "**Aufgabe:**\n",
    "Implementieren Sie eine Funktion _getwords(doc)_, der ein beliebiges Dokument in Form einer String-Variablen übergeben wird. In der Funktion soll der String in seine Wörter zerlegt und jedes Wort in _lowercase_ transformiert werden. Wörter, die weniger als eine untere Grenze von Zeichen (z.B. 3) oder mehr als eine obere Grenze von Zeichen (z.B. 20) enthalten, sollen ignoriert werden. Die Funktion soll ein dictionary zurückgeben, dessen _Keys_ die Wörter sind. Die _Values_ sollen für jedes Wort zunächst auf $1$ gesetzt werden.\n",
    "\n",
    "**Tipp:** Benutzen Sie für die Zerlegung des Strings und für die Darstellung aller Wörter mit ausschließlich kleinen Buchstaben die Funktionen _split(), strip('sep')_ und _lower()_ der Klasse _String_.  \n"
   ]
  },
  {
   "cell_type": "code",
   "execution_count": 1,
   "metadata": {
    "collapsed": false
   },
   "outputs": [],
   "source": [
    "import nltk\n",
    "\n",
    "def getwords(docText):\n",
    "    LOWER_LIMIT = 1\n",
    "    UPPER_LIMIT = 20\n",
    "    \n",
    "    sentence = nltk.regexp_tokenize(docText, r\"[\\wäöüÄÖÜß]+\")\n",
    "    \n",
    "    tokens = [x.lower() for x in sentence]\n",
    "    \n",
    "    wordDict = { x: 1 for x in tokens\\\n",
    "                if tokens.count(x) >= LOWER_LIMIT and tokens.count(x) <= UPPER_LIMIT}\n",
    "    \n",
    "    return wordDict\n",
    "    "
   ]
  },
  {
   "cell_type": "code",
   "execution_count": 2,
   "metadata": {
    "collapsed": false
   },
   "outputs": [
    {
     "data": {
      "text/plain": [
       "{'3': 1,\n",
       " '4': 1,\n",
       " 'auf': 1,\n",
       " 'black': 1,\n",
       " 'bombastischen': 1,\n",
       " 'call': 1,\n",
       " 'darauf': 1,\n",
       " 'das': 1,\n",
       " 'den': 1,\n",
       " 'der': 1,\n",
       " 'des': 1,\n",
       " 'die': 1,\n",
       " 'duty': 1,\n",
       " 'd\\xc3\\xbcrfen': 1,\n",
       " 'einzelspieler': 1,\n",
       " 'erwarten': 1,\n",
       " 'fans': 1,\n",
       " 'ganz': 1,\n",
       " 'genau': 1,\n",
       " 'getestet': 1,\n",
       " 'haben': 1,\n",
       " 'heute': 1,\n",
       " 'hohem': 1,\n",
       " 'in': 1,\n",
       " 'jetzt': 1,\n",
       " 'kommt': 1,\n",
       " 'liefert': 1,\n",
       " 'l\\xc3\\xa4den': 1,\n",
       " 'niveau': 1,\n",
       " 'of': 1,\n",
       " 'ops': 1,\n",
       " 'part': 1,\n",
       " 'playstation': 1,\n",
       " 'ps4': 1,\n",
       " 'sagen': 1,\n",
       " 'schon': 1,\n",
       " 'serie': 1,\n",
       " 'shooter': 1,\n",
       " 'shooters': 1,\n",
       " 'sich': 1,\n",
       " 'und': 1,\n",
       " 'vorab': 1,\n",
       " 'warten': 1,\n",
       " 'was': 1,\n",
       " 'wir': 1}"
      ]
     },
     "execution_count": 2,
     "metadata": {},
     "output_type": "execute_result"
    }
   ],
   "source": [
    "text = 'Call of Duty: Black Ops 3 (PS4)   Darauf warten die Shooter-Fans! Call of Duty: Black Ops 3 kommt heute in die Läden. Wir haben den Einzelspieler-Part des bombastischen Shooters vorab auf der PlayStation 4 getestet und dürfen schon jetzt sagen: Black Ops 3 liefert auf hohem Niveau ganz genau das, was sich Fans der Serie erwarten.'\n",
    "getwords(text)"
   ]
  },
  {
   "cell_type": "markdown",
   "metadata": {
    "collapsed": true
   },
   "source": [
    "## Classifier\n",
    "\n",
    "**Aufgabe:**\n",
    "Implementieren Sie den Naive Bayes Classifier für die Dokumentklassifikation. Es bietet sich an die Funktionalität des Klassifikators und das vom Klassifikator gelernte Wissen in einer Instanz einer Klasse _Classifier_ zu kapseln. In diesem Fall kann wie folgt vorgegangen werden:\n",
    "\n",
    "* Im Konstruktor der Klasse wird je ein Dictionary für die Instanzvariablen _fc_ und _cc_ (siehe oben) initialisiert. Dabei ist _fc_ ein verschachteltes Dictionary. Seine Keys sind die bisher gelernten Worte, die Values sind wiederum Dictionaries, deren Keys die Kategorien _Good_ und _Bad_ sind und deren Values zählen wie häufig das Wort bisher in Dokumenten der jeweiligen Kategorie auftrat. Das Dictionary _cc_ hat als Keys die Kategorien _Good_ und _Bad_. Die Values zählen wie häufig Dokumente der jeweiligen Kategorien bisher auftraten.\n",
    "* Im Konstruktor wird ferner der Instanzvariablen _getfeatures_ die Funktion _getwords()_ übergeben. Die Funktion _getwords()_ wurde bereits zuvor ausserhalb der Klasse definiert. Sinn dieses Vorgehens ist, dass andere Varianten um Merkmale aus Dokumenten zu extrahieren denkbar sind. Diese Varianten könnten dann ähnlich wie die _getwords()_-Funktion ausserhalb der Klasse definiert und beim Anlegen eines _Classifier_-Objekts der Instanzvariablen _getfeatures_ übergeben werden.  \n",
    "* Der Methode _incf(self,f,cat)_ wird ein Wort _f_ und die zugehörige Kategorie _cat_ des Dokuments in welchem es auftrat übergeben. In der Methode wird der _fc_-Zähler angepasst.\n",
    "* Der Methode _incc(self,cat)_ wird die Kategorie _cat_ des gerade eingelesenen Dokuments übergeben. In der Methode wird der _cc_-Zähler angepasst.\n",
    "* Die Methode _fcount(self,f,cat)_ gibt die Häufigkeit des Worts _f_ in den Dokumenten der Kategorie _cat_ zurück.\n",
    "* Die Methode _catcount(self,cat)_ gibt die Anzahl der Dokumente in der Kategorie _cat_ zurück.\n",
    "* Die Methode _totalcount(self)_ gibt die Anzahl aller Dokumente zurück.\n",
    "* Der Methode _train(self,item,cat)_ wird ein neues Trainingselement, bestehend aus der Betreffzeile (_item_) und der entsprechenden Kategorisierung (_cat_) übergeben. Der String _item_ wird mit der Instanzmethode _getfeatures_ (Diese referenziert _getwords()_) in Worte zerlegt. Für jedes einzelne Wort wird dann _incf(self,f,cat)_ aufgerufen. Ausserdem wird für das neue Trainingsdokument die Methode _incc(self,cat)_ aufgerufen.\n",
    "* Die Methode _fprob(self,f,cat)_ berechnet die bedingte Wahrscheinlichkeit $P(f | cat)$ des Wortes _f_ in der Kategorie _cat_ entsprechend der oben angegebenen Formeln, indem sie den aktuellen Stand des Zählers _fc(f,cat)_ durch den aktuellen Stand des Zählers _cc(cat)_ teilt.   \n",
    "* Die Methode _fprob(self,f,cat)_ liefert evtl. ungewollt extreme Ergebnisse, wenn noch wenig Wörter im Klassifizierer verbucht sind. Kommt z.B. ein Wort erst einmal in den Trainingsdaten vor, so wird seine Auftrittswahrscheinlichkeit in der Kategorie in welcher es nicht vorkommt gleich 0 sein. Um extreme Wahrscheinlichkeitswerte im Fall noch selten vorkommender Werte zu vermeiden, soll zusätzlich zur Methode _fprob(self,f,cat)_ die Methode _weightedprob(self,f,cat)_ implementiert und angewandt werden. Der von ihr zurückgegebene Wahrscheinlichkeitswert könnte z.B. wie folgt berechnet werden:$$wprob=\\frac{initprob+count \\cdot fprob(self,f,cat)}{1+count},$$ wobei $initprob$ ein initialer Wahrscheinlichkeitswert (z.B. 0.5) ist, welcher zurückgegeben werden soll, wenn das Wort noch nicht in den Trainingsdaten aufgetaucht ist. Die Variable $count$ zählt wie oft das Wort $f$ bisher in den Trainingsdaten auftrat. Wie zu erkennen ist, nimmt der Einfluss der initialen Wahrscheinlichkeit ab, je häufiger das Wort in den Trainingsdaten auftrat.\n",
    "* Nach dem Training soll ein beliebiges neues Dokument (Text-String) eingegeben werden können. Für dieses soll mit der Methode _prob(self,item,cat)_ die a-posteriori-Wahrscheinlichkeit $P(cat|item)$ (Aufgrund der Vernachlässigung der Evidenz handelt es sich hierbei genaugenommen um das Produkt aus a-posteriori-Wahrscheinlichkeit und Evidenz), mit der das Dokument _item_ in die Kategorie _cat_ fällt berechnet werden. Innerhalb der Methode _prob(self,item,cat)_ soll zunächst die Methode _weightedprob(self,f,cat)_ für alle Wörter $f$ im Dokument _item_ aufgerufen werden. Die jeweiligen Rückgabewerte von _weightedprob(self,f,cat)_ werden multipliziert. Das Produkt der Rückgabewerte von _weightedprob(self,f,cat)_ über alle Wörter $f$ im Dokument muss schließlich noch mit der a-priori Wahrscheinlichkeit $P(G)$ bzw. $P(B)$ entsprechend der oben aufgeführten Formeln multipliziert werden. Das Resultat des Produkts wird an das aufrufende Programm zurück gegeben, die Evidenz wird also vernachlässigt (wie oben begründet).\n",
    "\n",
    "\n",
    "\n",
    "Ein Dokument _item_ wird schließlich der Kategorie _cat_ zugeteilt, für welche die Funktion _prob(self,item,cat)_ den höheren Wert zurück gibt. Da die Rückgabewerte in der Regel sehr klein sind, werden in der Regel folgende Werte angezeigt. Wenn mit $g$ der Rückgabewert von _prob(self,item,cat=G)_ und mit $b$ der Rückgabewert von _prob(self,item,cat=B)_ bezeichnet wird dann ist die Wahrscheinlichkeit, dass $item$ in die Kategorie $G$ fällt, gleich:\n",
    "$$\n",
    "\\frac{g}{g+b}\n",
    "$$\n",
    "und die Wahrscheinlichkeit, dass $item$ in die Kategorie $B$ fällt, gleich:\n",
    "$$\n",
    "\\frac{b}{g+b}\n",
    "$$"
   ]
  },
  {
   "cell_type": "code",
   "execution_count": 3,
   "metadata": {
    "collapsed": false
   },
   "outputs": [],
   "source": [
    "class NaiveBayesClassifier:\n",
    "    def __init__(self, wordFunc):\n",
    "        self.fc = {} #already learned words : {good: x, bad: y}\n",
    "        self.cc = {} #good: x, bad: y\n",
    "        \n",
    "        self.getfeatures = wordFunc\n",
    "        \n",
    "    def incf(self, f, cat):\n",
    "        if f in self.fc:\n",
    "            if cat in self.fc[f]:\n",
    "                self.fc[f][cat] += 1\n",
    "            else:\n",
    "                self.fc[f][cat] = 1\n",
    "        else:\n",
    "            self.fc[f] = {cat : 1}\n",
    "            \n",
    "    def incc(self, cat):\n",
    "        if cat in self.cc:\n",
    "            self.cc[cat] += 1\n",
    "        else:\n",
    "            self.cc[cat] = 1\n",
    "            \n",
    "    def fcount(self, f, cat):\n",
    "        if f in self.fc:\n",
    "            return self.fc[f].get(cat, 0)\n",
    "        else:\n",
    "            return 0\n",
    "    \n",
    "    def catcount(self, cat):\n",
    "        if cat in self.cc:\n",
    "            return self.cc[cat]\n",
    "        else:\n",
    "            return 0\n",
    "    \n",
    "    def totalcount(self):\n",
    "        count = 0\n",
    "        for categorie, num in self.cc.items():\n",
    "            count += num\n",
    "\n",
    "        return count\n",
    "    \n",
    "    def train(self, item, cat):\n",
    "        wordDict = self.getfeatures(item)\n",
    "        \n",
    "        for word, num in wordDict.items():\n",
    "            self.incf(word, cat)\n",
    "            \n",
    "        self.incc(cat)\n",
    "        \n",
    "    def fprob(self, f, cat):\n",
    "        return (self.fcount(f, cat) / float(self.catcount(cat)))\n",
    "    \n",
    "    def weightedprob(self, f, cat):\n",
    "        count = 0\n",
    "        if f in self.fc:\n",
    "            for val in self.fc[f].values():\n",
    "                count += val\n",
    "        \n",
    "        return ((0.5 + count * self.fprob(f, cat)) / (count + 1))\n",
    "        \n",
    "    def prob(self, item, cat):\n",
    "        wProb = 1\n",
    "        for word, num in self.getfeatures(item).items():\n",
    "            wProb *= self.weightedprob(word, cat)\n",
    "            \n",
    "        return ((wProb * self.catcount(cat)) / self.totalcount())\n",
    "\n",
    "    def testDocument(self, item):\n",
    "        result = {}\n",
    "        \n",
    "        allCats = 0\n",
    "        for categorie, num in self.cc.items():\n",
    "            allCats += self.prob(item, categorie)\n",
    "        \n",
    "        for categorie, num in self.cc.items():\n",
    "            result[categorie] = self.prob(item, categorie) / allCats\n",
    "    \n",
    "        return result"
   ]
  },
  {
   "cell_type": "markdown",
   "metadata": {},
   "source": [
    "## Test\n",
    "\n",
    "**Aufgabe:**\n",
    "Instanzieren Sie ein Objekt der Klasse _Classifier_ und übergeben Sie der _train()_ Methode dieser Klasse mindestens 10 kategorisierte Dokumente (Betreffzeilen als Stringvariablen zusammen mit der Kategorie Good oder Bad). Definieren Sie dann ein beliebig neues Dokument und berechnen Sie für dieses die Kategorie, in welches es mit größter Wahrscheinlichkeit fällt. Benutzen Sie für den Test das in \n",
    "[NLP Vorlesung Document Classification](https://www.mi.hdm-stuttgart.de/mib/studium/intern/skripteserver/skripte/NaturalLanguageProcessing/WS1415/03TextClassification.pdf)\n",
    "ausführlich beschriebene Beispiel zu implementieren. Berechnen Sie die Klassifikatorausgabe des Satzes _the money jumps_."
   ]
  },
  {
   "cell_type": "code",
   "execution_count": 4,
   "metadata": {
    "collapsed": false
   },
   "outputs": [
    {
     "data": {
      "text/plain": [
       "{'bad': 0.7896103896103895, 'good': 0.2103896103896104}"
      ]
     },
     "execution_count": 4,
     "metadata": {},
     "output_type": "execute_result"
    }
   ],
   "source": [
    "testData = [('nobody owns the water', 'good'),\n",
    " ('the quick rabbit jumps fences', 'good'),\n",
    "('buy pharmaceuticals now drugs and viagra', 'bad'),\n",
    "('make quick money at the online casino', 'bad'),\n",
    "('next meeting is at night', 'good'),\n",
    "('meeting with your superstar', 'bad'),\n",
    "('money like water', 'bad'),\n",
    "('make money fast', 'bad'),\n",
    "('do you want to make fast money?', 'bad'),\n",
    "('the smart fox walks on the moon', 'good')]\n",
    "\n",
    "\n",
    "naiveBayesClass = NaiveBayesClassifier(getwords)\n",
    "\n",
    "for tup in testData:\n",
    "    naiveBayesClass.train(tup[0], tup[1])\n",
    "    \n",
    "naiveBayesClass.testDocument('the money jumps viagra drugs')"
   ]
  },
  {
   "cell_type": "markdown",
   "metadata": {},
   "source": [
    "## Klassifikation von RSS Newsfeeds\n",
    "Mit dem unten gegebenen Skript werden Nachrichten verschiedener Newsserver geladen und als String abgespeichert."
   ]
  },
  {
   "cell_type": "code",
   "execution_count": 5,
   "metadata": {
    "collapsed": false
   },
   "outputs": [
    {
     "name": "stdout",
     "output_type": "stream",
     "text": [
      "\n"
     ]
    }
   ],
   "source": [
    "import feedparser\n",
    "\n",
    "\n",
    "def stripHTML(h):\n",
    "  p=''\n",
    "  s=0\n",
    "  for c in h:\n",
    "    if c=='<': s=1\n",
    "    elif c=='>':\n",
    "      s=0\n",
    "      p+=' '\n",
    "    elif s==0:\n",
    "      p+=c\n",
    "  return p\n",
    "\n",
    "\n",
    "trainTech=['http://rss.chip.de/c/573/f/7439/index.rss',\n",
    "           #'http://feeds.feedburner.com/netzwelt',\n",
    "           'http://rss1.t-online.de/c/11/53/06/84/11530684.xml',\n",
    "           'http://www.computerbild.de/rssfeed_2261.xml?node=13',\n",
    "           'http://www.heise.de/newsticker/heise-top-atom.xml']\n",
    "\n",
    "trainNonTech=['http://newsfeed.zeit.de/index',\n",
    "              'http://newsfeed.zeit.de/wirtschaft/index',\n",
    "              'http://www.welt.de/politik/?service=Rss',\n",
    "              'http://www.spiegel.de/schlagzeilen/tops/index.rss',\n",
    "              'http://www.sueddeutsche.de/app/service/rss/alles/rss.xml',\n",
    "              'http://www.faz.net/rss/aktuell/'\n",
    "              ]\n",
    "test=[\"http://rss.golem.de/rss.php?r=sw&feed=RSS0.91\",\n",
    "          'http://newsfeed.zeit.de/politik/index',  \n",
    "          'http://www.welt.de/?service=Rss'\n",
    "           ]\n",
    "\n",
    "\"\"\"\n",
    "countnews={}\n",
    "countnews['tech']=0\n",
    "countnews['nontech']=0\n",
    "countnews['test']=0\n",
    "print \"--------------------News from trainTech------------------------\"\n",
    "for feed in trainTech:\n",
    "    print \"*\"*30\n",
    "    print feed\n",
    "    f=feedparser.parse(feed)\n",
    "    for e in f.entries:\n",
    "      print '\\n---------------------------'\n",
    "      fulltext=stripHTML(e.title+' '+e.description)\n",
    "      print fulltext\n",
    "      countnews['tech']+=1\n",
    "print \"----------------------------------------------------------------\"\n",
    "print \"----------------------------------------------------------------\"\n",
    "print \"----------------------------------------------------------------\"\n",
    "\n",
    "print \"--------------------News from trainNonTech------------------------\"\n",
    "for feed in trainNonTech:\n",
    "    print \"*\"*30\n",
    "    print feed\n",
    "    f=feedparser.parse(feed)\n",
    "    for e in f.entries:\n",
    "      print '\\n---------------------------'\n",
    "      fulltext=stripHTML(e.title+' '+e.description)\n",
    "      print fulltext\n",
    "      countnews['nontech']+=1\n",
    "print \"----------------------------------------------------------------\"\n",
    "print \"----------------------------------------------------------------\"\n",
    "print \"----------------------------------------------------------------\"\n",
    "\n",
    "print \"--------------------News from test------------------------\"\n",
    "for feed in test:\n",
    "    print \"*\"*30\n",
    "    print feed\n",
    "    f=feedparser.parse(feed)\n",
    "    for e in f.entries:\n",
    "      print '\\n---------------------------'\n",
    "      fulltext=stripHTML(e.title+' '+e.description)\n",
    "      print fulltext\n",
    "      countnews['test']+=1\n",
    "print \"----------------------------------------------------------------\"\n",
    "print \"----------------------------------------------------------------\"\n",
    "print \"----------------------------------------------------------------\"\n",
    "\n",
    "print 'Number of used trainings samples in categorie tech',countnews['tech']\n",
    "print 'Number of used trainings samples in categorie notech',countnews['nontech']\n",
    "print 'Number of used test samples',countnews['test']\n",
    "print '--'*30\n",
    "\"\"\"\n",
    "\n",
    "print"
   ]
  },
  {
   "cell_type": "markdown",
   "metadata": {},
   "source": [
    "**Aufgaben:**  \n",
    "1.Trainieren Sie Ihren Naive Bayes Classifier mit allen Nachrichten der in den Listen _trainTech_ und _trainNonTech_ definierten Servern. Weisen Sie für das Training allen Nachrichten aus _trainTech_ die Kategorie _Tech_ und allen Nachrichten aus _trainNonTech_ die Kategorie _NonTech_ zu."
   ]
  },
  {
   "cell_type": "code",
   "execution_count": 6,
   "metadata": {
    "collapsed": true
   },
   "outputs": [],
   "source": [
    "naiveBayesClassifier = NaiveBayesClassifier(getwords)"
   ]
  },
  {
   "cell_type": "code",
   "execution_count": 7,
   "metadata": {
    "collapsed": false
   },
   "outputs": [],
   "source": [
    "for feed in trainTech:\n",
    "    f=feedparser.parse(feed)\n",
    "    for e in f.entries:\n",
    "        fulltext=stripHTML(e.title+' '+e.description)\n",
    "        naiveBayesClassifier.train(fulltext, 'tech')\n",
    "\n",
    "for feed in trainNonTech:\n",
    "    f=feedparser.parse(feed)\n",
    "    for e in f.entries:\n",
    "        fulltext=stripHTML(e.title+' '+e.description)\n",
    "        naiveBayesClassifier.train(fulltext, 'nontech')"
   ]
  },
  {
   "cell_type": "markdown",
   "metadata": {},
   "source": [
    "2.Nach dem Training sollen alle Nachrichten aus der Liste _test_ vom Naive Bayes Classifier automatisch klassifiziert werden. Gehen Sie davon aus, dass alle Nachrichten von [http://rss.golem.de/rss.php?r=sw&feed=RSS0.91](http://rss.golem.de/rss.php?r=sw&feed=RSS0.91) tatsächlich von der Kategorie _Tech_ sind und alle Nachrichten von den beiden anderen Servern in der Liste _test_ von der Kategorie _NonTech_ sind. Bestimmen Sie die _Konfusionsmatrix_ und die _Accuracy_ sowie für beide Klassen _Precision, Recall_ und _F1-Score_. Diese Qualitätsmetriken sind z.B. in [NLP Vorlesung Document Classification](https://www.mi.hdm-stuttgart.de/mib/studium/intern/skripteserver/skripte/NaturalLanguageProcessing/WS1415/03TextClassification.pdf) definiert."
   ]
  },
  {
   "cell_type": "code",
   "execution_count": 12,
   "metadata": {
    "collapsed": false,
    "scrolled": true
   },
   "outputs": [
    {
     "name": "stdout",
     "output_type": "stream",
     "text": [
      "http://rss.golem.de/rss.php?r=sw&feed=RSS0.91\n",
      "Deutscher Wetterdienst: Wetter-App zeigt mehr Gefahrenprognosen Der Deutsche Wetterdienst hat seine Wetter-App für Android und iOS aktualisiert und informiert darin jetzt auch über weitere Gefahrenprognosen. Bei Hochwasser, Sturmfluten und Lawinen erhalten Nutzer vorher eine Warnung. ( App )  \n",
      "{'tech': 0.9370930331358391, 'nontech': 0.06290696686416086}\n",
      "\n",
      "Spionage: Malware kann Kopfhörer als Mikrofon nutzen Kein Umbau erforderlich: Ein Programm kann Kopfhörer und andere Lautsprecher ohne Verstärker als Mikrofon verwenden - ohne das Wissen des Nutzers. ( Security ,  Sound-Hardware )  \n",
      "{'tech': 0.7997302794324044, 'nontech': 0.20026972056759557}\n",
      "\n",
      "Google: Chromebooks bekommen \"Wake on Voice\" Mit einem Gerät sprechen, um es aus dem Ruhezustand zu wecken, geht nicht mehr nur mit Smartphones, sondern auch mit einem Chromebook. Die Funktion ist ein weiteres Indiz für das Verschmelzen von ChromeOS und Android. ( Chromebook ,  Google )  \n",
      "{'tech': 0.9928939047852673, 'nontech': 0.00710609521473281}\n",
      "\n",
      "2-Faktor-Authentifizierung: Google warnt mehrere prominente Personen vor Staatshackern Eine Warnung vor staatlichen Hackerangriffen auf Google-Konten sorgt derzeit in den USA für Diskussionen. Vor allem Journalisten und Diplomaten erhielten die Warnung, auch in der Türkei gibt es Betroffene. ( Security ,  Applikationen )  \n",
      "{'tech': 0.8103579179648083, 'nontech': 0.18964208203519173}\n",
      "\n",
      "Blog-Software: Gravierender Fehler in Wordpress Auto-Update gefunden Weil der zentrale Update-Server von Wordpress unsichere Hashfunktionen zulässt, hätten Angreifer Code ausführen und massenhaft Wordpress-Installationen angreifen können. Die Sicherheitslücke wurde mittlerweile geschlossen. ( Wordpress ,  Blog )  \n",
      "{'tech': 0.8810850041506701, 'nontech': 0.11891499584932984}\n",
      "\n",
      "SCCACHE: Mozilla baut geteilten Compiler-Cache in Rust Ein weiteres wichtiges Stück Infrastruktur bei Mozilla ist in die Sprache Rust portiert worden: der geteilte Compiler-Cache (Sccache). Builds verschiedener Systeme können damit ihre Ergebnisse teilen, was dank Rust jetzt schneller geht. ( Mozilla ,  Server )  \n",
      "{'tech': 0.7694747403413648, 'nontech': 0.2305252596586352}\n",
      "\n",
      "Webstatistik: Alexa-Daten temporär wieder verfügbar Eine Ankündigung der Firma Alexa, ihre Statistik über die beliebtesten Webseiten künftig nur noch kostenpflichtig anzubieten, führte zu einigen Protesten. Jetzt sind die Daten - zumindest temporär - wieder verfügbar. ( Open Data ,  Studie )  \n",
      "{'tech': 0.7969451478069025, 'nontech': 0.20305485219309763}\n",
      "\n",
      "Update: Google will Android 7.1.1 im Dezember 2016 veröffentlichen Google verteilt eine neue Entwicklervorschau für Android 7.1.1 und hat im Zuge dessen mitgeteilt, wann das Update allgemein verfügbar sein wird: Im Dezember 2016 soll es für drei Nexus-Geräte, das Pixel C und für andere Gerätehersteller zur Verfügung stehen. ( Android 7.0 ,  Google )  \n",
      "{'tech': 0.9911192175902133, 'nontech': 0.008880782409786672}\n",
      "\n",
      "Linux-Distribution: Fedora 25 erscheint mit Wayland als Standard Als erste große Linux-Distribution verabschiedet sich Fedora in Version 25 von X11 und nutzt Wayland als Standard. Außerdem hat das Team versucht, teils mehrere Jahre alte Probleme nutzerfreundlich zu lösen - dazu gehört auch der MP3-Support. ( Fedora ,  Gnome )  \n",
      "{'tech': 0.8419934622675018, 'nontech': 0.15800653773249818}\n",
      "\n",
      "Windows Holographic: Microsofts AR-Plattform benötigt eine DX12-Grafikkarte Die Windows-10-Preview enthält eine App, die testet, ob der PC flott genug für das Creator's Update mit AR-Unterstützung ist. Die Systemanforderungen offenbaren interessante Details. ( Augmented Reality ,  DirectX )  \n",
      "{'tech': 0.9946666926045424, 'nontech': 0.005333307395457588}\n",
      "\n",
      "Alexa-Statistik: Liste der beliebtesten Webseiten nicht mehr kostenlos Jahrelang stellte die Firma Alexa eine Liste der eine Million beliebtesten Webseiten bereit. Viele nutzten sie für Forschungszwecke. Damit ist jetzt Schluss: Die Daten gibt's nur noch gegen Bezahlung. ( Open Data ,  API )  \n",
      "{'tech': 0.8127868946602258, 'nontech': 0.1872131053397742}\n",
      "\n",
      "Testbetrieb: Facebook sucht nach WLAN-Hotspots Die Facebook-App will das gleichnamige soziale Netzwerk auch für die Suche von kostenlos nutzbaren WLAN-Zugängen nutzen. Derzeit wird begrenzt die Funktion getestet in einer integrierten Kartenansicht WLAN-SSIDs aufzuspüren, um sie zu nutzen. ( Facebook ,  WLAN )  \n",
      "{'tech': 0.649688004563772, 'nontech': 0.35031199543622804}\n",
      "\n",
      "Windows 10 Mobile: Microsoft plant eine x86-Emulation für ARM Microsoft arbeitet an einer x86-Emulation in Windows 10 Mobile. Damit sollen herkömmliche Windows-Programme auch auf ARM64-Geräten funktionieren. Bis das passiert, dauert es aber noch lange. ( Windows 10 Mobile ,  Microsoft )  \n",
      "{'tech': 0.9679367756787127, 'nontech': 0.03206322432128731}\n",
      "\n",
      "Vivaldi 1.5: Browser mit Lampensteuerung Mehr Browserkomfort verspricht Vivaldi 1.5. Der Browser kann Philips-Hue-Lampen ansteuern und die Tab-Verwaltung ist umfangreicher geworden. Außerdem gibt es einen Lesemodus, eine bessere Notizfunktion und kompaktere Updates. ( Vivaldi ,  Browser )  \n",
      "{'tech': 0.8789999687919227, 'nontech': 0.12100003120807741}\n",
      "\n",
      "Prozessoren und LTE-Modems: Qualcomm startet begrenztes Bug-Bounty-Programm In Android-Security-Updates finden sich häufig Schwachstellen in Qualcomm-Produkten. Das Unternehmen will die Security mit einem neuen Bug-Bounty-Programm verbessern - hat jedoch einige Einschränkungen. ( Qualcomm ,  Linux-Kernel )  \n",
      "{'tech': 0.9761736555386619, 'nontech': 0.0238263444613381}\n",
      "\n",
      "Mirai-IoT-Botnet: IP-Kamera nach 98 Sekunden mit Malware infiziert Droht die Netzwerkapokalypse, sobald ein unsicheres IoT-Gerät im Heimnetzwerk angeschlossen wurde? Der Sicherheitsforscher Rob Graham hat es ausprobiert - und sich innerhalb von 98 Sekunden die erste Infektion abgeholt. ( Mirai-Botnetz ,  Virus )  \n",
      "{'tech': 0.743431532672746, 'nontech': 0.256568467327254}\n",
      "\n",
      "Insider Build mit Powershell: Windows CMD.exe wird durch Open Source ersetzt Im aktuellen Insider Build 14971 von Windows 10 wird die Kommandozeile CMD.exe durch die Powershell ersetzt. Die einfache Eingabeaufforderung verschwindet zwar noch nicht ganz, ein zentraler Bestandteil von Windows ist damit künftig aber Open Source. ( Microsoft ,  .Net )  \n",
      "{'tech': 0.987943826508003, 'nontech': 0.012056173491996794}\n",
      "\n",
      "Raspberry Pi: Der mit dem 64-Bit-Kernel tanzt Die Raspberry Pi Foundation sorgt dafür, dass auf der Version 3 ihres Minirechners ein 32-Bit-Linux startet - und das, obwohl der neue Raspberry Pi eine reinrassige 64-Bit-CPU hat. Echte Linux-Kern-Techniker lässt die angezogene Handbremse nicht ruhen. ( Raspberry Pi ,  Linux-Kernel )  \n",
      "{'tech': 0.9889597898188293, 'nontech': 0.011040210181170703}\n",
      "\n",
      "Android-Backdoor: Schwere Sicherheitslücke in China-Handys entdeckt In der Firmware chinesischer Billig-Handys haben Sicherheitsexperten erstaunliche Lücken entdeckt. Selbst ohne ausgefeilte Angriffsmethoden hätten Millionen Android-Handys gehackt werden können. ( Dirty Cow ,  Smartphone )  \n",
      "{'tech': 0.8733307945592685, 'nontech': 0.12666920544073146}\n",
      "\n",
      "Kaspersky OS: Kaspersky stellt eigenes Betriebssystem vor Sicher ohne Linux: Kaspersky hat ein eigenes Betriebssystem entwickelt. Das Unternehmen hat es nach eigenen Angaben komplett neu entwickelt. Es sei vor allem eins: sicher. ( Kaspersky ,  Betriebssystem )  \n",
      "{'tech': 0.8320055783498487, 'nontech': 0.16799442165015133}\n",
      "\n",
      "Filesharing: Hacker erbeuten Sourcecode von Mega.nz Mehrere Gbyte an Quellcode und einige Admin-Zugänge wurden bei dem von Kim Dotcom gegründeten Dienst Mega.nz kopiert. Nach Angaben des Unternehmens sind keine Nutzerdaten betroffen. ( Mega ,  Urheberrecht )  \n",
      "{'tech': 0.7598544047703562, 'nontech': 0.24014559522964377}\n",
      "\n",
      "Erpressungstrojaner: Ransomware-Programmierer wollte Crypto-Nachhilfe Auch wenn es mittlerweile zahlreiche Open-Source-Ransomware-Templates gibt, ist die Umsetzung von Verschlüsselungsfunktionen nach wie vor schwierig. Ein Entwickler wollte daher Nachhilfe - ausgerechnet von einem Sicherheitsforscher, der sich mit Ransomware beschäftigt. ( Ransomware ,  Virus )  \n",
      "{'tech': 0.8919272844504921, 'nontech': 0.10807271554950804}\n",
      "\n",
      "Google Project Brillo: IoT-Android wird sicherer als Smartphone-Android Google krempelt die Zusammenarbeit mit Herstellern für sein Internet-of-Things-System Brillo im Vergleich zu Android völlig um. So gibt es nur einen Linux-Kernel, der langfristig Updates erhalten soll. Die Geräte müssen zudem mehr als fünf Jahre lang gepflegt werden, was die Sicherheit erhöhen soll. ( Open Source ,  Google )  \n",
      "{'tech': 0.9832402477648455, 'nontech': 0.01675975223515457}\n",
      "\n",
      "Copyright: US-Marine wehrt sich gegen Vorwurf der Softwarepiraterie Ein deutsches Software-Unternehmen fordert fast 600 Millionen US-Dollar von der US-Marine, weil diese angeblich hunderttausende Male Testversionen einer Software installiert hat, ohne dafür die Lizenzen zu besitzen. Die US-Regierung hat sich jetzt erstmals vor Gericht geäußert. ( Urheberrecht ,  Applikationen )  \n",
      "{'tech': 0.751839005509783, 'nontech': 0.24816099449021697}\n",
      "\n",
      "Playstation Network: Gamer soll für DDOS auf Dyn verantwortlich sein Das eigentliche Ziel des DDoS-Angriffs, der Dienste wie Twitter, Amazon, Spotify und Netflix zeitweise lahmgelegt hat, soll Sonys Playstation Network gewesen sein. Diese Theorie äußert der Netzbetreiber Level 3 - Dyn selbst ist noch nicht überzeugt. ( Mirai-Botnetz ,  Virus )  \n",
      "{'tech': 0.936013869322656, 'nontech': 0.06398613067734409}\n",
      "\n",
      "20 Jahre ICQ: Uh-oh, ich kann mich nicht trennen Vor 20 Jahren erschien mit ICQ einer der erfolgreichsten Chatdienste. Es veränderte das Kommunikationsverhalten einer Generation - auch das unseres Autors. ( ICQ ,  Instant Messenger )  \n",
      "{'tech': 0.8473393116500471, 'nontech': 0.1526606883499529}\n",
      "\n",
      "Verjährung: BGH verlängert Haftung für illegales Filesharing Der Bundesgerichtshof hat die Verjährungsfrist für illegales Filesharing auf zehn Jahre erhöht. Ob wirklich eine neue Welle von Abmahnungen folgt, ist noch unklar. ( Abmahnung ,  Tauschbörse )  \n",
      "{'tech': 0.902132450837558, 'nontech': 0.09786754916244196}\n",
      "\n",
      "Connect 2016: Microsoft setzt alles auf die Cloud Zur Connect, Microsofts Entwicklermesse, wird endgültig klar, dass die Zukunft des Unternehmens im Cloud-Geschäft liegt. Das zeigt sich etwa an dem längst überfälligen Beitritt zur Linux Foundation oder dem neuen SQL Server. Bei der Mobile-Entwicklung sorgt Microsoft allein für Tools und das Cloud-Backend. ( Microsoft ,  IBM )  \n",
      "{'tech': 0.9983451302948481, 'nontech': 0.001654869705151956}\n",
      "\n",
      "Earth VR: Mit Google und dem Vive durch die Welt fliegen Mit Googles neuem Earth VR für das HTC Vive können Nutzer nicht nur durch virtuelle Straßen der Welt laufen, sondern sich komplett frei bewegen. Zur Orientierung verwenden Nutzer die Controller des Vive, auch Headtracking wird unterstützt. ( Google Earth ,  Google )  \n",
      "{'tech': 0.9720704555030697, 'nontech': 0.02792954449693027}\n",
      "\n",
      "Chrome/Gstreamer: Windows 10 sicherer als Linux-Desktops Chrome speichert Dateien automatisch ab - und manche Linux-Distributionen verarbeiten die heruntergeladenen Dateien sofort mit extrem unsicherem Code von Gstreamer. Der Entdecker der Lücke meint, dass derart gravierende Schwächen zur Zeit in Windows nicht vorkommen. ( GStreamer ,  Fedora )  \n",
      "{'tech': 0.994053565159756, 'nontech': 0.0059464348402440866}\n",
      "\n",
      "Civil Infrastructure Platform (CIP): Auf dem Weg zum Einheits-Linux im Kraftwerk Das CIP-Projekt der Linux Foundation möchte eine einheitliche Software-Basis zum Betrieb ziviler Infrastruktur schaffen. Wir haben uns mit Urs Gleim von Siemens über die Probleme und ambitionierten Pläne des Projekts unterhalten. ( Linux ,  Toshiba )  \n",
      "{'tech': 0.9975876314328268, 'nontech': 0.0024123685671730752}\n",
      "\n",
      "Google: Android soll in Andromeda aufgehen Neue Tipps von mit der Entwicklung des mutmaßlichen neuen Google-Betriebssystems Andromeda beteiligten Personen weisen darauf hin, dass das System in der zweiten Jahreshälfte 2017 erscheint. Android soll dabei in Andromeda aufgehen, im Fokus soll das Benachrichtigungssystem stehen. ( Andromeda ,  Google )  \n",
      "{'tech': 0.9933916062218405, 'nontech': 0.006608393778159461}\n",
      "\n",
      "Alte PHP-Versionen: Wenn deine Sicherheitssoftware dich verwundbar macht Deepsec 2016 Sicherheitssoftware macht die Nutzer sicherer - zumindest in der Theorie. Sicherheitsforscher haben gravierende Sicherheitslücken in einer Firewall-Suite von Kerio aufgedeckt - inklusive einer sechs Jahre alten PHP-Version. ( Firewall ,  PHP )  \n",
      "{'tech': 0.8992424944142596, 'nontech': 0.10075750558574034}\n",
      "\n",
      "IT-Sicherheit: Facebook kauft Passwörter im Darknet Die Doppelverwendung von Passwörtern bezeichnet der Sicherheitschef von Facebook als \"größte Gefahr für Schaden im Internet\". Aus diesem Grund hat das Unternehmen begonnen, im Darknet gehackte Passwörter zu kaufen. ( Facebook ,  Soziales Netz )  \n",
      "{'tech': 0.9071974817318184, 'nontech': 0.09280251826818152}\n",
      "\n",
      "Canonical: Ubuntu plant Unity-8- und Snap-Desktop für 2018 Der neue konvergente Ubuntu-Desktop Unity 8 soll aktuellen Planungen zufolge im Frühjahr 2018 an Nutzer ausgeliefert werden. Bis dahin will das Team wohl auch seine Wechsel von den Deb-Pakete hin zu Snap vollziehen. ( Ubuntu ,  Linux )  \n",
      "{'tech': 0.9758194380519557, 'nontech': 0.024180561948044327}\n",
      "\n",
      "Linux-Distribution: Opensuse Leap 42.2 baut voll auf Langzeitpflege Die Community-Distribution Opensuse Leap 42.2 nutzt viele Kernbestandteile aus der Suse-Enterprise-Distribution. Zudem erhält der genutzte KDE-Desktop Plasma 5.8 ebenso wie die Basis Qt 5.6 und der Kernel eine Langzeitpflege durch die Upstream-Communitys. Besitzer des Raspberry Pi 3 können ein 64-Bit-Image testen. ( Suse ,  Server )  \n",
      "{'tech': 0.8443931636362833, 'nontech': 0.1556068363637168}\n",
      "\n",
      "Translator: Google verbessert seinen Übersetzer mit neuronalem Netzwerk Der Google-Übersetzer hat bisher einzelne Wörter übersetzt und anschließend statistische Modelle verwendet, um diesen einen Sinn zu geben. Funktioniert hat das nicht immer gut - die Einbindung eines neuronalen Netzwerks ändert das. ( Google ,  Applikationen )  \n",
      "{'tech': 0.967414210959919, 'nontech': 0.03258578904008113}\n",
      "\n",
      "Foto-App: Google Fotos erhält umfangreiche Bildbearbeitung Bisher waren die Möglichkeiten zur Bildbearbeitung bei Google Fotos begrenzt. Mit einem Update fügt Google seinem Bilderdienst jedoch umfangreiche Bearbeitungsfunktionen hinzu. Das Lieblingsthema Maschinenlernen wird bei den automatischen Filtern untergebracht. ( Google ,  Android )  \n",
      "{'tech': 0.980686535045696, 'nontech': 0.01931346495430393}\n",
      "\n",
      "Datenschutz bei Mac-App: Shazam will nicht mehr dauerhaft mithören Ein Mikrofon, das dauerhaft angeschaltet ist, dürfte vielen Nutzern Unbehagen bereiten. Genau das tat Shazam auf dem Mac mindestens seit 2014. Jetzt will das Unternehmen die Lauscherei beenden. ( Mac OS ,  Mac OS X )  \n",
      "{'tech': 0.9196296123872579, 'nontech': 0.08037038761274203}\n",
      "\n",
      "Photoscan: Neue Google-App für bessere Scans von Fotoabzügen Mit Photoscan hat Google eine neue App vorgestellt, mit der sich Abzüge von Fotos besser als bisher abfotografieren lassen. Anstatt ein einzelnes Foto zu machen, schießt die App mehrere Bilder und beseitigt durch Pixelvergleich störende Reflexionen. ( Google ,  Android )  \n",
      "{'tech': 0.9600484312060783, 'nontech': 0.03995156879392176}\n",
      "\n",
      "http://newsfeed.zeit.de/politik/index\n",
      "Trump-Anhänger in Ohio: Endlich auf der Gewinnerseite     Nirgendwo in Ohio haben mehr Wähler für Trump gestimmt als im Mercer County. Becky und Michelle sehnten sich nach einfachen Antworten und fühlen sich nun verstanden.\n",
      "{'tech': 0.18161773159429923, 'nontech': 0.8183822684057007}\n",
      "\n",
      "ZDF-\"Politbarometer\": Deutsche finden erneute Merkel-Kandidatur gut     Seit sich Merkel erneut für das Kanzleramt bewirbt, sind sie und auch ihre Partei wieder beliebter. Für die SPD wünschen sich viele einen Kandidaten namens Schulz.\n",
      "{'tech': 0.48360696204873843, 'nontech': 0.5163930379512616}\n",
      "\n",
      "Alterssicherung: Nahles will Rentenniveau mit Steuermitteln halten     Bei der Vorstellung ihres Rentenkonzepts verspricht die Arbeitsministerin weitere Maßnahmen gegen Altersarmut. Bereits jetzt gibt es aber Streit mit dem Finanzminister.\n",
      "{'tech': 0.42404362331208223, 'nontech': 0.5759563766879178}\n",
      "\n",
      "Türkei: Erdoğan droht mit Grenzöffnung für Flüchtlinge     Die Türkei reagiert scharf auf die Forderung des EU-Parlaments, die Beitrittsgespräche mit der Türkei auszusetzen. \"Drohungen helfen nicht weiter\", heißt es aus Berlin.\n",
      "{'tech': 0.024357919874597532, 'nontech': 0.9756420801254024}\n",
      "\n",
      "Donald Trump: Führende Republikaner wollen Romney verhindern     Er nannte Donald Trump einen \"Blender\", jetzt ist Mitt Romney als US-Außenminister im Gespräch. Teile des Lagers Trump begehren daraufhin öffentlich auf.\n",
      "{'tech': 0.12931063310843122, 'nontech': 0.8706893668915688}\n",
      "\n",
      "Staffan de Mistura: \"Wird zu Weihnachten kein Ost-Aleppo mehr geben\"     Der UN-Gesandte für Syrien hat eindringlich eine politische Lösung für den Krieg angemahnt. Er warnte vor einer \"großen Tragödie für die Menschen\", vor allem in Aleppo.\n",
      "{'tech': 0.25701467409835627, 'nontech': 0.7429853259016438}\n",
      "\n",
      "Verkehr: Bund ab 2021 allein für Autobahnen und Fernstraßen zuständig     Bund und Länder haben sich auf eine Neuregelung bei der Organisation von Autobahnen und großen Bundesstraßen geeinigt. Die umstrittene Teilprivatisierung ist vom Tisch.\n",
      "{'tech': 0.858716382264116, 'nontech': 0.14128361773588413}\n",
      "\n",
      "Populismus: Es ist die Kultur, Dummkopf! Viele Politiker glauben, Armut verleihe dem Populismus seine Wucht. Dabei geht es um den gefühlten Verlust von Identität. Da helfen auch immer neue Milliarden nichts.\n",
      "{'tech': 0.942343549152921, 'nontech': 0.05765645084707898}\n",
      "\n",
      "Rente: Koalition beschließt gleiche Rente für Ost und West     Von den Ergebnissen des Rentengipfels profitieren Millionen Rentner in Ostdeutschland. Für Mütter und Selbständige sind die Beschlüsse der großen Koalition enttäuschend.\n",
      "{'tech': 0.8259847052153825, 'nontech': 0.1740152947846174}\n",
      "\n",
      "Flüchtlinge: Saarländischer Innenminister fordert Überprüfung von Syrern     Der Chef der Innenministerkonferenz, Klaus Bouillon, will syrische Flüchtlinge nachträglich kontrollieren lassen. Unter ihnen befänden sich \"Gewaltbereite und Gefährder\".\n",
      "{'tech': 0.6138465871185155, 'nontech': 0.3861534128814844}\n",
      "\n",
      "Frankreich: Fillon und Juppé streiten über Reformkurs     Im TV-Duell der französischen Konservativen kann sich weder François Fillon noch Alain Juppé entscheidend profilieren. Streit gab es um das Verhältnis zu Russland.\n",
      "{'tech': 0.8666462552622508, 'nontech': 0.13335374473774927}\n",
      "\n",
      "SPD-Kanzlerkandidatur: Der Zeitplan, der Zeitplan!     Die SPD will erst im Januar über ihren Kanzlerkandidaten entscheiden. Der Wechsel von Martin Schulz nach Berlin droht den Plan durcheinanderzubringen.\n",
      "{'tech': 0.3227846662071076, 'nontech': 0.6772153337928923}\n",
      "\n",
      "François Fillon : Kann dieser Mann Marine Le Pen stoppen?     Frankreichs bürgerliche Rechte ist unsicher, was sie dem Aufstieg des Front National entgegensetzen soll. Vielleicht François Fillon, der sich nicht um die Mitte schert.\n",
      "{'tech': 0.8640313341612138, 'nontech': 0.13596866583878608}\n",
      "\n",
      "Kolumbien: Santos schließt neuen Friedensvertrag mit der Farc     Die kolumbianische Regierung und die Guerrillagruppe haben sich auf ein neues Abkommen geeinigt. Anders als beim ersten Vertrag soll es kein Referendum geben.\n",
      "{'tech': 0.7740720512444711, 'nontech': 0.22592794875552882}\n",
      "\n",
      "Mossul: Auf der Flucht vor dem Krieg     Die Rückeroberung Mossuls vom IS stockt. Unter den Gefechten leidet vor allem die Zivilbevölkerung, Tausende sind auf der Flucht. Ihr Schicksal in Bildern\n",
      "{'tech': 0.9251032540152619, 'nontech': 0.07489674598473808}\n",
      "\n",
      "http://www.welt.de/?service=Rss\n",
      "EU-Türkei-Flüchtlingsdeal: Bundesregierung warnt Erdogan vor Drohungen \"Drohungen auf beiden Seiten helfen da jetzt nicht weiter\": Die Bundesregierung hat das türkische Staatsoberhaupt vor einer Eskalation des Streits mit der EU gewarnt. Man müsse miteinander reden.\n",
      "{'tech': 0.3135992154112716, 'nontech': 0.6864007845887283}\n",
      "\n",
      "Türkischer Regierungschef: \"Dann werden Flüchtlinge Europa überfluten und übernehmen\" Die Türkei reagiert auf das Votum des Europäischen Parlaments mit Zorn. Präsident Erdogan droht mit Grenzöffnung. Regierungschef Yildirim betont: Ankara beschützt Europa.\n",
      "{'tech': 0.05058640670001575, 'nontech': 0.9494135932999843}\n",
      "\n",
      "Migranten: Wie SPD, Linke und Grüne Abschiebungen verhindern Die Bundesregierung will Rückführungen von Migranten forcieren. Die Länder haben aber Möglichkeiten, das zu verhindern. Die Pläne von Rot-Rot-Grün in Berlin zeigen: Der Spielraum dafür ist groß.\n",
      "{'tech': 0.5675327976495242, 'nontech': 0.43246720235047587}\n",
      "\n",
      "EU-Parlamentspräsident: Martin Schulz in der Heimat als Nazi beschimpft Der scheidende Präsident des EU-Parlaments hat Stress zu Hause in Würselen. Ein 26-jähriger Mann soll ihn beschimpft und sein Haus mit Glasflaschen beworfen haben. Die Tat sei persönlich motiviert.\n",
      "{'tech': 0.056257873865242385, 'nontech': 0.9437421261347576}\n",
      "\n",
      "ZDF-Politbarometer: Union nach Merkels Kandidatur auf 7-Monats-Hoch Angela Merkel und die Union steigen wieder in der Wählergunst. Die Sozialdemokraten hingegen verlieren. Würde Gabriel gegen Merkel antreten, käme er nur auf 25 Prozent. Schulz schneidet besser ab.\n",
      "{'tech': 0.09235876914294285, 'nontech': 0.9076412308570572}\n",
      "\n",
      "FC Bayern München: Was Sie über das Hoeneß-Comeback wissen sollten Uli Hoeneß kehrt auf den Thron des FC Bayern zurück. Seine Wahl zum Präsidenten ist reine Formsache. Was sich ändern wird, was gleich bleibt. Die wichtigsten Antworten zum Comeback des Jahres.\n",
      "{'tech': 0.9559868800311788, 'nontech': 0.0440131199688211}\n",
      "\n",
      "Trauriger Appell: Dieses Video von Gertrude, 89, bewegt ganz Österreich Gertrude ist 16, als sie mit ihrer Familie nach Auschwitz deportiert wird. Jetzt beobachtet sie mit Schrecken, wie Populisten erneut \"das Niedrigste aus den Menschen herausholen\". Ihre Worte bewegen.\n",
      "{'tech': 0.7297222407490305, 'nontech': 0.2702777592509696}\n",
      "\n",
      "Manchester-United-Reservist: Konkretes Angebot für Schweinsteiger aus Amerika Seit Wochen buhlt die MLS um den bei Manchester United aussortierten Bastian Schweinsteiger. Nun verdichten sich die Anzeichen für einen Wechsel in die USA. Ein Klub lockt mit fürstlichem Gehalt.\n",
      "{'tech': 0.8937097695567177, 'nontech': 0.10629023044328237}\n",
      "\n",
      "Netflix-Serie: Die vier fehlenden Worte der Gilmore Girls Serien-Highlight des Jahres: Die Gilmore Girls sind zurück. Auf Netflix laufen vier neue Folgen der Kultserie und wirken wie aus der Zeit gefallen. Immerhin: Nach neun Jahren wird ein Rätsel gelöst.\n",
      "{'tech': 0.8263382062022783, 'nontech': 0.1736617937977217}\n",
      "\n",
      "Demenz-Prävention: Das müssen Sie essen, um sich vor Alzheimer zu schützen Ein echtes Medikament gegen Alzheimer gibt es nicht. Doch laut Studien kann man mit einigen Lebensmitteln die Entwicklung der Demenz aufhalten. Dabei ist Übergewicht sogar förderlich.\n",
      "{'tech': 0.9618480598306066, 'nontech': 0.03815194016939341}\n",
      "\n"
     ]
    }
   ],
   "source": [
    "length = 0\n",
    "for feed in test:\n",
    "    print feed\n",
    "    f=feedparser.parse(feed)\n",
    "    for e in f.entries:\n",
    "        length += 1\n",
    "        fulltext=stripHTML(e.title+' '+e.description)\n",
    "        print fulltext\n",
    "        print naiveBayesClassifier.testDocument(fulltext)\n",
    "        print"
   ]
  },
  {
   "cell_type": "code",
   "execution_count": 21,
   "metadata": {
    "collapsed": true
   },
   "outputs": [],
   "source": [
    "def get_highest_prob_cat(dict):\n",
    "    highest_cat = max(dict, key=lambda k: dict[k])\n",
    "    return highest_cat"
   ]
  },
  {
   "cell_type": "code",
   "execution_count": 46,
   "metadata": {
    "collapsed": false,
    "scrolled": false
   },
   "outputs": [],
   "source": [
    "import pandas as pd\n",
    "\n",
    "feed_num = 1\n",
    "\n",
    "data = []\n",
    "\n",
    "for feed in test:\n",
    "    f=feedparser.parse(feed)\n",
    "    for e in f.entries:\n",
    "        length += 1\n",
    "        fulltext=stripHTML(e.title+' '+e.description)\n",
    "        pred_cat=get_highest_prob_cat(naiveBayesClassifier.testDocument(fulltext))\n",
    "        if feed_num == 1:\n",
    "            data.append([pred_cat, 'tech'])\n",
    "        else:\n",
    "            data.append([pred_cat, 'nontech'])\n",
    "    feed_num += 1\n",
    "\n",
    "    \n",
    "data = pd.DataFrame(data)"
   ]
  },
  {
   "cell_type": "code",
   "execution_count": 47,
   "metadata": {
    "collapsed": false
   },
   "outputs": [
    {
     "data": {
      "text/plain": [
       "0.7846153846153846"
      ]
     },
     "execution_count": 47,
     "metadata": {},
     "output_type": "execute_result"
    }
   ],
   "source": [
    "from sklearn.metrics import accuracy_score\n",
    "\n",
    "accuracy = accuracy_score(data[1].values, data[0].values)\n",
    "accuracy"
   ]
  },
  {
   "cell_type": "code",
   "execution_count": 48,
   "metadata": {
    "collapsed": false
   },
   "outputs": [
    {
     "data": {
      "text/plain": [
       "array([[11, 14],\n",
       "       [ 0, 40]])"
      ]
     },
     "execution_count": 48,
     "metadata": {},
     "output_type": "execute_result"
    }
   ],
   "source": [
    "from sklearn.metrics import confusion_matrix\n",
    "\n",
    "confus = confusion_matrix(data[1].values, data[0].values)\n",
    "confus"
   ]
  },
  {
   "cell_type": "code",
   "execution_count": 43,
   "metadata": {
    "collapsed": false
   },
   "outputs": [],
   "source": [
    "from sklearn.metrics import precision_score\n",
    "\n",
    "#prec = precision_score(data[1].values, data[0].values)\n",
    "#prec"
   ]
  },
  {
   "cell_type": "code",
   "execution_count": 50,
   "metadata": {
    "collapsed": false
   },
   "outputs": [],
   "source": [
    "from sklearn.metrics import recall_score\n",
    "\n",
    "#recall = recall_score(data[1].values, data[0].values)\n",
    "#recall"
   ]
  },
  {
   "cell_type": "markdown",
   "metadata": {},
   "source": [
    "3.Diskutieren Sie das Ergebnis"
   ]
  },
  {
   "cell_type": "code",
   "execution_count": null,
   "metadata": {
    "collapsed": true
   },
   "outputs": [],
   "source": []
  },
  {
   "cell_type": "markdown",
   "metadata": {},
   "source": [
    "4.Wie könnte die Klassifikationsgüte durch Modifikation der _getwords()_-Methode verbessert werden? Implementieren Sie diesen Ansatz und vergleichen Sie das Ergebnis mit dem des ersten Ansatzes."
   ]
  },
  {
   "cell_type": "code",
   "execution_count": 304,
   "metadata": {
    "collapsed": false
   },
   "outputs": [],
   "source": [
    "def getwordsTFIDF(docText):\n",
    "    LOWER_LIMIT = 1\n",
    "    UPPER_LIMIT = 20\n",
    "    \n",
    "    sentence = nltk.regexp_tokenize(docText, r\"[\\wäöüÄÖÜß]+\")\n",
    "    \n",
    "    tokens = [x.lower() for x in sentence]\n",
    "    \n",
    "    wordDict = { x: tokens.count(x) for x in tokens\\\n",
    "                if tokens.count(x) >= LOWER_LIMIT and tokens.count(x) <= UPPER_LIMIT}\n",
    "    \n",
    "    return wordDict"
   ]
  },
  {
   "cell_type": "code",
   "execution_count": 306,
   "metadata": {
    "collapsed": false
   },
   "outputs": [
    {
     "data": {
      "text/plain": [
       "{'3': 3,\n",
       " '4': 1,\n",
       " 'auf': 2,\n",
       " 'black': 3,\n",
       " 'bombastischen': 1,\n",
       " 'call': 2,\n",
       " 'darauf': 1,\n",
       " 'das': 1,\n",
       " 'den': 1,\n",
       " 'der': 2,\n",
       " 'des': 1,\n",
       " 'die': 2,\n",
       " 'duty': 2,\n",
       " 'd\\xc3\\xbcrfen': 1,\n",
       " 'einzelspieler': 1,\n",
       " 'erwarten': 1,\n",
       " 'fans': 2,\n",
       " 'ganz': 1,\n",
       " 'genau': 1,\n",
       " 'getestet': 1,\n",
       " 'haben': 1,\n",
       " 'heute': 1,\n",
       " 'hohem': 1,\n",
       " 'in': 1,\n",
       " 'jetzt': 1,\n",
       " 'kommt': 1,\n",
       " 'liefert': 1,\n",
       " 'l\\xc3\\xa4den': 1,\n",
       " 'niveau': 1,\n",
       " 'of': 2,\n",
       " 'ops': 3,\n",
       " 'part': 1,\n",
       " 'playstation': 1,\n",
       " 'ps4': 1,\n",
       " 'sagen': 1,\n",
       " 'schon': 1,\n",
       " 'serie': 1,\n",
       " 'shooter': 1,\n",
       " 'shooters': 1,\n",
       " 'sich': 1,\n",
       " 'und': 1,\n",
       " 'vorab': 1,\n",
       " 'warten': 1,\n",
       " 'was': 1,\n",
       " 'wir': 1}"
      ]
     },
     "execution_count": 306,
     "metadata": {},
     "output_type": "execute_result"
    }
   ],
   "source": [
    "text = 'Call of Duty: Black Ops 3 (PS4)   Darauf warten die Shooter-Fans! Call of Duty: Black Ops 3 kommt heute in die Läden. Wir haben den Einzelspieler-Part des bombastischen Shooters vorab auf der PlayStation 4 getestet und dürfen schon jetzt sagen: Black Ops 3 liefert auf hohem Niveau ganz genau das, was sich Fans der Serie erwarten.'\n",
    "getwordsIDF(text)"
   ]
  },
  {
   "cell_type": "code",
   "execution_count": null,
   "metadata": {
    "collapsed": true
   },
   "outputs": [],
   "source": []
  }
 ],
 "metadata": {
  "anaconda-cloud": {},
  "kernelspec": {
   "display_name": "Python 2",
   "language": "python",
   "name": "python2"
  },
  "language_info": {
   "codemirror_mode": {
    "name": "ipython",
    "version": 2
   },
   "file_extension": ".py",
   "mimetype": "text/x-python",
   "name": "python",
   "nbconvert_exporter": "python",
   "pygments_lexer": "ipython2",
   "version": "2.7.11"
  }
 },
 "nbformat": 4,
 "nbformat_minor": 0
}
