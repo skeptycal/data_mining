{
 "cells": [
  {
   "cell_type": "markdown",
   "metadata": {},
   "source": [
    "# Data Mining Versuch Document Classification\n",
    "* Autor: Prof. Dr. Johannes Maucher\n",
    "* Datum: 06.11.2015\n",
    "\n",
    "[Übersicht Ipython Notebooks im Data Mining Praktikum](Data Mining Praktikum.html)\n",
    "\n",
    "# Einführung\n",
    "## Lernziele:\n",
    "In diesem Versuch sollen Kenntnisse in folgenden Themen vermittelt werden:\n",
    "\n",
    "* Dokumentklassifikation: Klassifikation von Dokumenten, insbesondere Emails und RSS Feed\n",
    "* Naive Bayes Classifier: Weit verbreitete Klassifikationsmethode, welche unter bestimmten Randbedingungen sehr gut skaliert.\n",
    "\n",
    "\n",
    "## Theorie zur Vorbereitung\n",
    "### Parametrische Klassifikation und Naive Bayes Methode\n",
    "Klassifikatoren müssen zu einer gegebenen Eingabe $\\underline{x}$ die zugehörige Klasse $C_i$ bestimmen. Mithilfe der Wahrscheinlichkeitstheorie kann diese Aufgabe wie folgt beschrieben werden: Bestimme für alle möglichen Klassen $C_i$ die bedingte Wahrscheinlichkeit $P(C_i | \\underline{x})$, also die Wahrscheinlichkeit, dass die gegebene Eingabe $\\underline{x}$ in Klasse $C_i$ fällt. Wähle dann die Klasse aus, für welche diese Wahrscheinlichkeit maximal ist.\n",
    "\n",
    "Die Entscheidungsregeln von Klassifikatoren können mit Methoden des \"\"überwachten Lernens\"\" aus Trainingsdaten ermittelt werden. Im Fall des **parametrischen Lernens** kann aus den Trainingsdaten die sogenannte **Likelihood-Funktion** $p(\\underline{x} \\mid C_i)$ bestimmt werden. _Anmerkung:_ Allgemein werden mit $p(...)$ kontinuierliche Wahrscheinlichkeitsfunktionen und mit $P(...)$ diskrete Wahrscheinlichkeitswerte bezeichnet. \n",
    "\n",
    "Mithilfe der **Bayes-Formel**\n",
    "$$\n",
    "P(C_i \\mid \\underline{x}) = \\frac{p(\\underline{x} \\mid C_i) \\cdot P(C_i)}{p(\\underline{x})}\n",
    "$$\n",
    "\n",
    "kann aus der Likelihood die **a-posteriori-Wahrscheinlichkeit $P(C_i \\mid \\underline{x})$** berechnet werden. Darin wird $P(C_i)$ die **a-priori-Wahrscheinlichkeit** und $p(\\underline{x})$ die **Evidenz** genannt. Die a-priori-Wahrscheinlichkeit kann ebenfalls aus den Trainingsdaten ermittelt werden. Die Evidenz ist für die Klassifikationsentscheidung nicht relevant, da sie für alle Klassen $C_i$ gleich groß ist.\n",
    "\n",
    "Die Berechnung der Likelihood-Funktion $p(\\underline{x} \\mid C_i)$ ist dann sehr aufwendig, wenn $\\underline{x}=(x_1,x_2,\\ldots,x_Z)$ ein Vektor von voneinander abhängigen Variablen $x_i$ ist. Bei der **Naive Bayes Classification** wird jedoch von der vereinfachenden Annahme ausgegangen, dass die Eingabevariabeln $x_i$ voneinander unabhängig sind. Dann vereinfacht sich die bedingte Verbundwahrscheinlichkeits-Funktion $p(x_1,x_2,\\ldots,x_Z \\mid C_i)$ zu:\n",
    "\n",
    "$$\n",
    "p(x_1,x_2,\\ldots,x_Z \\mid C_i)=\\prod\\limits_{j=1}^Z p(x_j | C_i)\n",
    "$$\n",
    "\n",
    "### Anwendung der Naive Bayes Methode in der Dokumentklassifikation\n",
    "Auf der rechten Seite der vorigen Gleichung stehen nur noch von den jeweils anderen Variablen unabhängige bedingte Wahrscheinlichkeiten. Im Fall der Dokumentklassifikation sind die einzelnen Worte die Variablen, d.h. ein Ausdruck der Form $P(x_j | C_i)$ gibt an mit welcher Wahrscheinlichkeit ein Wort $x_j=w$ in einem Dokument der Klasse $C_i$ vorkommt. \n",
    "Die Menge aller Variablen $\\left\\{x_1,x_2,\\ldots,x_Z \\right\\}$ ist dann die Menge aller Wörter im Dokument. Damit gibt die linke Seite in der oben gegebenen Gleichung die _Wahrscheinlichkeit, dass die Wörter $\\left\\{x_1,x_2,\\ldots,x_Z \\right\\}$ in einem Dokument der Klasse $C_i$ vorkommen_ an.\n",
    "\n",
    "Für jedes Wort _w_ wird aus den Trainingsdaten die Wahrscheinlichkeit $P(w|G)$, mit der das Wort in Dokumenten der Kategorie _Good_ und die Wahrscheinlichkeit $P(w|B)$ mit der das Wort in Dokumenten der Kategorie _Bad_ auftaucht ermittelt. Trainingsdokumente werden in der Form\n",
    "\n",
    "$$\n",
    "tD=(String,Category)\n",
    "$$\n",
    "eingegeben. \n",
    "\n",
    "Wenn \n",
    "\n",
    "* mit der Variable $fc(w,cat)$ die Anzahl der Trainingsdokumente in Kategorie $cat$ in denen das Wort $w$ enthalten ist\n",
    "* mit der Variable $cc(cat)$ die Anzahl der Trainingsdokumente in Kategorie $cat$ \n",
    "\n",
    "gezählt wird, dann ist \n",
    "\n",
    "$$\n",
    "P(w|G)=\\frac{fc(w,G)}{cc(G)} \\quad \\quad P(w|B)=\\frac{fc(w,B)}{cc(B)}.\n",
    "$$\n",
    "\n",
    "Wird nun nach der Eingabe von $L$ Trainingsdokumenten ein neu zu klassifizierendes Dokument $D$ eingegeben und sei $W(D)$ die Menge aller Wörter in $D$, dann berechnen sich unter der Annahme, dass die Worte in $W(D)$ voneinander unabhängig sind (naive Bayes Annahme) die a-posteriori Wahrscheinlichkeiten zu:\n",
    "\n",
    "$$\n",
    "P(G|D)=\\frac{\\left( \\prod\\limits_{w \\in W(D)} P(w | G) \\right) \\cdot P(G)}{p(D)}\n",
    "$$\n",
    "und\n",
    "$$\n",
    "P(B|D)=\\frac{\\left( \\prod\\limits_{w \\in W(D)} P(w | B) \\right) \\cdot P(B)}{p(D)}.\n",
    "$$\n",
    "\n",
    "Die hierfür notwendigen a-priori-Wahrscheinlichkeiten berechnen sich zu \n",
    "\n",
    "$$\n",
    "P(G)=\\frac{cc(G)}{L}\n",
    "$$\n",
    "und\n",
    "$$\n",
    "P(B)=\\frac{cc(B)}{L}\n",
    "$$\n",
    "\n",
    "Die Evidenz $p(D)$ beeinflusst die Entscheidung nicht und kann deshalb ignoriert werden.\n",
    "\n",
    "\n",
    "## Vor dem Versuch zu klärende Fragen\n",
    "\n",
    "\n",
    "1. Wie wird ein Naive Bayes Classifier trainiert? Was muss beim Training für die spätere Klassifikation abgespeichert werden?\n",
    "2. Wie teilt ein Naiver Bayes Classifier ein neues Dokument ein?\n",
    "3. Welche naive Annahme liegt dem Bayes Classifier zugrunde? Ist diese Annahme im Fall der Dokumentklassifikation tatsächlich gegeben?\n",
    "4. Betrachten Sie die Formeln für die Berechnung von $P(G|D)$ und $P(B|D)$. Welches Problem stellt sich ein, wenn in der Menge $W(D)$ ein Wort vorkommt, das nicht in den Trainingsdaten der Kategorie $G$ vorkommt und ein anderes Wort aus $W(D)$ nicht in den Trainingsdaten der Kategorie $B$ enthalten ist? Wie könnte dieses Problem gelöst werden? \n",
    "\n"
   ]
  },
  {
   "cell_type": "markdown",
   "metadata": {
    "collapsed": true
   },
   "source": [
    "1. Es müssen referenz Texte existieren die jeweils einer der zu testenden Kateogorien zugeordnet sind. Dann wird für jedes Wort, dass insgesamt vorkommt die Häufigkeit in jeder Kategorie berechnet. \n",
    "\n",
    "    Für jede Kategorie (cat) und jedes Wort (w) wird berechnet:\n",
    "        - Anzahl der Dokument cc(cat)\n",
    "        - Anzahl der Dokumente welche das Wort enthalten fc(w, cat)\n",
    "    Daraus wird die Wahrscheinlichkeit berechnet: P(w|cat) = cc(cat) / fc(w, cat). Diese wird dann für die spätere Klassifkation gespeichert\n",
    "2. Für jede Kategorie (cat) wird berechnet:\n",
    "        - Die Bedingten Wahrscheinlichkeiten aller Wörter mit *P(w|cat)*\n",
    "        - Die Wahrscheinlichkeit P(cat) mit *cc(cat)/L*\n",
    "        Diese Wahrscheinlichkeiten werden dann alle Zusammenmultipliziert\n",
    "\n",
    "   Das Dokument bekommt dann die Kategorie mit der höchsten Wahrscheinlichkeit zugeordnet\n",
    "3. Der Bayes Classifier nimmt an, dass Wörter unabhängig voneinander sind. Dies ist natürlich nicht der Fall, da die genaue Semantik eines Textes sich aus der Struktur ergibt. Wie die Wörter im Verhältnis stehen und welche Aussagen sich daraus ergeben.\n",
    "4. Wenn ein Wort im zu testenden Dokument D vorkommt, aber in keinem Trainingsdokumenten der Kategorie Cat vorhanden ist ergibt sich streng nach der Formel die Wahrscheinlichkeit 0, dass dieses Wort in Dokumenten von Cat auftaucht und somit eine Gesamtwahrscheinlichkeit von 0. Das macht die Kategorisierung sehr unflexibel, da z.B. durch Dinge wie Eigennamen durchaus neue Wörter vorkommen, die nicht im Trainingsset enthalten sind. Ein bessere vorgehen wäre es dieses Wort für diese Kategorie zu ignorieren. Alternativ wäre es möglich einen künstlichen sehr niedrigen Wert für die Wahrscheinlichkeit zu setzen z.B. 0,01"
   ]
  },
  {
   "cell_type": "markdown",
   "metadata": {},
   "source": [
    "# Durchführung\n",
    "## Feature Extraction/ -Selection\n",
    "\n",
    "**Aufgabe:**\n",
    "Implementieren Sie eine Funktion _getwords(doc)_, der ein beliebiges Dokument in Form einer String-Variablen übergeben wird. In der Funktion soll der String in seine Wörter zerlegt und jedes Wort in _lowercase_ transformiert werden. Wörter, die weniger als eine untere Grenze von Zeichen (z.B. 3) oder mehr als eine obere Grenze von Zeichen (z.B. 20) enthalten, sollen ignoriert werden. Die Funktion soll ein dictionary zurückgeben, dessen _Keys_ die Wörter sind. Die _Values_ sollen für jedes Wort zunächst auf $1$ gesetzt werden.\n",
    "\n",
    "**Tipp:** Benutzen Sie für die Zerlegung des Strings und für die Darstellung aller Wörter mit ausschließlich kleinen Buchstaben die Funktionen _split(), strip('sep')_ und _lower()_ der Klasse _String_.  \n"
   ]
  },
  {
   "cell_type": "code",
   "execution_count": 1,
   "metadata": {
    "collapsed": false
   },
   "outputs": [],
   "source": [
    "import nltk\n",
    "\n",
    "def getwords(docText):\n",
    "    LOWER_LIMIT = 1\n",
    "    UPPER_LIMIT = 20\n",
    "    \n",
    "    sentence = nltk.regexp_tokenize(docText, r\"[\\wäöüÄÖÜß]+\")\n",
    "    \n",
    "    tokens = [x.lower() for x in sentence]\n",
    "    \n",
    "    wordDict = { x: 1 for x in tokens\\\n",
    "                if tokens.count(x) >= LOWER_LIMIT and tokens.count(x) <= UPPER_LIMIT}\n",
    "    \n",
    "    return wordDict\n",
    "    "
   ]
  },
  {
   "cell_type": "code",
   "execution_count": 2,
   "metadata": {
    "collapsed": false
   },
   "outputs": [
    {
     "data": {
      "text/plain": [
       "{'3': 1,\n",
       " '4': 1,\n",
       " 'auf': 1,\n",
       " 'black': 1,\n",
       " 'bombastischen': 1,\n",
       " 'call': 1,\n",
       " 'darauf': 1,\n",
       " 'das': 1,\n",
       " 'den': 1,\n",
       " 'der': 1,\n",
       " 'des': 1,\n",
       " 'die': 1,\n",
       " 'duty': 1,\n",
       " 'd\\xc3\\xbcrfen': 1,\n",
       " 'einzelspieler': 1,\n",
       " 'erwarten': 1,\n",
       " 'fans': 1,\n",
       " 'ganz': 1,\n",
       " 'genau': 1,\n",
       " 'getestet': 1,\n",
       " 'haben': 1,\n",
       " 'heute': 1,\n",
       " 'hohem': 1,\n",
       " 'in': 1,\n",
       " 'jetzt': 1,\n",
       " 'kommt': 1,\n",
       " 'liefert': 1,\n",
       " 'l\\xc3\\xa4den': 1,\n",
       " 'niveau': 1,\n",
       " 'of': 1,\n",
       " 'ops': 1,\n",
       " 'part': 1,\n",
       " 'playstation': 1,\n",
       " 'ps4': 1,\n",
       " 'sagen': 1,\n",
       " 'schon': 1,\n",
       " 'serie': 1,\n",
       " 'shooter': 1,\n",
       " 'shooters': 1,\n",
       " 'sich': 1,\n",
       " 'und': 1,\n",
       " 'vorab': 1,\n",
       " 'warten': 1,\n",
       " 'was': 1,\n",
       " 'wir': 1}"
      ]
     },
     "execution_count": 2,
     "metadata": {},
     "output_type": "execute_result"
    }
   ],
   "source": [
    "text = 'Call of Duty: Black Ops 3 (PS4)   Darauf warten die Shooter-Fans! Call of Duty: Black Ops 3 kommt heute in die Läden. Wir haben den Einzelspieler-Part des bombastischen Shooters vorab auf der PlayStation 4 getestet und dürfen schon jetzt sagen: Black Ops 3 liefert auf hohem Niveau ganz genau das, was sich Fans der Serie erwarten.'\n",
    "getwords(text)"
   ]
  },
  {
   "cell_type": "markdown",
   "metadata": {
    "collapsed": true
   },
   "source": [
    "## Classifier\n",
    "\n",
    "**Aufgabe:**\n",
    "Implementieren Sie den Naive Bayes Classifier für die Dokumentklassifikation. Es bietet sich an die Funktionalität des Klassifikators und das vom Klassifikator gelernte Wissen in einer Instanz einer Klasse _Classifier_ zu kapseln. In diesem Fall kann wie folgt vorgegangen werden:\n",
    "\n",
    "* Im Konstruktor der Klasse wird je ein Dictionary für die Instanzvariablen _fc_ und _cc_ (siehe oben) initialisiert. Dabei ist _fc_ ein verschachteltes Dictionary. Seine Keys sind die bisher gelernten Worte, die Values sind wiederum Dictionaries, deren Keys die Kategorien _Good_ und _Bad_ sind und deren Values zählen wie häufig das Wort bisher in Dokumenten der jeweiligen Kategorie auftrat. Das Dictionary _cc_ hat als Keys die Kategorien _Good_ und _Bad_. Die Values zählen wie häufig Dokumente der jeweiligen Kategorien bisher auftraten.\n",
    "* Im Konstruktor wird ferner der Instanzvariablen _getfeatures_ die Funktion _getwords()_ übergeben. Die Funktion _getwords()_ wurde bereits zuvor ausserhalb der Klasse definiert. Sinn dieses Vorgehens ist, dass andere Varianten um Merkmale aus Dokumenten zu extrahieren denkbar sind. Diese Varianten könnten dann ähnlich wie die _getwords()_-Funktion ausserhalb der Klasse definiert und beim Anlegen eines _Classifier_-Objekts der Instanzvariablen _getfeatures_ übergeben werden.  \n",
    "* Der Methode _incf(self,f,cat)_ wird ein Wort _f_ und die zugehörige Kategorie _cat_ des Dokuments in welchem es auftrat übergeben. In der Methode wird der _fc_-Zähler angepasst.\n",
    "* Der Methode _incc(self,cat)_ wird die Kategorie _cat_ des gerade eingelesenen Dokuments übergeben. In der Methode wird der _cc_-Zähler angepasst.\n",
    "* Die Methode _fcount(self,f,cat)_ gibt die Häufigkeit des Worts _f_ in den Dokumenten der Kategorie _cat_ zurück.\n",
    "* Die Methode _catcount(self,cat)_ gibt die Anzahl der Dokumente in der Kategorie _cat_ zurück.\n",
    "* Die Methode _totalcount(self)_ gibt die Anzahl aller Dokumente zurück.\n",
    "* Der Methode _train(self,item,cat)_ wird ein neues Trainingselement, bestehend aus der Betreffzeile (_item_) und der entsprechenden Kategorisierung (_cat_) übergeben. Der String _item_ wird mit der Instanzmethode _getfeatures_ (Diese referenziert _getwords()_) in Worte zerlegt. Für jedes einzelne Wort wird dann _incf(self,f,cat)_ aufgerufen. Ausserdem wird für das neue Trainingsdokument die Methode _incc(self,cat)_ aufgerufen.\n",
    "* Die Methode _fprob(self,f,cat)_ berechnet die bedingte Wahrscheinlichkeit $P(f | cat)$ des Wortes _f_ in der Kategorie _cat_ entsprechend der oben angegebenen Formeln, indem sie den aktuellen Stand des Zählers _fc(f,cat)_ durch den aktuellen Stand des Zählers _cc(cat)_ teilt.   \n",
    "* Die Methode _fprob(self,f,cat)_ liefert evtl. ungewollt extreme Ergebnisse, wenn noch wenig Wörter im Klassifizierer verbucht sind. Kommt z.B. ein Wort erst einmal in den Trainingsdaten vor, so wird seine Auftrittswahrscheinlichkeit in der Kategorie in welcher es nicht vorkommt gleich 0 sein. Um extreme Wahrscheinlichkeitswerte im Fall noch selten vorkommender Werte zu vermeiden, soll zusätzlich zur Methode _fprob(self,f,cat)_ die Methode _weightedprob(self,f,cat)_ implementiert und angewandt werden. Der von ihr zurückgegebene Wahrscheinlichkeitswert könnte z.B. wie folgt berechnet werden:$$wprob=\\frac{initprob+count \\cdot fprob(self,f,cat)}{1+count},$$ wobei $initprob$ ein initialer Wahrscheinlichkeitswert (z.B. 0.5) ist, welcher zurückgegeben werden soll, wenn das Wort noch nicht in den Trainingsdaten aufgetaucht ist. Die Variable $count$ zählt wie oft das Wort $f$ bisher in den Trainingsdaten auftrat. Wie zu erkennen ist, nimmt der Einfluss der initialen Wahrscheinlichkeit ab, je häufiger das Wort in den Trainingsdaten auftrat.\n",
    "* Nach dem Training soll ein beliebiges neues Dokument (Text-String) eingegeben werden können. Für dieses soll mit der Methode _prob(self,item,cat)_ die a-posteriori-Wahrscheinlichkeit $P(cat|item)$ (Aufgrund der Vernachlässigung der Evidenz handelt es sich hierbei genaugenommen um das Produkt aus a-posteriori-Wahrscheinlichkeit und Evidenz), mit der das Dokument _item_ in die Kategorie _cat_ fällt berechnet werden. Innerhalb der Methode _prob(self,item,cat)_ soll zunächst die Methode _weightedprob(self,f,cat)_ für alle Wörter $f$ im Dokument _item_ aufgerufen werden. Die jeweiligen Rückgabewerte von _weightedprob(self,f,cat)_ werden multipliziert. Das Produkt der Rückgabewerte von _weightedprob(self,f,cat)_ über alle Wörter $f$ im Dokument muss schließlich noch mit der a-priori Wahrscheinlichkeit $P(G)$ bzw. $P(B)$ entsprechend der oben aufgeführten Formeln multipliziert werden. Das Resultat des Produkts wird an das aufrufende Programm zurück gegeben, die Evidenz wird also vernachlässigt (wie oben begründet).\n",
    "\n",
    "\n",
    "\n",
    "Ein Dokument _item_ wird schließlich der Kategorie _cat_ zugeteilt, für welche die Funktion _prob(self,item,cat)_ den höheren Wert zurück gibt. Da die Rückgabewerte in der Regel sehr klein sind, werden in der Regel folgende Werte angezeigt. Wenn mit $g$ der Rückgabewert von _prob(self,item,cat=G)_ und mit $b$ der Rückgabewert von _prob(self,item,cat=B)_ bezeichnet wird dann ist die Wahrscheinlichkeit, dass $item$ in die Kategorie $G$ fällt, gleich:\n",
    "$$\n",
    "\\frac{g}{g+b}\n",
    "$$\n",
    "und die Wahrscheinlichkeit, dass $item$ in die Kategorie $B$ fällt, gleich:\n",
    "$$\n",
    "\\frac{b}{g+b}\n",
    "$$"
   ]
  },
  {
   "cell_type": "code",
   "execution_count": 160,
   "metadata": {
    "collapsed": false
   },
   "outputs": [],
   "source": [
    "class NaiveBayesClassifier:\n",
    "    def __init__(self, wordFunc):\n",
    "        self.fc = {} #already learned words : {good: x, bad: y}\n",
    "        self.cc = {} #good: x, bad: y\n",
    "        \n",
    "        self.getfeatures = wordFunc\n",
    "        \n",
    "    def incf(self, f, cat, count):\n",
    "        if f in self.fc:\n",
    "            if cat in self.fc[f]:\n",
    "                self.fc[f][cat] += count\n",
    "            else:\n",
    "                self.fc[f][cat] = count\n",
    "        else:\n",
    "            self.fc[f] = {cat : 1}\n",
    "            \n",
    "    def incc(self, cat):\n",
    "        if cat in self.cc:\n",
    "            self.cc[cat] += 1\n",
    "        else:\n",
    "            self.cc[cat] = 1\n",
    "            \n",
    "    def fcount(self, f, cat):\n",
    "        if f in self.fc:\n",
    "            return self.fc[f].get(cat, 0)\n",
    "        else:\n",
    "            return 0\n",
    "    \n",
    "    def catcount(self, cat):\n",
    "        if cat in self.cc:\n",
    "            return self.cc[cat]\n",
    "        else:\n",
    "            return 0\n",
    "    \n",
    "    def totalcount(self):\n",
    "        count = 0\n",
    "        for categorie, num in self.cc.items():\n",
    "            count += num\n",
    "\n",
    "        return count\n",
    "    \n",
    "    def train(self, item, cat):\n",
    "        wordDict = self.getfeatures(item)\n",
    "        \n",
    "        for word, num in wordDict.items():\n",
    "            self.incf(word, cat, num)\n",
    "            \n",
    "        self.incc(cat)\n",
    "        \n",
    "    def fprob(self, f, cat):\n",
    "        return (self.fcount(f, cat) / float(self.catcount(cat)))\n",
    "    \n",
    "    def weightedprob(self, f, cat):\n",
    "        count = 0\n",
    "        if f in self.fc:\n",
    "            for val in self.fc[f].values():\n",
    "                count += val\n",
    "        \n",
    "        return ((0.5 + count * self.fprob(f, cat)) / (count + 1))\n",
    "        \n",
    "    def prob(self, item, cat):\n",
    "        wProb = 1\n",
    "        for word, num in self.getfeatures(item).items():\n",
    "            wProb *= self.weightedprob(word, cat)\n",
    "            \n",
    "        return ((wProb * self.catcount(cat)) / self.totalcount())\n",
    "\n",
    "    def testDocument(self, item):\n",
    "        result = {}\n",
    "        \n",
    "        allCats = 0\n",
    "        for categorie, num in self.cc.items():\n",
    "            allCats += self.prob(item, categorie)\n",
    "        \n",
    "        for categorie, num in self.cc.items():\n",
    "            result[categorie] = self.prob(item, categorie) / (allCats if allCats else 1)\n",
    "    \n",
    "        return result"
   ]
  },
  {
   "cell_type": "markdown",
   "metadata": {},
   "source": [
    "## Test\n",
    "\n",
    "**Aufgabe:**\n",
    "Instanzieren Sie ein Objekt der Klasse _Classifier_ und übergeben Sie der _train()_ Methode dieser Klasse mindestens 10 kategorisierte Dokumente (Betreffzeilen als Stringvariablen zusammen mit der Kategorie Good oder Bad). Definieren Sie dann ein beliebig neues Dokument und berechnen Sie für dieses die Kategorie, in welches es mit größter Wahrscheinlichkeit fällt. Benutzen Sie für den Test das in \n",
    "[NLP Vorlesung Document Classification](https://www.mi.hdm-stuttgart.de/mib/studium/intern/skripteserver/skripte/NaturalLanguageProcessing/WS1415/03TextClassification.pdf)\n",
    "ausführlich beschriebene Beispiel zu implementieren. Berechnen Sie die Klassifikatorausgabe des Satzes _the money jumps_."
   ]
  },
  {
   "cell_type": "code",
   "execution_count": 25,
   "metadata": {
    "collapsed": false
   },
   "outputs": [
    {
     "data": {
      "text/plain": [
       "{'bad': 0.7896103896103895, 'good': 0.2103896103896104}"
      ]
     },
     "execution_count": 25,
     "metadata": {},
     "output_type": "execute_result"
    }
   ],
   "source": [
    "testData = [('nobody owns the water', 'good'),\n",
    " ('the quick rabbit jumps fences', 'good'),\n",
    "('buy pharmaceuticals now drugs and viagra', 'bad'),\n",
    "('make quick money at the online casino', 'bad'),\n",
    "('next meeting is at night', 'good'),\n",
    "('meeting with your superstar', 'bad'),\n",
    "('money like water', 'bad'),\n",
    "('make money fast', 'bad'),\n",
    "('do you want to make fast money?', 'bad'),\n",
    "('the smart fox walks on the moon', 'good')]\n",
    "\n",
    "\n",
    "naiveBayesClass = NaiveBayesClassifier(getwords)\n",
    "\n",
    "for tup in testData:\n",
    "    naiveBayesClass.train(tup[0], tup[1])\n",
    "    \n",
    "naiveBayesClass.testDocument('the money jumps viagra drugs')"
   ]
  },
  {
   "cell_type": "markdown",
   "metadata": {},
   "source": [
    "## Klassifikation von RSS Newsfeeds\n",
    "Mit dem unten gegebenen Skript werden Nachrichten verschiedener Newsserver geladen und als String abgespeichert."
   ]
  },
  {
   "cell_type": "code",
   "execution_count": 26,
   "metadata": {
    "collapsed": false
   },
   "outputs": [
    {
     "name": "stdout",
     "output_type": "stream",
     "text": [
      "\n"
     ]
    }
   ],
   "source": [
    "import feedparser\n",
    "\n",
    "\n",
    "def stripHTML(h):\n",
    "  p=''\n",
    "  s=0\n",
    "  for c in h:\n",
    "    if c=='<': s=1\n",
    "    elif c=='>':\n",
    "      s=0\n",
    "      p+=' '\n",
    "    elif s==0:\n",
    "      p+=c\n",
    "  return p\n",
    "\n",
    "\n",
    "trainTech=['http://rss.chip.de/c/573/f/7439/index.rss',\n",
    "           #'http://feeds.feedburner.com/netzwelt',\n",
    "           'http://rss1.t-online.de/c/11/53/06/84/11530684.xml',\n",
    "           'http://www.computerbild.de/rssfeed_2261.xml?node=13',\n",
    "           'http://www.heise.de/newsticker/heise-top-atom.xml']\n",
    "\n",
    "trainNonTech=['http://newsfeed.zeit.de/index',\n",
    "              'http://newsfeed.zeit.de/wirtschaft/index',\n",
    "              'http://www.welt.de/politik/?service=Rss',\n",
    "              'http://www.spiegel.de/schlagzeilen/tops/index.rss',\n",
    "              'http://www.sueddeutsche.de/app/service/rss/alles/rss.xml',\n",
    "              'http://www.faz.net/rss/aktuell/'\n",
    "              ]\n",
    "test=[\"http://rss.golem.de/rss.php?r=sw&feed=RSS0.91\",\n",
    "          'http://newsfeed.zeit.de/politik/index',  \n",
    "          'http://www.welt.de/?service=Rss'\n",
    "           ]\n",
    "\n",
    "\"\"\"\n",
    "countnews={}\n",
    "countnews['tech']=0\n",
    "countnews['nontech']=0\n",
    "countnews['test']=0\n",
    "print \"--------------------News from trainTech------------------------\"\n",
    "for feed in trainTech:\n",
    "    print \"*\"*30\n",
    "    print feed\n",
    "    f=feedparser.parse(feed)\n",
    "    for e in f.entries:\n",
    "      print '\\n---------------------------'\n",
    "      fulltext=stripHTML(e.title+' '+e.description)\n",
    "      print fulltext\n",
    "      countnews['tech']+=1\n",
    "print \"----------------------------------------------------------------\"\n",
    "print \"----------------------------------------------------------------\"\n",
    "print \"----------------------------------------------------------------\"\n",
    "\n",
    "print \"--------------------News from trainNonTech------------------------\"\n",
    "for feed in trainNonTech:\n",
    "    print \"*\"*30\n",
    "    print feed\n",
    "    f=feedparser.parse(feed)\n",
    "    for e in f.entries:\n",
    "      print '\\n---------------------------'\n",
    "      fulltext=stripHTML(e.title+' '+e.description)\n",
    "      print fulltext\n",
    "      countnews['nontech']+=1\n",
    "print \"----------------------------------------------------------------\"\n",
    "print \"----------------------------------------------------------------\"\n",
    "print \"----------------------------------------------------------------\"\n",
    "\n",
    "print \"--------------------News from test------------------------\"\n",
    "for feed in test:\n",
    "    print \"*\"*30\n",
    "    print feed\n",
    "    f=feedparser.parse(feed)\n",
    "    for e in f.entries:\n",
    "      print '\\n---------------------------'\n",
    "      fulltext=stripHTML(e.title+' '+e.description)\n",
    "      print fulltext\n",
    "      countnews['test']+=1\n",
    "print \"----------------------------------------------------------------\"\n",
    "print \"----------------------------------------------------------------\"\n",
    "print \"----------------------------------------------------------------\"\n",
    "\n",
    "print 'Number of used trainings samples in categorie tech',countnews['tech']\n",
    "print 'Number of used trainings samples in categorie notech',countnews['nontech']\n",
    "print 'Number of used test samples',countnews['test']\n",
    "print '--'*30\n",
    "\"\"\"\n",
    "\n",
    "print"
   ]
  },
  {
   "cell_type": "markdown",
   "metadata": {},
   "source": [
    "**Aufgaben:**  \n",
    "1.Trainieren Sie Ihren Naive Bayes Classifier mit allen Nachrichten der in den Listen _trainTech_ und _trainNonTech_ definierten Servern. Weisen Sie für das Training allen Nachrichten aus _trainTech_ die Kategorie _Tech_ und allen Nachrichten aus _trainNonTech_ die Kategorie _NonTech_ zu."
   ]
  },
  {
   "cell_type": "code",
   "execution_count": 27,
   "metadata": {
    "collapsed": true
   },
   "outputs": [],
   "source": [
    "naiveBayesClassifier = NaiveBayesClassifier(getwords)"
   ]
  },
  {
   "cell_type": "code",
   "execution_count": 28,
   "metadata": {
    "collapsed": false
   },
   "outputs": [],
   "source": [
    "for feed in trainTech:\n",
    "    f=feedparser.parse(feed)\n",
    "    for e in f.entries:\n",
    "        fulltext=stripHTML(e.title+' '+e.description)\n",
    "        naiveBayesClassifier.train(fulltext, 'tech')\n",
    "\n",
    "for feed in trainNonTech:\n",
    "    f=feedparser.parse(feed)\n",
    "    for e in f.entries:\n",
    "        fulltext=stripHTML(e.title+' '+e.description)\n",
    "        naiveBayesClassifier.train(fulltext, 'nontech')"
   ]
  },
  {
   "cell_type": "markdown",
   "metadata": {},
   "source": [
    "2.Nach dem Training sollen alle Nachrichten aus der Liste _test_ vom Naive Bayes Classifier automatisch klassifiziert werden. Gehen Sie davon aus, dass alle Nachrichten von [http://rss.golem.de/rss.php?r=sw&feed=RSS0.91](http://rss.golem.de/rss.php?r=sw&feed=RSS0.91) tatsächlich von der Kategorie _Tech_ sind und alle Nachrichten von den beiden anderen Servern in der Liste _test_ von der Kategorie _NonTech_ sind. Bestimmen Sie die _Konfusionsmatrix_ und die _Accuracy_ sowie für beide Klassen _Precision, Recall_ und _F1-Score_. Diese Qualitätsmetriken sind z.B. in [NLP Vorlesung Document Classification](https://www.mi.hdm-stuttgart.de/mib/studium/intern/skripteserver/skripte/NaturalLanguageProcessing/WS1415/03TextClassification.pdf) definiert."
   ]
  },
  {
   "cell_type": "code",
   "execution_count": 29,
   "metadata": {
    "collapsed": false,
    "scrolled": true
   },
   "outputs": [
    {
     "name": "stdout",
     "output_type": "stream",
     "text": [
      "http://rss.golem.de/rss.php?r=sw&feed=RSS0.91\n",
      "Weitere Entlassungen: Cyanogen soll Hauptbüro in Seattle schließen Das Hauptbüro von Cyanogen soll internen und externen Quellen zufolge geschlossen werden - ein Großteil der Angestellten soll entlassen werden. Auch die Zukunft von Cyanogenmod-Gründer Steve Kondik ist offenbar unklar, einige Mitarbeiter können wohl in das kleinere Büro in Kalifornien wechseln. ( Cyanogen OS ,  Applikationen )  \n",
      "{'tech': 0.8927063942560545, 'nontech': 0.10729360574394556}\n",
      "\n",
      "Nach Telekom-Angriff: Mit dem Strafrecht Router ins Terrorcamp schicken oder so Nach der Überflutung kommen die Mücken und nach dem Telekom-Hack die unsinnigen Vorschläge aus der Politik. Dem Unternehmen kann das nur recht sein, so kann es von seinen eigenen Fehlern ablenken. ( Security ,  Netzwerk )  \n",
      "{'tech': 0.9982737481789197, 'nontech': 0.0017262518210803628}\n",
      "\n",
      "Adreno: Aktuelle Qualcomm-GPUs bekommen freien Treiber Für die 500er-Reihe von Qualcomms Adreno-GPUs stehen erste Patches für einen freien Linux-Treiber bereit. Der Code umfasst Kernel- und Userspace und stammt teilweise von Qualcomm selbst. Android-Updates könnten damit künftig wesentlich einfacher werden. ( Linux-Kernel ,  Treiber )  \n",
      "{'tech': 0.9029465691266272, 'nontech': 0.09705343087337284}\n",
      "\n",
      "Botnetz: Telekom-Routerausfälle waren nur Kollateralschaden Eine Variante des Mirai-Botnetzes auf Routern hat zahlreiche Ausfälle bei Telekom-Kunden verursacht. Allerdings waren die Telekom-Router selbst nicht Teil des Botnetzes, sie wurden lediglich durch die Angriffsversuche lahmgelegt. ( Telekom ,  Virus )  \n",
      "{'tech': 0.9767895602357386, 'nontech': 0.023210439764261508}\n",
      "\n",
      "Videolan: Neuer VLC-Player spielt 360-Grad-Videos ab Die Technical Preview des VLC-Players eignet sich zur Wiedergabe von 360-Grad-Videos inklusive Rotieren der Kamera per Maus. Künftig will Videolan auch VR-Headsets unterstützen. ( VLC ,  Applikationen )  \n",
      "{'tech': 0.757995938315228, 'nontech': 0.24200406168477195}\n",
      "\n",
      "Virtualisierungslösung: Update von Parallels Desktop 12 schränkt Funktionen ein Parallels Desktop 12 ermöglicht es seit dem Update auf Version 12.1 nicht mehr, virtuelle Maschinen mit mehr als acht GByte RAM und vier virtuellen Prozessoren einzurichten. Nur die Aboversion arbeitet ohne Einschränkungen. ( Parallels ,  Mac OS X )  \n",
      "{'tech': 0.9977006552423704, 'nontech': 0.0022993447576296925}\n",
      "\n",
      "Adblocker: Auch Spiegel Online verliert gegen Adblock Plus Ein weiteres Medium hat vor Gericht gegen Adblock-Plus verloren. Eine kleine Hoffnung für Verleger gibt es trotzdem: Die Adblockerquote ist insgesamt leicht rückläufig. ( Adblock Plus ,  Onlinewerbung )  \n",
      "{'tech': 0.7461694892906657, 'nontech': 0.2538305107093343}\n",
      "\n",
      "Gehackte Zugänge: Kriminelle versenden Malware mit Mailchimp-Accounts Kriminelle nutzen offenbar übernommene Mailchimp-Accounts, um Malware zu verbreiten. Das geschieht vor allem über Mails mit angeblichen Rechnungen. Alle 2.000 betroffenen Accounts wurden vorläufig stillgelegt. ( Malware ,  Virus )  \n",
      "{'tech': 0.7643472600511537, 'nontech': 0.2356527399488462}\n",
      "\n",
      "Deutscher Wetterdienst: Wetter-App zeigt mehr Gefahrenprognosen Der Deutsche Wetterdienst hat seine Wetter-App für Android und iOS aktualisiert und informiert darin jetzt auch über weitere Gefahrenprognosen. Bei Hochwasser, Sturmfluten und Lawinen erhalten Nutzer vorher eine Warnung. ( App )  \n",
      "{'tech': 0.8890510784577069, 'nontech': 0.11094892154229306}\n",
      "\n",
      "Spionage: Malware kann Kopfhörer als Mikrofon nutzen Kein Umbau erforderlich: Ein Programm kann Kopfhörer und andere Lautsprecher ohne Verstärker als Mikrofon verwenden - ohne das Wissen des Nutzers. ( Security ,  Sound-Hardware )  \n",
      "{'tech': 0.911733760772302, 'nontech': 0.08826623922769807}\n",
      "\n",
      "Google: Chromebooks bekommen \"Wake on Voice\" Mit einem Gerät sprechen, um es aus dem Ruhezustand zu wecken, geht nicht mehr nur mit Smartphones, sondern auch mit einem Chromebook. Die Funktion ist ein weiteres Indiz für das Verschmelzen von ChromeOS und Android. ( Chromebook ,  Google )  \n",
      "{'tech': 0.9897287620721991, 'nontech': 0.01027123792780095}\n",
      "\n",
      "2-Faktor-Authentifizierung: Google warnt mehrere prominente Personen vor Staatshackern Eine Warnung vor staatlichen Hackerangriffen auf Google-Konten sorgt derzeit in den USA für Diskussionen. Vor allem Journalisten und Diplomaten erhielten die Warnung, auch in der Türkei gibt es Betroffene. ( Security ,  Applikationen )  \n",
      "{'tech': 0.8963534260554085, 'nontech': 0.10364657394459165}\n",
      "\n",
      "Blog-Software: Gravierender Fehler in Wordpress Auto-Update gefunden Weil der zentrale Update-Server von Wordpress unsichere Hashfunktionen zulässt, hätten Angreifer Code ausführen und massenhaft Wordpress-Installationen angreifen können. Die Sicherheitslücke wurde mittlerweile geschlossen. ( Wordpress ,  Blog )  \n",
      "{'tech': 0.9264359518184151, 'nontech': 0.07356404818158482}\n",
      "\n",
      "SCCACHE: Mozilla baut geteilten Compiler-Cache in Rust Ein weiteres wichtiges Stück Infrastruktur bei Mozilla ist in die Sprache Rust portiert worden: der geteilte Compiler-Cache (Sccache). Builds verschiedener Systeme können damit ihre Ergebnisse teilen, was dank Rust jetzt schneller geht. ( Mozilla ,  Server )  \n",
      "{'tech': 0.7121618588068388, 'nontech': 0.28783814119316115}\n",
      "\n",
      "Webstatistik: Alexa-Daten temporär wieder verfügbar Eine Ankündigung der Firma Alexa, ihre Statistik über die beliebtesten Webseiten künftig nur noch kostenpflichtig anzubieten, führte zu einigen Protesten. Jetzt sind die Daten - zumindest temporär - wieder verfügbar. ( Open Data ,  Studie )  \n",
      "{'tech': 0.6529318432760781, 'nontech': 0.34706815672392194}\n",
      "\n",
      "Update: Google will Android 7.1.1 im Dezember 2016 veröffentlichen Google verteilt eine neue Entwicklervorschau für Android 7.1.1 und hat im Zuge dessen mitgeteilt, wann das Update allgemein verfügbar sein wird: Im Dezember 2016 soll es für drei Nexus-Geräte, das Pixel C und für andere Gerätehersteller zur Verfügung stehen. ( Android 7.0 ,  Google )  \n",
      "{'tech': 0.9981466174930519, 'nontech': 0.0018533825069481792}\n",
      "\n",
      "Linux-Distribution: Fedora 25 erscheint mit Wayland als Standard Als erste große Linux-Distribution verabschiedet sich Fedora in Version 25 von X11 und nutzt Wayland als Standard. Außerdem hat das Team versucht, teils mehrere Jahre alte Probleme nutzerfreundlich zu lösen - dazu gehört auch der MP3-Support. ( Fedora ,  Gnome )  \n",
      "{'tech': 0.8756881178874298, 'nontech': 0.12431188211257023}\n",
      "\n",
      "Windows Holographic: Microsofts AR-Plattform benötigt eine DX12-Grafikkarte Die Windows-10-Preview enthält eine App, die testet, ob der PC flott genug für das Creator's Update mit AR-Unterstützung ist. Die Systemanforderungen offenbaren interessante Details. ( Augmented Reality ,  DirectX )  \n",
      "{'tech': 0.9935408015592793, 'nontech': 0.006459198440720768}\n",
      "\n",
      "Alexa-Statistik: Liste der beliebtesten Webseiten nicht mehr kostenlos Jahrelang stellte die Firma Alexa eine Liste der eine Million beliebtesten Webseiten bereit. Viele nutzten sie für Forschungszwecke. Damit ist jetzt Schluss: Die Daten gibt's nur noch gegen Bezahlung. ( Open Data ,  API )  \n",
      "{'tech': 0.7332476968364813, 'nontech': 0.2667523031635187}\n",
      "\n",
      "Testbetrieb: Facebook sucht nach WLAN-Hotspots Die Facebook-App will das gleichnamige soziale Netzwerk auch für die Suche von kostenlos nutzbaren WLAN-Zugängen nutzen. Derzeit wird begrenzt die Funktion getestet in einer integrierten Kartenansicht WLAN-SSIDs aufzuspüren, um sie zu nutzen. ( Facebook ,  WLAN )  \n",
      "{'tech': 0.8583871758340159, 'nontech': 0.14161282416598403}\n",
      "\n",
      "Windows 10 Mobile: Microsoft plant eine x86-Emulation für ARM Microsoft arbeitet an einer x86-Emulation in Windows 10 Mobile. Damit sollen herkömmliche Windows-Programme auch auf ARM64-Geräten funktionieren. Bis das passiert, dauert es aber noch lange. ( Windows 10 Mobile ,  Microsoft )  \n",
      "{'tech': 0.9947459735425819, 'nontech': 0.005254026457418165}\n",
      "\n",
      "Vivaldi 1.5: Browser mit Lampensteuerung Mehr Browserkomfort verspricht Vivaldi 1.5. Der Browser kann Philips-Hue-Lampen ansteuern und die Tab-Verwaltung ist umfangreicher geworden. Außerdem gibt es einen Lesemodus, eine bessere Notizfunktion und kompaktere Updates. ( Vivaldi ,  Browser )  \n",
      "{'tech': 0.9823432757971092, 'nontech': 0.017656724202890745}\n",
      "\n",
      "Prozessoren und LTE-Modems: Qualcomm startet begrenztes Bug-Bounty-Programm In Android-Security-Updates finden sich häufig Schwachstellen in Qualcomm-Produkten. Das Unternehmen will die Security mit einem neuen Bug-Bounty-Programm verbessern - hat jedoch einige Einschränkungen. ( Qualcomm ,  Linux-Kernel )  \n",
      "{'tech': 0.9741760541080015, 'nontech': 0.025823945891998563}\n",
      "\n",
      "Mirai-IoT-Botnet: IP-Kamera nach 98 Sekunden mit Malware infiziert Droht die Netzwerkapokalypse, sobald ein unsicheres IoT-Gerät im Heimnetzwerk angeschlossen wurde? Der Sicherheitsforscher Rob Graham hat es ausprobiert - und sich innerhalb von 98 Sekunden die erste Infektion abgeholt. ( Mirai-Botnetz ,  Virus )  \n",
      "{'tech': 0.9377961163420372, 'nontech': 0.06220388365796273}\n",
      "\n",
      "Insider Build mit Powershell: Windows CMD.exe wird durch Open Source ersetzt Im aktuellen Insider Build 14971 von Windows 10 wird die Kommandozeile CMD.exe durch die Powershell ersetzt. Die einfache Eingabeaufforderung verschwindet zwar noch nicht ganz, ein zentraler Bestandteil von Windows ist damit künftig aber Open Source. ( Microsoft ,  .Net )  \n",
      "{'tech': 0.9979211912674021, 'nontech': 0.0020788087325978905}\n",
      "\n",
      "Raspberry Pi: Der mit dem 64-Bit-Kernel tanzt Die Raspberry Pi Foundation sorgt dafür, dass auf der Version 3 ihres Minirechners ein 32-Bit-Linux startet - und das, obwohl der neue Raspberry Pi eine reinrassige 64-Bit-CPU hat. Echte Linux-Kern-Techniker lässt die angezogene Handbremse nicht ruhen. ( Raspberry Pi ,  Linux-Kernel )  \n",
      "{'tech': 0.985666252744597, 'nontech': 0.014333747255403083}\n",
      "\n",
      "Android-Backdoor: Schwere Sicherheitslücke in China-Handys entdeckt In der Firmware chinesischer Billig-Handys haben Sicherheitsexperten erstaunliche Lücken entdeckt. Selbst ohne ausgefeilte Angriffsmethoden hätten Millionen Android-Handys gehackt werden können. ( Dirty Cow ,  Smartphone )  \n",
      "{'tech': 0.8759530914537073, 'nontech': 0.12404690854629268}\n",
      "\n",
      "Kaspersky OS: Kaspersky stellt eigenes Betriebssystem vor Sicher ohne Linux: Kaspersky hat ein eigenes Betriebssystem entwickelt. Das Unternehmen hat es nach eigenen Angaben komplett neu entwickelt. Es sei vor allem eins: sicher. ( Kaspersky ,  Betriebssystem )  \n",
      "{'tech': 0.9327942387735259, 'nontech': 0.06720576122647413}\n",
      "\n",
      "Filesharing: Hacker erbeuten Sourcecode von Mega.nz Mehrere Gbyte an Quellcode und einige Admin-Zugänge wurden bei dem von Kim Dotcom gegründeten Dienst Mega.nz kopiert. Nach Angaben des Unternehmens sind keine Nutzerdaten betroffen. ( Mega ,  Urheberrecht )  \n",
      "{'tech': 0.8943403283007201, 'nontech': 0.10565967169928003}\n",
      "\n",
      "Erpressungstrojaner: Ransomware-Programmierer wollte Crypto-Nachhilfe Auch wenn es mittlerweile zahlreiche Open-Source-Ransomware-Templates gibt, ist die Umsetzung von Verschlüsselungsfunktionen nach wie vor schwierig. Ein Entwickler wollte daher Nachhilfe - ausgerechnet von einem Sicherheitsforscher, der sich mit Ransomware beschäftigt. ( Ransomware ,  Virus )  \n",
      "{'tech': 0.9558045495101057, 'nontech': 0.04419545048989426}\n",
      "\n",
      "Google Project Brillo: IoT-Android wird sicherer als Smartphone-Android Google krempelt die Zusammenarbeit mit Herstellern für sein Internet-of-Things-System Brillo im Vergleich zu Android völlig um. So gibt es nur einen Linux-Kernel, der langfristig Updates erhalten soll. Die Geräte müssen zudem mehr als fünf Jahre lang gepflegt werden, was die Sicherheit erhöhen soll. ( Open Source ,  Google )  \n",
      "{'tech': 0.998584541946583, 'nontech': 0.0014154580534170651}\n",
      "\n",
      "Copyright: US-Marine wehrt sich gegen Vorwurf der Softwarepiraterie Ein deutsches Software-Unternehmen fordert fast 600 Millionen US-Dollar von der US-Marine, weil diese angeblich hunderttausende Male Testversionen einer Software installiert hat, ohne dafür die Lizenzen zu besitzen. Die US-Regierung hat sich jetzt erstmals vor Gericht geäußert. ( Urheberrecht ,  Applikationen )  \n",
      "{'tech': 0.6458965527036312, 'nontech': 0.3541034472963689}\n",
      "\n",
      "Playstation Network: Gamer soll für DDOS auf Dyn verantwortlich sein Das eigentliche Ziel des DDoS-Angriffs, der Dienste wie Twitter, Amazon, Spotify und Netflix zeitweise lahmgelegt hat, soll Sonys Playstation Network gewesen sein. Diese Theorie äußert der Netzbetreiber Level 3 - Dyn selbst ist noch nicht überzeugt. ( Mirai-Botnetz ,  Virus )  \n",
      "{'tech': 0.9560323530069366, 'nontech': 0.04396764699306343}\n",
      "\n",
      "20 Jahre ICQ: Uh-oh, ich kann mich nicht trennen Vor 20 Jahren erschien mit ICQ einer der erfolgreichsten Chatdienste. Es veränderte das Kommunikationsverhalten einer Generation - auch das unseres Autors. ( ICQ ,  Instant Messenger )  \n",
      "{'tech': 0.9108636307986163, 'nontech': 0.0891363692013836}\n",
      "\n",
      "Verjährung: BGH verlängert Haftung für illegales Filesharing Der Bundesgerichtshof hat die Verjährungsfrist für illegales Filesharing auf zehn Jahre erhöht. Ob wirklich eine neue Welle von Abmahnungen folgt, ist noch unklar. ( Abmahnung ,  Tauschbörse )  \n",
      "{'tech': 0.8995951153351615, 'nontech': 0.10040488466483856}\n",
      "\n",
      "Connect 2016: Microsoft setzt alles auf die Cloud Zur Connect, Microsofts Entwicklermesse, wird endgültig klar, dass die Zukunft des Unternehmens im Cloud-Geschäft liegt. Das zeigt sich etwa an dem längst überfälligen Beitritt zur Linux Foundation oder dem neuen SQL Server. Bei der Mobile-Entwicklung sorgt Microsoft allein für Tools und das Cloud-Backend. ( Microsoft ,  IBM )  \n",
      "{'tech': 0.9979944596957349, 'nontech': 0.002005540304265107}\n",
      "\n",
      "Earth VR: Mit Google und dem Vive durch die Welt fliegen Mit Googles neuem Earth VR für das HTC Vive können Nutzer nicht nur durch virtuelle Straßen der Welt laufen, sondern sich komplett frei bewegen. Zur Orientierung verwenden Nutzer die Controller des Vive, auch Headtracking wird unterstützt. ( Google Earth ,  Google )  \n",
      "{'tech': 0.9817134942518341, 'nontech': 0.01828650574816586}\n",
      "\n",
      "Chrome/Gstreamer: Windows 10 sicherer als Linux-Desktops Chrome speichert Dateien automatisch ab - und manche Linux-Distributionen verarbeiten die heruntergeladenen Dateien sofort mit extrem unsicherem Code von Gstreamer. Der Entdecker der Lücke meint, dass derart gravierende Schwächen zur Zeit in Windows nicht vorkommen. ( GStreamer ,  Fedora )  \n",
      "{'tech': 0.9807304253870742, 'nontech': 0.019269574612925788}\n",
      "\n",
      "Civil Infrastructure Platform (CIP): Auf dem Weg zum Einheits-Linux im Kraftwerk Das CIP-Projekt der Linux Foundation möchte eine einheitliche Software-Basis zum Betrieb ziviler Infrastruktur schaffen. Wir haben uns mit Urs Gleim von Siemens über die Probleme und ambitionierten Pläne des Projekts unterhalten. ( Linux ,  Toshiba )  \n",
      "{'tech': 0.9949121424649586, 'nontech': 0.005087857535041371}\n",
      "\n",
      "Google: Android soll in Andromeda aufgehen Neue Tipps von mit der Entwicklung des mutmaßlichen neuen Google-Betriebssystems Andromeda beteiligten Personen weisen darauf hin, dass das System in der zweiten Jahreshälfte 2017 erscheint. Android soll dabei in Andromeda aufgehen, im Fokus soll das Benachrichtigungssystem stehen. ( Andromeda ,  Google )  \n",
      "{'tech': 0.9847442522421577, 'nontech': 0.01525574775784223}\n",
      "\n",
      "http://newsfeed.zeit.de/politik/index\n",
      "Völkermord: Armenische Geschichtsstunde     Plötzlich spricht ganz Deutschland über den Völkermord an den Armeniern. Und das, obwohl die Bundesregierung den umstrittenen Begriff doch verschweigen wollte.\n",
      "{'tech': 0.5151996384285705, 'nontech': 0.48480036157142953}\n",
      "\n",
      "EU-Verteidigungspolitik: Kommission plant Fonds für gemeinsame Rüstungsprojekte     Die EU-Staaten sollen deutlich mehr Geld für Verteidigung ausgeben. Die Europäische Kommission will dafür einen gemeinsamen europäischen Verteidigungsfonds schaffen.\n",
      "{'tech': 0.27444747143824394, 'nontech': 0.7255525285617561}\n",
      "\n",
      "Bundesamt für Verfassungsschutz: Islamist konnte sich in Geheimdienst einschleichen     Beim Verfassungsschutz ist ein mutmaßlicher Islamist aufgeflogen. Laut Geheimdienstchef Hans-Georg Maaßen hatte er sich \"vom persönlichen Umfeld unbemerkt radikalisiert\".\n",
      "{'tech': 0.0587141798435323, 'nontech': 0.9412858201564678}\n",
      "\n",
      "Immobilienkauf: Hendricks plant Zuschüsse zum Eigenheim für Familien     Familien können sich womöglich bald über staatliche Unterstützung beim Haus- oder Wohnungskauf freuen. Die Zuschüsse sollen sich nach der Anzahl der Kinder richten.\n",
      "{'tech': 0.5019093187596168, 'nontech': 0.4980906812403832}\n",
      "\n",
      "USA: Eine neue Ära der Superreichen     Donald Trump hat die Wahl mit Versprechen an die Mittelschicht gewonnen. Seine Steuerpläne begünstigen allerdings vor allem Menschen wie ihn.\n",
      "{'tech': 0.3194336684905116, 'nontech': 0.6805663315094884}\n",
      "\n",
      "US-Regierung: Trump will offenbar Ex-Banker Mnuchin als Finanzminister     Nach übereinstimmenden Medienberichten soll Steven Mnuchin Finanzminister unter Trump werden. Der Ex-Banker verantwortete bereits die Finanzierung von Trumps Wahlkampf.\n",
      "{'tech': 0.2595360139729253, 'nontech': 0.7404639860270746}\n",
      "\n",
      "China: Trumps Geschenk für Peking Der künftige US-Präsident will das Transpazifische Freihandelsabkommen aufkündigen. China kann sein Glück nicht fassen.\n",
      "{'tech': 0.610135505148698, 'nontech': 0.3898644948513021}\n",
      "\n",
      "EU: Merkel angeblich gegen weitere Beitrittsverhandlungen     Die Kanzlerin hat sich laut einem Bericht dafür ausgesprochen, keine neuen Beitrittskapitel mit der Türkei zu eröffnen. Das EU-Parlament wollte noch weiter gehen.\n",
      "{'tech': 0.27033276173965065, 'nontech': 0.7296672382603494}\n",
      "\n",
      "Syrien: Warnung vor schlimmstem Massaker seit dem Zweiten Weltkrieg     Der UN-Sicherheitsrat hat eine Dringlichkeitssitzung zur Lage in Aleppo einberufen. Die Situation dort werde immer unerträglicher, mahnte der französische UN-Botschafter.\n",
      "{'tech': 0.7030377648962726, 'nontech': 0.29696223510372755}\n",
      "\n",
      "Kuba: Staats- und Regierungschefs nehmen Abschied von Fidel Castro     In Havanna erwiesen zahlreiche Staats- und Regierungschefs dem verstorbenen Fidel Castro die letzte Ehre. Auch Hunderttausende Kubaner nahmen an der Trauerfeier teil.\n",
      "{'tech': 0.8916404689411191, 'nontech': 0.10835953105888092}\n",
      "\n",
      "Vollverschleierung: CSU sieht sich durch niederländisches Burkaverbot bestätigt     Nach dem Burkaverbot in den Niederlanden sieht die CSU gute Chancen, die Vollverschleierung auch in Deutschland zu verbieten. Diese sei die \"Uniform des Islamismus\".\n",
      "{'tech': 0.7740281590831931, 'nontech': 0.22597184091680697}\n",
      "\n",
      "Aleppo: Unicef warnt vor Winterkatastrophe in Syrien     16.000 Menschen sind nach UN-Angaben vor den Kämpfen in Ost-Aleppo geflohen. Menschenrechtler fürchten, dass sich die Lage in nächster Zeit noch verschlechtern wird.\n",
      "{'tech': 0.4724913127203239, 'nontech': 0.527508687279676}\n",
      "\n",
      "Matteo Renzi: Sie glauben seinen Versprechen nicht mehr     Italiens Wirtschaft lahmt, der Jugend fehlt es an Arbeit und Perspektiven: Auch deshalb könnte der italienische Regierungschef Renzi sein Referendum am Sonntag verlieren.\n",
      "{'tech': 0.9433286837419265, 'nontech': 0.05667131625807359}\n",
      "\n",
      "Andrea Nahles: Mehr Freiheit, mehr Bildung, mehr Familie     Die Digitalisierung verändert die Arbeitswelt. Ministerin Nahles hat daraus nun erste Konsequenzen gezogen. Was schlägt sie vor und wer könnte davon profitieren?\n",
      "{'tech': 0.728390893980482, 'nontech': 0.2716091060195181}\n",
      "\n",
      "Soziale Medien: Befreiungstechnologie oder Propagandainstrument?     Fake News, Politpöbelei, womöglich automatisiert: Plötzlich gelten soziale Medien als Gefahr für die liberale Demokratie. Im Arabischen Frühling klang das noch anders.\n",
      "{'tech': 0.810214419337714, 'nontech': 0.189785580662286}\n",
      "\n",
      "http://www.welt.de/?service=Rss\n",
      "Österreich: Kampf um das untergegangene bürgerliche Milieu Die Stichwahl des neuen Bundespräsidenten wird wieder ein Kopf-an-Kopf-Rennen. Beide Kandidaten von den Rändern können nur mit den Stimmen des bürgerlichen Milieus gewinnen. Dieses ist tief gespalten.\n",
      "{'tech': 0.9901501721169501, 'nontech': 0.009849827883049922}\n",
      "\n",
      "EU-Studie: Angst treibt die Wähler zu den Rechtspopulisten Warum setzen die Menschen ihr Kreuz bei rechten Parteien? Laut einer Studie ist die eine tiefsitzende Angst entscheidend für die Wahl. Überraschend ist, dass innere Werte keine Rolle mehr spielen.\n",
      "{'tech': 0.0473230917554469, 'nontech': 0.9526769082445531}\n",
      "\n",
      "Attacke gegen Telekom: Das verlangt de Maizière jetzt von den Bürgern Nach dem Hackerangriff auf die Telekom fordert Innenminister Thomas de Maizière \"mehr Haftung als bisher\" für die Hersteller von Routern. Doch auch die Bürger sieht er in der Pflicht.\n",
      "{'tech': 0.44758641163277535, 'nontech': 0.5524135883672248}\n",
      "\n",
      "Neuer US-Präsident: Sie glauben nicht, wo Donald Trump sich informiert Es sind äußerst trübe Quellen, die Trump inspirieren. Allem Anschein nach konsultiert der designierte US-Präsident regelmäßig eine Website, die sich auf wilde Verschwörungstheorien spezialisiert hat.\n",
      "{'tech': 0.7291078224573554, 'nontech': 0.2708921775426446}\n",
      "\n",
      "\"Zerstörerischer Streit\": Bodenpersonal begehrt gegen Lufthansa-Piloten auf Der Dauerstreik der Lufthansa-Piloten führt nicht nur bei Kunden zu Unmut, auch in der Belegschaft. Ohne Rückendeckung der Gewerkschaften soll demonstriert werden. Auch am Donnerstag fallen Flüge aus.\n",
      "{'tech': 0.6832980198167866, 'nontech': 0.31670198018321327}\n",
      "\n",
      "Staatlicher Notfallplan: Bundeskabinett debattiert über Enteignung von Betrieben Die Versorgungskrise ist Thema im Bundeskabinett: Der staatliche Notfallplan soll für den Ernstfall überarbeitet werden. Bundesweit existieren noch geheime Lebensmittellager aus den 60er-Jahren.\n",
      "{'tech': 0.5857537169219603, 'nontech': 0.41424628307803973}\n",
      "\n",
      "Neue Gesetze: Das ändert sich für Verbraucher im Dezember Gratis-WLAN in der zweiten Klasse, neue Definition illegaler Drogen und neue Konto-Bedingungen: Zum Jahresausklang gibt es nicht nur für Bahn- und Bankkunden wieder einige Veränderungen.\n",
      "{'tech': 0.9746059699924589, 'nontech': 0.025394030007541223}\n",
      "\n",
      "Pärchentrend: Soll man dem Partner einen Adventskalender basteln? 24 Geschenke für einen erwachsenen Menschen - charmanter Vorweihnachtstrend? Oder total übertrieben? Unter bestimmten Bedingungen drückt der Adventskalender die Liebe zum anderen besonders gut aus.\n",
      "{'tech': 0.8885640315428959, 'nontech': 0.11143596845710424}\n",
      "\n",
      "Neues Album: Rolling Stones finden Viagra in alten Plattenkisten In nur drei Tagen haben die Rolling Stones ein neues Album aufgenommen: Hardcore-Blues von Anfang bis Ende. Zum ersten Mal seit Jahrzehnten wagen die alten Herren mal wieder was – und es funktioniert.\n",
      "{'tech': 0.8938306916486729, 'nontech': 0.10616930835132704}\n",
      "\n",
      "Spaß im Schnee: Der Winter ist der Feind des Autofahrers? Von wegen Eisige Straßen und schneeverwehte Pisten können zum Vergnügen werden – wenn man über das richtige Know-how verfügt und das passende Gefährt hat. 12 Tipps, wie PS-Fans den Winter genießen können.\n",
      "{'tech': 0.9917006337693252, 'nontech': 0.008299366230674942}\n",
      "\n"
     ]
    }
   ],
   "source": [
    "length = 0\n",
    "for feed in test:\n",
    "    print feed\n",
    "    f=feedparser.parse(feed)\n",
    "    for e in f.entries:\n",
    "        length += 1\n",
    "        fulltext=stripHTML(e.title+' '+e.description)\n",
    "        print fulltext\n",
    "        print naiveBayesClassifier.testDocument(fulltext)\n",
    "        print"
   ]
  },
  {
   "cell_type": "code",
   "execution_count": 30,
   "metadata": {
    "collapsed": true
   },
   "outputs": [],
   "source": [
    "def get_highest_prob_cat(dict):\n",
    "    highest_cat = max(dict, key=lambda k: dict[k])\n",
    "    return highest_cat"
   ]
  },
  {
   "cell_type": "code",
   "execution_count": 31,
   "metadata": {
    "collapsed": false,
    "scrolled": false
   },
   "outputs": [],
   "source": [
    "import pandas as pd\n",
    "\n",
    "feed_num = 1\n",
    "\n",
    "data = []\n",
    "\n",
    "for feed in test:\n",
    "    f=feedparser.parse(feed)\n",
    "    for e in f.entries:\n",
    "        length += 1\n",
    "        fulltext=stripHTML(e.title+' '+e.description)\n",
    "        pred_cat=get_highest_prob_cat(naiveBayesClassifier.testDocument(fulltext))\n",
    "        if feed_num == 1:\n",
    "            data.append([pred_cat, 'tech'])\n",
    "        else:\n",
    "            data.append([pred_cat, 'nontech'])\n",
    "    feed_num += 1\n",
    "\n",
    "    \n",
    "data = pd.DataFrame(data)"
   ]
  },
  {
   "cell_type": "code",
   "execution_count": 32,
   "metadata": {
    "collapsed": false
   },
   "outputs": [
    {
     "data": {
      "text/plain": [
       "0.7384615384615385"
      ]
     },
     "execution_count": 32,
     "metadata": {},
     "output_type": "execute_result"
    }
   ],
   "source": [
    "from sklearn.metrics import accuracy_score\n",
    "\n",
    "accuracy = accuracy_score(data[1].values, data[0].values)\n",
    "accuracy"
   ]
  },
  {
   "cell_type": "markdown",
   "metadata": {},
   "source": [
    "**Wie man am Ausgabewert **(der Accuracy)** erkennen kann, kommt der Naive Bayes Classifier selbst bei einem schlechten wordDict** (da mit stop words) **und ohne Bewertung der Häufigkeit der Worte** (Term frequency) **auf einen Wert von knapp 80% bei der Klassifizierung der beiden Kategorien 'tech' und 'nontech'** "
   ]
  },
  {
   "cell_type": "code",
   "execution_count": 33,
   "metadata": {
    "collapsed": false
   },
   "outputs": [
    {
     "data": {
      "text/plain": [
       "array([[ 8, 17],\n",
       "       [ 0, 40]])"
      ]
     },
     "execution_count": 33,
     "metadata": {},
     "output_type": "execute_result"
    }
   ],
   "source": [
    "from sklearn.metrics import confusion_matrix\n",
    "\n",
    "confus = confusion_matrix(data[1].values, data[0].values)\n",
    "confus"
   ]
  },
  {
   "cell_type": "markdown",
   "metadata": {},
   "source": [
    "```\n",
    "                             Predicted\n",
    "\n",
    "                       +------+---------+\n",
    "                       | tech | nontech |\n",
    "             +--------------------------+\n",
    "             |    tech |  15  |    10   |\n",
    "Actual Class +--------------------------+\n",
    "             | nontech |   0  |    40   |\n",
    "             +---------+------+---------+\n",
    "\n",
    "```\n",
    "\n",
    "**Die Confusion Matrix zeigt, dass kein Dokument, das aus dem Bereich 'nontech' kommt als 'tech'klassifiziert wurde.\n",
    "Dagegen wurden 10 eigentlich 'nontech'-Dokumente als 'tech' klassifiziert.**\n",
    "**Insgesamt wurden 55 Dokumente richtig und 10 falsch klassifiziert.**\n",
    "\n",
    "**Das Ergebnis kann relativ simple verbessert werden, indem man dem Classifier mehr Dokumente mit richtigen Labels zum trainieren gibt.**\n"
   ]
  },
  {
   "cell_type": "code",
   "execution_count": 34,
   "metadata": {
    "collapsed": false
   },
   "outputs": [
    {
     "name": "stdout",
     "output_type": "stream",
     "text": [
      "Precision for categorie tech: 0.701754\n",
      "Precision for categorie nontech: 1.000000\n"
     ]
    }
   ],
   "source": [
    "from sklearn.metrics import precision_score\n",
    "\n",
    "tech_prec = precision_score(data[1].values, data[0].values, pos_label='tech')\n",
    "nontech_prec = precision_score(data[1].values, data[0].values, pos_label='nontech')\n",
    "\n",
    "print 'Precision for categorie tech: %f' % (tech_prec)\n",
    "print 'Precision for categorie nontech: %f' % (nontech_prec)"
   ]
  },
  {
   "cell_type": "markdown",
   "metadata": {},
   "source": [
    "**Der Precision-Score gibt in diesem Fall an, wie viele der als 'tech'/'nontech' klassifizierten Dokumente wirklich aus der Kategorie 'tech'/'nontech' sind.**\n",
    "**Wie in der Confusionmatrix sieht man hier auch nochmal, dass kein Dokument der Klasse 'nontech' als 'tech' klassifiziert wurde.** (Maximalwert 1)"
   ]
  },
  {
   "cell_type": "code",
   "execution_count": 35,
   "metadata": {
    "collapsed": false
   },
   "outputs": [
    {
     "name": "stdout",
     "output_type": "stream",
     "text": [
      "Recall for categorie tech: 1.000000\n",
      "Recall for categorie nontech: 0.320000\n"
     ]
    }
   ],
   "source": [
    "from sklearn.metrics import recall_score\n",
    "\n",
    "tech_recall = recall_score(data[1].values, data[0].values, pos_label='tech')\n",
    "nontech_recall = recall_score(data[1].values, data[0].values, pos_label='nontech')\n",
    "\n",
    "print 'Recall for categorie tech: %f' % (tech_recall)\n",
    "print 'Recall for categorie nontech: %f' % (nontech_recall)"
   ]
  },
  {
   "cell_type": "markdown",
   "metadata": {},
   "source": [
    "**Der Recall-Score gibt in diesem Fall an, wie viele der tatsächlichen 'tech'/'nontech' Dokumente als 'tech'/'nontech' klassifiziert wurden. Hier sieht man schön, dass zwar alle Dokumente die als nontech' klassifiziert wurden auch 'nontech' waren ** (Precision-Score) **, dafür aber nur 40% der tatsächlichen 'nontech' als 'nontech' klassifiziert**  \n",
    "**Dagegen wurden alle tatsächlichen 'tech' Dokumente auch als 'tech' klassifiziert.**"
   ]
  },
  {
   "cell_type": "code",
   "execution_count": 36,
   "metadata": {
    "collapsed": false
   },
   "outputs": [
    {
     "name": "stdout",
     "output_type": "stream",
     "text": [
      "F1-Score for categorie tech: 0.824742\n",
      "F1-Score for categorie nontech: 0.484848\n"
     ]
    }
   ],
   "source": [
    "from sklearn.metrics import f1_score\n",
    "\n",
    "tech_f1 = f1_score(data[1].values, data[0].values, pos_label='tech')\n",
    "nontech_f1 = f1_score(data[1].values, data[0].values, pos_label='nontech')\n",
    "\n",
    "print 'F1-Score for categorie tech: %f' % (tech_f1)\n",
    "print 'F1-Score for categorie nontech: %f' % (nontech_f1)"
   ]
  },
  {
   "cell_type": "markdown",
   "metadata": {},
   "source": [
    "**Der F1-Score kombiniert die beiden Werte Recall und Precision und bildet einen Durchschnittswert.** "
   ]
  },
  {
   "cell_type": "markdown",
   "metadata": {},
   "source": [
    "3.Diskutieren Sie das Ergebnis"
   ]
  },
  {
   "cell_type": "markdown",
   "metadata": {
    "collapsed": true
   },
   "source": [
    "### Auswertung:\n",
    "\n",
    "**Die einzelnen Metriken zeigen wie gut der Naive Bayes Classifier selbst bei simpler getWords Methode funktioniert.**  \n",
    "**Natürlich würde die richtige Klassifizierung verbessert wenn wir mehr Triningsdaten in den Classifier geben.**\n",
    "**Um overfitting müssen wir uns bei diesem kleinen Datensatz weniger sorgen machen.**  "
   ]
  },
  {
   "cell_type": "markdown",
   "metadata": {},
   "source": [
    "4.Wie könnte die Klassifikationsgüte durch Modifikation der _getwords()_-Methode verbessert werden? Implementieren Sie diesen Ansatz und vergleichen Sie das Ergebnis mit dem des ersten Ansatzes."
   ]
  },
  {
   "cell_type": "markdown",
   "metadata": {},
   "source": [
    "### Token frequency anstatt alle 1"
   ]
  },
  {
   "cell_type": "code",
   "execution_count": 65,
   "metadata": {
    "collapsed": false
   },
   "outputs": [],
   "source": [
    "#improved by removing stop words and using tf instead of just 1 for every word\n",
    "\n",
    "def getwordsTF(docText):\n",
    "    LOWER_LIMIT = 1\n",
    "    UPPER_LIMIT = 20\n",
    "    \n",
    "    sentence = nltk.regexp_tokenize(docText, r\"[\\wäöüÄÖÜß]+\")\n",
    "    \n",
    "    tokens = [x.lower() for x in sentence if x.lower()]\n",
    "    \n",
    "    wordDict = { x: tokens.count(x) for x in tokens\\\n",
    "                if tokens.count(x) >= LOWER_LIMIT and tokens.count(x) <= UPPER_LIMIT}\n",
    "    \n",
    "    return wordDict"
   ]
  },
  {
   "cell_type": "code",
   "execution_count": 66,
   "metadata": {
    "collapsed": false
   },
   "outputs": [
    {
     "data": {
      "text/plain": [
       "{'3': 3,\n",
       " '4': 1,\n",
       " 'auf': 2,\n",
       " 'black': 3,\n",
       " 'bombastischen': 1,\n",
       " 'call': 2,\n",
       " 'darauf': 1,\n",
       " 'das': 1,\n",
       " 'den': 1,\n",
       " 'der': 2,\n",
       " 'des': 1,\n",
       " 'die': 2,\n",
       " 'duty': 2,\n",
       " 'd\\xc3\\xbcrfen': 1,\n",
       " 'einzelspieler': 1,\n",
       " 'erwarten': 1,\n",
       " 'fans': 2,\n",
       " 'ganz': 1,\n",
       " 'genau': 1,\n",
       " 'getestet': 1,\n",
       " 'haben': 1,\n",
       " 'heute': 1,\n",
       " 'hohem': 1,\n",
       " 'in': 1,\n",
       " 'jetzt': 1,\n",
       " 'kommt': 1,\n",
       " 'liefert': 1,\n",
       " 'l\\xc3\\xa4den': 1,\n",
       " 'niveau': 1,\n",
       " 'of': 2,\n",
       " 'ops': 3,\n",
       " 'part': 1,\n",
       " 'playstation': 1,\n",
       " 'ps4': 1,\n",
       " 'sagen': 1,\n",
       " 'schon': 1,\n",
       " 'serie': 1,\n",
       " 'shooter': 1,\n",
       " 'shooters': 1,\n",
       " 'sich': 1,\n",
       " 'und': 1,\n",
       " 'vorab': 1,\n",
       " 'warten': 1,\n",
       " 'was': 1,\n",
       " 'wir': 1}"
      ]
     },
     "execution_count": 66,
     "metadata": {},
     "output_type": "execute_result"
    }
   ],
   "source": [
    "text = 'Call of Duty: Black Ops 3 (PS4)   Darauf warten die Shooter-Fans! Call of Duty: Black Ops 3 kommt heute in die Läden. Wir haben den Einzelspieler-Part des bombastischen Shooters vorab auf der PlayStation 4 getestet und dürfen schon jetzt sagen: Black Ops 3 liefert auf hohem Niveau ganz genau das, was sich Fans der Serie erwarten.'\n",
    "getwordsTF(text)"
   ]
  },
  {
   "cell_type": "code",
   "execution_count": 67,
   "metadata": {
    "collapsed": false
   },
   "outputs": [],
   "source": [
    "naiveBayesClassifierTF = NaiveBayesClassifier(getwordsTF)\n",
    "\n",
    "for feed in trainTech:\n",
    "    f=feedparser.parse(feed)\n",
    "    for e in f.entries:\n",
    "        fulltext=stripHTML(e.title+' '+e.description)\n",
    "        naiveBayesClassifierTF.train(fulltext, 'tech')\n",
    "\n",
    "for feed in trainNonTech:\n",
    "    f=feedparser.parse(feed)\n",
    "    for e in f.entries:\n",
    "        fulltext=stripHTML(e.title+' '+e.description)\n",
    "        naiveBayesClassifierTF.train(fulltext, 'nontech')"
   ]
  },
  {
   "cell_type": "code",
   "execution_count": 68,
   "metadata": {
    "collapsed": false
   },
   "outputs": [
    {
     "name": "stdout",
     "output_type": "stream",
     "text": [
      "http://rss.golem.de/rss.php?r=sw&feed=RSS0.91\n",
      "Weitere Entlassungen: Cyanogen soll Hauptbüro in Seattle schließen Das Hauptbüro von Cyanogen soll internen und externen Quellen zufolge geschlossen werden - ein Großteil der Angestellten soll entlassen werden. Auch die Zukunft von Cyanogenmod-Gründer Steve Kondik ist offenbar unklar, einige Mitarbeiter können wohl in das kleinere Büro in Kalifornien wechseln. ( Cyanogen OS ,  Applikationen )  \n",
      "{'tech': 0.9501132885184785, 'nontech': 0.04988671148152147}\n",
      "\n",
      "Nach Telekom-Angriff: Mit dem Strafrecht Router ins Terrorcamp schicken oder so Nach der Überflutung kommen die Mücken und nach dem Telekom-Hack die unsinnigen Vorschläge aus der Politik. Dem Unternehmen kann das nur recht sein, so kann es von seinen eigenen Fehlern ablenken. ( Security ,  Netzwerk )  \n",
      "{'tech': 0.9999384105144977, 'nontech': 6.158948550231668e-05}\n",
      "\n",
      "Adreno: Aktuelle Qualcomm-GPUs bekommen freien Treiber Für die 500er-Reihe von Qualcomms Adreno-GPUs stehen erste Patches für einen freien Linux-Treiber bereit. Der Code umfasst Kernel- und Userspace und stammt teilweise von Qualcomm selbst. Android-Updates könnten damit künftig wesentlich einfacher werden. ( Linux-Kernel ,  Treiber )  \n",
      "{'tech': 0.9614613244275237, 'nontech': 0.03853867557247625}\n",
      "\n",
      "Botnetz: Telekom-Routerausfälle waren nur Kollateralschaden Eine Variante des Mirai-Botnetzes auf Routern hat zahlreiche Ausfälle bei Telekom-Kunden verursacht. Allerdings waren die Telekom-Router selbst nicht Teil des Botnetzes, sie wurden lediglich durch die Angriffsversuche lahmgelegt. ( Telekom ,  Virus )  \n",
      "{'tech': 0.9918293288362869, 'nontech': 0.00817067116371303}\n",
      "\n",
      "Videolan: Neuer VLC-Player spielt 360-Grad-Videos ab Die Technical Preview des VLC-Players eignet sich zur Wiedergabe von 360-Grad-Videos inklusive Rotieren der Kamera per Maus. Künftig will Videolan auch VR-Headsets unterstützen. ( VLC ,  Applikationen )  \n",
      "{'tech': 0.8586328888232841, 'nontech': 0.14136711117671585}\n",
      "\n",
      "Virtualisierungslösung: Update von Parallels Desktop 12 schränkt Funktionen ein Parallels Desktop 12 ermöglicht es seit dem Update auf Version 12.1 nicht mehr, virtuelle Maschinen mit mehr als acht GByte RAM und vier virtuellen Prozessoren einzurichten. Nur die Aboversion arbeitet ohne Einschränkungen. ( Parallels ,  Mac OS X )  \n",
      "{'tech': 0.9993872750394065, 'nontech': 0.0006127249605935648}\n",
      "\n",
      "Adblocker: Auch Spiegel Online verliert gegen Adblock Plus Ein weiteres Medium hat vor Gericht gegen Adblock-Plus verloren. Eine kleine Hoffnung für Verleger gibt es trotzdem: Die Adblockerquote ist insgesamt leicht rückläufig. ( Adblock Plus ,  Onlinewerbung )  \n",
      "{'tech': 0.6694862229434421, 'nontech': 0.3305137770565579}\n",
      "\n",
      "Gehackte Zugänge: Kriminelle versenden Malware mit Mailchimp-Accounts Kriminelle nutzen offenbar übernommene Mailchimp-Accounts, um Malware zu verbreiten. Das geschieht vor allem über Mails mit angeblichen Rechnungen. Alle 2.000 betroffenen Accounts wurden vorläufig stillgelegt. ( Malware ,  Virus )  \n",
      "{'tech': 0.7877218412566024, 'nontech': 0.21227815874339756}\n",
      "\n",
      "Deutscher Wetterdienst: Wetter-App zeigt mehr Gefahrenprognosen Der Deutsche Wetterdienst hat seine Wetter-App für Android und iOS aktualisiert und informiert darin jetzt auch über weitere Gefahrenprognosen. Bei Hochwasser, Sturmfluten und Lawinen erhalten Nutzer vorher eine Warnung. ( App )  \n",
      "{'tech': 0.9631693152827261, 'nontech': 0.036830684717273944}\n",
      "\n",
      "Spionage: Malware kann Kopfhörer als Mikrofon nutzen Kein Umbau erforderlich: Ein Programm kann Kopfhörer und andere Lautsprecher ohne Verstärker als Mikrofon verwenden - ohne das Wissen des Nutzers. ( Security ,  Sound-Hardware )  \n",
      "{'tech': 0.9417602207669054, 'nontech': 0.0582397792330947}\n",
      "\n",
      "Google: Chromebooks bekommen \"Wake on Voice\" Mit einem Gerät sprechen, um es aus dem Ruhezustand zu wecken, geht nicht mehr nur mit Smartphones, sondern auch mit einem Chromebook. Die Funktion ist ein weiteres Indiz für das Verschmelzen von ChromeOS und Android. ( Chromebook ,  Google )  \n",
      "{'tech': 0.9981901450482439, 'nontech': 0.0018098549517560998}\n",
      "\n",
      "2-Faktor-Authentifizierung: Google warnt mehrere prominente Personen vor Staatshackern Eine Warnung vor staatlichen Hackerangriffen auf Google-Konten sorgt derzeit in den USA für Diskussionen. Vor allem Journalisten und Diplomaten erhielten die Warnung, auch in der Türkei gibt es Betroffene. ( Security ,  Applikationen )  \n",
      "{'tech': 0.9406124009239134, 'nontech': 0.059387599076086685}\n",
      "\n",
      "Blog-Software: Gravierender Fehler in Wordpress Auto-Update gefunden Weil der zentrale Update-Server von Wordpress unsichere Hashfunktionen zulässt, hätten Angreifer Code ausführen und massenhaft Wordpress-Installationen angreifen können. Die Sicherheitslücke wurde mittlerweile geschlossen. ( Wordpress ,  Blog )  \n",
      "{'tech': 0.9742613491186711, 'nontech': 0.025738650881328873}\n",
      "\n",
      "SCCACHE: Mozilla baut geteilten Compiler-Cache in Rust Ein weiteres wichtiges Stück Infrastruktur bei Mozilla ist in die Sprache Rust portiert worden: der geteilte Compiler-Cache (Sccache). Builds verschiedener Systeme können damit ihre Ergebnisse teilen, was dank Rust jetzt schneller geht. ( Mozilla ,  Server )  \n",
      "{'tech': 0.7263749753461959, 'nontech': 0.2736250246538041}\n",
      "\n",
      "Webstatistik: Alexa-Daten temporär wieder verfügbar Eine Ankündigung der Firma Alexa, ihre Statistik über die beliebtesten Webseiten künftig nur noch kostenpflichtig anzubieten, führte zu einigen Protesten. Jetzt sind die Daten - zumindest temporär - wieder verfügbar. ( Open Data ,  Studie )  \n",
      "{'tech': 0.6169433650541469, 'nontech': 0.383056634945853}\n",
      "\n",
      "Update: Google will Android 7.1.1 im Dezember 2016 veröffentlichen Google verteilt eine neue Entwicklervorschau für Android 7.1.1 und hat im Zuge dessen mitgeteilt, wann das Update allgemein verfügbar sein wird: Im Dezember 2016 soll es für drei Nexus-Geräte, das Pixel C und für andere Gerätehersteller zur Verfügung stehen. ( Android 7.0 ,  Google )  \n",
      "{'tech': 0.9995136219233961, 'nontech': 0.0004863780766039897}\n",
      "\n",
      "Linux-Distribution: Fedora 25 erscheint mit Wayland als Standard Als erste große Linux-Distribution verabschiedet sich Fedora in Version 25 von X11 und nutzt Wayland als Standard. Außerdem hat das Team versucht, teils mehrere Jahre alte Probleme nutzerfreundlich zu lösen - dazu gehört auch der MP3-Support. ( Fedora ,  Gnome )  \n",
      "{'tech': 0.9328599393262124, 'nontech': 0.06714006067378762}\n",
      "\n",
      "Windows Holographic: Microsofts AR-Plattform benötigt eine DX12-Grafikkarte Die Windows-10-Preview enthält eine App, die testet, ob der PC flott genug für das Creator's Update mit AR-Unterstützung ist. Die Systemanforderungen offenbaren interessante Details. ( Augmented Reality ,  DirectX )  \n",
      "{'tech': 0.9998192444146364, 'nontech': 0.00018075558536358248}\n",
      "\n",
      "Alexa-Statistik: Liste der beliebtesten Webseiten nicht mehr kostenlos Jahrelang stellte die Firma Alexa eine Liste der eine Million beliebtesten Webseiten bereit. Viele nutzten sie für Forschungszwecke. Damit ist jetzt Schluss: Die Daten gibt's nur noch gegen Bezahlung. ( Open Data ,  API )  \n",
      "{'tech': 0.7526508025432433, 'nontech': 0.24734919745675665}\n",
      "\n",
      "Testbetrieb: Facebook sucht nach WLAN-Hotspots Die Facebook-App will das gleichnamige soziale Netzwerk auch für die Suche von kostenlos nutzbaren WLAN-Zugängen nutzen. Derzeit wird begrenzt die Funktion getestet in einer integrierten Kartenansicht WLAN-SSIDs aufzuspüren, um sie zu nutzen. ( Facebook ,  WLAN )  \n",
      "{'tech': 0.974155051114605, 'nontech': 0.02584494888539506}\n",
      "\n",
      "Windows 10 Mobile: Microsoft plant eine x86-Emulation für ARM Microsoft arbeitet an einer x86-Emulation in Windows 10 Mobile. Damit sollen herkömmliche Windows-Programme auch auf ARM64-Geräten funktionieren. Bis das passiert, dauert es aber noch lange. ( Windows 10 Mobile ,  Microsoft )  \n",
      "{'tech': 0.9998503609384664, 'nontech': 0.0001496390615336086}\n",
      "\n",
      "Vivaldi 1.5: Browser mit Lampensteuerung Mehr Browserkomfort verspricht Vivaldi 1.5. Der Browser kann Philips-Hue-Lampen ansteuern und die Tab-Verwaltung ist umfangreicher geworden. Außerdem gibt es einen Lesemodus, eine bessere Notizfunktion und kompaktere Updates. ( Vivaldi ,  Browser )  \n",
      "{'tech': 0.9873023966532719, 'nontech': 0.012697603346728143}\n",
      "\n",
      "Prozessoren und LTE-Modems: Qualcomm startet begrenztes Bug-Bounty-Programm In Android-Security-Updates finden sich häufig Schwachstellen in Qualcomm-Produkten. Das Unternehmen will die Security mit einem neuen Bug-Bounty-Programm verbessern - hat jedoch einige Einschränkungen. ( Qualcomm ,  Linux-Kernel )  \n",
      "{'tech': 0.9905036490027311, 'nontech': 0.009496350997268962}\n",
      "\n",
      "Mirai-IoT-Botnet: IP-Kamera nach 98 Sekunden mit Malware infiziert Droht die Netzwerkapokalypse, sobald ein unsicheres IoT-Gerät im Heimnetzwerk angeschlossen wurde? Der Sicherheitsforscher Rob Graham hat es ausprobiert - und sich innerhalb von 98 Sekunden die erste Infektion abgeholt. ( Mirai-Botnetz ,  Virus )  \n",
      "{'tech': 0.96867684758692, 'nontech': 0.03132315241308014}\n",
      "\n",
      "Insider Build mit Powershell: Windows CMD.exe wird durch Open Source ersetzt Im aktuellen Insider Build 14971 von Windows 10 wird die Kommandozeile CMD.exe durch die Powershell ersetzt. Die einfache Eingabeaufforderung verschwindet zwar noch nicht ganz, ein zentraler Bestandteil von Windows ist damit künftig aber Open Source. ( Microsoft ,  .Net )  \n",
      "{'tech': 0.9999438661323509, 'nontech': 5.6133867649063144e-05}\n",
      "\n",
      "Raspberry Pi: Der mit dem 64-Bit-Kernel tanzt Die Raspberry Pi Foundation sorgt dafür, dass auf der Version 3 ihres Minirechners ein 32-Bit-Linux startet - und das, obwohl der neue Raspberry Pi eine reinrassige 64-Bit-CPU hat. Echte Linux-Kern-Techniker lässt die angezogene Handbremse nicht ruhen. ( Raspberry Pi ,  Linux-Kernel )  \n",
      "{'tech': 0.9945302753091534, 'nontech': 0.005469724690846652}\n",
      "\n",
      "Android-Backdoor: Schwere Sicherheitslücke in China-Handys entdeckt In der Firmware chinesischer Billig-Handys haben Sicherheitsexperten erstaunliche Lücken entdeckt. Selbst ohne ausgefeilte Angriffsmethoden hätten Millionen Android-Handys gehackt werden können. ( Dirty Cow ,  Smartphone )  \n",
      "{'tech': 0.8999618220900781, 'nontech': 0.10003817790992185}\n",
      "\n",
      "Kaspersky OS: Kaspersky stellt eigenes Betriebssystem vor Sicher ohne Linux: Kaspersky hat ein eigenes Betriebssystem entwickelt. Das Unternehmen hat es nach eigenen Angaben komplett neu entwickelt. Es sei vor allem eins: sicher. ( Kaspersky ,  Betriebssystem )  \n",
      "{'tech': 0.9364316196674904, 'nontech': 0.06356838033250956}\n",
      "\n",
      "Filesharing: Hacker erbeuten Sourcecode von Mega.nz Mehrere Gbyte an Quellcode und einige Admin-Zugänge wurden bei dem von Kim Dotcom gegründeten Dienst Mega.nz kopiert. Nach Angaben des Unternehmens sind keine Nutzerdaten betroffen. ( Mega ,  Urheberrecht )  \n",
      "{'tech': 0.9467921400658147, 'nontech': 0.0532078599341853}\n",
      "\n",
      "Erpressungstrojaner: Ransomware-Programmierer wollte Crypto-Nachhilfe Auch wenn es mittlerweile zahlreiche Open-Source-Ransomware-Templates gibt, ist die Umsetzung von Verschlüsselungsfunktionen nach wie vor schwierig. Ein Entwickler wollte daher Nachhilfe - ausgerechnet von einem Sicherheitsforscher, der sich mit Ransomware beschäftigt. ( Ransomware ,  Virus )  \n",
      "{'tech': 0.9728671663190418, 'nontech': 0.02713283368095825}\n",
      "\n",
      "Google Project Brillo: IoT-Android wird sicherer als Smartphone-Android Google krempelt die Zusammenarbeit mit Herstellern für sein Internet-of-Things-System Brillo im Vergleich zu Android völlig um. So gibt es nur einen Linux-Kernel, der langfristig Updates erhalten soll. Die Geräte müssen zudem mehr als fünf Jahre lang gepflegt werden, was die Sicherheit erhöhen soll. ( Open Source ,  Google )  \n",
      "{'tech': 0.9996345422328066, 'nontech': 0.0003654577671933625}\n",
      "\n",
      "Copyright: US-Marine wehrt sich gegen Vorwurf der Softwarepiraterie Ein deutsches Software-Unternehmen fordert fast 600 Millionen US-Dollar von der US-Marine, weil diese angeblich hunderttausende Male Testversionen einer Software installiert hat, ohne dafür die Lizenzen zu besitzen. Die US-Regierung hat sich jetzt erstmals vor Gericht geäußert. ( Urheberrecht ,  Applikationen )  \n",
      "{'tech': 0.4864762477366048, 'nontech': 0.5135237522633951}\n",
      "\n",
      "Playstation Network: Gamer soll für DDOS auf Dyn verantwortlich sein Das eigentliche Ziel des DDoS-Angriffs, der Dienste wie Twitter, Amazon, Spotify und Netflix zeitweise lahmgelegt hat, soll Sonys Playstation Network gewesen sein. Diese Theorie äußert der Netzbetreiber Level 3 - Dyn selbst ist noch nicht überzeugt. ( Mirai-Botnetz ,  Virus )  \n",
      "{'tech': 0.9760026898171693, 'nontech': 0.023997310182830783}\n",
      "\n",
      "20 Jahre ICQ: Uh-oh, ich kann mich nicht trennen Vor 20 Jahren erschien mit ICQ einer der erfolgreichsten Chatdienste. Es veränderte das Kommunikationsverhalten einer Generation - auch das unseres Autors. ( ICQ ,  Instant Messenger )  \n",
      "{'tech': 0.9356341986293554, 'nontech': 0.06436580137064464}\n",
      "\n",
      "Verjährung: BGH verlängert Haftung für illegales Filesharing Der Bundesgerichtshof hat die Verjährungsfrist für illegales Filesharing auf zehn Jahre erhöht. Ob wirklich eine neue Welle von Abmahnungen folgt, ist noch unklar. ( Abmahnung ,  Tauschbörse )  \n",
      "{'tech': 0.9021233108352846, 'nontech': 0.09787668916471533}\n",
      "\n",
      "Connect 2016: Microsoft setzt alles auf die Cloud Zur Connect, Microsofts Entwicklermesse, wird endgültig klar, dass die Zukunft des Unternehmens im Cloud-Geschäft liegt. Das zeigt sich etwa an dem längst überfälligen Beitritt zur Linux Foundation oder dem neuen SQL Server. Bei der Mobile-Entwicklung sorgt Microsoft allein für Tools und das Cloud-Backend. ( Microsoft ,  IBM )  \n",
      "{'tech': 0.9998280235743017, 'nontech': 0.00017197642569842335}\n",
      "\n",
      "Earth VR: Mit Google und dem Vive durch die Welt fliegen Mit Googles neuem Earth VR für das HTC Vive können Nutzer nicht nur durch virtuelle Straßen der Welt laufen, sondern sich komplett frei bewegen. Zur Orientierung verwenden Nutzer die Controller des Vive, auch Headtracking wird unterstützt. ( Google Earth ,  Google )  \n",
      "{'tech': 0.9973960873573038, 'nontech': 0.0026039126426961674}\n",
      "\n",
      "Chrome/Gstreamer: Windows 10 sicherer als Linux-Desktops Chrome speichert Dateien automatisch ab - und manche Linux-Distributionen verarbeiten die heruntergeladenen Dateien sofort mit extrem unsicherem Code von Gstreamer. Der Entdecker der Lücke meint, dass derart gravierende Schwächen zur Zeit in Windows nicht vorkommen. ( GStreamer ,  Fedora )  \n",
      "{'tech': 0.9992435900104966, 'nontech': 0.0007564099895033765}\n",
      "\n",
      "Civil Infrastructure Platform (CIP): Auf dem Weg zum Einheits-Linux im Kraftwerk Das CIP-Projekt der Linux Foundation möchte eine einheitliche Software-Basis zum Betrieb ziviler Infrastruktur schaffen. Wir haben uns mit Urs Gleim von Siemens über die Probleme und ambitionierten Pläne des Projekts unterhalten. ( Linux ,  Toshiba )  \n",
      "{'tech': 0.9983576472817901, 'nontech': 0.0016423527182099769}\n",
      "\n",
      "Google: Android soll in Andromeda aufgehen Neue Tipps von mit der Entwicklung des mutmaßlichen neuen Google-Betriebssystems Andromeda beteiligten Personen weisen darauf hin, dass das System in der zweiten Jahreshälfte 2017 erscheint. Android soll dabei in Andromeda aufgehen, im Fokus soll das Benachrichtigungssystem stehen. ( Andromeda ,  Google )  \n",
      "{'tech': 0.9925689035637846, 'nontech': 0.007431096436215397}\n",
      "\n",
      "http://newsfeed.zeit.de/politik/index\n",
      "Völkermord: Armenische Geschichtsstunde     Plötzlich spricht ganz Deutschland über den Völkermord an den Armeniern. Und das, obwohl die Bundesregierung den umstrittenen Begriff doch verschweigen wollte.\n",
      "{'tech': 0.7510056395890838, 'nontech': 0.2489943604109161}\n",
      "\n",
      "EU-Verteidigungspolitik: Kommission plant Fonds für gemeinsame Rüstungsprojekte     Die EU-Staaten sollen deutlich mehr Geld für Verteidigung ausgeben. Die Europäische Kommission will dafür einen gemeinsamen europäischen Verteidigungsfonds schaffen.\n",
      "{'tech': 0.2108693805935041, 'nontech': 0.789130619406496}\n",
      "\n",
      "Bundesamt für Verfassungsschutz: Islamist konnte sich in Geheimdienst einschleichen     Beim Verfassungsschutz ist ein mutmaßlicher Islamist aufgeflogen. Laut Geheimdienstchef Hans-Georg Maaßen hatte er sich \"vom persönlichen Umfeld unbemerkt radikalisiert\".\n",
      "{'tech': 0.024948751978666975, 'nontech': 0.975051248021333}\n",
      "\n",
      "Immobilienkauf: Hendricks plant Zuschüsse zum Eigenheim für Familien     Familien können sich womöglich bald über staatliche Unterstützung beim Haus- oder Wohnungskauf freuen. Die Zuschüsse sollen sich nach der Anzahl der Kinder richten.\n",
      "{'tech': 0.723461810551899, 'nontech': 0.276538189448101}\n",
      "\n",
      "USA: Eine neue Ära der Superreichen     Donald Trump hat die Wahl mit Versprechen an die Mittelschicht gewonnen. Seine Steuerpläne begünstigen allerdings vor allem Menschen wie ihn.\n",
      "{'tech': 0.17504476116458464, 'nontech': 0.8249552388354153}\n",
      "\n",
      "US-Regierung: Trump will offenbar Ex-Banker Mnuchin als Finanzminister     Nach übereinstimmenden Medienberichten soll Steven Mnuchin Finanzminister unter Trump werden. Der Ex-Banker verantwortete bereits die Finanzierung von Trumps Wahlkampf.\n",
      "{'tech': 0.211701785241993, 'nontech': 0.7882982147580071}\n",
      "\n",
      "China: Trumps Geschenk für Peking Der künftige US-Präsident will das Transpazifische Freihandelsabkommen aufkündigen. China kann sein Glück nicht fassen.\n",
      "{'tech': 0.598261007073803, 'nontech': 0.40173899292619686}\n",
      "\n",
      "EU: Merkel angeblich gegen weitere Beitrittsverhandlungen     Die Kanzlerin hat sich laut einem Bericht dafür ausgesprochen, keine neuen Beitrittskapitel mit der Türkei zu eröffnen. Das EU-Parlament wollte noch weiter gehen.\n",
      "{'tech': 0.16201452696633895, 'nontech': 0.837985473033661}\n",
      "\n",
      "Syrien: Warnung vor schlimmstem Massaker seit dem Zweiten Weltkrieg     Der UN-Sicherheitsrat hat eine Dringlichkeitssitzung zur Lage in Aleppo einberufen. Die Situation dort werde immer unerträglicher, mahnte der französische UN-Botschafter.\n",
      "{'tech': 0.6221036326901423, 'nontech': 0.3778963673098577}\n",
      "\n",
      "Kuba: Staats- und Regierungschefs nehmen Abschied von Fidel Castro     In Havanna erwiesen zahlreiche Staats- und Regierungschefs dem verstorbenen Fidel Castro die letzte Ehre. Auch Hunderttausende Kubaner nahmen an der Trauerfeier teil.\n",
      "{'tech': 0.9464430575593284, 'nontech': 0.05355694244067153}\n",
      "\n",
      "Vollverschleierung: CSU sieht sich durch niederländisches Burkaverbot bestätigt     Nach dem Burkaverbot in den Niederlanden sieht die CSU gute Chancen, die Vollverschleierung auch in Deutschland zu verbieten. Diese sei die \"Uniform des Islamismus\".\n",
      "{'tech': 0.8910935571792096, 'nontech': 0.10890644282079041}\n",
      "\n",
      "Aleppo: Unicef warnt vor Winterkatastrophe in Syrien     16.000 Menschen sind nach UN-Angaben vor den Kämpfen in Ost-Aleppo geflohen. Menschenrechtler fürchten, dass sich die Lage in nächster Zeit noch verschlechtern wird.\n",
      "{'tech': 0.3083847162298692, 'nontech': 0.6916152837701309}\n",
      "\n",
      "Matteo Renzi: Sie glauben seinen Versprechen nicht mehr     Italiens Wirtschaft lahmt, der Jugend fehlt es an Arbeit und Perspektiven: Auch deshalb könnte der italienische Regierungschef Renzi sein Referendum am Sonntag verlieren.\n",
      "{'tech': 0.9658077743053881, 'nontech': 0.03419222569461181}\n",
      "\n",
      "Andrea Nahles: Mehr Freiheit, mehr Bildung, mehr Familie     Die Digitalisierung verändert die Arbeitswelt. Ministerin Nahles hat daraus nun erste Konsequenzen gezogen. Was schlägt sie vor und wer könnte davon profitieren?\n",
      "{'tech': 0.8499730529182121, 'nontech': 0.15002694708178793}\n",
      "\n",
      "Soziale Medien: Befreiungstechnologie oder Propagandainstrument?     Fake News, Politpöbelei, womöglich automatisiert: Plötzlich gelten soziale Medien als Gefahr für die liberale Demokratie. Im Arabischen Frühling klang das noch anders.\n",
      "{'tech': 0.872791846586383, 'nontech': 0.12720815341361702}\n",
      "\n",
      "http://www.welt.de/?service=Rss\n",
      "Flüchtlingskrise: Wie Afrika über Deutschlands Zukunft entscheidet Das Schicksal Europas hängt am Kontinent im Süden. Nur dort kann die Massenmigration gestoppt werden. Das Rezept dazu ist bekannt und erprobt – ob es diesmal funktioniert, ist eine Jahrhundertfrage.\n",
      "{'tech': 0.9840731451045951, 'nontech': 0.015926854895404925}\n",
      "\n",
      "Österreich: Kampf um das untergegangene bürgerliche Milieu Die Stichwahl des neuen Bundespräsidenten wird wieder ein Kopf-an-Kopf-Rennen. Beide Kandidaten von den Rändern können nur mit den Stimmen des bürgerlichen Milieus gewinnen. Dieses ist tief gespalten.\n",
      "{'tech': 0.9920981360847733, 'nontech': 0.007901863915226728}\n",
      "\n",
      "EU-Studie: Angst treibt die Wähler zu den Rechtspopulisten Warum setzen die Menschen ihr Kreuz bei rechten Parteien? Laut einer Studie ist die eine tiefsitzende Angst entscheidend für die Wahl. Überraschend ist, dass innere Werte keine Rolle mehr spielen.\n",
      "{'tech': 0.017468475342833096, 'nontech': 0.9825315246571669}\n",
      "\n",
      "Attacke gegen Telekom: Das verlangt de Maizière jetzt von den Bürgern Nach dem Hackerangriff auf die Telekom fordert Innenminister Thomas de Maizière \"mehr Haftung als bisher\" für die Hersteller von Routern. Doch auch die Bürger sieht er in der Pflicht.\n",
      "{'tech': 0.7870003574482579, 'nontech': 0.2129996425517421}\n",
      "\n",
      "Neuer US-Präsident: Sie glauben nicht, wo Donald Trump sich informiert Es sind äußerst trübe Quellen, die Trump inspirieren. Allem Anschein nach konsultiert der designierte US-Präsident regelmäßig eine Website, die sich auf wilde Verschwörungstheorien spezialisiert hat.\n",
      "{'tech': 0.668298946889511, 'nontech': 0.33170105311048903}\n",
      "\n",
      "\"Zerstörerischer Streit\": Bodenpersonal begehrt gegen Lufthansa-Piloten auf Der Dauerstreik der Lufthansa-Piloten führt nicht nur bei Kunden zu Unmut, auch in der Belegschaft. Ohne Rückendeckung der Gewerkschaften soll demonstriert werden. Auch am Donnerstag fallen Flüge aus.\n",
      "{'tech': 0.5347482200610499, 'nontech': 0.4652517799389501}\n",
      "\n",
      "Neue Gesetze: Das ändert sich für Verbraucher im Dezember Gratis-WLAN in der zweiten Klasse, neue Definition illegaler Drogen und neue Konto-Bedingungen: Zum Jahresausklang gibt es nicht nur für Bahn- und Bankkunden wieder einige Veränderungen.\n",
      "{'tech': 0.9952469943435489, 'nontech': 0.004753005656451149}\n",
      "\n",
      "Pärchentrend: Soll man dem Partner einen Adventskalender basteln? 24 Geschenke für einen erwachsenen Menschen - charmanter Vorweihnachtstrend? Oder total übertrieben? Unter bestimmten Bedingungen drückt der Adventskalender die Liebe zum anderen besonders gut aus.\n",
      "{'tech': 0.964022843557725, 'nontech': 0.03597715644227504}\n",
      "\n",
      "Ben Woodburn: Das ist Klopps neuer Wunderknabe beim FC Liverpool Der FC Liverpool steht im Pokalhalbfinale. Auch weil Ben Woodburn gegen Leeds traf. Der 17-Jährige trug sich mit seinem Tor in die Geschichtsbücher ein. Trainer Klopp treibt nur eine Sorge um.\n",
      "{'tech': 0.9279924016973127, 'nontech': 0.07200759830268733}\n",
      "\n",
      "Neues Album: Rolling Stones finden Viagra in alten Plattenkisten In nur drei Tagen haben die Rolling Stones ein neues Album aufgenommen: Hardcore-Blues von Anfang bis Ende. Zum ersten Mal seit Jahrzehnten wagen die alten Herren mal wieder was – und es funktioniert.\n",
      "{'tech': 0.9336884486479695, 'nontech': 0.0663115513520305}\n",
      "\n"
     ]
    }
   ],
   "source": [
    "length = 0\n",
    "for feed in test:\n",
    "    print feed\n",
    "    f=feedparser.parse(feed)\n",
    "    for e in f.entries:\n",
    "        length += 1\n",
    "        fulltext=stripHTML(e.title+' '+e.description)\n",
    "        print fulltext\n",
    "        print naiveBayesClassifierTF.testDocument(fulltext)\n",
    "        print"
   ]
  },
  {
   "cell_type": "code",
   "execution_count": 69,
   "metadata": {
    "collapsed": true
   },
   "outputs": [],
   "source": [
    "feed_num = 1\n",
    "\n",
    "data = []\n",
    "\n",
    "for feed in test:\n",
    "    f=feedparser.parse(feed)\n",
    "    for e in f.entries:\n",
    "        length += 1\n",
    "        fulltext=stripHTML(e.title+' '+e.description)\n",
    "        pred_cat=get_highest_prob_cat(naiveBayesClassifierTF.testDocument(fulltext))\n",
    "        if feed_num == 1:\n",
    "            data.append([pred_cat, 'tech'])\n",
    "        else:\n",
    "            data.append([pred_cat, 'nontech'])\n",
    "    feed_num += 1\n",
    "\n",
    "    \n",
    "data = pd.DataFrame(data)"
   ]
  },
  {
   "cell_type": "code",
   "execution_count": 70,
   "metadata": {
    "collapsed": false
   },
   "outputs": [
    {
     "name": "stdout",
     "output_type": "stream",
     "text": [
      "Accuracy:  0.707692307692\n"
     ]
    }
   ],
   "source": [
    "accuracy = accuracy_score(data[1].values, data[0].values)\n",
    "print 'Accuracy: ', accuracy"
   ]
  },
  {
   "cell_type": "code",
   "execution_count": 71,
   "metadata": {
    "collapsed": false
   },
   "outputs": [
    {
     "data": {
      "text/plain": [
       "array([[ 7, 18],\n",
       "       [ 1, 39]])"
      ]
     },
     "execution_count": 71,
     "metadata": {},
     "output_type": "execute_result"
    }
   ],
   "source": [
    "confus = confusion_matrix(data[1].values, data[0].values)\n",
    "confus"
   ]
  },
  {
   "cell_type": "code",
   "execution_count": 72,
   "metadata": {
    "collapsed": false
   },
   "outputs": [
    {
     "name": "stdout",
     "output_type": "stream",
     "text": [
      "Precision for categorie tech: 0.684211\n",
      "Precision for categorie nontech: 0.875000\n"
     ]
    }
   ],
   "source": [
    "tech_prec = precision_score(data[1].values, data[0].values, pos_label='tech')\n",
    "nontech_prec = precision_score(data[1].values, data[0].values, pos_label='nontech')\n",
    "\n",
    "print 'Precision for categorie tech: %f' % (tech_prec)\n",
    "print 'Precision for categorie nontech: %f' % (nontech_prec)"
   ]
  },
  {
   "cell_type": "code",
   "execution_count": 73,
   "metadata": {
    "collapsed": false
   },
   "outputs": [
    {
     "name": "stdout",
     "output_type": "stream",
     "text": [
      "Recall for categorie tech: 0.975000\n",
      "Recall for categorie nontech: 0.280000\n"
     ]
    }
   ],
   "source": [
    "tech_recall = recall_score(data[1].values, data[0].values, pos_label='tech')\n",
    "nontech_recall = recall_score(data[1].values, data[0].values, pos_label='nontech')\n",
    "\n",
    "print 'Recall for categorie tech: %f' % (tech_recall)\n",
    "print 'Recall for categorie nontech: %f' % (nontech_recall)"
   ]
  },
  {
   "cell_type": "code",
   "execution_count": 74,
   "metadata": {
    "collapsed": false
   },
   "outputs": [
    {
     "name": "stdout",
     "output_type": "stream",
     "text": [
      "F1-Score for categorie tech: 0.804124\n",
      "F1-Score for categorie nontech: 0.424242\n"
     ]
    }
   ],
   "source": [
    "tech_f1 = f1_score(data[1].values, data[0].values, pos_label='tech')\n",
    "nontech_f1 = f1_score(data[1].values, data[0].values, pos_label='nontech')\n",
    "\n",
    "print 'F1-Score for categorie tech: %f' % (tech_f1)\n",
    "print 'F1-Score for categorie nontech: %f' % (nontech_f1)"
   ]
  },
  {
   "cell_type": "markdown",
   "metadata": {},
   "source": [
    "### Auswertung\n",
    "**Wenn man den accuracy Wert der simplen Lösung (alle Wörter Häufigkeit 1) mit dem aus diesem Durchlauf vergleicht, fällt auf, dass die accuracy sogar abgenommen hat und das Ergebnis demnach schlechter geworden ist.**  \n",
    "  \n",
    "**0.7384615384615385  --token frequency-->  0.707692307692**\n",
    "\n",
    "**Folglich verschlechtern sich auch die anderen Metriken.**\n",
    "\n",
    "**Da die sogenannten \"Stop words\" höchstwahrscheinlich der Grund für die schlechtere Performance ist, werden diese als nächstes entfernt.**"
   ]
  },
  {
   "cell_type": "markdown",
   "metadata": {},
   "source": [
    "-----------------"
   ]
  },
  {
   "cell_type": "markdown",
   "metadata": {},
   "source": [
    "### TF + removed Stop words"
   ]
  },
  {
   "cell_type": "code",
   "execution_count": 37,
   "metadata": {
    "collapsed": false
   },
   "outputs": [],
   "source": [
    "from nltk.corpus import stopwords\n",
    "stops = set(stopwords.words('german'))"
   ]
  },
  {
   "cell_type": "code",
   "execution_count": 62,
   "metadata": {
    "collapsed": false
   },
   "outputs": [],
   "source": [
    "#improved by removing stop words and using tf instead of just 1 for every word\n",
    "\n",
    "def getwordsTFStop(docText, fc, cc):\n",
    "    LOWER_LIMIT = 1\n",
    "    UPPER_LIMIT = 20\n",
    "    \n",
    "    sentence = nltk.regexp_tokenize(docText, r\"[\\wäöüÄÖÜß]+\")\n",
    "    \n",
    "    tokens = [x.lower() for x in sentence if x.lower() not in stops]\n",
    "    \n",
    "    wordDict = { x: tokens.count(x) for x in tokens\\\n",
    "                if tokens.count(x) >= LOWER_LIMIT and tokens.count(x) <= UPPER_LIMIT}\n",
    "    \n",
    "    return wordDict"
   ]
  },
  {
   "cell_type": "code",
   "execution_count": 63,
   "metadata": {
    "collapsed": false
   },
   "outputs": [
    {
     "data": {
      "text/plain": [
       "{'3': 3,\n",
       " '4': 1,\n",
       " 'black': 3,\n",
       " 'bombastischen': 1,\n",
       " 'call': 2,\n",
       " 'darauf': 1,\n",
       " 'duty': 2,\n",
       " 'd\\xc3\\xbcrfen': 1,\n",
       " 'einzelspieler': 1,\n",
       " 'erwarten': 1,\n",
       " 'fans': 2,\n",
       " 'ganz': 1,\n",
       " 'genau': 1,\n",
       " 'getestet': 1,\n",
       " 'heute': 1,\n",
       " 'hohem': 1,\n",
       " 'kommt': 1,\n",
       " 'liefert': 1,\n",
       " 'l\\xc3\\xa4den': 1,\n",
       " 'niveau': 1,\n",
       " 'of': 2,\n",
       " 'ops': 3,\n",
       " 'part': 1,\n",
       " 'playstation': 1,\n",
       " 'ps4': 1,\n",
       " 'sagen': 1,\n",
       " 'schon': 1,\n",
       " 'serie': 1,\n",
       " 'shooter': 1,\n",
       " 'shooters': 1,\n",
       " 'vorab': 1,\n",
       " 'warten': 1}"
      ]
     },
     "execution_count": 63,
     "metadata": {},
     "output_type": "execute_result"
    }
   ],
   "source": [
    "text = 'Call of Duty: Black Ops 3 (PS4)   Darauf warten die Shooter-Fans! Call of Duty: Black Ops 3 kommt heute in die Läden. Wir haben den Einzelspieler-Part des bombastischen Shooters vorab auf der PlayStation 4 getestet und dürfen schon jetzt sagen: Black Ops 3 liefert auf hohem Niveau ganz genau das, was sich Fans der Serie erwarten.'\n",
    "getwordsTFStop(text)"
   ]
  },
  {
   "cell_type": "code",
   "execution_count": 75,
   "metadata": {
    "collapsed": false
   },
   "outputs": [],
   "source": [
    "naiveBayesClassifierTFStop = NaiveBayesClassifier(getwordsTFStop)\n",
    "\n",
    "for feed in trainTech:\n",
    "    f=feedparser.parse(feed)\n",
    "    for e in f.entries:\n",
    "        fulltext=stripHTML(e.title+' '+e.description)\n",
    "        naiveBayesClassifierTFStop.train(fulltext, 'tech')\n",
    "\n",
    "for feed in trainNonTech:\n",
    "    f=feedparser.parse(feed)\n",
    "    for e in f.entries:\n",
    "        fulltext=stripHTML(e.title+' '+e.description)\n",
    "        naiveBayesClassifierTFStop.train(fulltext, 'nontech')"
   ]
  },
  {
   "cell_type": "code",
   "execution_count": 76,
   "metadata": {
    "collapsed": false
   },
   "outputs": [
    {
     "name": "stdout",
     "output_type": "stream",
     "text": [
      "http://rss.golem.de/rss.php?r=sw&feed=RSS0.91\n",
      "Weitere Entlassungen: Cyanogen soll Hauptbüro in Seattle schließen Das Hauptbüro von Cyanogen soll internen und externen Quellen zufolge geschlossen werden - ein Großteil der Angestellten soll entlassen werden. Auch die Zukunft von Cyanogenmod-Gründer Steve Kondik ist offenbar unklar, einige Mitarbeiter können wohl in das kleinere Büro in Kalifornien wechseln. ( Cyanogen OS ,  Applikationen )  \n",
      "{'tech': 0.4408547729905908, 'nontech': 0.5591452270094093}\n",
      "\n",
      "Nach Telekom-Angriff: Mit dem Strafrecht Router ins Terrorcamp schicken oder so Nach der Überflutung kommen die Mücken und nach dem Telekom-Hack die unsinnigen Vorschläge aus der Politik. Dem Unternehmen kann das nur recht sein, so kann es von seinen eigenen Fehlern ablenken. ( Security ,  Netzwerk )  \n",
      "{'tech': 0.9492717448567303, 'nontech': 0.05072825514326973}\n",
      "\n",
      "Adreno: Aktuelle Qualcomm-GPUs bekommen freien Treiber Für die 500er-Reihe von Qualcomms Adreno-GPUs stehen erste Patches für einen freien Linux-Treiber bereit. Der Code umfasst Kernel- und Userspace und stammt teilweise von Qualcomm selbst. Android-Updates könnten damit künftig wesentlich einfacher werden. ( Linux-Kernel ,  Treiber )  \n",
      "{'tech': 0.7788898110166608, 'nontech': 0.2211101889833393}\n",
      "\n",
      "Botnetz: Telekom-Routerausfälle waren nur Kollateralschaden Eine Variante des Mirai-Botnetzes auf Routern hat zahlreiche Ausfälle bei Telekom-Kunden verursacht. Allerdings waren die Telekom-Router selbst nicht Teil des Botnetzes, sie wurden lediglich durch die Angriffsversuche lahmgelegt. ( Telekom ,  Virus )  \n",
      "{'tech': 0.90051305171955, 'nontech': 0.09948694828045003}\n",
      "\n",
      "Videolan: Neuer VLC-Player spielt 360-Grad-Videos ab Die Technical Preview des VLC-Players eignet sich zur Wiedergabe von 360-Grad-Videos inklusive Rotieren der Kamera per Maus. Künftig will Videolan auch VR-Headsets unterstützen. ( VLC ,  Applikationen )  \n",
      "{'tech': 0.8060888545226178, 'nontech': 0.1939111454773821}\n",
      "\n",
      "Virtualisierungslösung: Update von Parallels Desktop 12 schränkt Funktionen ein Parallels Desktop 12 ermöglicht es seit dem Update auf Version 12.1 nicht mehr, virtuelle Maschinen mit mehr als acht GByte RAM und vier virtuellen Prozessoren einzurichten. Nur die Aboversion arbeitet ohne Einschränkungen. ( Parallels ,  Mac OS X )  \n",
      "{'tech': 0.9459207797498477, 'nontech': 0.05407922025015233}\n",
      "\n",
      "Adblocker: Auch Spiegel Online verliert gegen Adblock Plus Ein weiteres Medium hat vor Gericht gegen Adblock-Plus verloren. Eine kleine Hoffnung für Verleger gibt es trotzdem: Die Adblockerquote ist insgesamt leicht rückläufig. ( Adblock Plus ,  Onlinewerbung )  \n",
      "{'tech': 0.5033312818860024, 'nontech': 0.4966687181139976}\n",
      "\n",
      "Gehackte Zugänge: Kriminelle versenden Malware mit Mailchimp-Accounts Kriminelle nutzen offenbar übernommene Mailchimp-Accounts, um Malware zu verbreiten. Das geschieht vor allem über Mails mit angeblichen Rechnungen. Alle 2.000 betroffenen Accounts wurden vorläufig stillgelegt. ( Malware ,  Virus )  \n",
      "{'tech': 0.463084290792508, 'nontech': 0.536915709207492}\n",
      "\n",
      "Deutscher Wetterdienst: Wetter-App zeigt mehr Gefahrenprognosen Der Deutsche Wetterdienst hat seine Wetter-App für Android und iOS aktualisiert und informiert darin jetzt auch über weitere Gefahrenprognosen. Bei Hochwasser, Sturmfluten und Lawinen erhalten Nutzer vorher eine Warnung. ( App )  \n",
      "{'tech': 0.8549740358157635, 'nontech': 0.14502596418423652}\n",
      "\n",
      "Spionage: Malware kann Kopfhörer als Mikrofon nutzen Kein Umbau erforderlich: Ein Programm kann Kopfhörer und andere Lautsprecher ohne Verstärker als Mikrofon verwenden - ohne das Wissen des Nutzers. ( Security ,  Sound-Hardware )  \n",
      "{'tech': 0.7975823701522894, 'nontech': 0.2024176298477106}\n",
      "\n",
      "Google: Chromebooks bekommen \"Wake on Voice\" Mit einem Gerät sprechen, um es aus dem Ruhezustand zu wecken, geht nicht mehr nur mit Smartphones, sondern auch mit einem Chromebook. Die Funktion ist ein weiteres Indiz für das Verschmelzen von ChromeOS und Android. ( Chromebook ,  Google )  \n",
      "{'tech': 0.8264346978283323, 'nontech': 0.17356530217166763}\n",
      "\n",
      "2-Faktor-Authentifizierung: Google warnt mehrere prominente Personen vor Staatshackern Eine Warnung vor staatlichen Hackerangriffen auf Google-Konten sorgt derzeit in den USA für Diskussionen. Vor allem Journalisten und Diplomaten erhielten die Warnung, auch in der Türkei gibt es Betroffene. ( Security ,  Applikationen )  \n",
      "{'tech': 0.48752941327491717, 'nontech': 0.5124705867250829}\n",
      "\n",
      "Blog-Software: Gravierender Fehler in Wordpress Auto-Update gefunden Weil der zentrale Update-Server von Wordpress unsichere Hashfunktionen zulässt, hätten Angreifer Code ausführen und massenhaft Wordpress-Installationen angreifen können. Die Sicherheitslücke wurde mittlerweile geschlossen. ( Wordpress ,  Blog )  \n",
      "{'tech': 0.8981247936713785, 'nontech': 0.10187520632862153}\n",
      "\n",
      "SCCACHE: Mozilla baut geteilten Compiler-Cache in Rust Ein weiteres wichtiges Stück Infrastruktur bei Mozilla ist in die Sprache Rust portiert worden: der geteilte Compiler-Cache (Sccache). Builds verschiedener Systeme können damit ihre Ergebnisse teilen, was dank Rust jetzt schneller geht. ( Mozilla ,  Server )  \n",
      "{'tech': 0.6330043706258073, 'nontech': 0.3669956293741927}\n",
      "\n",
      "Webstatistik: Alexa-Daten temporär wieder verfügbar Eine Ankündigung der Firma Alexa, ihre Statistik über die beliebtesten Webseiten künftig nur noch kostenpflichtig anzubieten, führte zu einigen Protesten. Jetzt sind die Daten - zumindest temporär - wieder verfügbar. ( Open Data ,  Studie )  \n",
      "{'tech': 0.5632790669251532, 'nontech': 0.43672093307484683}\n",
      "\n",
      "Update: Google will Android 7.1.1 im Dezember 2016 veröffentlichen Google verteilt eine neue Entwicklervorschau für Android 7.1.1 und hat im Zuge dessen mitgeteilt, wann das Update allgemein verfügbar sein wird: Im Dezember 2016 soll es für drei Nexus-Geräte, das Pixel C und für andere Gerätehersteller zur Verfügung stehen. ( Android 7.0 ,  Google )  \n",
      "{'tech': 0.9932689563264225, 'nontech': 0.0067310436735775175}\n",
      "\n",
      "Linux-Distribution: Fedora 25 erscheint mit Wayland als Standard Als erste große Linux-Distribution verabschiedet sich Fedora in Version 25 von X11 und nutzt Wayland als Standard. Außerdem hat das Team versucht, teils mehrere Jahre alte Probleme nutzerfreundlich zu lösen - dazu gehört auch der MP3-Support. ( Fedora ,  Gnome )  \n",
      "{'tech': 0.6333314593001558, 'nontech': 0.3666685406998442}\n",
      "\n",
      "Windows Holographic: Microsofts AR-Plattform benötigt eine DX12-Grafikkarte Die Windows-10-Preview enthält eine App, die testet, ob der PC flott genug für das Creator's Update mit AR-Unterstützung ist. Die Systemanforderungen offenbaren interessante Details. ( Augmented Reality ,  DirectX )  \n",
      "{'tech': 0.9991538299842551, 'nontech': 0.0008461700157449858}\n",
      "\n",
      "Alexa-Statistik: Liste der beliebtesten Webseiten nicht mehr kostenlos Jahrelang stellte die Firma Alexa eine Liste der eine Million beliebtesten Webseiten bereit. Viele nutzten sie für Forschungszwecke. Damit ist jetzt Schluss: Die Daten gibt's nur noch gegen Bezahlung. ( Open Data ,  API )  \n",
      "{'tech': 0.6022350157999414, 'nontech': 0.39776498420005857}\n",
      "\n",
      "Testbetrieb: Facebook sucht nach WLAN-Hotspots Die Facebook-App will das gleichnamige soziale Netzwerk auch für die Suche von kostenlos nutzbaren WLAN-Zugängen nutzen. Derzeit wird begrenzt die Funktion getestet in einer integrierten Kartenansicht WLAN-SSIDs aufzuspüren, um sie zu nutzen. ( Facebook ,  WLAN )  \n",
      "{'tech': 0.8556982046861294, 'nontech': 0.14430179531387052}\n",
      "\n",
      "Windows 10 Mobile: Microsoft plant eine x86-Emulation für ARM Microsoft arbeitet an einer x86-Emulation in Windows 10 Mobile. Damit sollen herkömmliche Windows-Programme auch auf ARM64-Geräten funktionieren. Bis das passiert, dauert es aber noch lange. ( Windows 10 Mobile ,  Microsoft )  \n",
      "{'tech': 0.9974041063980207, 'nontech': 0.0025958936019793255}\n",
      "\n",
      "Vivaldi 1.5: Browser mit Lampensteuerung Mehr Browserkomfort verspricht Vivaldi 1.5. Der Browser kann Philips-Hue-Lampen ansteuern und die Tab-Verwaltung ist umfangreicher geworden. Außerdem gibt es einen Lesemodus, eine bessere Notizfunktion und kompaktere Updates. ( Vivaldi ,  Browser )  \n",
      "{'tech': 0.8308408461560575, 'nontech': 0.1691591538439426}\n",
      "\n",
      "Prozessoren und LTE-Modems: Qualcomm startet begrenztes Bug-Bounty-Programm In Android-Security-Updates finden sich häufig Schwachstellen in Qualcomm-Produkten. Das Unternehmen will die Security mit einem neuen Bug-Bounty-Programm verbessern - hat jedoch einige Einschränkungen. ( Qualcomm ,  Linux-Kernel )  \n",
      "{'tech': 0.9501934915486556, 'nontech': 0.04980650845134436}\n",
      "\n",
      "Mirai-IoT-Botnet: IP-Kamera nach 98 Sekunden mit Malware infiziert Droht die Netzwerkapokalypse, sobald ein unsicheres IoT-Gerät im Heimnetzwerk angeschlossen wurde? Der Sicherheitsforscher Rob Graham hat es ausprobiert - und sich innerhalb von 98 Sekunden die erste Infektion abgeholt. ( Mirai-Botnetz ,  Virus )  \n",
      "{'tech': 0.5287976848221076, 'nontech': 0.47120231517789224}\n",
      "\n",
      "Insider Build mit Powershell: Windows CMD.exe wird durch Open Source ersetzt Im aktuellen Insider Build 14971 von Windows 10 wird die Kommandozeile CMD.exe durch die Powershell ersetzt. Die einfache Eingabeaufforderung verschwindet zwar noch nicht ganz, ein zentraler Bestandteil von Windows ist damit künftig aber Open Source. ( Microsoft ,  .Net )  \n",
      "{'tech': 0.9979898292697719, 'nontech': 0.0020101707302280997}\n",
      "\n",
      "Raspberry Pi: Der mit dem 64-Bit-Kernel tanzt Die Raspberry Pi Foundation sorgt dafür, dass auf der Version 3 ihres Minirechners ein 32-Bit-Linux startet - und das, obwohl der neue Raspberry Pi eine reinrassige 64-Bit-CPU hat. Echte Linux-Kern-Techniker lässt die angezogene Handbremse nicht ruhen. ( Raspberry Pi ,  Linux-Kernel )  \n",
      "{'tech': 0.7622914940705602, 'nontech': 0.2377085059294398}\n",
      "\n",
      "Android-Backdoor: Schwere Sicherheitslücke in China-Handys entdeckt In der Firmware chinesischer Billig-Handys haben Sicherheitsexperten erstaunliche Lücken entdeckt. Selbst ohne ausgefeilte Angriffsmethoden hätten Millionen Android-Handys gehackt werden können. ( Dirty Cow ,  Smartphone )  \n",
      "{'tech': 0.7552181937269411, 'nontech': 0.24478180627305904}\n",
      "\n",
      "Kaspersky OS: Kaspersky stellt eigenes Betriebssystem vor Sicher ohne Linux: Kaspersky hat ein eigenes Betriebssystem entwickelt. Das Unternehmen hat es nach eigenen Angaben komplett neu entwickelt. Es sei vor allem eins: sicher. ( Kaspersky ,  Betriebssystem )  \n",
      "{'tech': 0.7751710851704765, 'nontech': 0.2248289148295234}\n",
      "\n",
      "Filesharing: Hacker erbeuten Sourcecode von Mega.nz Mehrere Gbyte an Quellcode und einige Admin-Zugänge wurden bei dem von Kim Dotcom gegründeten Dienst Mega.nz kopiert. Nach Angaben des Unternehmens sind keine Nutzerdaten betroffen. ( Mega ,  Urheberrecht )  \n",
      "{'tech': 0.5121110414220745, 'nontech': 0.4878889585779256}\n",
      "\n",
      "Erpressungstrojaner: Ransomware-Programmierer wollte Crypto-Nachhilfe Auch wenn es mittlerweile zahlreiche Open-Source-Ransomware-Templates gibt, ist die Umsetzung von Verschlüsselungsfunktionen nach wie vor schwierig. Ein Entwickler wollte daher Nachhilfe - ausgerechnet von einem Sicherheitsforscher, der sich mit Ransomware beschäftigt. ( Ransomware ,  Virus )  \n",
      "{'tech': 0.5916497638689316, 'nontech': 0.4083502361310683}\n",
      "\n",
      "Google Project Brillo: IoT-Android wird sicherer als Smartphone-Android Google krempelt die Zusammenarbeit mit Herstellern für sein Internet-of-Things-System Brillo im Vergleich zu Android völlig um. So gibt es nur einen Linux-Kernel, der langfristig Updates erhalten soll. Die Geräte müssen zudem mehr als fünf Jahre lang gepflegt werden, was die Sicherheit erhöhen soll. ( Open Source ,  Google )  \n",
      "{'tech': 0.97413289022869, 'nontech': 0.025867109771309932}\n",
      "\n",
      "Copyright: US-Marine wehrt sich gegen Vorwurf der Softwarepiraterie Ein deutsches Software-Unternehmen fordert fast 600 Millionen US-Dollar von der US-Marine, weil diese angeblich hunderttausende Male Testversionen einer Software installiert hat, ohne dafür die Lizenzen zu besitzen. Die US-Regierung hat sich jetzt erstmals vor Gericht geäußert. ( Urheberrecht ,  Applikationen )  \n",
      "{'tech': 0.4709915374430785, 'nontech': 0.5290084625569216}\n",
      "\n",
      "Playstation Network: Gamer soll für DDOS auf Dyn verantwortlich sein Das eigentliche Ziel des DDoS-Angriffs, der Dienste wie Twitter, Amazon, Spotify und Netflix zeitweise lahmgelegt hat, soll Sonys Playstation Network gewesen sein. Diese Theorie äußert der Netzbetreiber Level 3 - Dyn selbst ist noch nicht überzeugt. ( Mirai-Botnetz ,  Virus )  \n",
      "{'tech': 0.5514246878720982, 'nontech': 0.4485753121279017}\n",
      "\n",
      "20 Jahre ICQ: Uh-oh, ich kann mich nicht trennen Vor 20 Jahren erschien mit ICQ einer der erfolgreichsten Chatdienste. Es veränderte das Kommunikationsverhalten einer Generation - auch das unseres Autors. ( ICQ ,  Instant Messenger )  \n",
      "{'tech': 0.35088762521231914, 'nontech': 0.6491123747876809}\n",
      "\n",
      "Verjährung: BGH verlängert Haftung für illegales Filesharing Der Bundesgerichtshof hat die Verjährungsfrist für illegales Filesharing auf zehn Jahre erhöht. Ob wirklich eine neue Welle von Abmahnungen folgt, ist noch unklar. ( Abmahnung ,  Tauschbörse )  \n",
      "{'tech': 0.614910611352113, 'nontech': 0.385089388647887}\n",
      "\n",
      "Connect 2016: Microsoft setzt alles auf die Cloud Zur Connect, Microsofts Entwicklermesse, wird endgültig klar, dass die Zukunft des Unternehmens im Cloud-Geschäft liegt. Das zeigt sich etwa an dem längst überfälligen Beitritt zur Linux Foundation oder dem neuen SQL Server. Bei der Mobile-Entwicklung sorgt Microsoft allein für Tools und das Cloud-Backend. ( Microsoft ,  IBM )  \n",
      "{'tech': 0.9617385225729701, 'nontech': 0.038261477427029844}\n",
      "\n",
      "Earth VR: Mit Google und dem Vive durch die Welt fliegen Mit Googles neuem Earth VR für das HTC Vive können Nutzer nicht nur durch virtuelle Straßen der Welt laufen, sondern sich komplett frei bewegen. Zur Orientierung verwenden Nutzer die Controller des Vive, auch Headtracking wird unterstützt. ( Google Earth ,  Google )  \n",
      "{'tech': 0.7120926667779989, 'nontech': 0.287907333222001}\n",
      "\n",
      "Chrome/Gstreamer: Windows 10 sicherer als Linux-Desktops Chrome speichert Dateien automatisch ab - und manche Linux-Distributionen verarbeiten die heruntergeladenen Dateien sofort mit extrem unsicherem Code von Gstreamer. Der Entdecker der Lücke meint, dass derart gravierende Schwächen zur Zeit in Windows nicht vorkommen. ( GStreamer ,  Fedora )  \n",
      "{'tech': 0.9969778679743888, 'nontech': 0.0030221320256112903}\n",
      "\n",
      "Civil Infrastructure Platform (CIP): Auf dem Weg zum Einheits-Linux im Kraftwerk Das CIP-Projekt der Linux Foundation möchte eine einheitliche Software-Basis zum Betrieb ziviler Infrastruktur schaffen. Wir haben uns mit Urs Gleim von Siemens über die Probleme und ambitionierten Pläne des Projekts unterhalten. ( Linux ,  Toshiba )  \n",
      "{'tech': 0.6241236939836448, 'nontech': 0.3758763060163552}\n",
      "\n",
      "Google: Android soll in Andromeda aufgehen Neue Tipps von mit der Entwicklung des mutmaßlichen neuen Google-Betriebssystems Andromeda beteiligten Personen weisen darauf hin, dass das System in der zweiten Jahreshälfte 2017 erscheint. Android soll dabei in Andromeda aufgehen, im Fokus soll das Benachrichtigungssystem stehen. ( Andromeda ,  Google )  \n",
      "{'tech': 0.9432423808710778, 'nontech': 0.05675761912892218}\n",
      "\n",
      "http://newsfeed.zeit.de/politik/index\n",
      "Jeb Bush: Er hat das I-Wort gesagt     Jeb Bush galt als der Republikaner mit den besten Aussichten auf die Präsidentschaftskandidatur. Bis er den Irakkrieg für richtig erklärte. Warum lief er in diese Falle?\n",
      "{'tech': 0.4120023392515302, 'nontech': 0.5879976607484698}\n",
      "\n",
      "Völkermord: Armenische Geschichtsstunde     Plötzlich spricht ganz Deutschland über den Völkermord an den Armeniern. Und das, obwohl die Bundesregierung den umstrittenen Begriff doch verschweigen wollte.\n",
      "{'tech': 0.4436551644831663, 'nontech': 0.5563448355168337}\n",
      "\n",
      "EU-Verteidigungspolitik: Kommission plant Fonds für gemeinsame Rüstungsprojekte     Die EU-Staaten sollen deutlich mehr Geld für Verteidigung ausgeben. Die Europäische Kommission will dafür einen gemeinsamen europäischen Verteidigungsfonds schaffen.\n",
      "{'tech': 0.21746854308499472, 'nontech': 0.7825314569150053}\n",
      "\n",
      "Bundesamt für Verfassungsschutz: Islamist konnte sich in Geheimdienst einschleichen     Beim Verfassungsschutz ist ein mutmaßlicher Islamist aufgeflogen. Laut Geheimdienstchef Hans-Georg Maaßen hatte er sich \"vom persönlichen Umfeld unbemerkt radikalisiert\".\n",
      "{'tech': 0.06654736798354019, 'nontech': 0.9334526320164598}\n",
      "\n",
      "Immobilienkauf: Hendricks plant Zuschüsse zum Eigenheim für Familien     Familien können sich womöglich bald über staatliche Unterstützung beim Haus- oder Wohnungskauf freuen. Die Zuschüsse sollen sich nach der Anzahl der Kinder richten.\n",
      "{'tech': 0.26967591580461103, 'nontech': 0.730324084195389}\n",
      "\n",
      "USA: Eine neue Ära der Superreichen     Donald Trump hat die Wahl mit Versprechen an die Mittelschicht gewonnen. Seine Steuerpläne begünstigen allerdings vor allem Menschen wie ihn.\n",
      "{'tech': 0.06359073117883228, 'nontech': 0.9364092688211677}\n",
      "\n",
      "US-Regierung: Trump will offenbar Ex-Banker Mnuchin als Finanzminister     Nach übereinstimmenden Medienberichten soll Steven Mnuchin Finanzminister unter Trump werden. Der Ex-Banker verantwortete bereits die Finanzierung von Trumps Wahlkampf.\n",
      "{'tech': 0.1312314762658231, 'nontech': 0.8687685237341769}\n",
      "\n",
      "China: Trumps Geschenk für Peking Der künftige US-Präsident will das Transpazifische Freihandelsabkommen aufkündigen. China kann sein Glück nicht fassen.\n",
      "{'tech': 0.2232235190681293, 'nontech': 0.7767764809318707}\n",
      "\n",
      "EU: Merkel angeblich gegen weitere Beitrittsverhandlungen     Die Kanzlerin hat sich laut einem Bericht dafür ausgesprochen, keine neuen Beitrittskapitel mit der Türkei zu eröffnen. Das EU-Parlament wollte noch weiter gehen.\n",
      "{'tech': 0.12914098362079804, 'nontech': 0.870859016379202}\n",
      "\n",
      "Syrien: Warnung vor schlimmstem Massaker seit dem Zweiten Weltkrieg     Der UN-Sicherheitsrat hat eine Dringlichkeitssitzung zur Lage in Aleppo einberufen. Die Situation dort werde immer unerträglicher, mahnte der französische UN-Botschafter.\n",
      "{'tech': 0.5477288995875415, 'nontech': 0.4522711004124586}\n",
      "\n",
      "Kuba: Staats- und Regierungschefs nehmen Abschied von Fidel Castro     In Havanna erwiesen zahlreiche Staats- und Regierungschefs dem verstorbenen Fidel Castro die letzte Ehre. Auch Hunderttausende Kubaner nahmen an der Trauerfeier teil.\n",
      "{'tech': 0.5248662702828687, 'nontech': 0.47513372971713125}\n",
      "\n",
      "Vollverschleierung: CSU sieht sich durch niederländisches Burkaverbot bestätigt     Nach dem Burkaverbot in den Niederlanden sieht die CSU gute Chancen, die Vollverschleierung auch in Deutschland zu verbieten. Diese sei die \"Uniform des Islamismus\".\n",
      "{'tech': 0.5733268382710869, 'nontech': 0.4266731617289131}\n",
      "\n",
      "Aleppo: Unicef warnt vor Winterkatastrophe in Syrien     16.000 Menschen sind nach UN-Angaben vor den Kämpfen in Ost-Aleppo geflohen. Menschenrechtler fürchten, dass sich die Lage in nächster Zeit noch verschlechtern wird.\n",
      "{'tech': 0.06855812243477724, 'nontech': 0.9314418775652227}\n",
      "\n",
      "Matteo Renzi: Sie glauben seinen Versprechen nicht mehr     Italiens Wirtschaft lahmt, der Jugend fehlt es an Arbeit und Perspektiven: Auch deshalb könnte der italienische Regierungschef Renzi sein Referendum am Sonntag verlieren.\n",
      "{'tech': 0.47478590594197917, 'nontech': 0.5252140940580208}\n",
      "\n",
      "Andrea Nahles: Mehr Freiheit, mehr Bildung, mehr Familie     Die Digitalisierung verändert die Arbeitswelt. Ministerin Nahles hat daraus nun erste Konsequenzen gezogen. Was schlägt sie vor und wer könnte davon profitieren?\n",
      "{'tech': 0.7176349910198795, 'nontech': 0.2823650089801205}\n",
      "\n",
      "http://www.welt.de/?service=Rss\n",
      "Flüchtlingskrise: Wie Afrika über Deutschlands Zukunft entscheidet Das Schicksal Europas hängt am Kontinent im Süden. Nur dort kann die Massenmigration gestoppt werden. Das Rezept dazu ist bekannt und erprobt – ob es diesmal funktioniert, ist eine Jahrhundertfrage.\n",
      "{'tech': 0.4198290234266039, 'nontech': 0.580170976573396}\n",
      "\n",
      "Österreich: Kampf um das untergegangene bürgerliche Milieu Die Stichwahl des neuen Bundespräsidenten wird wieder ein Kopf-an-Kopf-Rennen. Beide Kandidaten von den Rändern können nur mit den Stimmen des bürgerlichen Milieus gewinnen. Dieses ist tief gespalten.\n",
      "{'tech': 0.7059829620497154, 'nontech': 0.2940170379502845}\n",
      "\n",
      "EU-Studie: Angst treibt die Wähler zu den Rechtspopulisten Warum setzen die Menschen ihr Kreuz bei rechten Parteien? Laut einer Studie ist die eine tiefsitzende Angst entscheidend für die Wahl. Überraschend ist, dass innere Werte keine Rolle mehr spielen.\n",
      "{'tech': 0.02137931833785802, 'nontech': 0.978620681662142}\n",
      "\n",
      "Attacke gegen Telekom: Das verlangt de Maizière jetzt von den Bürgern Nach dem Hackerangriff auf die Telekom fordert Innenminister Thomas de Maizière \"mehr Haftung als bisher\" für die Hersteller von Routern. Doch auch die Bürger sieht er in der Pflicht.\n",
      "{'tech': 0.7098305064807203, 'nontech': 0.2901694935192797}\n",
      "\n",
      "Neuer US-Präsident: Sie glauben nicht, wo Donald Trump sich informiert Es sind äußerst trübe Quellen, die Trump inspirieren. Allem Anschein nach konsultiert der designierte US-Präsident regelmäßig eine Website, die sich auf wilde Verschwörungstheorien spezialisiert hat.\n",
      "{'tech': 0.09341686617109259, 'nontech': 0.9065831338289074}\n",
      "\n",
      "\"Zerstörerischer Streit\": Bodenpersonal begehrt gegen Lufthansa-Piloten auf Der Dauerstreik der Lufthansa-Piloten führt nicht nur bei Kunden zu Unmut, auch in der Belegschaft. Ohne Rückendeckung der Gewerkschaften soll demonstriert werden. Auch am Donnerstag fallen Flüge aus.\n",
      "{'tech': 0.12132349958720492, 'nontech': 0.878676500412795}\n",
      "\n",
      "Neue Gesetze: Das ändert sich für Verbraucher im Dezember Gratis-WLAN in der zweiten Klasse, neue Definition illegaler Drogen und neue Konto-Bedingungen: Zum Jahresausklang gibt es nicht nur für Bahn- und Bankkunden wieder einige Veränderungen.\n",
      "{'tech': 0.8501060888154794, 'nontech': 0.1498939111845205}\n",
      "\n",
      "Rassismus im Prenzlauer Berg: Unbekannte zeigen Hitlergruß und verprügeln 17-Jährigen Ein 17-Jähriger wird in Berlin von vier Männern rassistisch beleidigt und verprügelt. Die Täter sind flüchtig. Die Mutter des Opfers wendet sich mit einem bewegenden Hilferuf an die Öffentlichkeit.\n",
      "{'tech': 0.4082208645350456, 'nontech': 0.5917791354649544}\n",
      "\n",
      "Pärchentrend: Soll man dem Partner einen Adventskalender basteln? 24 Geschenke für einen erwachsenen Menschen - charmanter Vorweihnachtstrend? Oder total übertrieben? Unter bestimmten Bedingungen drückt der Adventskalender die Liebe zum anderen besonders gut aus.\n",
      "{'tech': 0.3022620506073937, 'nontech': 0.6977379493926064}\n",
      "\n",
      "Ben Woodburn: Das ist Klopps neuer Wunderknabe beim FC Liverpool Der FC Liverpool steht im Pokalhalbfinale. Auch weil Ben Woodburn gegen Leeds traf. Der 17-Jährige trug sich mit seinem Tor in die Geschichtsbücher ein. Trainer Klopp treibt nur eine Sorge um.\n",
      "{'tech': 0.3294940716808529, 'nontech': 0.670505928319147}\n",
      "\n"
     ]
    }
   ],
   "source": [
    "length = 0\n",
    "for feed in test:\n",
    "    print feed\n",
    "    f=feedparser.parse(feed)\n",
    "    for e in f.entries:\n",
    "        length += 1\n",
    "        fulltext=stripHTML(e.title+' '+e.description)\n",
    "        print fulltext\n",
    "        print naiveBayesClassifierTFStop.testDocument(fulltext)\n",
    "        print"
   ]
  },
  {
   "cell_type": "code",
   "execution_count": 77,
   "metadata": {
    "collapsed": true
   },
   "outputs": [],
   "source": [
    "feed_num = 1\n",
    "\n",
    "data = []\n",
    "\n",
    "for feed in test:\n",
    "    f=feedparser.parse(feed)\n",
    "    for e in f.entries:\n",
    "        length += 1\n",
    "        fulltext=stripHTML(e.title+' '+e.description)\n",
    "        pred_cat=get_highest_prob_cat(naiveBayesClassifierTFStop.testDocument(fulltext))\n",
    "        if feed_num == 1:\n",
    "            data.append([pred_cat, 'tech'])\n",
    "        else:\n",
    "            data.append([pred_cat, 'nontech'])\n",
    "    feed_num += 1\n",
    "\n",
    "    \n",
    "data = pd.DataFrame(data)"
   ]
  },
  {
   "cell_type": "code",
   "execution_count": 78,
   "metadata": {
    "collapsed": false
   },
   "outputs": [
    {
     "name": "stdout",
     "output_type": "stream",
     "text": [
      "Accuracy:  0.815384615385\n"
     ]
    }
   ],
   "source": [
    "accuracy = accuracy_score(data[1].values, data[0].values)\n",
    "print 'Accuracy: ', accuracy"
   ]
  },
  {
   "cell_type": "code",
   "execution_count": 71,
   "metadata": {
    "collapsed": false
   },
   "outputs": [
    {
     "data": {
      "text/plain": [
       "array([[ 7, 18],\n",
       "       [ 1, 39]])"
      ]
     },
     "execution_count": 71,
     "metadata": {},
     "output_type": "execute_result"
    }
   ],
   "source": [
    "confus = confusion_matrix(data[1].values, data[0].values)\n",
    "confus"
   ]
  },
  {
   "cell_type": "code",
   "execution_count": 79,
   "metadata": {
    "collapsed": false
   },
   "outputs": [
    {
     "name": "stdout",
     "output_type": "stream",
     "text": [
      "Precision for categorie tech: 0.833333\n",
      "Precision for categorie nontech: 0.782609\n"
     ]
    }
   ],
   "source": [
    "tech_prec = precision_score(data[1].values, data[0].values, pos_label='tech')\n",
    "nontech_prec = precision_score(data[1].values, data[0].values, pos_label='nontech')\n",
    "\n",
    "print 'Precision for categorie tech: %f' % (tech_prec)\n",
    "print 'Precision for categorie nontech: %f' % (nontech_prec)"
   ]
  },
  {
   "cell_type": "code",
   "execution_count": 80,
   "metadata": {
    "collapsed": false
   },
   "outputs": [
    {
     "name": "stdout",
     "output_type": "stream",
     "text": [
      "Recall for categorie tech: 0.875000\n",
      "Recall for categorie nontech: 0.720000\n"
     ]
    }
   ],
   "source": [
    "tech_recall = recall_score(data[1].values, data[0].values, pos_label='tech')\n",
    "nontech_recall = recall_score(data[1].values, data[0].values, pos_label='nontech')\n",
    "\n",
    "print 'Recall for categorie tech: %f' % (tech_recall)\n",
    "print 'Recall for categorie nontech: %f' % (nontech_recall)"
   ]
  },
  {
   "cell_type": "code",
   "execution_count": 81,
   "metadata": {
    "collapsed": false
   },
   "outputs": [
    {
     "name": "stdout",
     "output_type": "stream",
     "text": [
      "F1-Score for categorie tech: 0.853659\n",
      "F1-Score for categorie nontech: 0.750000\n"
     ]
    }
   ],
   "source": [
    "tech_f1 = f1_score(data[1].values, data[0].values, pos_label='tech')\n",
    "nontech_f1 = f1_score(data[1].values, data[0].values, pos_label='nontech')\n",
    "\n",
    "print 'F1-Score for categorie tech: %f' % (tech_f1)\n",
    "print 'F1-Score for categorie nontech: %f' % (nontech_f1)"
   ]
  },
  {
   "cell_type": "markdown",
   "metadata": {},
   "source": [
    "### Auswertung token frequency\n",
    "**Wie man schon an der Accuracy gut erkennen kann, hat das Entfernen von den so genannten \"Stop words\" den Wert wieder deutlich verbessert und jetzt sogar besser als den Ausgangswert gemacht.**  \n",
    "**Die accuracy hat sich demnach so verändert:**      \n",
    "**0.7384615384615385 --token frequency--> 0.707692307692 --stop words + TF--> 0.815384615385**  \n",
    "\n",
    "**Dadurch haben wir eine Verbesserung der accuracy um fast 10% zum Startwert.**    \n",
    "\n",
    "**Der letzte Schritt wäre das Verwenden der TF-IDF Werte pro Wort, was dazu führt, dass Worte die in vielen oder allen Dokumenten vorkommen immer weniger berücksichtigt werden.**"
   ]
  },
  {
   "cell_type": "markdown",
   "metadata": {},
   "source": [
    "--------------"
   ]
  },
  {
   "cell_type": "markdown",
   "metadata": {},
   "source": [
    "### TF-IDF + removed Stop words   \n",
    "(experimental -> maybe wrong implementation)"
   ]
  },
  {
   "cell_type": "code",
   "execution_count": 109,
   "metadata": {
    "collapsed": false,
    "scrolled": true
   },
   "outputs": [],
   "source": [
    "corpus = []\n",
    "\n",
    "for feed in trainTech:\n",
    "    f=feedparser.parse(feed)\n",
    "    for e in f.entries:\n",
    "        fulltext=stripHTML(e.title+' '+e.description)\n",
    "        corpus.append(fulltext)\n",
    "        \n",
    "for feed in trainNonTech:\n",
    "    f=feedparser.parse(feed)\n",
    "    for e in f.entries:\n",
    "        fulltext=stripHTML(e.title+' '+e.description)\n",
    "        corpus.append(fulltext)\n",
    "        \n",
    "for feed in test:\n",
    "    f=feedparser.parse(feed)\n",
    "    for e in f.entries:\n",
    "        fulltext=stripHTML(e.title+' '+e.description)\n",
    "        corpus.append(fulltext)"
   ]
  },
  {
   "cell_type": "code",
   "execution_count": 149,
   "metadata": {
    "collapsed": false
   },
   "outputs": [],
   "source": [
    "from gensim import corpora\n",
    "\n",
    "cleaned_corpus = [[word for word in nltk.regexp_tokenize(text, r\"[\\wäöüÄÖÜß]+\") if word not in stops] for text in corpus]\n",
    "\n",
    "#removing words that only occur once <- bad for such a small corpus like this one\n",
    "#remone_corpus = [[word for word in text if text.count(word) > 1] for text in cleaned_corpus]\n",
    "\n",
    "dictionary = corpora.Dictionary(cleaned_corpus)\n",
    "fin_corpus = [dictionary.doc2bow(text) for text in cleaned_corpus]"
   ]
  },
  {
   "cell_type": "code",
   "execution_count": 150,
   "metadata": {
    "collapsed": false
   },
   "outputs": [],
   "source": [
    "from gensim.models.tfidfmodel import TfidfModel\n",
    "\n",
    "tfidf = TfidfModel(fin_corpus)"
   ]
  },
  {
   "cell_type": "code",
   "execution_count": 151,
   "metadata": {
    "collapsed": true
   },
   "outputs": [],
   "source": [
    "#improved by removing stop words and using tf-idf instead of just 1 for every word\n",
    "\n",
    "def getwordsTFIDFStop(docText):\n",
    "    \n",
    "    sentence = nltk.regexp_tokenize(docText.lower(), r\"[\\wäöüÄÖÜß]+\")\n",
    "    new_vec = dictionary.doc2bow(sentence)\n",
    "    \n",
    "    vec_vals = tfidf[new_vec]\n",
    "    \n",
    "    wordDict = {x[0]: x[1] for x in vec_vals}\n",
    "    \n",
    "    return wordDict"
   ]
  },
  {
   "cell_type": "code",
   "execution_count": 152,
   "metadata": {
    "collapsed": false
   },
   "outputs": [
    {
     "data": {
      "text/plain": [
       "{15: 0.11859106501112245,\n",
       " 158: 0.4820848074589438,\n",
       " 392: 0.19911426697442242,\n",
       " 817: 0.17487436783656035,\n",
       " 845: 0.15063446869869826,\n",
       " 926: 0.19911426697442242,\n",
       " 1070: 0.32138987163929583,\n",
       " 1458: 0.17487436783656035,\n",
       " 1683: 0.1428309641489845,\n",
       " 1962: 0.5973428009232672,\n",
       " 2289: 0.17487436783656035,\n",
       " 2503: 0.19911426697442242,\n",
       " 3676: 0.19911426697442242}"
      ]
     },
     "execution_count": 152,
     "metadata": {},
     "output_type": "execute_result"
    }
   ],
   "source": [
    "text = 'Call of Duty: Black Ops 3 (PS4)   Darauf warten die Shooter-Fans! Call of Duty: Black Ops 3 kommt heute in die Läden. Wir haben den Einzelspieler-Part des bombastischen Shooters vorab auf der PlayStation 4 getestet und dürfen schon jetzt sagen: Black Ops 3 liefert auf hohem Niveau ganz genau das, was sich Fans der Serie erwarten.'\n",
    "getwordsTFIDFStop(text)"
   ]
  },
  {
   "cell_type": "code",
   "execution_count": 161,
   "metadata": {
    "collapsed": false
   },
   "outputs": [],
   "source": [
    "naiveBayesClassifierTFIDFStop = NaiveBayesClassifier(getwordsTFIDFStop)\n",
    "\n",
    "for feed in trainTech:\n",
    "    f=feedparser.parse(feed)\n",
    "    for e in f.entries:\n",
    "        fulltext=stripHTML(e.title+' '+e.description)\n",
    "        naiveBayesClassifierTFIDFStop.train(fulltext, 'tech')\n",
    "\n",
    "for feed in trainNonTech:\n",
    "    f=feedparser.parse(feed)\n",
    "    for e in f.entries:\n",
    "        fulltext=stripHTML(e.title+' '+e.description)\n",
    "        naiveBayesClassifierTFIDFStop.train(fulltext, 'nontech')"
   ]
  },
  {
   "cell_type": "code",
   "execution_count": 162,
   "metadata": {
    "collapsed": false
   },
   "outputs": [
    {
     "name": "stdout",
     "output_type": "stream",
     "text": [
      "http://rss.golem.de/rss.php?r=sw&feed=RSS0.91\n",
      "0-Day: Nutzer des Tor-Browsers werden mit Javascript angegriffen Wer den Tor-Browsers nutzt, will meist vor allem eins: Anonymität. Eine aktuelle Schwachstelle im Firefox-Browser führt aber dazu, dass Nutzer identifiziert werden können. Das Problem betrifft auch Nutzer des regulären Firefox - ein Patch ist in Arbeit. ( Tor-Netzwerk ,  Firefox )  \n",
      "{'tech': 0.5530508213327098, 'nontech': 0.4469491786672901}\n",
      "\n",
      "Weitere Entlassungen: Cyanogen soll Hauptbüro in Seattle schließen Das Hauptbüro von Cyanogen soll internen und externen Quellen zufolge geschlossen werden - ein Großteil der Angestellten soll entlassen werden. Auch die Zukunft von Cyanogenmod-Gründer Steve Kondik ist offenbar unklar, einige Mitarbeiter können wohl in das kleinere Büro in Kalifornien wechseln. ( Cyanogen OS ,  Applikationen )  \n",
      "{'tech': 0.504242318287525, 'nontech': 0.49575768171247503}\n",
      "\n",
      "Nach Angriff auf Telekom: Mit dem Strafrecht Router ins Terrorcamp schicken oder so Nach der Überflutung kommen die Mücken und nach dem Telekom-Hack die unsinnigen Vorschläge aus der Politik. Dem Unternehmen kann das nur recht sein, so kann es von seinen eigenen Fehlern ablenken. ( Security ,  Netzwerk )  \n",
      "{'tech': 0.4958983666416128, 'nontech': 0.5041016333583872}\n",
      "\n",
      "Adreno: Aktuelle Qualcomm-GPUs bekommen freien Treiber Für die 500er-Reihe von Qualcomms Adreno-GPUs stehen erste Patches für einen freien Linux-Treiber bereit. Der Code umfasst Kernel- und Userspace und stammt teilweise von Qualcomm selbst. Android-Updates könnten damit künftig wesentlich einfacher werden. ( Linux-Kernel ,  Treiber )  \n",
      "{'tech': 0.5336498125664613, 'nontech': 0.4663501874335387}\n",
      "\n",
      "Botnetz: Telekom-Routerausfälle waren nur Kollateralschaden Eine Variante des Mirai-Botnetzes auf Routern hat zahlreiche Ausfälle bei Telekom-Kunden verursacht. Allerdings waren die Telekom-Router selbst nicht Teil des Botnetzes, sie wurden lediglich durch die Angriffsversuche lahmgelegt. ( Telekom ,  Virus )  \n",
      "{'tech': 0.4820723561956315, 'nontech': 0.5179276438043685}\n",
      "\n",
      "Videolan: Neuer VLC-Player spielt 360-Grad-Videos ab Die Technical Preview des VLC-Players eignet sich zur Wiedergabe von 360-Grad-Videos inklusive Rotieren der Kamera per Maus. Künftig will Videolan auch VR-Headsets unterstützen. ( VLC ,  Applikationen )  \n",
      "{'tech': 0.5746671294556851, 'nontech': 0.4253328705443149}\n",
      "\n",
      "Virtualisierungslösung: Update von Parallels Desktop 12 schränkt Funktionen ein Parallels Desktop 12 ermöglicht es seit dem Update auf Version 12.1 nicht mehr, virtuelle Maschinen mit mehr als acht GByte RAM und vier virtuellen Prozessoren einzurichten. Nur die Aboversion arbeitet ohne Einschränkungen. ( Parallels ,  Mac OS X )  \n",
      "{'tech': 0.5689237319196037, 'nontech': 0.4310762680803963}\n",
      "\n",
      "Adblocker: Auch Spiegel Online verliert gegen Adblock Plus Ein weiteres Medium hat vor Gericht gegen Adblock-Plus verloren. Eine kleine Hoffnung für Verleger gibt es trotzdem: Die Adblockerquote ist insgesamt leicht rückläufig. ( Adblock Plus ,  Onlinewerbung )  \n",
      "{'tech': 0.49916617335892977, 'nontech': 0.5008338266410702}\n",
      "\n",
      "Gehackte Zugänge: Kriminelle versenden Malware mit Mailchimp-Accounts Kriminelle nutzen offenbar übernommene Mailchimp-Accounts, um Malware zu verbreiten. Das geschieht vor allem über Mails mit angeblichen Rechnungen. Alle 2.000 betroffenen Accounts wurden vorläufig stillgelegt. ( Malware ,  Virus )  \n",
      "{'tech': 0.5175572816922649, 'nontech': 0.482442718307735}\n",
      "\n",
      "Deutscher Wetterdienst: Wetter-App zeigt mehr Gefahrenprognosen Der Deutsche Wetterdienst hat seine Wetter-App für Android und iOS aktualisiert und informiert darin jetzt auch über weitere Gefahrenprognosen. Bei Hochwasser, Sturmfluten und Lawinen erhalten Nutzer vorher eine Warnung. ( App )  \n",
      "{'tech': 0.5389353480087334, 'nontech': 0.4610646519912665}\n",
      "\n",
      "Spionage: Malware kann Kopfhörer als Mikrofon nutzen Kein Umbau erforderlich: Ein Programm kann Kopfhörer und andere Lautsprecher ohne Verstärker als Mikrofon verwenden - ohne das Wissen des Nutzers. ( Security ,  Sound-Hardware )  \n",
      "{'tech': 0.5110192012383927, 'nontech': 0.48898079876160727}\n",
      "\n",
      "Google: Chromebooks bekommen \"Wake on Voice\" Mit einem Gerät sprechen, um es aus dem Ruhezustand zu wecken, geht nicht mehr nur mit Smartphones, sondern auch mit einem Chromebook. Die Funktion ist ein weiteres Indiz für das Verschmelzen von ChromeOS und Android. ( Chromebook ,  Google )  \n",
      "{'tech': 0.5535337943663837, 'nontech': 0.4464662056336163}\n",
      "\n",
      "2-Faktor-Authentifizierung: Google warnt mehrere prominente Personen vor Staatshackern Eine Warnung vor staatlichen Hackerangriffen auf Google-Konten sorgt derzeit in den USA für Diskussionen. Vor allem Journalisten und Diplomaten erhielten die Warnung, auch in der Türkei gibt es Betroffene. ( Security ,  Applikationen )  \n",
      "{'tech': 0.5294436562329149, 'nontech': 0.47055634376708505}\n",
      "\n",
      "Blog-Software: Gravierender Fehler in Wordpress Auto-Update gefunden Weil der zentrale Update-Server von Wordpress unsichere Hashfunktionen zulässt, hätten Angreifer Code ausführen und massenhaft Wordpress-Installationen angreifen können. Die Sicherheitslücke wurde mittlerweile geschlossen. ( Wordpress ,  Blog )  \n",
      "{'tech': 0.5204641536494609, 'nontech': 0.47953584635053903}\n",
      "\n",
      "SCCACHE: Mozilla baut geteilten Compiler-Cache in Rust Ein weiteres wichtiges Stück Infrastruktur bei Mozilla ist in die Sprache Rust portiert worden: der geteilte Compiler-Cache (Sccache). Builds verschiedener Systeme können damit ihre Ergebnisse teilen, was dank Rust jetzt schneller geht. ( Mozilla ,  Server )  \n",
      "{'tech': 0.5218347511800393, 'nontech': 0.4781652488199608}\n",
      "\n",
      "Webstatistik: Alexa-Daten temporär wieder verfügbar Eine Ankündigung der Firma Alexa, ihre Statistik über die beliebtesten Webseiten künftig nur noch kostenpflichtig anzubieten, führte zu einigen Protesten. Jetzt sind die Daten - zumindest temporär - wieder verfügbar. ( Open Data ,  Studie )  \n",
      "{'tech': 0.513182466087016, 'nontech': 0.486817533912984}\n",
      "\n",
      "Update: Google will Android 7.1.1 im Dezember 2016 veröffentlichen Google verteilt eine neue Entwicklervorschau für Android 7.1.1 und hat im Zuge dessen mitgeteilt, wann das Update allgemein verfügbar sein wird: Im Dezember 2016 soll es für drei Nexus-Geräte, das Pixel C und für andere Gerätehersteller zur Verfügung stehen. ( Android 7.0 ,  Google )  \n",
      "{'tech': 0.5940931200556572, 'nontech': 0.4059068799443427}\n",
      "\n",
      "Linux-Distribution: Fedora 25 erscheint mit Wayland als Standard Als erste große Linux-Distribution verabschiedet sich Fedora in Version 25 von X11 und nutzt Wayland als Standard. Außerdem hat das Team versucht, teils mehrere Jahre alte Probleme nutzerfreundlich zu lösen - dazu gehört auch der MP3-Support. ( Fedora ,  Gnome )  \n",
      "{'tech': 0.525256786770859, 'nontech': 0.4747432132291411}\n",
      "\n",
      "Windows Holographic: Microsofts AR-Plattform benötigt eine DX12-Grafikkarte Die Windows-10-Preview enthält eine App, die testet, ob der PC flott genug für das Creator's Update mit AR-Unterstützung ist. Die Systemanforderungen offenbaren interessante Details. ( Augmented Reality ,  DirectX )  \n",
      "{'tech': 0.5442880885015853, 'nontech': 0.4557119114984146}\n",
      "\n",
      "Alexa-Statistik: Liste der beliebtesten Webseiten nicht mehr kostenlos Jahrelang stellte die Firma Alexa eine Liste der eine Million beliebtesten Webseiten bereit. Viele nutzten sie für Forschungszwecke. Damit ist jetzt Schluss: Die Daten gibt's nur noch gegen Bezahlung. ( Open Data ,  API )  \n",
      "{'tech': 0.5298979243966659, 'nontech': 0.4701020756033341}\n",
      "\n",
      "Testbetrieb: Facebook sucht nach WLAN-Hotspots Die Facebook-App will das gleichnamige soziale Netzwerk auch für die Suche von kostenlos nutzbaren WLAN-Zugängen nutzen. Derzeit wird begrenzt die Funktion getestet in einer integrierten Kartenansicht WLAN-SSIDs aufzuspüren, um sie zu nutzen. ( Facebook ,  WLAN )  \n",
      "{'tech': 0.509029120548751, 'nontech': 0.49097087945124895}\n",
      "\n",
      "Windows 10 Mobile: Microsoft plant eine x86-Emulation für ARM Microsoft arbeitet an einer x86-Emulation in Windows 10 Mobile. Damit sollen herkömmliche Windows-Programme auch auf ARM64-Geräten funktionieren. Bis das passiert, dauert es aber noch lange. ( Windows 10 Mobile ,  Microsoft )  \n",
      "{'tech': 0.5514312221893442, 'nontech': 0.4485687778106558}\n",
      "\n",
      "Vivaldi 1.5: Browser mit Lampensteuerung Mehr Browserkomfort verspricht Vivaldi 1.5. Der Browser kann Philips-Hue-Lampen ansteuern und die Tab-Verwaltung ist umfangreicher geworden. Außerdem gibt es einen Lesemodus, eine bessere Notizfunktion und kompaktere Updates. ( Vivaldi ,  Browser )  \n",
      "{'tech': 0.5744103479158417, 'nontech': 0.4255896520841583}\n",
      "\n",
      "Prozessoren und LTE-Modems: Qualcomm startet begrenztes Bug-Bounty-Programm In Android-Security-Updates finden sich häufig Schwachstellen in Qualcomm-Produkten. Das Unternehmen will die Security mit einem neuen Bug-Bounty-Programm verbessern - hat jedoch einige Einschränkungen. ( Qualcomm ,  Linux-Kernel )  \n",
      "{'tech': 0.5299427350763455, 'nontech': 0.47005726492365457}\n",
      "\n",
      "Mirai-IoT-Botnet: IP-Kamera nach 98 Sekunden mit Malware infiziert Droht die Netzwerkapokalypse, sobald ein unsicheres IoT-Gerät im Heimnetzwerk angeschlossen wurde? Der Sicherheitsforscher Rob Graham hat es ausprobiert - und sich innerhalb von 98 Sekunden die erste Infektion abgeholt. ( Mirai-Botnetz ,  Virus )  \n",
      "{'tech': 0.5064295901645374, 'nontech': 0.49357040983546274}\n",
      "\n",
      "Insider Build mit Powershell: Windows CMD.exe wird durch Open Source ersetzt Im aktuellen Insider Build 14971 von Windows 10 wird die Kommandozeile CMD.exe durch die Powershell ersetzt. Die einfache Eingabeaufforderung verschwindet zwar noch nicht ganz, ein zentraler Bestandteil von Windows ist damit künftig aber Open Source. ( Microsoft ,  .Net )  \n",
      "{'tech': 0.5555456135092587, 'nontech': 0.44445438649074137}\n",
      "\n",
      "Raspberry Pi: Der mit dem 64-Bit-Kernel tanzt Die Raspberry Pi Foundation sorgt dafür, dass auf der Version 3 ihres Minirechners ein 32-Bit-Linux startet - und das, obwohl der neue Raspberry Pi eine reinrassige 64-Bit-CPU hat. Echte Linux-Kern-Techniker lässt die angezogene Handbremse nicht ruhen. ( Raspberry Pi ,  Linux-Kernel )  \n",
      "{'tech': 0.5546924925395578, 'nontech': 0.4453075074604422}\n",
      "\n",
      "Android-Backdoor: Schwere Sicherheitslücke in China-Handys entdeckt In der Firmware chinesischer Billig-Handys haben Sicherheitsexperten erstaunliche Lücken entdeckt. Selbst ohne ausgefeilte Angriffsmethoden hätten Millionen Android-Handys gehackt werden können. ( Dirty Cow ,  Smartphone )  \n",
      "{'tech': 0.5141614664111709, 'nontech': 0.48583853358882917}\n",
      "\n",
      "Kaspersky OS: Kaspersky stellt eigenes Betriebssystem vor Sicher ohne Linux: Kaspersky hat ein eigenes Betriebssystem entwickelt. Das Unternehmen hat es nach eigenen Angaben komplett neu entwickelt. Es sei vor allem eins: sicher. ( Kaspersky ,  Betriebssystem )  \n",
      "{'tech': 0.5486322981398174, 'nontech': 0.45136770186018266}\n",
      "\n",
      "Filesharing: Hacker erbeuten Sourcecode von Mega.nz Mehrere Gbyte an Quellcode und einige Admin-Zugänge wurden bei dem von Kim Dotcom gegründeten Dienst Mega.nz kopiert. Nach Angaben des Unternehmens sind keine Nutzerdaten betroffen. ( Mega ,  Urheberrecht )  \n",
      "{'tech': 0.49126082522651526, 'nontech': 0.5087391747734847}\n",
      "\n",
      "Erpressungstrojaner: Ransomware-Programmierer wollte Crypto-Nachhilfe Auch wenn es mittlerweile zahlreiche Open-Source-Ransomware-Templates gibt, ist die Umsetzung von Verschlüsselungsfunktionen nach wie vor schwierig. Ein Entwickler wollte daher Nachhilfe - ausgerechnet von einem Sicherheitsforscher, der sich mit Ransomware beschäftigt. ( Ransomware ,  Virus )  \n",
      "{'tech': 0.5145178952606588, 'nontech': 0.4854821047393411}\n",
      "\n",
      "Google Project Brillo: IoT-Android wird sicherer als Smartphone-Android Google krempelt die Zusammenarbeit mit Herstellern für sein Internet-of-Things-System Brillo im Vergleich zu Android völlig um. So gibt es nur einen Linux-Kernel, der langfristig Updates erhalten soll. Die Geräte müssen zudem mehr als fünf Jahre lang gepflegt werden, was die Sicherheit erhöhen soll. ( Open Source ,  Google )  \n",
      "{'tech': 0.5310258720122978, 'nontech': 0.46897412798770216}\n",
      "\n",
      "Copyright: US-Marine wehrt sich gegen Vorwurf der Softwarepiraterie Ein deutsches Software-Unternehmen fordert fast 600 Millionen US-Dollar von der US-Marine, weil diese angeblich hunderttausende Male Testversionen einer Software installiert hat, ohne dafür die Lizenzen zu besitzen. Die US-Regierung hat sich jetzt erstmals vor Gericht geäußert. ( Urheberrecht ,  Applikationen )  \n",
      "{'tech': 0.4878499067455587, 'nontech': 0.5121500932544413}\n",
      "\n",
      "Playstation Network: Gamer soll für DDOS auf Dyn verantwortlich sein Das eigentliche Ziel des DDoS-Angriffs, der Dienste wie Twitter, Amazon, Spotify und Netflix zeitweise lahmgelegt hat, soll Sonys Playstation Network gewesen sein. Diese Theorie äußert der Netzbetreiber Level 3 - Dyn selbst ist noch nicht überzeugt. ( Mirai-Botnetz ,  Virus )  \n",
      "{'tech': 0.5039895273769798, 'nontech': 0.49601047262302017}\n",
      "\n",
      "20 Jahre ICQ: Uh-oh, ich kann mich nicht trennen Vor 20 Jahren erschien mit ICQ einer der erfolgreichsten Chatdienste. Es veränderte das Kommunikationsverhalten einer Generation - auch das unseres Autors. ( ICQ ,  Instant Messenger )  \n",
      "{'tech': 0.4914529914529914, 'nontech': 0.5085470085470085}\n",
      "\n",
      "Verjährung: BGH verlängert Haftung für illegales Filesharing Der Bundesgerichtshof hat die Verjährungsfrist für illegales Filesharing auf zehn Jahre erhöht. Ob wirklich eine neue Welle von Abmahnungen folgt, ist noch unklar. ( Abmahnung ,  Tauschbörse )  \n",
      "{'tech': 0.5213107157748329, 'nontech': 0.47868928422516716}\n",
      "\n",
      "Connect 2016: Microsoft setzt alles auf die Cloud Zur Connect, Microsofts Entwicklermesse, wird endgültig klar, dass die Zukunft des Unternehmens im Cloud-Geschäft liegt. Das zeigt sich etwa an dem längst überfälligen Beitritt zur Linux Foundation oder dem neuen SQL Server. Bei der Mobile-Entwicklung sorgt Microsoft allein für Tools und das Cloud-Backend. ( Microsoft ,  IBM )  \n",
      "{'tech': 0.5584604064049584, 'nontech': 0.4415395935950415}\n",
      "\n",
      "Earth VR: Mit Google und dem Vive durch die Welt fliegen Mit Googles neuem Earth VR für das HTC Vive können Nutzer nicht nur durch virtuelle Straßen der Welt laufen, sondern sich komplett frei bewegen. Zur Orientierung verwenden Nutzer die Controller des Vive, auch Headtracking wird unterstützt. ( Google Earth ,  Google )  \n",
      "{'tech': 0.5063373891296125, 'nontech': 0.4936626108703875}\n",
      "\n",
      "Chrome/Gstreamer: Windows 10 sicherer als Linux-Desktops Chrome speichert Dateien automatisch ab - und manche Linux-Distributionen verarbeiten die heruntergeladenen Dateien sofort mit extrem unsicherem Code von Gstreamer. Der Entdecker der Lücke meint, dass derart gravierende Schwächen zur Zeit in Windows nicht vorkommen. ( GStreamer ,  Fedora )  \n",
      "{'tech': 0.6275006496940467, 'nontech': 0.3724993503059534}\n",
      "\n",
      "Civil Infrastructure Platform (CIP): Auf dem Weg zum Einheits-Linux im Kraftwerk Das CIP-Projekt der Linux Foundation möchte eine einheitliche Software-Basis zum Betrieb ziviler Infrastruktur schaffen. Wir haben uns mit Urs Gleim von Siemens über die Probleme und ambitionierten Pläne des Projekts unterhalten. ( Linux ,  Toshiba )  \n",
      "{'tech': 0.4956896551724138, 'nontech': 0.5043103448275862}\n",
      "\n",
      "http://newsfeed.zeit.de/politik/index\n",
      "Syrien: Israel soll Außenbezirke von Damaskus beschossen haben     Die israelische Luftwaffe habe Raketen auf Ziele bei Damaskus gefeuert, meldet Syriens Staatsfernsehen. Der Angriff soll einer Straße nach Beirut gegolten haben.\n",
      "{'tech': 0, 'nontech': 0}\n",
      "\n",
      "Schulsanierung: Regierung stellt Milliarden für marode Schulen bereit     Viele Schulen in Deutschland sind in einem traurigen Zustand. Mit einem Milliardenprogramm will die Bundesregierung finanzschwachen Kommunen bei der Renovierung helfen.\n",
      "{'tech': 0.48273189780183756, 'nontech': 0.5172681021981624}\n",
      "\n",
      "Nato: Was sind uns die Balten wert?     Moskau begründet die neuen Raketen mit der alten Leier vom angeblichen US-Wettrüsten. Leider verfängt der Trick, mit Folgen für die Solidarität der Deutschen in der Nato.\n",
      "{'tech': 0.5334224749694226, 'nontech': 0.46657752503057737}\n",
      "\n",
      "EU-Verteidigungspolitik: Kommission plant Fonds für gemeinsame Rüstungsprojekte     Die EU-Staaten sollen deutlich mehr Geld für Verteidigung ausgeben. Die Europäische Kommission will dafür einen gemeinsamen europäischen Verteidigungsfonds schaffen.\n",
      "{'tech': 0.5418279700289139, 'nontech': 0.4581720299710862}\n",
      "\n",
      "Bundesamt für Verfassungsschutz: Islamist konnte sich in Geheimdienst einschleichen     Beim Verfassungsschutz ist ein mutmaßlicher Islamist aufgeflogen. Laut Geheimdienstchef Hans-Georg Maaßen hatte er sich \"vom persönlichen Umfeld unbemerkt radikalisiert\".\n",
      "{'tech': 0.4988365104426973, 'nontech': 0.5011634895573027}\n",
      "\n",
      "Immobilienkauf: Hendricks plant Zuschüsse zum Eigenheim für Familien     Familien können sich womöglich bald über staatliche Unterstützung beim Haus- oder Wohnungskauf freuen. Die Zuschüsse sollen sich nach der Anzahl der Kinder richten.\n",
      "{'tech': 0.4999063979466908, 'nontech': 0.5000936020533092}\n",
      "\n",
      "USA: Eine neue Ära der Superreichen     Donald Trump hat die Wahl mit Versprechen an die Mittelschicht gewonnen. Seine Steuerpläne begünstigen allerdings vor allem Menschen wie ihn.\n",
      "{'tech': 0.5085375734596382, 'nontech': 0.49146242654036176}\n",
      "\n",
      "US-Regierung: Trump will offenbar Ex-Banker Mnuchin als Finanzminister     Nach übereinstimmenden Medienberichten soll Steven Mnuchin Finanzminister unter Trump werden. Der Ex-Banker verantwortete bereits die Finanzierung von Trumps Wahlkampf.\n",
      "{'tech': 0.49249125244316677, 'nontech': 0.5075087475568332}\n",
      "\n",
      "China: Trumps Geschenk für Peking Der künftige US-Präsident will das Transpazifische Freihandelsabkommen aufkündigen. China kann sein Glück nicht fassen.\n",
      "{'tech': 0.4829839534588332, 'nontech': 0.5170160465411668}\n",
      "\n",
      "Türkei: Merkel bekräftigt Position zu Beitrittsverhandlungen     Angela Merkel lehnt eine Ausweitung der Beitrittsverhandlungen mit der Türkei weiter ab. Das EU-Parlament wollte dagegen noch weitergehen.\n",
      "{'tech': 0.5365174674333568, 'nontech': 0.4634825325666432}\n",
      "\n",
      "Syrien: Warnung vor schlimmstem Massaker seit dem Zweiten Weltkrieg     Der UN-Sicherheitsrat hat eine Dringlichkeitssitzung zur Lage in Aleppo einberufen. Die Situation dort werde immer unerträglicher, mahnte der französische UN-Botschafter.\n",
      "{'tech': 0.5375557098821186, 'nontech': 0.46244429011788135}\n",
      "\n",
      "Kuba: Staats- und Regierungschefs nehmen Abschied von Fidel Castro     In Havanna erwiesen zahlreiche Staats- und Regierungschefs dem verstorbenen Fidel Castro die letzte Ehre. Auch Hunderttausende Kubaner nahmen an der Trauerfeier teil.\n",
      "{'tech': 0.5018284548617831, 'nontech': 0.49817154513821693}\n",
      "\n",
      "Vollverschleierung: CSU sieht sich durch niederländisches Burkaverbot bestätigt     Nach dem Burkaverbot in den Niederlanden sieht die CSU gute Chancen, die Vollverschleierung auch in Deutschland zu verbieten. Diese sei die \"Uniform des Islamismus\".\n",
      "{'tech': 0.505194497160537, 'nontech': 0.49480550283946295}\n",
      "\n",
      "Aleppo: Unicef warnt vor Winterkatastrophe in Syrien     16.000 Menschen sind nach UN-Angaben vor den Kämpfen in Ost-Aleppo geflohen. Menschenrechtler fürchten, dass sich die Lage in nächster Zeit noch verschlechtern wird.\n",
      "{'tech': 0.5065761049756262, 'nontech': 0.49342389502437384}\n",
      "\n",
      "Matteo Renzi: Sie glauben seinen Versprechen nicht mehr     Italiens Wirtschaft lahmt, der Jugend fehlt es an Arbeit und Perspektiven: Auch deshalb könnte der italienische Regierungschef Renzi sein Referendum am Sonntag verlieren.\n",
      "{'tech': 0.5026724537539187, 'nontech': 0.4973275462460813}\n",
      "\n",
      "http://www.welt.de/?service=Rss\n",
      "Flüchtlingskrise: Wie Afrika über Deutschlands Zukunft entscheidet Das Schicksal Europas hängt am Kontinent im Süden. Nur dort kann die Massenmigration gestoppt werden. Das Rezept dazu ist bekannt und erprobt – ob es diesmal funktioniert, ist eine Jahrhundertfrage.\n",
      "{'tech': 0.48271049763377943, 'nontech': 0.5172895023662206}\n",
      "\n",
      "Katastrophen: Bundesregierung beschließt Enteignungen im Notfall Das Bundeskabinett hat neue Pläne zur Versorgung der Bevölkerung in Katastrophenfällen beschlossen. Künftig kann es sogar zu Beschlagnahmungen kommen. Was eine solche Krise auslösen kann.\n",
      "{'tech': 0.5242039574283561, 'nontech': 0.4757960425716438}\n",
      "\n",
      "Islamist im Verfassungsschutz: Ein Familienvater mit deutschem Pass Beim Verfassungsschutz ist ein Islamist enttarnt worden. Der Mann soll sich laut Geheimdienstchef Maaßen unbemerkt radikalisiert haben - und wollte offenbar Gleichgesinnte in das Amt einschleusen.\n",
      "{'tech': 0.4830932789158209, 'nontech': 0.5169067210841791}\n",
      "\n",
      "Neuer US-Präsident: Sie glauben nicht, wo Donald Trump sich informiert Es ist äußerst bedenklich, woher sich Donald Trump inspirieren lässt. Der designierte US-Präsident sucht regelmäßig eine Website auf, die sich auf wilde Verschwörungstheorien spezialisiert hat.\n",
      "{'tech': 0.48138441289906764, 'nontech': 0.5186155871009324}\n",
      "\n",
      "Manchester United: Schweinsteiger soll heute seine große Chance erhalten Seit 255 Tagen hat Bastian Schweinsteiger kein Pflichtspiel für Manchester United bestritten. Jetzt sind zwei Mitspieler gesperrt. Der Weltmeister soll davon profitieren und zum Einsatz kommen.\n",
      "{'tech': 0.5308107654806343, 'nontech': 0.46918923451936567}\n",
      "\n",
      "Ifo-Chef Fuest: \"Wir haben ja schon ein Grundeinkommen\" Ist ein bedingungsloses Grundeinkommen eine gute Idee? Ja, sagt einer der mächtigsten Konzernchefs Deutschlands, Siemens-Chef Joe Kaeser. Ifo-Chef Fuest hält ihm entgegen: \"Das ist nicht bezahlbar\".\n",
      "{'tech': 0.48514112926765907, 'nontech': 0.514858870732341}\n",
      "\n",
      "Neue Gesetze: Das ändert sich für Verbraucher im Dezember Gratis-WLAN in der zweiten Klasse, neue Definition illegaler Drogen und neue Konto-Bedingungen: Zum Jahresausklang gibt es nicht nur für Bahn- und Bankkunden wieder einige Veränderungen.\n",
      "{'tech': 0.5260838972325088, 'nontech': 0.47391610276749124}\n",
      "\n",
      "Rassismus im Prenzlauer Berg: Unbekannte zeigen Hitlergruß und verprügeln 17-Jährigen Ein 17-Jähriger wird in Berlin von vier Männern rassistisch beleidigt und verprügelt. Die Täter sind flüchtig. Die Mutter des Opfers wendet sich mit einem bewegenden Hilferuf an die Öffentlichkeit.\n",
      "{'tech': 0.49283053655799597, 'nontech': 0.507169463442004}\n",
      "\n",
      "Nico Rosberg: \"Ich fragte mich, ob Hamilton komplett durchdreht\" Die WM-Feiern von Nico Rosberg werden überlagert vom Verhalten Lewis Hamiltons. Die letzten Runden von Abu Dhabi spuken dem Formel-1-Weltmeister noch im Kopf herum. Am Ende hatte er schlicht Angst.\n",
      "{'tech': 0.52530110229546, 'nontech': 0.47469889770454}\n",
      "\n",
      "Linkspartei: Wie sich Sahra Wagenknecht neu erfand Sahra Wagenknecht galt als eigenbrötlerische Kommunistin. Heute ist sie wie verwandelt und die letzte Hoffnung der Linken. Ihr Mann Oskar Lafontaine hat die Neuerfindung mitentworfen.\n",
      "{'tech': 0.4953604345634238, 'nontech': 0.5046395654365762}\n",
      "\n"
     ]
    }
   ],
   "source": [
    "for feed in test:\n",
    "    print feed\n",
    "    f=feedparser.parse(feed)\n",
    "    for e in f.entries:\n",
    "        fulltext=stripHTML(e.title+' '+e.description)\n",
    "        print fulltext\n",
    "        print naiveBayesClassifierTFIDFStop.testDocument(fulltext)\n",
    "        print"
   ]
  },
  {
   "cell_type": "code",
   "execution_count": 163,
   "metadata": {
    "collapsed": false
   },
   "outputs": [],
   "source": [
    "feed_num = 1\n",
    "\n",
    "data = []\n",
    "\n",
    "for feed in test:\n",
    "    f=feedparser.parse(feed)\n",
    "    for e in f.entries:\n",
    "        length += 1\n",
    "        fulltext=stripHTML(e.title+' '+e.description)\n",
    "        pred_cat=get_highest_prob_cat(naiveBayesClassifierTFIDFStop.testDocument(fulltext))\n",
    "        if feed_num == 1:\n",
    "            data.append([pred_cat, 'tech'])\n",
    "        else:\n",
    "            data.append([pred_cat, 'nontech'])\n",
    "    feed_num += 1\n",
    "\n",
    "    \n",
    "data = pd.DataFrame(data)"
   ]
  },
  {
   "cell_type": "code",
   "execution_count": 164,
   "metadata": {
    "collapsed": false
   },
   "outputs": [
    {
     "name": "stdout",
     "output_type": "stream",
     "text": [
      "Accuracy:  0.676923076923\n"
     ]
    }
   ],
   "source": [
    "accuracy = accuracy_score(data[1].values, data[0].values)\n",
    "print 'Accuracy: ', accuracy"
   ]
  },
  {
   "cell_type": "code",
   "execution_count": 166,
   "metadata": {
    "collapsed": false
   },
   "outputs": [
    {
     "data": {
      "text/plain": [
       "array([[11, 14],\n",
       "       [ 7, 33]])"
      ]
     },
     "execution_count": 166,
     "metadata": {},
     "output_type": "execute_result"
    }
   ],
   "source": [
    "confus = confusion_matrix(data[1].values, data[0].values)\n",
    "confus"
   ]
  },
  {
   "cell_type": "code",
   "execution_count": 167,
   "metadata": {
    "collapsed": false
   },
   "outputs": [
    {
     "name": "stdout",
     "output_type": "stream",
     "text": [
      "Precision for categorie tech: 0.702128\n",
      "Precision for categorie nontech: 0.611111\n"
     ]
    }
   ],
   "source": [
    "tech_prec = precision_score(data[1].values, data[0].values, pos_label='tech')\n",
    "nontech_prec = precision_score(data[1].values, data[0].values, pos_label='nontech')\n",
    "\n",
    "print 'Precision for categorie tech: %f' % (tech_prec)\n",
    "print 'Precision for categorie nontech: %f' % (nontech_prec)"
   ]
  },
  {
   "cell_type": "code",
   "execution_count": 168,
   "metadata": {
    "collapsed": false
   },
   "outputs": [
    {
     "name": "stdout",
     "output_type": "stream",
     "text": [
      "Recall for categorie tech: 0.825000\n",
      "Recall for categorie nontech: 0.440000\n"
     ]
    }
   ],
   "source": [
    "tech_recall = recall_score(data[1].values, data[0].values, pos_label='tech')\n",
    "nontech_recall = recall_score(data[1].values, data[0].values, pos_label='nontech')\n",
    "\n",
    "print 'Recall for categorie tech: %f' % (tech_recall)\n",
    "print 'Recall for categorie nontech: %f' % (nontech_recall)"
   ]
  },
  {
   "cell_type": "code",
   "execution_count": 169,
   "metadata": {
    "collapsed": false
   },
   "outputs": [
    {
     "name": "stdout",
     "output_type": "stream",
     "text": [
      "F1-Score for categorie tech: 0.758621\n",
      "F1-Score for categorie nontech: 0.511628\n"
     ]
    }
   ],
   "source": [
    "tech_f1 = f1_score(data[1].values, data[0].values, pos_label='tech')\n",
    "nontech_f1 = f1_score(data[1].values, data[0].values, pos_label='nontech')\n",
    "\n",
    "print 'F1-Score for categorie tech: %f' % (tech_f1)\n",
    "print 'F1-Score for categorie nontech: %f' % (nontech_f1)"
   ]
  },
  {
   "cell_type": "markdown",
   "metadata": {},
   "source": [
    "### Auswertung\n",
    "**Obwohl in diesem Fall nur die \"wichtigsten\" und am seltensten vorkommenden Worte als Informationsträger ausgewählt werden, bekommen wir ein deutlich schlechteres Ergebnis als bei allen anderen Einstellungen.**  \n",
    "**Mit einer accuracy von 0.676923076923 liegen wir sogar noch deutlich unter der reinen TF Implementierung, bei der der Wert bei 0.707692307692 war.**\n",
    "\n",
    "**Es besteht die Möglichkeit, dass unsere Implementierung fehlerhaft ist und wir deshalb diese schlechten Werte für die TF-IDF Variante erhalten. Außerdem könnte es aber sein, dass der Corpus einfach zu klein ist.**"
   ]
  }
 ],
 "metadata": {
  "anaconda-cloud": {},
  "kernelspec": {
   "display_name": "Python 2",
   "language": "python",
   "name": "python2"
  },
  "language_info": {
   "codemirror_mode": {
    "name": "ipython",
    "version": 2
   },
   "file_extension": ".py",
   "mimetype": "text/x-python",
   "name": "python",
   "nbconvert_exporter": "python",
   "pygments_lexer": "ipython2",
   "version": "2.7.11"
  }
 },
 "nbformat": 4,
 "nbformat_minor": 0
}
