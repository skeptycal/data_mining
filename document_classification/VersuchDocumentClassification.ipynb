{
 "cells": [
  {
   "cell_type": "markdown",
   "metadata": {},
   "source": [
    "# Data Mining Versuch Document Classification\n",
    "* Autor: Prof. Dr. Johannes Maucher\n",
    "* Datum: 06.11.2015\n",
    "\n",
    "[Übersicht Ipython Notebooks im Data Mining Praktikum](Data Mining Praktikum.html)\n",
    "\n",
    "# Einführung\n",
    "## Lernziele:\n",
    "In diesem Versuch sollen Kenntnisse in folgenden Themen vermittelt werden:\n",
    "\n",
    "* Dokumentklassifikation: Klassifikation von Dokumenten, insbesondere Emails und RSS Feed\n",
    "* Naive Bayes Classifier: Weit verbreitete Klassifikationsmethode, welche unter bestimmten Randbedingungen sehr gut skaliert.\n",
    "\n",
    "\n",
    "## Theorie zur Vorbereitung\n",
    "### Parametrische Klassifikation und Naive Bayes Methode\n",
    "Klassifikatoren müssen zu einer gegebenen Eingabe $\\underline{x}$ die zugehörige Klasse $C_i$ bestimmen. Mithilfe der Wahrscheinlichkeitstheorie kann diese Aufgabe wie folgt beschrieben werden: Bestimme für alle möglichen Klassen $C_i$ die bedingte Wahrscheinlichkeit $P(C_i | \\underline{x})$, also die Wahrscheinlichkeit, dass die gegebene Eingabe $\\underline{x}$ in Klasse $C_i$ fällt. Wähle dann die Klasse aus, für welche diese Wahrscheinlichkeit maximal ist.\n",
    "\n",
    "Die Entscheidungsregeln von Klassifikatoren können mit Methoden des \"\"überwachten Lernens\"\" aus Trainingsdaten ermittelt werden. Im Fall des **parametrischen Lernens** kann aus den Trainingsdaten die sogenannte **Likelihood-Funktion** $p(\\underline{x} \\mid C_i)$ bestimmt werden. _Anmerkung:_ Allgemein werden mit $p(...)$ kontinuierliche Wahrscheinlichkeitsfunktionen und mit $P(...)$ diskrete Wahrscheinlichkeitswerte bezeichnet. \n",
    "\n",
    "Mithilfe der **Bayes-Formel**\n",
    "$$\n",
    "P(C_i \\mid \\underline{x}) = \\frac{p(\\underline{x} \\mid C_i) \\cdot P(C_i)}{p(\\underline{x})}\n",
    "$$\n",
    "\n",
    "kann aus der Likelihood die **a-posteriori-Wahrscheinlichkeit $P(C_i \\mid \\underline{x})$** berechnet werden. Darin wird $P(C_i)$ die **a-priori-Wahrscheinlichkeit** und $p(\\underline{x})$ die **Evidenz** genannt. Die a-priori-Wahrscheinlichkeit kann ebenfalls aus den Trainingsdaten ermittelt werden. Die Evidenz ist für die Klassifikationsentscheidung nicht relevant, da sie für alle Klassen $C_i$ gleich groß ist.\n",
    "\n",
    "Die Berechnung der Likelihood-Funktion $p(\\underline{x} \\mid C_i)$ ist dann sehr aufwendig, wenn $\\underline{x}=(x_1,x_2,\\ldots,x_Z)$ ein Vektor von voneinander abhängigen Variablen $x_i$ ist. Bei der **Naive Bayes Classification** wird jedoch von der vereinfachenden Annahme ausgegangen, dass die Eingabevariabeln $x_i$ voneinander unabhängig sind. Dann vereinfacht sich die bedingte Verbundwahrscheinlichkeits-Funktion $p(x_1,x_2,\\ldots,x_Z \\mid C_i)$ zu:\n",
    "\n",
    "$$\n",
    "p(x_1,x_2,\\ldots,x_Z \\mid C_i)=\\prod\\limits_{j=1}^Z p(x_j | C_i)\n",
    "$$\n",
    "\n",
    "### Anwendung der Naive Bayes Methode in der Dokumentklassifikation\n",
    "Auf der rechten Seite der vorigen Gleichung stehen nur noch von den jeweils anderen Variablen unabhängige bedingte Wahrscheinlichkeiten. Im Fall der Dokumentklassifikation sind die einzelnen Worte die Variablen, d.h. ein Ausdruck der Form $P(x_j | C_i)$ gibt an mit welcher Wahrscheinlichkeit ein Wort $x_j=w$ in einem Dokument der Klasse $C_i$ vorkommt. \n",
    "Die Menge aller Variablen $\\left\\{x_1,x_2,\\ldots,x_Z \\right\\}$ ist dann die Menge aller Wörter im Dokument. Damit gibt die linke Seite in der oben gegebenen Gleichung die _Wahrscheinlichkeit, dass die Wörter $\\left\\{x_1,x_2,\\ldots,x_Z \\right\\}$ in einem Dokument der Klasse $C_i$ vorkommen_ an.\n",
    "\n",
    "Für jedes Wort _w_ wird aus den Trainingsdaten die Wahrscheinlichkeit $P(w|G)$, mit der das Wort in Dokumenten der Kategorie _Good_ und die Wahrscheinlichkeit $P(w|B)$ mit der das Wort in Dokumenten der Kategorie _Bad_ auftaucht ermittelt. Trainingsdokumente werden in der Form\n",
    "\n",
    "$$\n",
    "tD=(String,Category)\n",
    "$$\n",
    "eingegeben. \n",
    "\n",
    "Wenn \n",
    "\n",
    "* mit der Variable $fc(w,cat)$ die Anzahl der Trainingsdokumente in Kategorie $cat$ in denen das Wort $w$ enthalten ist\n",
    "* mit der Variable $cc(cat)$ die Anzahl der Trainingsdokumente in Kategorie $cat$ \n",
    "\n",
    "gezählt wird, dann ist \n",
    "\n",
    "$$\n",
    "P(w|G)=\\frac{fc(w,G)}{cc(G)} \\quad \\quad P(w|B)=\\frac{fc(w,B)}{cc(B)}.\n",
    "$$\n",
    "\n",
    "Wird nun nach der Eingabe von $L$ Trainingsdokumenten ein neu zu klassifizierendes Dokument $D$ eingegeben und sei $W(D)$ die Menge aller Wörter in $D$, dann berechnen sich unter der Annahme, dass die Worte in $W(D)$ voneinander unabhängig sind (naive Bayes Annahme) die a-posteriori Wahrscheinlichkeiten zu:\n",
    "\n",
    "$$\n",
    "P(G|D)=\\frac{\\left( \\prod\\limits_{w \\in W(D)} P(w | G) \\right) \\cdot P(G)}{p(D)}\n",
    "$$\n",
    "und\n",
    "$$\n",
    "P(B|D)=\\frac{\\left( \\prod\\limits_{w \\in W(D)} P(w | B) \\right) \\cdot P(B)}{p(D)}.\n",
    "$$\n",
    "\n",
    "Die hierfür notwendigen a-priori-Wahrscheinlichkeiten berechnen sich zu \n",
    "\n",
    "$$\n",
    "P(G)=\\frac{cc(G)}{L}\n",
    "$$\n",
    "und\n",
    "$$\n",
    "P(B)=\\frac{cc(B)}{L}\n",
    "$$\n",
    "\n",
    "Die Evidenz $p(D)$ beeinflusst die Entscheidung nicht und kann deshalb ignoriert werden.\n",
    "\n",
    "\n",
    "## Vor dem Versuch zu klärende Fragen\n",
    "\n",
    "\n",
    "1. Wie wird ein Naive Bayes Classifier trainiert? Was muss beim Training für die spätere Klassifikation abgespeichert werden?\n",
    "2. Wie teilt ein Naiver Bayes Classifier ein neues Dokument ein?\n",
    "3. Welche naive Annahme liegt dem Bayes Classifier zugrunde? Ist diese Annahme im Fall der Dokumentklassifikation tatsächlich gegeben?\n",
    "4. Betrachten Sie die Formeln für die Berechnung von $P(G|D)$ und $P(B|D)$. Welches Problem stellt sich ein, wenn in der Menge $W(D)$ ein Wort vorkommt, das nicht in den Trainingsdaten der Kategorie $G$ vorkommt und ein anderes Wort aus $W(D)$ nicht in den Trainingsdaten der Kategorie $B$ enthalten ist? Wie könnte dieses Problem gelöst werden? \n",
    "\n"
   ]
  },
  {
   "cell_type": "markdown",
   "metadata": {
    "collapsed": true
   },
   "source": [
    "1. Es müssen referenz Texte existieren die jeweils einer der zu testenden Kateogorien zugeordnet sind. Dann wird für jedes Wort, dass insgesamt vorkommt die Häufigkeit in jeder Kategorie berechnet. \n",
    "\n",
    "    Für jede Kategorie (cat) und jedes Wort (w) wird berechnet:\n",
    "        - Anzahl der Dokument cc(cat)\n",
    "        - Anzahl der Dokumente welche das Wort enthalten fc(w, cat)\n",
    "    Daraus wird die Wahrscheinlichkeit berechnet: P(w|cat) = cc(cat) / fc(w, cat). Diese wird dann für die spätere Klassifkation gespeichert\n",
    "2. Für jede Kategorie (cat) wird berechnet:\n",
    "        - Die Bedingten Wahrscheinlichkeiten aller Wörter mit *P(w|cat)*\n",
    "        - Die Wahrscheinlichkeit P(cat) mit *cc(cat)/L*\n",
    "        Diese Wahrscheinlichkeiten werden dann alle Zusammenmultipliziert\n",
    "\n",
    "   Das Dokument bekommt dann die Kategorie mit der höchsten Wahrscheinlichkeit zugeordnet\n",
    "3. Der Bayes Classifier nimmt an, dass Wörter unabhängig voneinander sind. Dies ist natürlich nicht der Fall, da die genaue Semantik eines Textes sich aus der Struktur ergibt. Wie die Wörter im Verhältnis stehen und welche Aussagen sich daraus ergeben.\n",
    "4. Wenn ein Wort im zu testenden Dokument D vorkommt, aber in keinem Trainingsdokumenten der Kategorie Cat vorhanden ist ergibt sich streng nach der Formel die Wahrscheinlichkeit 0, dass dieses Wort in Dokumenten von Cat auftaucht und somit eine Gesamtwahrscheinlichkeit von 0. Das macht die Kategorisierung sehr unflexibel, da z.B. durch Dinge wie Eigennamen durchaus neue Wörter vorkommen, die nicht im Trainingsset enthalten sind. Ein bessere vorgehen wäre es dieses Wort für diese Kategorie zu ignorieren. Alternativ wäre es möglich einen künstlichen sehr niedrigen Wert für die Wahrscheinlichkeit zu setzen z.B. 0,01"
   ]
  },
  {
   "cell_type": "markdown",
   "metadata": {},
   "source": [
    "# Durchführung\n",
    "## Feature Extraction/ -Selection\n",
    "\n",
    "**Aufgabe:**\n",
    "Implementieren Sie eine Funktion _getwords(doc)_, der ein beliebiges Dokument in Form einer String-Variablen übergeben wird. In der Funktion soll der String in seine Wörter zerlegt und jedes Wort in _lowercase_ transformiert werden. Wörter, die weniger als eine untere Grenze von Zeichen (z.B. 3) oder mehr als eine obere Grenze von Zeichen (z.B. 20) enthalten, sollen ignoriert werden. Die Funktion soll ein dictionary zurückgeben, dessen _Keys_ die Wörter sind. Die _Values_ sollen für jedes Wort zunächst auf $1$ gesetzt werden.\n",
    "\n",
    "**Tipp:** Benutzen Sie für die Zerlegung des Strings und für die Darstellung aller Wörter mit ausschließlich kleinen Buchstaben die Funktionen _split(), strip('sep')_ und _lower()_ der Klasse _String_.  \n"
   ]
  },
  {
   "cell_type": "code",
   "execution_count": 304,
   "metadata": {
    "collapsed": false
   },
   "outputs": [],
   "source": [
    "import nltk\n",
    "\n",
    "def getwords(docText):\n",
    "    LOWER_LIMIT = 1\n",
    "    UPPER_LIMIT = 20\n",
    "    \n",
    "    sentence = nltk.regexp_tokenize(docText, r\"[\\wäöüÄÖÜß]+\")\n",
    "    \n",
    "    tokens = [x.lower() for x in sentence]\n",
    "    \n",
    "    wordDict = { x: 1 for x in tokens\\\n",
    "                if tokens.count(x) >= LOWER_LIMIT and tokens.count(x) <= UPPER_LIMIT}\n",
    "    \n",
    "    return wordDict\n",
    "    "
   ]
  },
  {
   "cell_type": "code",
   "execution_count": 305,
   "metadata": {
    "collapsed": false
   },
   "outputs": [
    {
     "data": {
      "text/plain": [
       "{'3': 1,\n",
       " '4': 1,\n",
       " 'auf': 1,\n",
       " 'black': 1,\n",
       " 'bombastischen': 1,\n",
       " 'call': 1,\n",
       " 'darauf': 1,\n",
       " 'das': 1,\n",
       " 'den': 1,\n",
       " 'der': 1,\n",
       " 'des': 1,\n",
       " 'die': 1,\n",
       " 'duty': 1,\n",
       " 'd\\xc3\\xbcrfen': 1,\n",
       " 'einzelspieler': 1,\n",
       " 'erwarten': 1,\n",
       " 'fans': 1,\n",
       " 'ganz': 1,\n",
       " 'genau': 1,\n",
       " 'getestet': 1,\n",
       " 'haben': 1,\n",
       " 'heute': 1,\n",
       " 'hohem': 1,\n",
       " 'in': 1,\n",
       " 'jetzt': 1,\n",
       " 'kommt': 1,\n",
       " 'liefert': 1,\n",
       " 'l\\xc3\\xa4den': 1,\n",
       " 'niveau': 1,\n",
       " 'of': 1,\n",
       " 'ops': 1,\n",
       " 'part': 1,\n",
       " 'playstation': 1,\n",
       " 'ps4': 1,\n",
       " 'sagen': 1,\n",
       " 'schon': 1,\n",
       " 'serie': 1,\n",
       " 'shooter': 1,\n",
       " 'shooters': 1,\n",
       " 'sich': 1,\n",
       " 'und': 1,\n",
       " 'vorab': 1,\n",
       " 'warten': 1,\n",
       " 'was': 1,\n",
       " 'wir': 1}"
      ]
     },
     "execution_count": 305,
     "metadata": {},
     "output_type": "execute_result"
    }
   ],
   "source": [
    "text = 'Call of Duty: Black Ops 3 (PS4)   Darauf warten die Shooter-Fans! Call of Duty: Black Ops 3 kommt heute in die Läden. Wir haben den Einzelspieler-Part des bombastischen Shooters vorab auf der PlayStation 4 getestet und dürfen schon jetzt sagen: Black Ops 3 liefert auf hohem Niveau ganz genau das, was sich Fans der Serie erwarten.'\n",
    "getwords(text)"
   ]
  },
  {
   "cell_type": "markdown",
   "metadata": {
    "collapsed": true
   },
   "source": [
    "## Classifier\n",
    "\n",
    "**Aufgabe:**\n",
    "Implementieren Sie den Naive Bayes Classifier für die Dokumentklassifikation. Es bietet sich an die Funktionalität des Klassifikators und das vom Klassifikator gelernte Wissen in einer Instanz einer Klasse _Classifier_ zu kapseln. In diesem Fall kann wie folgt vorgegangen werden:\n",
    "\n",
    "* Im Konstruktor der Klasse wird je ein Dictionary für die Instanzvariablen _fc_ und _cc_ (siehe oben) initialisiert. Dabei ist _fc_ ein verschachteltes Dictionary. Seine Keys sind die bisher gelernten Worte, die Values sind wiederum Dictionaries, deren Keys die Kategorien _Good_ und _Bad_ sind und deren Values zählen wie häufig das Wort bisher in Dokumenten der jeweiligen Kategorie auftrat. Das Dictionary _cc_ hat als Keys die Kategorien _Good_ und _Bad_. Die Values zählen wie häufig Dokumente der jeweiligen Kategorien bisher auftraten.\n",
    "* Im Konstruktor wird ferner der Instanzvariablen _getfeatures_ die Funktion _getwords()_ übergeben. Die Funktion _getwords()_ wurde bereits zuvor ausserhalb der Klasse definiert. Sinn dieses Vorgehens ist, dass andere Varianten um Merkmale aus Dokumenten zu extrahieren denkbar sind. Diese Varianten könnten dann ähnlich wie die _getwords()_-Funktion ausserhalb der Klasse definiert und beim Anlegen eines _Classifier_-Objekts der Instanzvariablen _getfeatures_ übergeben werden.  \n",
    "* Der Methode _incf(self,f,cat)_ wird ein Wort _f_ und die zugehörige Kategorie _cat_ des Dokuments in welchem es auftrat übergeben. In der Methode wird der _fc_-Zähler angepasst.\n",
    "* Der Methode _incc(self,cat)_ wird die Kategorie _cat_ des gerade eingelesenen Dokuments übergeben. In der Methode wird der _cc_-Zähler angepasst.\n",
    "* Die Methode _fcount(self,f,cat)_ gibt die Häufigkeit des Worts _f_ in den Dokumenten der Kategorie _cat_ zurück.\n",
    "* Die Methode _catcount(self,cat)_ gibt die Anzahl der Dokumente in der Kategorie _cat_ zurück.\n",
    "* Die Methode _totalcount(self)_ gibt die Anzahl aller Dokumente zurück.\n",
    "* Der Methode _train(self,item,cat)_ wird ein neues Trainingselement, bestehend aus der Betreffzeile (_item_) und der entsprechenden Kategorisierung (_cat_) übergeben. Der String _item_ wird mit der Instanzmethode _getfeatures_ (Diese referenziert _getwords()_) in Worte zerlegt. Für jedes einzelne Wort wird dann _incf(self,f,cat)_ aufgerufen. Ausserdem wird für das neue Trainingsdokument die Methode _incc(self,cat)_ aufgerufen.\n",
    "* Die Methode _fprob(self,f,cat)_ berechnet die bedingte Wahrscheinlichkeit $P(f | cat)$ des Wortes _f_ in der Kategorie _cat_ entsprechend der oben angegebenen Formeln, indem sie den aktuellen Stand des Zählers _fc(f,cat)_ durch den aktuellen Stand des Zählers _cc(cat)_ teilt.   \n",
    "* Die Methode _fprob(self,f,cat)_ liefert evtl. ungewollt extreme Ergebnisse, wenn noch wenig Wörter im Klassifizierer verbucht sind. Kommt z.B. ein Wort erst einmal in den Trainingsdaten vor, so wird seine Auftrittswahrscheinlichkeit in der Kategorie in welcher es nicht vorkommt gleich 0 sein. Um extreme Wahrscheinlichkeitswerte im Fall noch selten vorkommender Werte zu vermeiden, soll zusätzlich zur Methode _fprob(self,f,cat)_ die Methode _weightedprob(self,f,cat)_ implementiert und angewandt werden. Der von ihr zurückgegebene Wahrscheinlichkeitswert könnte z.B. wie folgt berechnet werden:$$wprob=\\frac{initprob+count \\cdot fprob(self,f,cat)}{1+count},$$ wobei $initprob$ ein initialer Wahrscheinlichkeitswert (z.B. 0.5) ist, welcher zurückgegeben werden soll, wenn das Wort noch nicht in den Trainingsdaten aufgetaucht ist. Die Variable $count$ zählt wie oft das Wort $f$ bisher in den Trainingsdaten auftrat. Wie zu erkennen ist, nimmt der Einfluss der initialen Wahrscheinlichkeit ab, je häufiger das Wort in den Trainingsdaten auftrat.\n",
    "* Nach dem Training soll ein beliebiges neues Dokument (Text-String) eingegeben werden können. Für dieses soll mit der Methode _prob(self,item,cat)_ die a-posteriori-Wahrscheinlichkeit $P(cat|item)$ (Aufgrund der Vernachlässigung der Evidenz handelt es sich hierbei genaugenommen um das Produkt aus a-posteriori-Wahrscheinlichkeit und Evidenz), mit der das Dokument _item_ in die Kategorie _cat_ fällt berechnet werden. Innerhalb der Methode _prob(self,item,cat)_ soll zunächst die Methode _weightedprob(self,f,cat)_ für alle Wörter $f$ im Dokument _item_ aufgerufen werden. Die jeweiligen Rückgabewerte von _weightedprob(self,f,cat)_ werden multipliziert. Das Produkt der Rückgabewerte von _weightedprob(self,f,cat)_ über alle Wörter $f$ im Dokument muss schließlich noch mit der a-priori Wahrscheinlichkeit $P(G)$ bzw. $P(B)$ entsprechend der oben aufgeführten Formeln multipliziert werden. Das Resultat des Produkts wird an das aufrufende Programm zurück gegeben, die Evidenz wird also vernachlässigt (wie oben begründet).\n",
    "\n",
    "\n",
    "\n",
    "Ein Dokument _item_ wird schließlich der Kategorie _cat_ zugeteilt, für welche die Funktion _prob(self,item,cat)_ den höheren Wert zurück gibt. Da die Rückgabewerte in der Regel sehr klein sind, werden in der Regel folgende Werte angezeigt. Wenn mit $g$ der Rückgabewert von _prob(self,item,cat=G)_ und mit $b$ der Rückgabewert von _prob(self,item,cat=B)_ bezeichnet wird dann ist die Wahrscheinlichkeit, dass $item$ in die Kategorie $G$ fällt, gleich:\n",
    "$$\n",
    "\\frac{g}{g+b}\n",
    "$$\n",
    "und die Wahrscheinlichkeit, dass $item$ in die Kategorie $B$ fällt, gleich:\n",
    "$$\n",
    "\\frac{b}{g+b}\n",
    "$$"
   ]
  },
  {
   "cell_type": "code",
   "execution_count": 306,
   "metadata": {
    "collapsed": false
   },
   "outputs": [],
   "source": [
    "class NaiveBayesClassifier:\n",
    "    def __init__(self, wordFunc):\n",
    "        self.fc = {} #already learned words : {good: x, bad: y}\n",
    "        self.cc = {} #good: x, bad: y\n",
    "        \n",
    "        self.getfeatures = wordFunc\n",
    "        \n",
    "    def incf(self, f, cat, count):\n",
    "        if f in self.fc:\n",
    "            if cat in self.fc[f]:\n",
    "                self.fc[f][cat] += count\n",
    "            else:\n",
    "                self.fc[f][cat] = count\n",
    "        else:\n",
    "            self.fc[f] = {cat : 1}\n",
    "            \n",
    "    def incc(self, cat):\n",
    "        if cat in self.cc:\n",
    "            self.cc[cat] += 1\n",
    "        else:\n",
    "            self.cc[cat] = 1\n",
    "            \n",
    "    def fcount(self, f, cat):\n",
    "        if f in self.fc:\n",
    "            return self.fc[f].get(cat, 0)\n",
    "        else:\n",
    "            return 0\n",
    "    \n",
    "    def catcount(self, cat):\n",
    "        if cat in self.cc:\n",
    "            return self.cc[cat]\n",
    "        else:\n",
    "            return 0\n",
    "    \n",
    "    def totalcount(self):\n",
    "        count = 0\n",
    "        for categorie, num in self.cc.items():\n",
    "            count += num\n",
    "\n",
    "        return count\n",
    "    \n",
    "    def train(self, item, cat):\n",
    "        wordDict = self.getfeatures(item)\n",
    "        \n",
    "        for word, num in wordDict.items():\n",
    "            self.incf(word, cat, num)\n",
    "            \n",
    "        self.incc(cat)\n",
    "        \n",
    "    def fprob(self, f, cat):\n",
    "        return (self.fcount(f, cat) / float(self.catcount(cat)))\n",
    "    \n",
    "    def weightedprob(self, f, cat):\n",
    "        count = 0\n",
    "        if f in self.fc:\n",
    "            for val in self.fc[f].values():\n",
    "                count += val\n",
    "        \n",
    "        return ((0.5 + count * self.fprob(f, cat)) / (count + 1))\n",
    "        \n",
    "    def prob(self, item, cat):\n",
    "        wProb = 1\n",
    "        for word, num in self.getfeatures(item).items():\n",
    "            wProb *= self.weightedprob(word, cat)\n",
    "            \n",
    "        return ((wProb * self.catcount(cat)) / self.totalcount())\n",
    "\n",
    "    def testDocument(self, item):\n",
    "        result = {}\n",
    "        \n",
    "        allCats = 0\n",
    "        for categorie, num in self.cc.items():\n",
    "            allCats += self.prob(item, categorie)\n",
    "        \n",
    "        for categorie, num in self.cc.items():\n",
    "            result[categorie] = self.prob(item, categorie) / (allCats if allCats else 1)\n",
    "    \n",
    "        return result"
   ]
  },
  {
   "cell_type": "markdown",
   "metadata": {},
   "source": [
    "## Test\n",
    "\n",
    "**Aufgabe:**\n",
    "Instanzieren Sie ein Objekt der Klasse _Classifier_ und übergeben Sie der _train()_ Methode dieser Klasse mindestens 10 kategorisierte Dokumente (Betreffzeilen als Stringvariablen zusammen mit der Kategorie Good oder Bad). Definieren Sie dann ein beliebig neues Dokument und berechnen Sie für dieses die Kategorie, in welches es mit größter Wahrscheinlichkeit fällt. Benutzen Sie für den Test das in \n",
    "[NLP Vorlesung Document Classification](https://www.mi.hdm-stuttgart.de/mib/studium/intern/skripteserver/skripte/NaturalLanguageProcessing/WS1415/03TextClassification.pdf)\n",
    "ausführlich beschriebene Beispiel zu implementieren. Berechnen Sie die Klassifikatorausgabe des Satzes _the money jumps_."
   ]
  },
  {
   "cell_type": "code",
   "execution_count": 307,
   "metadata": {
    "collapsed": false
   },
   "outputs": [
    {
     "data": {
      "text/plain": [
       "{'bad': 0.7896103896103895, 'good': 0.2103896103896104}"
      ]
     },
     "execution_count": 307,
     "metadata": {},
     "output_type": "execute_result"
    }
   ],
   "source": [
    "testData = [('nobody owns the water', 'good'),\n",
    " ('the quick rabbit jumps fences', 'good'),\n",
    "('buy pharmaceuticals now drugs and viagra', 'bad'),\n",
    "('make quick money at the online casino', 'bad'),\n",
    "('next meeting is at night', 'good'),\n",
    "('meeting with your superstar', 'bad'),\n",
    "('money like water', 'bad'),\n",
    "('make money fast', 'bad'),\n",
    "('do you want to make fast money?', 'bad'),\n",
    "('the smart fox walks on the moon', 'good')]\n",
    "\n",
    "\n",
    "naiveBayesClass = NaiveBayesClassifier(getwords)\n",
    "\n",
    "for tup in testData:\n",
    "    naiveBayesClass.train(tup[0], tup[1])\n",
    "    \n",
    "naiveBayesClass.testDocument('the money jumps viagra drugs')"
   ]
  },
  {
   "cell_type": "markdown",
   "metadata": {},
   "source": [
    "## Klassifikation von RSS Newsfeeds\n",
    "Mit dem unten gegebenen Skript werden Nachrichten verschiedener Newsserver geladen und als String abgespeichert."
   ]
  },
  {
   "cell_type": "code",
   "execution_count": 308,
   "metadata": {
    "collapsed": false
   },
   "outputs": [
    {
     "name": "stdout",
     "output_type": "stream",
     "text": [
      "\n"
     ]
    }
   ],
   "source": [
    "import feedparser\n",
    "\n",
    "\n",
    "def stripHTML(h):\n",
    "  p=''\n",
    "  s=0\n",
    "  for c in h:\n",
    "    if c=='<': s=1\n",
    "    elif c=='>':\n",
    "      s=0\n",
    "      p+=' '\n",
    "    elif s==0:\n",
    "      p+=c\n",
    "  return p\n",
    "\n",
    "\n",
    "trainTech=['http://rss.chip.de/c/573/f/7439/index.rss',\n",
    "           #'http://feeds.feedburner.com/netzwelt',\n",
    "           'http://rss1.t-online.de/c/11/53/06/84/11530684.xml',\n",
    "           'http://www.computerbild.de/rssfeed_2261.xml?node=13',\n",
    "           'http://www.heise.de/newsticker/heise-top-atom.xml']\n",
    "\n",
    "trainNonTech=['http://newsfeed.zeit.de/index',\n",
    "              'http://newsfeed.zeit.de/wirtschaft/index',\n",
    "              'http://www.welt.de/politik/?service=Rss',\n",
    "              'http://www.spiegel.de/schlagzeilen/tops/index.rss',\n",
    "              'http://www.sueddeutsche.de/app/service/rss/alles/rss.xml',\n",
    "              'http://www.faz.net/rss/aktuell/'\n",
    "              ]\n",
    "test=[\"http://rss.golem.de/rss.php?r=sw&feed=RSS0.91\",\n",
    "          'http://newsfeed.zeit.de/politik/index',  \n",
    "          'http://www.welt.de/?service=Rss'\n",
    "           ]\n",
    "\n",
    "\"\"\"\n",
    "countnews={}\n",
    "countnews['tech']=0\n",
    "countnews['nontech']=0\n",
    "countnews['test']=0\n",
    "print \"--------------------News from trainTech------------------------\"\n",
    "for feed in trainTech:\n",
    "    print \"*\"*30\n",
    "    print feed\n",
    "    f=feedparser.parse(feed)\n",
    "    for e in f.entries:\n",
    "      print '\\n---------------------------'\n",
    "      fulltext=stripHTML(e.title+' '+e.description)\n",
    "      print fulltext\n",
    "      countnews['tech']+=1\n",
    "print \"----------------------------------------------------------------\"\n",
    "print \"----------------------------------------------------------------\"\n",
    "print \"----------------------------------------------------------------\"\n",
    "\n",
    "print \"--------------------News from trainNonTech------------------------\"\n",
    "for feed in trainNonTech:\n",
    "    print \"*\"*30\n",
    "    print feed\n",
    "    f=feedparser.parse(feed)\n",
    "    for e in f.entries:\n",
    "      print '\\n---------------------------'\n",
    "      fulltext=stripHTML(e.title+' '+e.description)\n",
    "      print fulltext\n",
    "      countnews['nontech']+=1\n",
    "print \"----------------------------------------------------------------\"\n",
    "print \"----------------------------------------------------------------\"\n",
    "print \"----------------------------------------------------------------\"\n",
    "\n",
    "print \"--------------------News from test------------------------\"\n",
    "for feed in test:\n",
    "    print \"*\"*30\n",
    "    print feed\n",
    "    f=feedparser.parse(feed)\n",
    "    for e in f.entries:\n",
    "      print '\\n---------------------------'\n",
    "      fulltext=stripHTML(e.title+' '+e.description)\n",
    "      print fulltext\n",
    "      countnews['test']+=1\n",
    "print \"----------------------------------------------------------------\"\n",
    "print \"----------------------------------------------------------------\"\n",
    "print \"----------------------------------------------------------------\"\n",
    "\n",
    "print 'Number of used trainings samples in categorie tech',countnews['tech']\n",
    "print 'Number of used trainings samples in categorie notech',countnews['nontech']\n",
    "print 'Number of used test samples',countnews['test']\n",
    "print '--'*30\n",
    "\"\"\"\n",
    "\n",
    "print"
   ]
  },
  {
   "cell_type": "markdown",
   "metadata": {},
   "source": [
    "**Aufgaben:**  \n",
    "1.Trainieren Sie Ihren Naive Bayes Classifier mit allen Nachrichten der in den Listen _trainTech_ und _trainNonTech_ definierten Servern. Weisen Sie für das Training allen Nachrichten aus _trainTech_ die Kategorie _Tech_ und allen Nachrichten aus _trainNonTech_ die Kategorie _NonTech_ zu."
   ]
  },
  {
   "cell_type": "code",
   "execution_count": 309,
   "metadata": {
    "collapsed": true
   },
   "outputs": [],
   "source": [
    "naiveBayesClassifier = NaiveBayesClassifier(getwords)"
   ]
  },
  {
   "cell_type": "code",
   "execution_count": 310,
   "metadata": {
    "collapsed": false
   },
   "outputs": [],
   "source": [
    "for feed in trainTech:\n",
    "    f=feedparser.parse(feed)\n",
    "    for e in f.entries:\n",
    "        fulltext=stripHTML(e.title+' '+e.description)\n",
    "        naiveBayesClassifier.train(fulltext, 'tech')\n",
    "\n",
    "for feed in trainNonTech:\n",
    "    f=feedparser.parse(feed)\n",
    "    for e in f.entries:\n",
    "        fulltext=stripHTML(e.title+' '+e.description)\n",
    "        naiveBayesClassifier.train(fulltext, 'nontech')"
   ]
  },
  {
   "cell_type": "markdown",
   "metadata": {},
   "source": [
    "2.Nach dem Training sollen alle Nachrichten aus der Liste _test_ vom Naive Bayes Classifier automatisch klassifiziert werden. Gehen Sie davon aus, dass alle Nachrichten von [http://rss.golem.de/rss.php?r=sw&feed=RSS0.91](http://rss.golem.de/rss.php?r=sw&feed=RSS0.91) tatsächlich von der Kategorie _Tech_ sind und alle Nachrichten von den beiden anderen Servern in der Liste _test_ von der Kategorie _NonTech_ sind. Bestimmen Sie die _Konfusionsmatrix_ und die _Accuracy_ sowie für beide Klassen _Precision, Recall_ und _F1-Score_. Diese Qualitätsmetriken sind z.B. in [NLP Vorlesung Document Classification](https://www.mi.hdm-stuttgart.de/mib/studium/intern/skripteserver/skripte/NaturalLanguageProcessing/WS1415/03TextClassification.pdf) definiert."
   ]
  },
  {
   "cell_type": "code",
   "execution_count": 311,
   "metadata": {
    "collapsed": false,
    "scrolled": true
   },
   "outputs": [
    {
     "name": "stdout",
     "output_type": "stream",
     "text": [
      "http://rss.golem.de/rss.php?r=sw&feed=RSS0.91\n",
      "0-Day: Tor und Firefox patchen kritische Schwachstelle Tor und Mozilla haben schnell reagiert und veröffentlichen einen außerplanmäßigen Patch für eine kritische Sicherheitslücke. Der Fehler lag in einer Animationsfunktion für Vektorgrafiken. ( Security ,  Firefox )  \n",
      "{'tech': 0.8257710478164302, 'nontech': 0.17422895218356976}\n",
      "\n",
      "Hatch: Games ohne Installation auf dem Smartphone spielen Hatch ist ein neues Streaming-Abo für Spiele auf Android-Geräten: Nutzer können Games direkt vom Cloud-Server auf ihr Smartphone oder Tablet streamen, ohne sie vorher installieren zu müssen. Spiele können zudem auch immer zu zweit gespielt werden, indem die Steuerung über die Cloud geteilt wird. ( slush2016 ,  Smartphone )  \n",
      "{'tech': 0.9979997597958181, 'nontech': 0.002000240204181807}\n",
      "\n",
      "0-Day: Nutzer des Tor-Browsers werden mit Javascript angegriffen Wer den Tor-Browsers nutzt, will meist vor allem eins: Anonymität. Eine aktuelle Schwachstelle im Firefox-Browser führt aber dazu, dass Nutzer identifiziert werden können. Das Problem betrifft auch Nutzer des regulären Firefox - ein Patch ist in Arbeit. ( Tor-Netzwerk ,  Firefox )  \n",
      "{'tech': 0.9933960709873823, 'nontech': 0.006603929012617818}\n",
      "\n",
      "Weitere Entlassungen: Cyanogen soll Hauptbüro in Seattle schließen Das Hauptbüro von Cyanogen soll internen und externen Quellen zufolge geschlossen werden - ein Großteil der Angestellten soll entlassen werden. Auch die Zukunft von Cyanogenmod-Gründer Steve Kondik ist offenbar unklar, einige Mitarbeiter können wohl in das kleinere Büro in Kalifornien wechseln. ( Cyanogen OS ,  Applikationen )  \n",
      "{'tech': 0.8035912516303152, 'nontech': 0.19640874836968472}\n",
      "\n",
      "Nach Angriff auf Telekom: Mit dem Strafrecht Router ins Terrorcamp schicken oder so Nach der Überflutung kommen die Mücken und nach dem Telekom-Hack die unsinnigen Vorschläge aus der Politik. Dem Unternehmen kann das nur recht sein, so kann es von seinen eigenen Fehlern ablenken. ( Security ,  Netzwerk )  \n",
      "{'tech': 0.9976508624365784, 'nontech': 0.002349137563421606}\n",
      "\n",
      "Adreno: Aktuelle Qualcomm-GPUs bekommen freien Treiber Für die 500er-Reihe von Qualcomms Adreno-GPUs stehen erste Patches für einen freien Linux-Treiber bereit. Der Code umfasst Kernel- und Userspace und stammt teilweise von Qualcomm selbst. Android-Updates könnten damit künftig wesentlich einfacher werden. ( Linux-Kernel ,  Treiber )  \n",
      "{'tech': 0.9200344944727064, 'nontech': 0.07996550552729365}\n",
      "\n",
      "Botnetz: Telekom-Routerausfälle waren nur Kollateralschaden Eine Variante des Mirai-Botnetzes auf Routern hat zahlreiche Ausfälle bei Telekom-Kunden verursacht. Allerdings waren die Telekom-Router selbst nicht Teil des Botnetzes, sie wurden lediglich durch die Angriffsversuche lahmgelegt. ( Telekom ,  Virus )  \n",
      "{'tech': 0.9910631470659068, 'nontech': 0.008936852934093232}\n",
      "\n",
      "Videolan: Neuer VLC-Player spielt 360-Grad-Videos ab Die Technical Preview des VLC-Players eignet sich zur Wiedergabe von 360-Grad-Videos inklusive Rotieren der Kamera per Maus. Künftig will Videolan auch VR-Headsets unterstützen. ( VLC ,  Applikationen )  \n",
      "{'tech': 0.8672020028638159, 'nontech': 0.13279799713618406}\n",
      "\n",
      "Virtualisierungslösung: Update von Parallels Desktop 12 schränkt Funktionen ein Parallels Desktop 12 ermöglicht es seit dem Update auf Version 12.1 nicht mehr, virtuelle Maschinen mit mehr als acht GByte RAM und vier virtuellen Prozessoren einzurichten. Nur die Aboversion arbeitet ohne Einschränkungen. ( Parallels ,  Mac OS X )  \n",
      "{'tech': 0.9815740219736531, 'nontech': 0.018425978026347004}\n",
      "\n",
      "Adblocker: Auch Spiegel Online verliert gegen Adblock Plus Ein weiteres Medium hat vor Gericht gegen Adblock-Plus verloren. Eine kleine Hoffnung für Verleger gibt es trotzdem: Die Adblockerquote ist insgesamt leicht rückläufig. ( Adblock Plus ,  Onlinewerbung )  \n",
      "{'tech': 0.6313123703294107, 'nontech': 0.3686876296705894}\n",
      "\n",
      "Gehackte Zugänge: Kriminelle versenden Malware mit Mailchimp-Accounts Kriminelle nutzen offenbar übernommene Mailchimp-Accounts, um Malware zu verbreiten. Das geschieht vor allem über Mails mit angeblichen Rechnungen. Alle 2.000 betroffenen Accounts wurden vorläufig stillgelegt. ( Malware ,  Virus )  \n",
      "{'tech': 0.857085365951682, 'nontech': 0.14291463404831795}\n",
      "\n",
      "Deutscher Wetterdienst: Wetter-App zeigt mehr Gefahrenprognosen Der Deutsche Wetterdienst hat seine Wetter-App für Android und iOS aktualisiert und informiert darin jetzt auch über weitere Gefahrenprognosen. Bei Hochwasser, Sturmfluten und Lawinen erhalten Nutzer vorher eine Warnung. ( App )  \n",
      "{'tech': 0.8367936753103419, 'nontech': 0.16320632468965812}\n",
      "\n",
      "Spionage: Malware kann Kopfhörer als Mikrofon nutzen Kein Umbau erforderlich: Ein Programm kann Kopfhörer und andere Lautsprecher ohne Verstärker als Mikrofon verwenden - ohne das Wissen des Nutzers. ( Security ,  Sound-Hardware )  \n",
      "{'tech': 0.8660938778467346, 'nontech': 0.13390612215326528}\n",
      "\n",
      "Google: Chromebooks bekommen \"Wake on Voice\" Mit einem Gerät sprechen, um es aus dem Ruhezustand zu wecken, geht nicht mehr nur mit Smartphones, sondern auch mit einem Chromebook. Die Funktion ist ein weiteres Indiz für das Verschmelzen von ChromeOS und Android. ( Chromebook ,  Google )  \n",
      "{'tech': 0.9840856693126531, 'nontech': 0.01591433068734706}\n",
      "\n",
      "2-Faktor-Authentifizierung: Google warnt mehrere prominente Personen vor Staatshackern Eine Warnung vor staatlichen Hackerangriffen auf Google-Konten sorgt derzeit in den USA für Diskussionen. Vor allem Journalisten und Diplomaten erhielten die Warnung, auch in der Türkei gibt es Betroffene. ( Security ,  Applikationen )  \n",
      "{'tech': 0.8481318970719965, 'nontech': 0.15186810292800354}\n",
      "\n",
      "Blog-Software: Gravierender Fehler in Wordpress Auto-Update gefunden Weil der zentrale Update-Server von Wordpress unsichere Hashfunktionen zulässt, hätten Angreifer Code ausführen und massenhaft Wordpress-Installationen angreifen können. Die Sicherheitslücke wurde mittlerweile geschlossen. ( Wordpress ,  Blog )  \n",
      "{'tech': 0.9323779823047299, 'nontech': 0.06762201769527011}\n",
      "\n",
      "SCCACHE: Mozilla baut geteilten Compiler-Cache in Rust Ein weiteres wichtiges Stück Infrastruktur bei Mozilla ist in die Sprache Rust portiert worden: der geteilte Compiler-Cache (Sccache). Builds verschiedener Systeme können damit ihre Ergebnisse teilen, was dank Rust jetzt schneller geht. ( Mozilla ,  Server )  \n",
      "{'tech': 0.8081767572958298, 'nontech': 0.19182324270417017}\n",
      "\n",
      "Webstatistik: Alexa-Daten temporär wieder verfügbar Eine Ankündigung der Firma Alexa, ihre Statistik über die beliebtesten Webseiten künftig nur noch kostenpflichtig anzubieten, führte zu einigen Protesten. Jetzt sind die Daten - zumindest temporär - wieder verfügbar. ( Open Data ,  Studie )  \n",
      "{'tech': 0.7010099589130265, 'nontech': 0.29899004108697347}\n",
      "\n",
      "Update: Google will Android 7.1.1 im Dezember 2016 veröffentlichen Google verteilt eine neue Entwicklervorschau für Android 7.1.1 und hat im Zuge dessen mitgeteilt, wann das Update allgemein verfügbar sein wird: Im Dezember 2016 soll es für drei Nexus-Geräte, das Pixel C und für andere Gerätehersteller zur Verfügung stehen. ( Android 7.0 ,  Google )  \n",
      "{'tech': 0.9957034459578473, 'nontech': 0.004296554042152624}\n",
      "\n",
      "Linux-Distribution: Fedora 25 erscheint mit Wayland als Standard Als erste große Linux-Distribution verabschiedet sich Fedora in Version 25 von X11 und nutzt Wayland als Standard. Außerdem hat das Team versucht, teils mehrere Jahre alte Probleme nutzerfreundlich zu lösen - dazu gehört auch der MP3-Support. ( Fedora ,  Gnome )  \n",
      "{'tech': 0.782798612182242, 'nontech': 0.21720138781775805}\n",
      "\n",
      "Windows Holographic: Microsofts AR-Plattform benötigt eine DX12-Grafikkarte Die Windows-10-Preview enthält eine App, die testet, ob der PC flott genug für das Creator's Update mit AR-Unterstützung ist. Die Systemanforderungen offenbaren interessante Details. ( Augmented Reality ,  DirectX )  \n",
      "{'tech': 0.9877337295942646, 'nontech': 0.01226627040573549}\n",
      "\n",
      "Alexa-Statistik: Liste der beliebtesten Webseiten nicht mehr kostenlos Jahrelang stellte die Firma Alexa eine Liste der eine Million beliebtesten Webseiten bereit. Viele nutzten sie für Forschungszwecke. Damit ist jetzt Schluss: Die Daten gibt's nur noch gegen Bezahlung. ( Open Data ,  API )  \n",
      "{'tech': 0.7820971149106253, 'nontech': 0.21790288508937475}\n",
      "\n",
      "Testbetrieb: Facebook sucht nach WLAN-Hotspots Die Facebook-App will das gleichnamige soziale Netzwerk auch für die Suche von kostenlos nutzbaren WLAN-Zugängen nutzen. Derzeit wird begrenzt die Funktion getestet in einer integrierten Kartenansicht WLAN-SSIDs aufzuspüren, um sie zu nutzen. ( Facebook ,  WLAN )  \n",
      "{'tech': 0.9353444087072981, 'nontech': 0.06465559129270203}\n",
      "\n",
      "Windows 10 Mobile: Microsoft plant eine x86-Emulation für ARM Microsoft arbeitet an einer x86-Emulation in Windows 10 Mobile. Damit sollen herkömmliche Windows-Programme auch auf ARM64-Geräten funktionieren. Bis das passiert, dauert es aber noch lange. ( Windows 10 Mobile ,  Microsoft )  \n",
      "{'tech': 0.9962144717342983, 'nontech': 0.0037855282657015665}\n",
      "\n",
      "Vivaldi 1.5: Browser mit Lampensteuerung Mehr Browserkomfort verspricht Vivaldi 1.5. Der Browser kann Philips-Hue-Lampen ansteuern und die Tab-Verwaltung ist umfangreicher geworden. Außerdem gibt es einen Lesemodus, eine bessere Notizfunktion und kompaktere Updates. ( Vivaldi ,  Browser )  \n",
      "{'tech': 0.9536373553550012, 'nontech': 0.046362644644998854}\n",
      "\n",
      "Prozessoren und LTE-Modems: Qualcomm startet begrenztes Bug-Bounty-Programm In Android-Security-Updates finden sich häufig Schwachstellen in Qualcomm-Produkten. Das Unternehmen will die Security mit einem neuen Bug-Bounty-Programm verbessern - hat jedoch einige Einschränkungen. ( Qualcomm ,  Linux-Kernel )  \n",
      "{'tech': 0.9419427975517071, 'nontech': 0.058057202448292856}\n",
      "\n",
      "Mirai-IoT-Botnet: IP-Kamera nach 98 Sekunden mit Malware infiziert Droht die Netzwerkapokalypse, sobald ein unsicheres IoT-Gerät im Heimnetzwerk angeschlossen wurde? Der Sicherheitsforscher Rob Graham hat es ausprobiert - und sich innerhalb von 98 Sekunden die erste Infektion abgeholt. ( Mirai-Botnetz ,  Virus )  \n",
      "{'tech': 0.916945355681848, 'nontech': 0.08305464431815206}\n",
      "\n",
      "Insider Build mit Powershell: Windows CMD.exe wird durch Open Source ersetzt Im aktuellen Insider Build 14971 von Windows 10 wird die Kommandozeile CMD.exe durch die Powershell ersetzt. Die einfache Eingabeaufforderung verschwindet zwar noch nicht ganz, ein zentraler Bestandteil von Windows ist damit künftig aber Open Source. ( Microsoft ,  .Net )  \n",
      "{'tech': 0.9918919793097986, 'nontech': 0.008108020690201334}\n",
      "\n",
      "Raspberry Pi: Der mit dem 64-Bit-Kernel tanzt Die Raspberry Pi Foundation sorgt dafür, dass auf der Version 3 ihres Minirechners ein 32-Bit-Linux startet - und das, obwohl der neue Raspberry Pi eine reinrassige 64-Bit-CPU hat. Echte Linux-Kern-Techniker lässt die angezogene Handbremse nicht ruhen. ( Raspberry Pi ,  Linux-Kernel )  \n",
      "{'tech': 0.9800121879532386, 'nontech': 0.019987812046761446}\n",
      "\n",
      "Android-Backdoor: Schwere Sicherheitslücke in China-Handys entdeckt In der Firmware chinesischer Billig-Handys haben Sicherheitsexperten erstaunliche Lücken entdeckt. Selbst ohne ausgefeilte Angriffsmethoden hätten Millionen Android-Handys gehackt werden können. ( Dirty Cow ,  Smartphone )  \n",
      "{'tech': 0.8965926044653098, 'nontech': 0.10340739553469033}\n",
      "\n",
      "Kaspersky OS: Kaspersky stellt eigenes Betriebssystem vor Sicher ohne Linux: Kaspersky hat ein eigenes Betriebssystem entwickelt. Das Unternehmen hat es nach eigenen Angaben komplett neu entwickelt. Es sei vor allem eins: sicher. ( Kaspersky ,  Betriebssystem )  \n",
      "{'tech': 0.8857910608472599, 'nontech': 0.11420893915274005}\n",
      "\n",
      "Filesharing: Hacker erbeuten Sourcecode von Mega.nz Mehrere Gbyte an Quellcode und einige Admin-Zugänge wurden bei dem von Kim Dotcom gegründeten Dienst Mega.nz kopiert. Nach Angaben des Unternehmens sind keine Nutzerdaten betroffen. ( Mega ,  Urheberrecht )  \n",
      "{'tech': 0.8986586551195632, 'nontech': 0.10134134488043674}\n",
      "\n",
      "Erpressungstrojaner: Ransomware-Programmierer wollte Crypto-Nachhilfe Auch wenn es mittlerweile zahlreiche Open-Source-Ransomware-Templates gibt, ist die Umsetzung von Verschlüsselungsfunktionen nach wie vor schwierig. Ein Entwickler wollte daher Nachhilfe - ausgerechnet von einem Sicherheitsforscher, der sich mit Ransomware beschäftigt. ( Ransomware ,  Virus )  \n",
      "{'tech': 0.8892562627826356, 'nontech': 0.11074373721736444}\n",
      "\n",
      "Google Project Brillo: IoT-Android wird sicherer als Smartphone-Android Google krempelt die Zusammenarbeit mit Herstellern für sein Internet-of-Things-System Brillo im Vergleich zu Android völlig um. So gibt es nur einen Linux-Kernel, der langfristig Updates erhalten soll. Die Geräte müssen zudem mehr als fünf Jahre lang gepflegt werden, was die Sicherheit erhöhen soll. ( Open Source ,  Google )  \n",
      "{'tech': 0.9956323196026148, 'nontech': 0.00436768039738532}\n",
      "\n",
      "Copyright: US-Marine wehrt sich gegen Vorwurf der Softwarepiraterie Ein deutsches Software-Unternehmen fordert fast 600 Millionen US-Dollar von der US-Marine, weil diese angeblich hunderttausende Male Testversionen einer Software installiert hat, ohne dafür die Lizenzen zu besitzen. Die US-Regierung hat sich jetzt erstmals vor Gericht geäußert. ( Urheberrecht ,  Applikationen )  \n",
      "{'tech': 0.8256804323121306, 'nontech': 0.17431956768786944}\n",
      "\n",
      "Playstation Network: Gamer soll für DDOS auf Dyn verantwortlich sein Das eigentliche Ziel des DDoS-Angriffs, der Dienste wie Twitter, Amazon, Spotify und Netflix zeitweise lahmgelegt hat, soll Sonys Playstation Network gewesen sein. Diese Theorie äußert der Netzbetreiber Level 3 - Dyn selbst ist noch nicht überzeugt. ( Mirai-Botnetz ,  Virus )  \n",
      "{'tech': 0.9444852549308589, 'nontech': 0.055514745069141135}\n",
      "\n",
      "20 Jahre ICQ: Uh-oh, ich kann mich nicht trennen Vor 20 Jahren erschien mit ICQ einer der erfolgreichsten Chatdienste. Es veränderte das Kommunikationsverhalten einer Generation - auch das unseres Autors. ( ICQ ,  Instant Messenger )  \n",
      "{'tech': 0.7214930968337946, 'nontech': 0.27850690316620536}\n",
      "\n",
      "Verjährung: BGH verlängert Haftung für illegales Filesharing Der Bundesgerichtshof hat die Verjährungsfrist für illegales Filesharing auf zehn Jahre erhöht. Ob wirklich eine neue Welle von Abmahnungen folgt, ist noch unklar. ( Abmahnung ,  Tauschbörse )  \n",
      "{'tech': 0.9174987585783859, 'nontech': 0.08250124142161396}\n",
      "\n",
      "Connect 2016: Microsoft setzt alles auf die Cloud Zur Connect, Microsofts Entwicklermesse, wird endgültig klar, dass die Zukunft des Unternehmens im Cloud-Geschäft liegt. Das zeigt sich etwa an dem längst überfälligen Beitritt zur Linux Foundation oder dem neuen SQL Server. Bei der Mobile-Entwicklung sorgt Microsoft allein für Tools und das Cloud-Backend. ( Microsoft ,  IBM )  \n",
      "{'tech': 0.9954442607940699, 'nontech': 0.004555739205929964}\n",
      "\n",
      "Earth VR: Mit Google und dem Vive durch die Welt fliegen Mit Googles neuem Earth VR für das HTC Vive können Nutzer nicht nur durch virtuelle Straßen der Welt laufen, sondern sich komplett frei bewegen. Zur Orientierung verwenden Nutzer die Controller des Vive, auch Headtracking wird unterstützt. ( Google Earth ,  Google )  \n",
      "{'tech': 0.9723925236954718, 'nontech': 0.027607476304528207}\n",
      "\n",
      "http://newsfeed.zeit.de/politik/index\n",
      "Russland: \"Wir brauchen Freunde\"     Sanktionen, Olympia-Ausschluss, Propaganda: In einer Rede kritisiert Wladimir Putin die Einmischung des Westens in russische Interessen. Er gab sich aber auch kooperativ.\n",
      "{'tech': 0.1400750589173121, 'nontech': 0.8599249410826878}\n",
      "\n",
      "Innere Sicherheit: Australien verschärft Anti-Terror-Gesetze     Verurteilte Straftäter in Australien können künftig nach ihrer Verurteilung in Sicherungsverwahrung verbleiben. Kritiker sprechen von einer \"Aushöhlung der Bürgerrechte\".\n",
      "{'tech': 0.5415480295079992, 'nontech': 0.4584519704920008}\n",
      "\n",
      "Atomstreit: Südkorea verhängt Sanktionen gegen Nordkorea     Erst der UN-Sicherheitsrat, nun die Regierung in Seoul: Die Sanktionen gegen Nordkorea werden verschärft. Ob die neuen Resolutionen Wirkung zeigen, ist fraglich.\n",
      "{'tech': 0.7164309398305014, 'nontech': 0.2835690601694985}\n",
      "\n",
      "Türkei: Unser täglich Erdoğan Erpresst Erdoğan Europa? Nein, denn zur Erpressung gehört auch einer, der sich erpressen lässt. Nicht einmal der türkische Präsident kann alles machen, was er ankündigt.\n",
      "{'tech': 0.38778307421143915, 'nontech': 0.6122169257885608}\n",
      "\n",
      "Syrien: UN befürchten \"gigantischen Friedhof\"     Die Lage in Aleppo ist dramatisch, laut Augenzeugen herrschen Panik und Verzweiflung. Der UN-Sicherheitsrat tagte: Statt Lösungen gab es gegenseitige Schuldzuweisungen.\n",
      "{'tech': 0.5329074576850199, 'nontech': 0.4670925423149802}\n",
      "\n",
      "Kolumbien: Abgeordnete billigen Friedensvertrag mit Farc     Der überarbeitete Friedenspakt mit der Farc ist vom kolumbianischen Kongress angenommen worden. Noch in diesem Jahr soll die Entwaffnung der Rebellen beginnen.\n",
      "{'tech': 0.340093812262779, 'nontech': 0.659906187737221}\n",
      "\n",
      "Verteidigung: Bundeswehr will Schulabbrecher einstellen     Wegen ihrer Personalnot plant die Truppe laut einem Bericht, künftig auch Bewerber ohne Abschluss einzustellen. Beim Bund sollen sie den Abschluss dann nachholen.\n",
      "{'tech': 0.9283626539250043, 'nontech': 0.07163734607499568}\n",
      "\n",
      "Geheimdienst: Kritik an Rekrutierungspraxis des Verfassungsschutzes     Nach der Entdeckung eines möglichen Maulwurfes fordern Politiker eine Prüfung der Einstellungstests. Laut einem Bericht könnte der Verdächtige Komplizen gehabt haben.\n",
      "{'tech': 0.7806345988067144, 'nontech': 0.21936540119328563}\n",
      "\n",
      "US-Wahl: Grünen-Politikerin will auch in Michigan nachzählen lassen     Nach Pennsylvania und Wisconsin hat Jill Stein auch die Neuauszählung der Stimmen in Michigan beantragt. Der Wahlsieg dürfte Donald Trump dennoch nicht zu nehmen sein.\n",
      "{'tech': 0.8570240999781001, 'nontech': 0.14297590002189992}\n",
      "\n",
      "US-Wahl: Pelosi bleibt Fraktionschefin der Demokraten     Die Demokraten im US-Repräsentantenhaus halten an der bisherigen Führungsspitze fest. Der junge Tim Ryan hatte keine Chance gegen die einflussreiche Nancy Pelosi.\n",
      "{'tech': 0.7764696919366317, 'nontech': 0.2235303080633682}\n",
      "\n",
      "Syrien: Fünf Jahre Krieg     Seit 2011 ist Bürgerkrieg in Syrien. Hunderttausende Menschen sind getötet worden, Millionen flohen. Denen, die im Land geblieben sind, drohen Hunger, Folter und Tod.\n",
      "{'tech': 0.4371748096976806, 'nontech': 0.5628251903023194}\n",
      "\n",
      "Ungarn: Flüchtling muss wegen Grenzkrawallen zehn Jahre in Haft     Ein Syrer soll im vergangenen Jahr ungarische Grenzbeamte angegriffen und zu Unruhen aufgerufen haben. Ein Gericht wertete dies nun als terroristischen Akt.\n",
      "{'tech': 0.33711794912527926, 'nontech': 0.6628820508747209}\n",
      "\n",
      "Österreich-Wahl: Über den Zebrastreifen zum Erfolg     In Wiener Arbeitervierteln, zwischen Handyshops und Halbwahrheiten, kümmert sich die FPÖ um die Probleme der Leute. Von hier aus will sie es bis in die Hofburg schaffen.\n",
      "{'tech': 0.8632487763411769, 'nontech': 0.136751223658823}\n",
      "\n",
      "AfD: Von wegen Sammelbecken der Abgehängten     Die AfD ist mitnichten die Partei der Geringverdiener, zeigt eine Studie, die der ZEIT vorliegt. Menschen mit niedrigem Einkommen sympathisieren eher mit der Linkspartei.\n",
      "{'tech': 0.1850765436738192, 'nontech': 0.8149234563261808}\n",
      "\n",
      "Syrien-Krieg: Die letzte Schlacht um Aleppo     Mit Bomben und Bodentruppen erobern das syrische Regime und seine Verbündeten Ost-Aleppo von den Rebellen zurück. Was bedeutet die brutale Offensive für Syriens Zukunft?\n",
      "{'tech': 0.6709504415123789, 'nontech': 0.329049558487621}\n",
      "\n",
      "http://www.welt.de/?service=Rss\n",
      "Fragen und Antworten: So teuer wird die Maut für deutsche Autofahrer Heute will Bundesverkehrsminister Alexander Dobrindt in Brüssel Nägel mit Köpfen machen. Die Pkw-Maut in Deutschland soll kommen. Was hat das für Folgen für die Autofahrer?\n",
      "{'tech': 0.4662512303578761, 'nontech': 0.533748769642124}\n",
      "\n",
      "Rede an die Nation: Putin erklärt seine neue Weltordnung In seiner jährlichen Rede an die Nation gibt sich der russische Präsident äußerst selbstbewusst. Russland und die USA müssten verstärkt zusammenarbeiten, sonst drohten \"globale Katastrophen\".\n",
      "{'tech': 0.070013787210003, 'nontech': 0.929986212789997}\n",
      "\n",
      "\"Bargusin\": Moskau arbeitet am gefürchteten Atomraketen-Zug Die Entwicklung des Raketenzuges vom Typ \"Bargusin\" ist im Gange: Er soll, mit Atomwaffen bestückt, im russischen Hinterland in Bewegung bleiben und stets strategische Ziele im Westen im Visier haben.\n",
      "{'tech': 0.28400246572433735, 'nontech': 0.7159975342756627}\n",
      "\n",
      "Tonmitschnitt von Funkverkehr: \"9000 Fuß, Señorita!\" Ein Tonmitschnitt dokumentiert die dramatischen Minuten vor dem Absturz des Fluges LaMia 933 in Medellín. Der Maschine ging das Kerosin aus. Bis zuletzt funkte der Pilot um Hilfe.\n",
      "{'tech': 0.6119345976761673, 'nontech': 0.38806540232383263}\n",
      "\n",
      "Manchester United: Der begeisterte Empfang überwältigt Schweinsteiger Nach seinem Comeback spricht Bastian Schweinsteiger von einem \"unglaublichen Abend\". Er durfte im Pokal für Manchester United spielen. Sein großer Gegenspieler war auf die Tribüne verbannt worden.\n",
      "{'tech': 0.8296834551376215, 'nontech': 0.17031654486237854}\n",
      "\n",
      "Eine Million Geräte betroffen: Android-Handys infiziert – So prüfen Sie Ihres Gefährliche Malware späht massenweise Daten von Andoid-Telefonen aus. Cybersoftware-Experten zufolge verschafft sie sich Zugang zu Google-Konten. Im Netz können Nutzer prüfen, ob sie betroffen sind.\n",
      "{'tech': 0.9977088319899501, 'nontech': 0.0022911680100498504}\n",
      "\n",
      "Adventskalender: Das große WELTplus-Weihnachtsgewinnspiel 2016 Hier finden Sie das WELTplus-Weihnachtsgewinnspiel. Klicken Sie ab dem 1. Dezember 2016 auf das Türchen des Tages, spielen Sie mit bei unserem Weihnachts-Quiz und gewinnen Sie jeden Tag tolle Preise.\n",
      "{'tech': 0.9955933269178674, 'nontech': 0.0044066730821325905}\n",
      "\n",
      "Rotlicht-Prozess: Die Schüsse nach der Demütigung der Ex-Hure Prostitution, Erpressung, Schüsse, eine zurückgenommene Aussagen und ein verschollener Beteiligte. Der Hamburger Prozess um einen blutigen Streit im Rotlichtmilieu bot viele Wendungen und Ungereimtheiten.\n",
      "{'tech': 0.7169950268915567, 'nontech': 0.28300497310844325}\n",
      "\n",
      "Italienischer Pizzameister : Nur mit der \"Geldbörsen-Technik\" essen Sie Pizza richtig Außerhalb Neapels werde die Pizza komplett falsch gegessen, beklagt der italienische Pizza-Maestro Enzo Coccia. Messer und Gabel seien Tabu - der Grund dafür liegt in der Tradition.\n",
      "{'tech': 0.854301103940636, 'nontech': 0.14569889605936392}\n",
      "\n",
      "In eigener Sache: Die \"Welt Edition\" gibt es jetzt auf allen Geräten Die digitale Zeitung der \"Welt\" ist ab sofort von überall erreichbar: iPad, iPhone, Android und endlich auch im Web und für Windows-Nutzer. Einfach mal ausprobieren – selbstverständlich kostenlos.\n",
      "{'tech': 0.9988186971733586, 'nontech': 0.0011813028266413114}\n",
      "\n"
     ]
    }
   ],
   "source": [
    "length = 0\n",
    "for feed in test:\n",
    "    print feed\n",
    "    f=feedparser.parse(feed)\n",
    "    for e in f.entries:\n",
    "        length += 1\n",
    "        fulltext=stripHTML(e.title+' '+e.description)\n",
    "        print fulltext\n",
    "        print naiveBayesClassifier.testDocument(fulltext)\n",
    "        print"
   ]
  },
  {
   "cell_type": "code",
   "execution_count": 312,
   "metadata": {
    "collapsed": true
   },
   "outputs": [],
   "source": [
    "def get_highest_prob_cat(dict):\n",
    "    highest_cat = max(dict, key=lambda k: dict[k])\n",
    "    return highest_cat"
   ]
  },
  {
   "cell_type": "code",
   "execution_count": 313,
   "metadata": {
    "collapsed": false,
    "scrolled": false
   },
   "outputs": [],
   "source": [
    "import pandas as pd\n",
    "\n",
    "feed_num = 1\n",
    "\n",
    "data = []\n",
    "\n",
    "for feed in test:\n",
    "    f=feedparser.parse(feed)\n",
    "    for e in f.entries:\n",
    "        length += 1\n",
    "        fulltext=stripHTML(e.title+' '+e.description)\n",
    "        pred_cat=get_highest_prob_cat(naiveBayesClassifier.testDocument(fulltext))\n",
    "        if feed_num == 1:\n",
    "            data.append([pred_cat, 'tech'])\n",
    "        else:\n",
    "            data.append([pred_cat, 'nontech'])\n",
    "    feed_num += 1\n",
    "\n",
    "    \n",
    "data = pd.DataFrame(data)"
   ]
  },
  {
   "cell_type": "code",
   "execution_count": 314,
   "metadata": {
    "collapsed": false
   },
   "outputs": [
    {
     "data": {
      "text/plain": [
       "0.75384615384615383"
      ]
     },
     "execution_count": 314,
     "metadata": {},
     "output_type": "execute_result"
    }
   ],
   "source": [
    "from sklearn.metrics import accuracy_score\n",
    "\n",
    "accuracy = accuracy_score(data[1].values, data[0].values)\n",
    "accuracy"
   ]
  },
  {
   "cell_type": "markdown",
   "metadata": {},
   "source": [
    "**Wie man am Ausgabewert **(der Accuracy)** erkennen kann, kommt der Naive Bayes Classifier selbst bei einem schlechten wordDict** (da mit stop words) **und ohne Bewertung der Häufigkeit der Worte** (Term frequency) **auf einen Wert von knapp 75% bei der Klassifizierung der beiden Kategorien 'tech' und 'nontech'** "
   ]
  },
  {
   "cell_type": "code",
   "execution_count": 315,
   "metadata": {
    "collapsed": false
   },
   "outputs": [
    {
     "data": {
      "text/plain": [
       "array([[ 9, 16],\n",
       "       [ 0, 40]])"
      ]
     },
     "execution_count": 315,
     "metadata": {},
     "output_type": "execute_result"
    }
   ],
   "source": [
    "from sklearn.metrics import confusion_matrix\n",
    "\n",
    "confus = confusion_matrix(data[1].values, data[0].values)\n",
    "confus"
   ]
  },
  {
   "cell_type": "markdown",
   "metadata": {},
   "source": [
    "```\n",
    "                             Predicted\n",
    "\n",
    "                       +------+---------+\n",
    "                       | tech | nontech |\n",
    "             +--------------------------+\n",
    "             |    tech |  9   |    16   |\n",
    "Actual Class +--------------------------+\n",
    "             | nontech |   0  |    40   |\n",
    "             +---------+------+---------+\n",
    "\n",
    "```\n",
    "\n",
    "**Die Confusion Matrix zeigt, dass kein Dokument, das aus dem Bereich 'nontech' kommt als 'tech'klassifiziert wurde.\n",
    "Dagegen wurden 16 eigentlich 'nontech'-Dokumente als 'tech' klassifiziert.**\n",
    "**Insgesamt wurden 49 Dokumente richtig und 16 falsch klassifiziert.**\n",
    "\n",
    "**Das Ergebnis kann relativ simple verbessert werden, indem man dem Classifier mehr Dokumente mit richtigen Labels zum trainieren gibt.**\n"
   ]
  },
  {
   "cell_type": "code",
   "execution_count": 316,
   "metadata": {
    "collapsed": false
   },
   "outputs": [
    {
     "name": "stdout",
     "output_type": "stream",
     "text": [
      "Precision for categorie tech: 0.714286\n",
      "Precision for categorie nontech: 1.000000\n"
     ]
    }
   ],
   "source": [
    "from sklearn.metrics import precision_score\n",
    "\n",
    "tech_prec = precision_score(data[1].values, data[0].values, pos_label='tech')\n",
    "nontech_prec = precision_score(data[1].values, data[0].values, pos_label='nontech')\n",
    "\n",
    "print 'Precision for categorie tech: %f' % (tech_prec)\n",
    "print 'Precision for categorie nontech: %f' % (nontech_prec)"
   ]
  },
  {
   "cell_type": "markdown",
   "metadata": {},
   "source": [
    "**Der Precision-Score gibt in diesem Fall an, wie viele der als 'tech'/'nontech' klassifizierten Dokumente wirklich aus der Kategorie 'tech'/'nontech' sind.**\n",
    "**Wie in der Confusionmatrix sieht man hier auch nochmal, dass kein Dokument der Klasse 'nontech' als 'tech' klassifiziert wurde.** (Maximalwert 1)"
   ]
  },
  {
   "cell_type": "code",
   "execution_count": 317,
   "metadata": {
    "collapsed": false
   },
   "outputs": [
    {
     "name": "stdout",
     "output_type": "stream",
     "text": [
      "Recall for categorie tech: 1.000000\n",
      "Recall for categorie nontech: 0.360000\n"
     ]
    }
   ],
   "source": [
    "from sklearn.metrics import recall_score\n",
    "\n",
    "tech_recall = recall_score(data[1].values, data[0].values, pos_label='tech')\n",
    "nontech_recall = recall_score(data[1].values, data[0].values, pos_label='nontech')\n",
    "\n",
    "print 'Recall for categorie tech: %f' % (tech_recall)\n",
    "print 'Recall for categorie nontech: %f' % (nontech_recall)"
   ]
  },
  {
   "cell_type": "markdown",
   "metadata": {},
   "source": [
    "**Der Recall-Score gibt in diesem Fall an, wie viele der tatsächlichen 'tech'/'nontech' Dokumente als 'tech'/'nontech' klassifiziert wurden. Hier sieht man schön, dass zwar alle Dokumente die als nontech' klassifiziert wurden auch 'nontech' waren ** (Precision-Score) **, dafür aber nur 36% der tatsächlichen 'nontech' als 'nontech' klassifiziert**  \n",
    "**Dagegen wurden alle tatsächlichen 'tech' Dokumente auch als 'tech' klassifiziert.**"
   ]
  },
  {
   "cell_type": "code",
   "execution_count": 353,
   "metadata": {
    "collapsed": false
   },
   "outputs": [
    {
     "name": "stdout",
     "output_type": "stream",
     "text": [
      "F1-Score for categorie tech: 0.764045\n",
      "F1-Score for categorie nontech: 0.487805\n"
     ]
    }
   ],
   "source": [
    "from sklearn.metrics import f1_score\n",
    "\n",
    "tech_f1 = f1_score(data[1].values, data[0].values, pos_label='tech')\n",
    "nontech_f1 = f1_score(data[1].values, data[0].values, pos_label='nontech')\n",
    "\n",
    "print 'F1-Score for categorie tech: %f' % (tech_f1)\n",
    "print 'F1-Score for categorie nontech: %f' % (nontech_f1)"
   ]
  },
  {
   "cell_type": "markdown",
   "metadata": {},
   "source": [
    "**Der F1-Score kombiniert die beiden Werte Recall und Precision und bildet einen Durchschnittswert.** "
   ]
  },
  {
   "cell_type": "markdown",
   "metadata": {},
   "source": [
    "3.Diskutieren Sie das Ergebnis"
   ]
  },
  {
   "cell_type": "markdown",
   "metadata": {
    "collapsed": true
   },
   "source": [
    "### Auswertung:\n",
    "\n",
    "**Die einzelnen Metriken zeigen wie gut der Naive Bayes Classifier selbst bei simpler getWords Methode funktioniert.**  \n",
    "**Natürlich würde die richtige Klassifizierung verbessert wenn wir mehr Triningsdaten in den Classifier geben.**\n",
    "**Um overfitting müssen wir uns bei diesem kleinen Datensatz weniger sorgen machen.**  "
   ]
  },
  {
   "cell_type": "markdown",
   "metadata": {},
   "source": [
    "4.Wie könnte die Klassifikationsgüte durch Modifikation der _getwords()_-Methode verbessert werden? Implementieren Sie diesen Ansatz und vergleichen Sie das Ergebnis mit dem des ersten Ansatzes."
   ]
  },
  {
   "cell_type": "markdown",
   "metadata": {},
   "source": [
    "### Token frequency anstatt alle 1"
   ]
  },
  {
   "cell_type": "code",
   "execution_count": 319,
   "metadata": {
    "collapsed": false
   },
   "outputs": [],
   "source": [
    "#improved by removing stop words and using tf instead of just 1 for every word\n",
    "\n",
    "def getwordsTF(docText):\n",
    "    LOWER_LIMIT = 1\n",
    "    UPPER_LIMIT = 20\n",
    "    \n",
    "    sentence = nltk.regexp_tokenize(docText, r\"[\\wäöüÄÖÜß]+\")\n",
    "    \n",
    "    tokens = [x.lower() for x in sentence if x.lower()]\n",
    "    \n",
    "    wordDict = { x: tokens.count(x) for x in tokens\\\n",
    "                if tokens.count(x) >= LOWER_LIMIT and tokens.count(x) <= UPPER_LIMIT}\n",
    "    \n",
    "    return wordDict"
   ]
  },
  {
   "cell_type": "code",
   "execution_count": 320,
   "metadata": {
    "collapsed": false
   },
   "outputs": [
    {
     "data": {
      "text/plain": [
       "{'3': 3,\n",
       " '4': 1,\n",
       " 'auf': 2,\n",
       " 'black': 3,\n",
       " 'bombastischen': 1,\n",
       " 'call': 2,\n",
       " 'darauf': 1,\n",
       " 'das': 1,\n",
       " 'den': 1,\n",
       " 'der': 2,\n",
       " 'des': 1,\n",
       " 'die': 2,\n",
       " 'duty': 2,\n",
       " 'd\\xc3\\xbcrfen': 1,\n",
       " 'einzelspieler': 1,\n",
       " 'erwarten': 1,\n",
       " 'fans': 2,\n",
       " 'ganz': 1,\n",
       " 'genau': 1,\n",
       " 'getestet': 1,\n",
       " 'haben': 1,\n",
       " 'heute': 1,\n",
       " 'hohem': 1,\n",
       " 'in': 1,\n",
       " 'jetzt': 1,\n",
       " 'kommt': 1,\n",
       " 'liefert': 1,\n",
       " 'l\\xc3\\xa4den': 1,\n",
       " 'niveau': 1,\n",
       " 'of': 2,\n",
       " 'ops': 3,\n",
       " 'part': 1,\n",
       " 'playstation': 1,\n",
       " 'ps4': 1,\n",
       " 'sagen': 1,\n",
       " 'schon': 1,\n",
       " 'serie': 1,\n",
       " 'shooter': 1,\n",
       " 'shooters': 1,\n",
       " 'sich': 1,\n",
       " 'und': 1,\n",
       " 'vorab': 1,\n",
       " 'warten': 1,\n",
       " 'was': 1,\n",
       " 'wir': 1}"
      ]
     },
     "execution_count": 320,
     "metadata": {},
     "output_type": "execute_result"
    }
   ],
   "source": [
    "text = 'Call of Duty: Black Ops 3 (PS4)   Darauf warten die Shooter-Fans! Call of Duty: Black Ops 3 kommt heute in die Läden. Wir haben den Einzelspieler-Part des bombastischen Shooters vorab auf der PlayStation 4 getestet und dürfen schon jetzt sagen: Black Ops 3 liefert auf hohem Niveau ganz genau das, was sich Fans der Serie erwarten.'\n",
    "getwordsTF(text)"
   ]
  },
  {
   "cell_type": "code",
   "execution_count": 321,
   "metadata": {
    "collapsed": false
   },
   "outputs": [],
   "source": [
    "naiveBayesClassifierTF = NaiveBayesClassifier(getwordsTF)\n",
    "\n",
    "for feed in trainTech:\n",
    "    f=feedparser.parse(feed)\n",
    "    for e in f.entries:\n",
    "        fulltext=stripHTML(e.title+' '+e.description)\n",
    "        naiveBayesClassifierTF.train(fulltext, 'tech')\n",
    "\n",
    "for feed in trainNonTech:\n",
    "    f=feedparser.parse(feed)\n",
    "    for e in f.entries:\n",
    "        fulltext=stripHTML(e.title+' '+e.description)\n",
    "        naiveBayesClassifierTF.train(fulltext, 'nontech')"
   ]
  },
  {
   "cell_type": "code",
   "execution_count": 322,
   "metadata": {
    "collapsed": false
   },
   "outputs": [
    {
     "name": "stdout",
     "output_type": "stream",
     "text": [
      "http://rss.golem.de/rss.php?r=sw&feed=RSS0.91\n",
      "0-Day: Tor und Firefox patchen kritische Schwachstelle Tor und Mozilla haben schnell reagiert und veröffentlichen einen außerplanmäßigen Patch für eine kritische Sicherheitslücke. Der Fehler lag in einer Animationsfunktion für Vektorgrafiken. ( Security ,  Firefox )  \n",
      "{'tech': 0.9051903242410411, 'nontech': 0.09480967575895884}\n",
      "\n",
      "Hatch: Games ohne Installation auf dem Smartphone spielen Hatch ist ein neues Streaming-Abo für Spiele auf Android-Geräten: Nutzer können Games direkt vom Cloud-Server auf ihr Smartphone oder Tablet streamen, ohne sie vorher installieren zu müssen. Spiele können zudem auch immer zu zweit gespielt werden, indem die Steuerung über die Cloud geteilt wird. ( slush2016 ,  Smartphone )  \n",
      "{'tech': 0.9995928418748299, 'nontech': 0.0004071581251700541}\n",
      "\n",
      "0-Day: Nutzer des Tor-Browsers werden mit Javascript angegriffen Wer den Tor-Browsers nutzt, will meist vor allem eins: Anonymität. Eine aktuelle Schwachstelle im Firefox-Browser führt aber dazu, dass Nutzer identifiziert werden können. Das Problem betrifft auch Nutzer des regulären Firefox - ein Patch ist in Arbeit. ( Tor-Netzwerk ,  Firefox )  \n",
      "{'tech': 0.9981376449617733, 'nontech': 0.00186235503822676}\n",
      "\n",
      "Weitere Entlassungen: Cyanogen soll Hauptbüro in Seattle schließen Das Hauptbüro von Cyanogen soll internen und externen Quellen zufolge geschlossen werden - ein Großteil der Angestellten soll entlassen werden. Auch die Zukunft von Cyanogenmod-Gründer Steve Kondik ist offenbar unklar, einige Mitarbeiter können wohl in das kleinere Büro in Kalifornien wechseln. ( Cyanogen OS ,  Applikationen )  \n",
      "{'tech': 0.9135960121655682, 'nontech': 0.08640398783443176}\n",
      "\n",
      "Nach Angriff auf Telekom: Mit dem Strafrecht Router ins Terrorcamp schicken oder so Nach der Überflutung kommen die Mücken und nach dem Telekom-Hack die unsinnigen Vorschläge aus der Politik. Dem Unternehmen kann das nur recht sein, so kann es von seinen eigenen Fehlern ablenken. ( Security ,  Netzwerk )  \n",
      "{'tech': 0.9998687982639335, 'nontech': 0.00013120173606651777}\n",
      "\n",
      "Adreno: Aktuelle Qualcomm-GPUs bekommen freien Treiber Für die 500er-Reihe von Qualcomms Adreno-GPUs stehen erste Patches für einen freien Linux-Treiber bereit. Der Code umfasst Kernel- und Userspace und stammt teilweise von Qualcomm selbst. Android-Updates könnten damit künftig wesentlich einfacher werden. ( Linux-Kernel ,  Treiber )  \n",
      "{'tech': 0.9668906712719768, 'nontech': 0.033109328728023225}\n",
      "\n",
      "Botnetz: Telekom-Routerausfälle waren nur Kollateralschaden Eine Variante des Mirai-Botnetzes auf Routern hat zahlreiche Ausfälle bei Telekom-Kunden verursacht. Allerdings waren die Telekom-Router selbst nicht Teil des Botnetzes, sie wurden lediglich durch die Angriffsversuche lahmgelegt. ( Telekom ,  Virus )  \n",
      "{'tech': 0.9975367292493225, 'nontech': 0.0024632707506775475}\n",
      "\n",
      "Videolan: Neuer VLC-Player spielt 360-Grad-Videos ab Die Technical Preview des VLC-Players eignet sich zur Wiedergabe von 360-Grad-Videos inklusive Rotieren der Kamera per Maus. Künftig will Videolan auch VR-Headsets unterstützen. ( VLC ,  Applikationen )  \n",
      "{'tech': 0.907567507990731, 'nontech': 0.09243249200926894}\n",
      "\n",
      "Virtualisierungslösung: Update von Parallels Desktop 12 schränkt Funktionen ein Parallels Desktop 12 ermöglicht es seit dem Update auf Version 12.1 nicht mehr, virtuelle Maschinen mit mehr als acht GByte RAM und vier virtuellen Prozessoren einzurichten. Nur die Aboversion arbeitet ohne Einschränkungen. ( Parallels ,  Mac OS X )  \n",
      "{'tech': 0.99535833631482, 'nontech': 0.004641663685180028}\n",
      "\n",
      "Adblocker: Auch Spiegel Online verliert gegen Adblock Plus Ein weiteres Medium hat vor Gericht gegen Adblock-Plus verloren. Eine kleine Hoffnung für Verleger gibt es trotzdem: Die Adblockerquote ist insgesamt leicht rückläufig. ( Adblock Plus ,  Onlinewerbung )  \n",
      "{'tech': 0.7273512696687872, 'nontech': 0.2726487303312128}\n",
      "\n",
      "Gehackte Zugänge: Kriminelle versenden Malware mit Mailchimp-Accounts Kriminelle nutzen offenbar übernommene Mailchimp-Accounts, um Malware zu verbreiten. Das geschieht vor allem über Mails mit angeblichen Rechnungen. Alle 2.000 betroffenen Accounts wurden vorläufig stillgelegt. ( Malware ,  Virus )  \n",
      "{'tech': 0.9468575448367226, 'nontech': 0.053142455163277376}\n",
      "\n",
      "Deutscher Wetterdienst: Wetter-App zeigt mehr Gefahrenprognosen Der Deutsche Wetterdienst hat seine Wetter-App für Android und iOS aktualisiert und informiert darin jetzt auch über weitere Gefahrenprognosen. Bei Hochwasser, Sturmfluten und Lawinen erhalten Nutzer vorher eine Warnung. ( App )  \n",
      "{'tech': 0.9407866086766502, 'nontech': 0.0592133913233498}\n",
      "\n",
      "Spionage: Malware kann Kopfhörer als Mikrofon nutzen Kein Umbau erforderlich: Ein Programm kann Kopfhörer und andere Lautsprecher ohne Verstärker als Mikrofon verwenden - ohne das Wissen des Nutzers. ( Security ,  Sound-Hardware )  \n",
      "{'tech': 0.9444176053024808, 'nontech': 0.05558239469751923}\n",
      "\n",
      "Google: Chromebooks bekommen \"Wake on Voice\" Mit einem Gerät sprechen, um es aus dem Ruhezustand zu wecken, geht nicht mehr nur mit Smartphones, sondern auch mit einem Chromebook. Die Funktion ist ein weiteres Indiz für das Verschmelzen von ChromeOS und Android. ( Chromebook ,  Google )  \n",
      "{'tech': 0.9976525860499393, 'nontech': 0.002347413950060718}\n",
      "\n",
      "2-Faktor-Authentifizierung: Google warnt mehrere prominente Personen vor Staatshackern Eine Warnung vor staatlichen Hackerangriffen auf Google-Konten sorgt derzeit in den USA für Diskussionen. Vor allem Journalisten und Diplomaten erhielten die Warnung, auch in der Türkei gibt es Betroffene. ( Security ,  Applikationen )  \n",
      "{'tech': 0.9306348396251388, 'nontech': 0.06936516037486118}\n",
      "\n",
      "Blog-Software: Gravierender Fehler in Wordpress Auto-Update gefunden Weil der zentrale Update-Server von Wordpress unsichere Hashfunktionen zulässt, hätten Angreifer Code ausführen und massenhaft Wordpress-Installationen angreifen können. Die Sicherheitslücke wurde mittlerweile geschlossen. ( Wordpress ,  Blog )  \n",
      "{'tech': 0.9753030513109623, 'nontech': 0.024696948689037674}\n",
      "\n",
      "SCCACHE: Mozilla baut geteilten Compiler-Cache in Rust Ein weiteres wichtiges Stück Infrastruktur bei Mozilla ist in die Sprache Rust portiert worden: der geteilte Compiler-Cache (Sccache). Builds verschiedener Systeme können damit ihre Ergebnisse teilen, was dank Rust jetzt schneller geht. ( Mozilla ,  Server )  \n",
      "{'tech': 0.8679167868827844, 'nontech': 0.1320832131172156}\n",
      "\n",
      "Webstatistik: Alexa-Daten temporär wieder verfügbar Eine Ankündigung der Firma Alexa, ihre Statistik über die beliebtesten Webseiten künftig nur noch kostenpflichtig anzubieten, führte zu einigen Protesten. Jetzt sind die Daten - zumindest temporär - wieder verfügbar. ( Open Data ,  Studie )  \n",
      "{'tech': 0.759826638162348, 'nontech': 0.24017336183765203}\n",
      "\n",
      "Update: Google will Android 7.1.1 im Dezember 2016 veröffentlichen Google verteilt eine neue Entwicklervorschau für Android 7.1.1 und hat im Zuge dessen mitgeteilt, wann das Update allgemein verfügbar sein wird: Im Dezember 2016 soll es für drei Nexus-Geräte, das Pixel C und für andere Gerätehersteller zur Verfügung stehen. ( Android 7.0 ,  Google )  \n",
      "{'tech': 0.9985771166394293, 'nontech': 0.0014228833605707347}\n",
      "\n",
      "Linux-Distribution: Fedora 25 erscheint mit Wayland als Standard Als erste große Linux-Distribution verabschiedet sich Fedora in Version 25 von X11 und nutzt Wayland als Standard. Außerdem hat das Team versucht, teils mehrere Jahre alte Probleme nutzerfreundlich zu lösen - dazu gehört auch der MP3-Support. ( Fedora ,  Gnome )  \n",
      "{'tech': 0.8755406371083108, 'nontech': 0.12445936289168923}\n",
      "\n",
      "Windows Holographic: Microsofts AR-Plattform benötigt eine DX12-Grafikkarte Die Windows-10-Preview enthält eine App, die testet, ob der PC flott genug für das Creator's Update mit AR-Unterstützung ist. Die Systemanforderungen offenbaren interessante Details. ( Augmented Reality ,  DirectX )  \n",
      "{'tech': 0.9997897478137904, 'nontech': 0.00021025218620948557}\n",
      "\n",
      "Alexa-Statistik: Liste der beliebtesten Webseiten nicht mehr kostenlos Jahrelang stellte die Firma Alexa eine Liste der eine Million beliebtesten Webseiten bereit. Viele nutzten sie für Forschungszwecke. Damit ist jetzt Schluss: Die Daten gibt's nur noch gegen Bezahlung. ( Open Data ,  API )  \n",
      "{'tech': 0.8764254967208089, 'nontech': 0.12357450327919108}\n",
      "\n",
      "Testbetrieb: Facebook sucht nach WLAN-Hotspots Die Facebook-App will das gleichnamige soziale Netzwerk auch für die Suche von kostenlos nutzbaren WLAN-Zugängen nutzen. Derzeit wird begrenzt die Funktion getestet in einer integrierten Kartenansicht WLAN-SSIDs aufzuspüren, um sie zu nutzen. ( Facebook ,  WLAN )  \n",
      "{'tech': 0.9896422245134305, 'nontech': 0.010357775486569507}\n",
      "\n",
      "Windows 10 Mobile: Microsoft plant eine x86-Emulation für ARM Microsoft arbeitet an einer x86-Emulation in Windows 10 Mobile. Damit sollen herkömmliche Windows-Programme auch auf ARM64-Geräten funktionieren. Bis das passiert, dauert es aber noch lange. ( Windows 10 Mobile ,  Microsoft )  \n",
      "{'tech': 0.9999033724314703, 'nontech': 9.662756852966597e-05}\n",
      "\n",
      "Vivaldi 1.5: Browser mit Lampensteuerung Mehr Browserkomfort verspricht Vivaldi 1.5. Der Browser kann Philips-Hue-Lampen ansteuern und die Tab-Verwaltung ist umfangreicher geworden. Außerdem gibt es einen Lesemodus, eine bessere Notizfunktion und kompaktere Updates. ( Vivaldi ,  Browser )  \n",
      "{'tech': 0.9788296755138979, 'nontech': 0.02117032448610212}\n",
      "\n",
      "Prozessoren und LTE-Modems: Qualcomm startet begrenztes Bug-Bounty-Programm In Android-Security-Updates finden sich häufig Schwachstellen in Qualcomm-Produkten. Das Unternehmen will die Security mit einem neuen Bug-Bounty-Programm verbessern - hat jedoch einige Einschränkungen. ( Qualcomm ,  Linux-Kernel )  \n",
      "{'tech': 0.9820620252872047, 'nontech': 0.017937974712795346}\n",
      "\n",
      "Mirai-IoT-Botnet: IP-Kamera nach 98 Sekunden mit Malware infiziert Droht die Netzwerkapokalypse, sobald ein unsicheres IoT-Gerät im Heimnetzwerk angeschlossen wurde? Der Sicherheitsforscher Rob Graham hat es ausprobiert - und sich innerhalb von 98 Sekunden die erste Infektion abgeholt. ( Mirai-Botnetz ,  Virus )  \n",
      "{'tech': 0.9615293122787857, 'nontech': 0.038470687721214404}\n",
      "\n",
      "Insider Build mit Powershell: Windows CMD.exe wird durch Open Source ersetzt Im aktuellen Insider Build 14971 von Windows 10 wird die Kommandozeile CMD.exe durch die Powershell ersetzt. Die einfache Eingabeaufforderung verschwindet zwar noch nicht ganz, ein zentraler Bestandteil von Windows ist damit künftig aber Open Source. ( Microsoft ,  .Net )  \n",
      "{'tech': 0.9998518065260195, 'nontech': 0.00014819347398045368}\n",
      "\n",
      "Raspberry Pi: Der mit dem 64-Bit-Kernel tanzt Die Raspberry Pi Foundation sorgt dafür, dass auf der Version 3 ihres Minirechners ein 32-Bit-Linux startet - und das, obwohl der neue Raspberry Pi eine reinrassige 64-Bit-CPU hat. Echte Linux-Kern-Techniker lässt die angezogene Handbremse nicht ruhen. ( Raspberry Pi ,  Linux-Kernel )  \n",
      "{'tech': 0.9916282635887352, 'nontech': 0.008371736411264747}\n",
      "\n",
      "Android-Backdoor: Schwere Sicherheitslücke in China-Handys entdeckt In der Firmware chinesischer Billig-Handys haben Sicherheitsexperten erstaunliche Lücken entdeckt. Selbst ohne ausgefeilte Angriffsmethoden hätten Millionen Android-Handys gehackt werden können. ( Dirty Cow ,  Smartphone )  \n",
      "{'tech': 0.8946661766645604, 'nontech': 0.10533382333543971}\n",
      "\n",
      "Kaspersky OS: Kaspersky stellt eigenes Betriebssystem vor Sicher ohne Linux: Kaspersky hat ein eigenes Betriebssystem entwickelt. Das Unternehmen hat es nach eigenen Angaben komplett neu entwickelt. Es sei vor allem eins: sicher. ( Kaspersky ,  Betriebssystem )  \n",
      "{'tech': 0.9328086065766631, 'nontech': 0.06719139342333692}\n",
      "\n",
      "Filesharing: Hacker erbeuten Sourcecode von Mega.nz Mehrere Gbyte an Quellcode und einige Admin-Zugänge wurden bei dem von Kim Dotcom gegründeten Dienst Mega.nz kopiert. Nach Angaben des Unternehmens sind keine Nutzerdaten betroffen. ( Mega ,  Urheberrecht )  \n",
      "{'tech': 0.9218392991974486, 'nontech': 0.07816070080255151}\n",
      "\n",
      "Erpressungstrojaner: Ransomware-Programmierer wollte Crypto-Nachhilfe Auch wenn es mittlerweile zahlreiche Open-Source-Ransomware-Templates gibt, ist die Umsetzung von Verschlüsselungsfunktionen nach wie vor schwierig. Ein Entwickler wollte daher Nachhilfe - ausgerechnet von einem Sicherheitsforscher, der sich mit Ransomware beschäftigt. ( Ransomware ,  Virus )  \n",
      "{'tech': 0.9607351105387324, 'nontech': 0.03926488946126769}\n",
      "\n",
      "Google Project Brillo: IoT-Android wird sicherer als Smartphone-Android Google krempelt die Zusammenarbeit mit Herstellern für sein Internet-of-Things-System Brillo im Vergleich zu Android völlig um. So gibt es nur einen Linux-Kernel, der langfristig Updates erhalten soll. Die Geräte müssen zudem mehr als fünf Jahre lang gepflegt werden, was die Sicherheit erhöhen soll. ( Open Source ,  Google )  \n",
      "{'tech': 0.9982711768811091, 'nontech': 0.0017288231188907989}\n",
      "\n",
      "Copyright: US-Marine wehrt sich gegen Vorwurf der Softwarepiraterie Ein deutsches Software-Unternehmen fordert fast 600 Millionen US-Dollar von der US-Marine, weil diese angeblich hunderttausende Male Testversionen einer Software installiert hat, ohne dafür die Lizenzen zu besitzen. Die US-Regierung hat sich jetzt erstmals vor Gericht geäußert. ( Urheberrecht ,  Applikationen )  \n",
      "{'tech': 0.8923963277477005, 'nontech': 0.10760367225229947}\n",
      "\n",
      "Playstation Network: Gamer soll für DDOS auf Dyn verantwortlich sein Das eigentliche Ziel des DDoS-Angriffs, der Dienste wie Twitter, Amazon, Spotify und Netflix zeitweise lahmgelegt hat, soll Sonys Playstation Network gewesen sein. Diese Theorie äußert der Netzbetreiber Level 3 - Dyn selbst ist noch nicht überzeugt. ( Mirai-Botnetz ,  Virus )  \n",
      "{'tech': 0.97212941136984, 'nontech': 0.02787058863016001}\n",
      "\n",
      "20 Jahre ICQ: Uh-oh, ich kann mich nicht trennen Vor 20 Jahren erschien mit ICQ einer der erfolgreichsten Chatdienste. Es veränderte das Kommunikationsverhalten einer Generation - auch das unseres Autors. ( ICQ ,  Instant Messenger )  \n",
      "{'tech': 0.7803414321324335, 'nontech': 0.2196585678675665}\n",
      "\n",
      "Verjährung: BGH verlängert Haftung für illegales Filesharing Der Bundesgerichtshof hat die Verjährungsfrist für illegales Filesharing auf zehn Jahre erhöht. Ob wirklich eine neue Welle von Abmahnungen folgt, ist noch unklar. ( Abmahnung ,  Tauschbörse )  \n",
      "{'tech': 0.9432175707490719, 'nontech': 0.056782429250928114}\n",
      "\n",
      "Connect 2016: Microsoft setzt alles auf die Cloud Zur Connect, Microsofts Entwicklermesse, wird endgültig klar, dass die Zukunft des Unternehmens im Cloud-Geschäft liegt. Das zeigt sich etwa an dem längst überfälligen Beitritt zur Linux Foundation oder dem neuen SQL Server. Bei der Mobile-Entwicklung sorgt Microsoft allein für Tools und das Cloud-Backend. ( Microsoft ,  IBM )  \n",
      "{'tech': 0.9987396294471962, 'nontech': 0.0012603705528039199}\n",
      "\n",
      "Earth VR: Mit Google und dem Vive durch die Welt fliegen Mit Googles neuem Earth VR für das HTC Vive können Nutzer nicht nur durch virtuelle Straßen der Welt laufen, sondern sich komplett frei bewegen. Zur Orientierung verwenden Nutzer die Controller des Vive, auch Headtracking wird unterstützt. ( Google Earth ,  Google )  \n",
      "{'tech': 0.9919013852904653, 'nontech': 0.00809861470953466}\n",
      "\n",
      "http://newsfeed.zeit.de/politik/index\n",
      "Russland: \"Wir brauchen Freunde\"     Sanktionen, Olympia-Ausschluss, Propaganda: In einer Rede kritisiert Wladimir Putin die Einmischung des Westens in russische Interessen. Er gab sich aber auch kooperativ.\n",
      "{'tech': 0.0856938286923194, 'nontech': 0.9143061713076805}\n",
      "\n",
      "Innere Sicherheit: Australien verschärft Anti-Terror-Gesetze     Verurteilte Straftäter in Australien können künftig nach ihrer Verurteilung in Sicherungsverwahrung verbleiben. Kritiker sprechen von einer \"Aushöhlung der Bürgerrechte\".\n",
      "{'tech': 0.6345296653057116, 'nontech': 0.3654703346942883}\n",
      "\n",
      "Atomstreit: Südkorea verhängt Sanktionen gegen Nordkorea     Erst der UN-Sicherheitsrat, nun die Regierung in Seoul: Die Sanktionen gegen Nordkorea werden verschärft. Ob die neuen Resolutionen Wirkung zeigen, ist fraglich.\n",
      "{'tech': 0.7817833231669038, 'nontech': 0.21821667683309612}\n",
      "\n",
      "Türkei: Unser täglich Erdoğan Erpresst Erdoğan Europa? Nein, denn zur Erpressung gehört auch einer, der sich erpressen lässt. Nicht einmal der türkische Präsident kann alles machen, was er ankündigt.\n",
      "{'tech': 0.24339070467864454, 'nontech': 0.7566092953213555}\n",
      "\n",
      "Syrien: UN befürchten \"gigantischen Friedhof\"     Die Lage in Aleppo ist dramatisch, laut Augenzeugen herrschen Panik und Verzweiflung. Der UN-Sicherheitsrat tagte: Statt Lösungen gab es gegenseitige Schuldzuweisungen.\n",
      "{'tech': 0.6289432556062374, 'nontech': 0.3710567443937625}\n",
      "\n",
      "Kolumbien: Abgeordnete billigen Friedensvertrag mit Farc     Der überarbeitete Friedenspakt mit der Farc ist vom kolumbianischen Kongress angenommen worden. Noch in diesem Jahr soll die Entwaffnung der Rebellen beginnen.\n",
      "{'tech': 0.40812717863732456, 'nontech': 0.5918728213626755}\n",
      "\n",
      "Verteidigung: Bundeswehr will Schulabbrecher einstellen     Wegen ihrer Personalnot plant die Truppe laut einem Bericht, künftig auch Bewerber ohne Abschluss einzustellen. Beim Bund sollen sie den Abschluss dann nachholen.\n",
      "{'tech': 0.9526042928701636, 'nontech': 0.047395707129836394}\n",
      "\n",
      "Geheimdienst: Kritik an Rekrutierungspraxis des Verfassungsschutzes     Nach der Entdeckung eines möglichen Maulwurfes fordern Politiker eine Prüfung der Einstellungstests. Laut einem Bericht könnte der Verdächtige Komplizen gehabt haben.\n",
      "{'tech': 0.7512606880360664, 'nontech': 0.24873931196393367}\n",
      "\n",
      "US-Wahl: Grünen-Politikerin will auch in Michigan nachzählen lassen     Nach Pennsylvania und Wisconsin hat Jill Stein auch die Neuauszählung der Stimmen in Michigan beantragt. Der Wahlsieg dürfte Donald Trump dennoch nicht zu nehmen sein.\n",
      "{'tech': 0.8793928406368103, 'nontech': 0.12060715936318961}\n",
      "\n",
      "US-Wahl: Pelosi bleibt Fraktionschefin der Demokraten     Die Demokraten im US-Repräsentantenhaus halten an der bisherigen Führungsspitze fest. Der junge Tim Ryan hatte keine Chance gegen die einflussreiche Nancy Pelosi.\n",
      "{'tech': 0.6830703078315404, 'nontech': 0.3169296921684596}\n",
      "\n",
      "Syrien: Fünf Jahre Krieg     Seit 2011 ist Bürgerkrieg in Syrien. Hunderttausende Menschen sind getötet worden, Millionen flohen. Denen, die im Land geblieben sind, drohen Hunger, Folter und Tod.\n",
      "{'tech': 0.42784910979395885, 'nontech': 0.5721508902060413}\n",
      "\n",
      "Ungarn: Flüchtling muss wegen Grenzkrawallen zehn Jahre in Haft     Ein Syrer soll im vergangenen Jahr ungarische Grenzbeamte angegriffen und zu Unruhen aufgerufen haben. Ein Gericht wertete dies nun als terroristischen Akt.\n",
      "{'tech': 0.4244101192527253, 'nontech': 0.5755898807472747}\n",
      "\n",
      "Österreich-Wahl: Über den Zebrastreifen zum Erfolg     In Wiener Arbeitervierteln, zwischen Handyshops und Halbwahrheiten, kümmert sich die FPÖ um die Probleme der Leute. Von hier aus will sie es bis in die Hofburg schaffen.\n",
      "{'tech': 0.9561113904818223, 'nontech': 0.04388860951817775}\n",
      "\n",
      "AfD: Von wegen Sammelbecken der Abgehängten     Die AfD ist mitnichten die Partei der Geringverdiener, zeigt eine Studie, die der ZEIT vorliegt. Menschen mit niedrigem Einkommen sympathisieren eher mit der Linkspartei.\n",
      "{'tech': 0.19930582635357735, 'nontech': 0.8006941736464226}\n",
      "\n",
      "Syrien-Krieg: Die letzte Schlacht um Aleppo     Mit Bomben und Bodentruppen erobern das syrische Regime und seine Verbündeten Ost-Aleppo von den Rebellen zurück. Was bedeutet die brutale Offensive für Syriens Zukunft?\n",
      "{'tech': 0.8035594754501315, 'nontech': 0.19644052454986846}\n",
      "\n",
      "http://www.welt.de/?service=Rss\n",
      "Fragen und Antworten: So teuer wird die Maut für deutsche Autofahrer Heute will Bundesverkehrsminister Alexander Dobrindt in Brüssel Nägel mit Köpfen machen. Die Pkw-Maut in Deutschland soll kommen. Was hat das für Folgen für die Autofahrer?\n",
      "{'tech': 0.5946875553675695, 'nontech': 0.40531244463243066}\n",
      "\n",
      "Rede an die Nation: Putin erklärt seine neue Weltordnung In seiner jährlichen Rede an die Nation gibt sich der russische Präsident äußerst selbstbewusst. Russland und die USA müssten verstärkt zusammenarbeiten, sonst drohten \"globale Katastrophen\".\n",
      "{'tech': 0.03356483381030482, 'nontech': 0.9664351661896952}\n",
      "\n",
      "\"Bargusin\": Moskau arbeitet am gefürchteten Atomraketen-Zug Die Entwicklung des Raketenzuges vom Typ \"Bargusin\" ist im Gange: Er soll, mit Atomwaffen bestückt, im russischen Hinterland in Bewegung bleiben und stets strategische Ziele im Westen im Visier haben.\n",
      "{'tech': 0.3508332604058151, 'nontech': 0.649166739594185}\n",
      "\n",
      "Tonmitschnitt von Funkverkehr: \"9000 Fuß, Señorita!\" Ein Tonmitschnitt dokumentiert die dramatischen Minuten vor dem Absturz des Fluges LaMia 933 in Medellín. Der Maschine ging das Kerosin aus. Bis zuletzt funkte der Pilot um Hilfe.\n",
      "{'tech': 0.788097139373649, 'nontech': 0.21190286062635091}\n",
      "\n",
      "Manchester United: Der begeisterte Empfang überwältigt Schweinsteiger Nach seinem Comeback spricht Bastian Schweinsteiger von einem \"unglaublichen Abend\". Er durfte im Pokal für Manchester United spielen. Sein großer Gegenspieler war auf die Tribüne verbannt worden.\n",
      "{'tech': 0.876862194392274, 'nontech': 0.12313780560772603}\n",
      "\n",
      "Eine Million Geräte betroffen: Android-Handys infiziert – So prüfen Sie Ihres Gefährliche Malware späht massenweise Daten von Andoid-Telefonen aus. Cybersoftware-Experten zufolge verschafft sie sich Zugang zu Google-Konten. Im Netz können Nutzer prüfen, ob sie betroffen sind.\n",
      "{'tech': 0.9991147837876996, 'nontech': 0.0008852162123004497}\n",
      "\n",
      "Adventskalender: Das große WELTplus-Weihnachtsgewinnspiel 2016 Hier finden Sie das WELTplus-Weihnachtsgewinnspiel. Klicken Sie ab dem 1. Dezember 2016 auf das Türchen des Tages, spielen Sie mit bei unserem Weihnachts-Quiz und gewinnen Sie jeden Tag tolle Preise.\n",
      "{'tech': 0.998148558988732, 'nontech': 0.0018514410112680697}\n",
      "\n",
      "Rotlicht-Prozess: Die Schüsse nach der Demütigung der Ex-Hure Prostitution, Erpressung, Schüsse, eine zurückgenommene Aussagen und ein verschollener Beteiligte. Der Hamburger Prozess um einen blutigen Streit im Rotlichtmilieu bot viele Wendungen und Ungereimtheiten.\n",
      "{'tech': 0.8108572571245882, 'nontech': 0.18914274287541172}\n",
      "\n",
      "Italienischer Pizzameister : Nur mit der \"Geldbörsen-Technik\" essen Sie Pizza richtig Außerhalb Neapels werde die Pizza komplett falsch gegessen, beklagt der italienische Pizza-Maestro Enzo Coccia. Messer und Gabel seien Tabu - der Grund dafür liegt in der Tradition.\n",
      "{'tech': 0.9316024715742173, 'nontech': 0.0683975284257827}\n",
      "\n",
      "In eigener Sache: Die \"Welt Edition\" gibt es jetzt auf allen Geräten Die digitale Zeitung der \"Welt\" ist ab sofort von überall erreichbar: iPad, iPhone, Android und endlich auch im Web und für Windows-Nutzer. Einfach mal ausprobieren – selbstverständlich kostenlos.\n",
      "{'tech': 0.9999394096512235, 'nontech': 6.059034877648178e-05}\n",
      "\n"
     ]
    }
   ],
   "source": [
    "length = 0\n",
    "for feed in test:\n",
    "    print feed\n",
    "    f=feedparser.parse(feed)\n",
    "    for e in f.entries:\n",
    "        length += 1\n",
    "        fulltext=stripHTML(e.title+' '+e.description)\n",
    "        print fulltext\n",
    "        print naiveBayesClassifierTF.testDocument(fulltext)\n",
    "        print"
   ]
  },
  {
   "cell_type": "code",
   "execution_count": 323,
   "metadata": {
    "collapsed": true
   },
   "outputs": [],
   "source": [
    "feed_num = 1\n",
    "\n",
    "data = []\n",
    "\n",
    "for feed in test:\n",
    "    f=feedparser.parse(feed)\n",
    "    for e in f.entries:\n",
    "        length += 1\n",
    "        fulltext=stripHTML(e.title+' '+e.description)\n",
    "        pred_cat=get_highest_prob_cat(naiveBayesClassifierTF.testDocument(fulltext))\n",
    "        if feed_num == 1:\n",
    "            data.append([pred_cat, 'tech'])\n",
    "        else:\n",
    "            data.append([pred_cat, 'nontech'])\n",
    "    feed_num += 1\n",
    "\n",
    "    \n",
    "data = pd.DataFrame(data)"
   ]
  },
  {
   "cell_type": "code",
   "execution_count": 324,
   "metadata": {
    "collapsed": false
   },
   "outputs": [
    {
     "name": "stdout",
     "output_type": "stream",
     "text": [
      "Accuracy:  0.738461538462\n"
     ]
    }
   ],
   "source": [
    "accuracy = accuracy_score(data[1].values, data[0].values)\n",
    "print 'Accuracy: ', accuracy"
   ]
  },
  {
   "cell_type": "code",
   "execution_count": 325,
   "metadata": {
    "collapsed": false
   },
   "outputs": [
    {
     "data": {
      "text/plain": [
       "array([[ 8, 17],\n",
       "       [ 0, 40]])"
      ]
     },
     "execution_count": 325,
     "metadata": {},
     "output_type": "execute_result"
    }
   ],
   "source": [
    "confus = confusion_matrix(data[1].values, data[0].values)\n",
    "confus"
   ]
  },
  {
   "cell_type": "code",
   "execution_count": 326,
   "metadata": {
    "collapsed": false
   },
   "outputs": [
    {
     "name": "stdout",
     "output_type": "stream",
     "text": [
      "Precision for categorie tech: 0.701754\n",
      "Precision for categorie nontech: 1.000000\n"
     ]
    }
   ],
   "source": [
    "tech_prec = precision_score(data[1].values, data[0].values, pos_label='tech')\n",
    "nontech_prec = precision_score(data[1].values, data[0].values, pos_label='nontech')\n",
    "\n",
    "print 'Precision for categorie tech: %f' % (tech_prec)\n",
    "print 'Precision for categorie nontech: %f' % (nontech_prec)"
   ]
  },
  {
   "cell_type": "code",
   "execution_count": 327,
   "metadata": {
    "collapsed": false
   },
   "outputs": [
    {
     "name": "stdout",
     "output_type": "stream",
     "text": [
      "Recall for categorie tech: 1.000000\n",
      "Recall for categorie nontech: 0.320000\n"
     ]
    }
   ],
   "source": [
    "tech_recall = recall_score(data[1].values, data[0].values, pos_label='tech')\n",
    "nontech_recall = recall_score(data[1].values, data[0].values, pos_label='nontech')\n",
    "\n",
    "print 'Recall for categorie tech: %f' % (tech_recall)\n",
    "print 'Recall for categorie nontech: %f' % (nontech_recall)"
   ]
  },
  {
   "cell_type": "code",
   "execution_count": 328,
   "metadata": {
    "collapsed": false
   },
   "outputs": [
    {
     "name": "stdout",
     "output_type": "stream",
     "text": [
      "F1-Score for categorie tech: 0.824742\n",
      "F1-Score for categorie nontech: 0.484848\n"
     ]
    }
   ],
   "source": [
    "tech_f1 = f1_score(data[1].values, data[0].values, pos_label='tech')\n",
    "nontech_f1 = f1_score(data[1].values, data[0].values, pos_label='nontech')\n",
    "\n",
    "print 'F1-Score for categorie tech: %f' % (tech_f1)\n",
    "print 'F1-Score for categorie nontech: %f' % (nontech_f1)"
   ]
  },
  {
   "cell_type": "markdown",
   "metadata": {},
   "source": [
    "### Auswertung\n",
    "**Wenn man den accuracy Wert der simplen Lösung (alle Wörter Häufigkeit 1) mit dem aus diesem Durchlauf vergleicht, fällt auf, dass die accuracy sogar abgenommen hat und das Ergebnis demnach schlechter geworden ist.**  \n",
    "  \n",
    "**0.75384615384615383  --token frequency-->  0.738461538462**\n",
    "\n",
    "**Folglich verschlechtern sich auch die anderen Metriken.**\n",
    "\n",
    "**Da die sogenannten \"Stop words\" höchstwahrscheinlich der Grund für die schlechtere Performance ist, werden diese als nächstes entfernt.**"
   ]
  },
  {
   "cell_type": "markdown",
   "metadata": {},
   "source": [
    "-----------------"
   ]
  },
  {
   "cell_type": "markdown",
   "metadata": {},
   "source": [
    "### TF + removed Stop words"
   ]
  },
  {
   "cell_type": "code",
   "execution_count": 329,
   "metadata": {
    "collapsed": false
   },
   "outputs": [],
   "source": [
    "from nltk.corpus import stopwords\n",
    "stops = set(stopwords.words('german'))"
   ]
  },
  {
   "cell_type": "code",
   "execution_count": 330,
   "metadata": {
    "collapsed": false
   },
   "outputs": [],
   "source": [
    "#improved by removing stop words and using tf instead of just 1 for every word\n",
    "\n",
    "def getwordsTFStop(docText):\n",
    "    LOWER_LIMIT = 1\n",
    "    UPPER_LIMIT = 20\n",
    "    \n",
    "    sentence = nltk.regexp_tokenize(docText, r\"[\\wäöüÄÖÜß]+\")\n",
    "    \n",
    "    tokens = [x.lower() for x in sentence if x.lower() not in stops]\n",
    "    \n",
    "    wordDict = { x: tokens.count(x) for x in tokens\\\n",
    "                if tokens.count(x) >= LOWER_LIMIT and tokens.count(x) <= UPPER_LIMIT}\n",
    "    \n",
    "    return wordDict"
   ]
  },
  {
   "cell_type": "code",
   "execution_count": 331,
   "metadata": {
    "collapsed": false
   },
   "outputs": [
    {
     "data": {
      "text/plain": [
       "{'3': 3,\n",
       " '4': 1,\n",
       " 'black': 3,\n",
       " 'bombastischen': 1,\n",
       " 'call': 2,\n",
       " 'darauf': 1,\n",
       " 'duty': 2,\n",
       " 'd\\xc3\\xbcrfen': 1,\n",
       " 'einzelspieler': 1,\n",
       " 'erwarten': 1,\n",
       " 'fans': 2,\n",
       " 'ganz': 1,\n",
       " 'genau': 1,\n",
       " 'getestet': 1,\n",
       " 'heute': 1,\n",
       " 'hohem': 1,\n",
       " 'kommt': 1,\n",
       " 'liefert': 1,\n",
       " 'l\\xc3\\xa4den': 1,\n",
       " 'niveau': 1,\n",
       " 'of': 2,\n",
       " 'ops': 3,\n",
       " 'part': 1,\n",
       " 'playstation': 1,\n",
       " 'ps4': 1,\n",
       " 'sagen': 1,\n",
       " 'schon': 1,\n",
       " 'serie': 1,\n",
       " 'shooter': 1,\n",
       " 'shooters': 1,\n",
       " 'vorab': 1,\n",
       " 'warten': 1}"
      ]
     },
     "execution_count": 331,
     "metadata": {},
     "output_type": "execute_result"
    }
   ],
   "source": [
    "text = 'Call of Duty: Black Ops 3 (PS4)   Darauf warten die Shooter-Fans! Call of Duty: Black Ops 3 kommt heute in die Läden. Wir haben den Einzelspieler-Part des bombastischen Shooters vorab auf der PlayStation 4 getestet und dürfen schon jetzt sagen: Black Ops 3 liefert auf hohem Niveau ganz genau das, was sich Fans der Serie erwarten.'\n",
    "getwordsTFStop(text)"
   ]
  },
  {
   "cell_type": "code",
   "execution_count": 332,
   "metadata": {
    "collapsed": false
   },
   "outputs": [],
   "source": [
    "naiveBayesClassifierTFStop = NaiveBayesClassifier(getwordsTFStop)\n",
    "\n",
    "for feed in trainTech:\n",
    "    f=feedparser.parse(feed)\n",
    "    for e in f.entries:\n",
    "        fulltext=stripHTML(e.title+' '+e.description)\n",
    "        naiveBayesClassifierTFStop.train(fulltext, 'tech')\n",
    "\n",
    "for feed in trainNonTech:\n",
    "    f=feedparser.parse(feed)\n",
    "    for e in f.entries:\n",
    "        fulltext=stripHTML(e.title+' '+e.description)\n",
    "        naiveBayesClassifierTFStop.train(fulltext, 'nontech')"
   ]
  },
  {
   "cell_type": "code",
   "execution_count": 333,
   "metadata": {
    "collapsed": false
   },
   "outputs": [
    {
     "name": "stdout",
     "output_type": "stream",
     "text": [
      "http://rss.golem.de/rss.php?r=sw&feed=RSS0.91\n",
      "0-Day: Tor und Firefox patchen kritische Schwachstelle Tor und Mozilla haben schnell reagiert und veröffentlichen einen außerplanmäßigen Patch für eine kritische Sicherheitslücke. Der Fehler lag in einer Animationsfunktion für Vektorgrafiken. ( Security ,  Firefox )  \n",
      "{'tech': 0.764074720932663, 'nontech': 0.23592527906733696}\n",
      "\n",
      "Hatch: Games ohne Installation auf dem Smartphone spielen Hatch ist ein neues Streaming-Abo für Spiele auf Android-Geräten: Nutzer können Games direkt vom Cloud-Server auf ihr Smartphone oder Tablet streamen, ohne sie vorher installieren zu müssen. Spiele können zudem auch immer zu zweit gespielt werden, indem die Steuerung über die Cloud geteilt wird. ( slush2016 ,  Smartphone )  \n",
      "{'tech': 0.9502757471532507, 'nontech': 0.049724252846749396}\n",
      "\n",
      "0-Day: Nutzer des Tor-Browsers werden mit Javascript angegriffen Wer den Tor-Browsers nutzt, will meist vor allem eins: Anonymität. Eine aktuelle Schwachstelle im Firefox-Browser führt aber dazu, dass Nutzer identifiziert werden können. Das Problem betrifft auch Nutzer des regulären Firefox - ein Patch ist in Arbeit. ( Tor-Netzwerk ,  Firefox )  \n",
      "{'tech': 0.9550485534757788, 'nontech': 0.04495144652422123}\n",
      "\n",
      "Weitere Entlassungen: Cyanogen soll Hauptbüro in Seattle schließen Das Hauptbüro von Cyanogen soll internen und externen Quellen zufolge geschlossen werden - ein Großteil der Angestellten soll entlassen werden. Auch die Zukunft von Cyanogenmod-Gründer Steve Kondik ist offenbar unklar, einige Mitarbeiter können wohl in das kleinere Büro in Kalifornien wechseln. ( Cyanogen OS ,  Applikationen )  \n",
      "{'tech': 0.47400094197141657, 'nontech': 0.5259990580285834}\n",
      "\n",
      "Nach Angriff auf Telekom: Mit dem Strafrecht Router ins Terrorcamp schicken oder so Nach der Überflutung kommen die Mücken und nach dem Telekom-Hack die unsinnigen Vorschläge aus der Politik. Dem Unternehmen kann das nur recht sein, so kann es von seinen eigenen Fehlern ablenken. ( Security ,  Netzwerk )  \n",
      "{'tech': 0.9704361897331029, 'nontech': 0.029563810266897157}\n",
      "\n",
      "Adreno: Aktuelle Qualcomm-GPUs bekommen freien Treiber Für die 500er-Reihe von Qualcomms Adreno-GPUs stehen erste Patches für einen freien Linux-Treiber bereit. Der Code umfasst Kernel- und Userspace und stammt teilweise von Qualcomm selbst. Android-Updates könnten damit künftig wesentlich einfacher werden. ( Linux-Kernel ,  Treiber )  \n",
      "{'tech': 0.7143596396964766, 'nontech': 0.28564036030352324}\n",
      "\n",
      "Botnetz: Telekom-Routerausfälle waren nur Kollateralschaden Eine Variante des Mirai-Botnetzes auf Routern hat zahlreiche Ausfälle bei Telekom-Kunden verursacht. Allerdings waren die Telekom-Router selbst nicht Teil des Botnetzes, sie wurden lediglich durch die Angriffsversuche lahmgelegt. ( Telekom ,  Virus )  \n",
      "{'tech': 0.9552843135885694, 'nontech': 0.044715686411430734}\n",
      "\n",
      "Videolan: Neuer VLC-Player spielt 360-Grad-Videos ab Die Technical Preview des VLC-Players eignet sich zur Wiedergabe von 360-Grad-Videos inklusive Rotieren der Kamera per Maus. Künftig will Videolan auch VR-Headsets unterstützen. ( VLC ,  Applikationen )  \n",
      "{'tech': 0.8036802524407777, 'nontech': 0.1963197475592224}\n",
      "\n",
      "Virtualisierungslösung: Update von Parallels Desktop 12 schränkt Funktionen ein Parallels Desktop 12 ermöglicht es seit dem Update auf Version 12.1 nicht mehr, virtuelle Maschinen mit mehr als acht GByte RAM und vier virtuellen Prozessoren einzurichten. Nur die Aboversion arbeitet ohne Einschränkungen. ( Parallels ,  Mac OS X )  \n",
      "{'tech': 0.8898576726125188, 'nontech': 0.11014232738748121}\n",
      "\n",
      "Adblocker: Auch Spiegel Online verliert gegen Adblock Plus Ein weiteres Medium hat vor Gericht gegen Adblock-Plus verloren. Eine kleine Hoffnung für Verleger gibt es trotzdem: Die Adblockerquote ist insgesamt leicht rückläufig. ( Adblock Plus ,  Onlinewerbung )  \n",
      "{'tech': 0.4996178669471615, 'nontech': 0.5003821330528385}\n",
      "\n",
      "Gehackte Zugänge: Kriminelle versenden Malware mit Mailchimp-Accounts Kriminelle nutzen offenbar übernommene Mailchimp-Accounts, um Malware zu verbreiten. Das geschieht vor allem über Mails mit angeblichen Rechnungen. Alle 2.000 betroffenen Accounts wurden vorläufig stillgelegt. ( Malware ,  Virus )  \n",
      "{'tech': 0.8349653533553989, 'nontech': 0.16503464664460105}\n",
      "\n",
      "Deutscher Wetterdienst: Wetter-App zeigt mehr Gefahrenprognosen Der Deutsche Wetterdienst hat seine Wetter-App für Android und iOS aktualisiert und informiert darin jetzt auch über weitere Gefahrenprognosen. Bei Hochwasser, Sturmfluten und Lawinen erhalten Nutzer vorher eine Warnung. ( App )  \n",
      "{'tech': 0.7749160757936064, 'nontech': 0.22508392420639356}\n",
      "\n",
      "Spionage: Malware kann Kopfhörer als Mikrofon nutzen Kein Umbau erforderlich: Ein Programm kann Kopfhörer und andere Lautsprecher ohne Verstärker als Mikrofon verwenden - ohne das Wissen des Nutzers. ( Security ,  Sound-Hardware )  \n",
      "{'tech': 0.8626839013871839, 'nontech': 0.13731609861281616}\n",
      "\n",
      "Google: Chromebooks bekommen \"Wake on Voice\" Mit einem Gerät sprechen, um es aus dem Ruhezustand zu wecken, geht nicht mehr nur mit Smartphones, sondern auch mit einem Chromebook. Die Funktion ist ein weiteres Indiz für das Verschmelzen von ChromeOS und Android. ( Chromebook ,  Google )  \n",
      "{'tech': 0.8680785507602252, 'nontech': 0.1319214492397748}\n",
      "\n",
      "2-Faktor-Authentifizierung: Google warnt mehrere prominente Personen vor Staatshackern Eine Warnung vor staatlichen Hackerangriffen auf Google-Konten sorgt derzeit in den USA für Diskussionen. Vor allem Journalisten und Diplomaten erhielten die Warnung, auch in der Türkei gibt es Betroffene. ( Security ,  Applikationen )  \n",
      "{'tech': 0.5474435546525745, 'nontech': 0.45255644534742534}\n",
      "\n",
      "Blog-Software: Gravierender Fehler in Wordpress Auto-Update gefunden Weil der zentrale Update-Server von Wordpress unsichere Hashfunktionen zulässt, hätten Angreifer Code ausführen und massenhaft Wordpress-Installationen angreifen können. Die Sicherheitslücke wurde mittlerweile geschlossen. ( Wordpress ,  Blog )  \n",
      "{'tech': 0.9012705671681102, 'nontech': 0.09872943283188977}\n",
      "\n",
      "SCCACHE: Mozilla baut geteilten Compiler-Cache in Rust Ein weiteres wichtiges Stück Infrastruktur bei Mozilla ist in die Sprache Rust portiert worden: der geteilte Compiler-Cache (Sccache). Builds verschiedener Systeme können damit ihre Ergebnisse teilen, was dank Rust jetzt schneller geht. ( Mozilla ,  Server )  \n",
      "{'tech': 0.7168023666296127, 'nontech': 0.2831976333703872}\n",
      "\n",
      "Webstatistik: Alexa-Daten temporär wieder verfügbar Eine Ankündigung der Firma Alexa, ihre Statistik über die beliebtesten Webseiten künftig nur noch kostenpflichtig anzubieten, führte zu einigen Protesten. Jetzt sind die Daten - zumindest temporär - wieder verfügbar. ( Open Data ,  Studie )  \n",
      "{'tech': 0.41264596340367793, 'nontech': 0.5873540365963221}\n",
      "\n",
      "Update: Google will Android 7.1.1 im Dezember 2016 veröffentlichen Google verteilt eine neue Entwicklervorschau für Android 7.1.1 und hat im Zuge dessen mitgeteilt, wann das Update allgemein verfügbar sein wird: Im Dezember 2016 soll es für drei Nexus-Geräte, das Pixel C und für andere Gerätehersteller zur Verfügung stehen. ( Android 7.0 ,  Google )  \n",
      "{'tech': 0.9805055913585546, 'nontech': 0.019494408641445405}\n",
      "\n",
      "Linux-Distribution: Fedora 25 erscheint mit Wayland als Standard Als erste große Linux-Distribution verabschiedet sich Fedora in Version 25 von X11 und nutzt Wayland als Standard. Außerdem hat das Team versucht, teils mehrere Jahre alte Probleme nutzerfreundlich zu lösen - dazu gehört auch der MP3-Support. ( Fedora ,  Gnome )  \n",
      "{'tech': 0.5315190052323945, 'nontech': 0.4684809947676056}\n",
      "\n",
      "Windows Holographic: Microsofts AR-Plattform benötigt eine DX12-Grafikkarte Die Windows-10-Preview enthält eine App, die testet, ob der PC flott genug für das Creator's Update mit AR-Unterstützung ist. Die Systemanforderungen offenbaren interessante Details. ( Augmented Reality ,  DirectX )  \n",
      "{'tech': 0.9987907010954438, 'nontech': 0.0012092989045563334}\n",
      "\n",
      "Alexa-Statistik: Liste der beliebtesten Webseiten nicht mehr kostenlos Jahrelang stellte die Firma Alexa eine Liste der eine Million beliebtesten Webseiten bereit. Viele nutzten sie für Forschungszwecke. Damit ist jetzt Schluss: Die Daten gibt's nur noch gegen Bezahlung. ( Open Data ,  API )  \n",
      "{'tech': 0.41029362820014, 'nontech': 0.5897063717998601}\n",
      "\n",
      "Testbetrieb: Facebook sucht nach WLAN-Hotspots Die Facebook-App will das gleichnamige soziale Netzwerk auch für die Suche von kostenlos nutzbaren WLAN-Zugängen nutzen. Derzeit wird begrenzt die Funktion getestet in einer integrierten Kartenansicht WLAN-SSIDs aufzuspüren, um sie zu nutzen. ( Facebook ,  WLAN )  \n",
      "{'tech': 0.8789539674711555, 'nontech': 0.1210460325288445}\n",
      "\n",
      "Windows 10 Mobile: Microsoft plant eine x86-Emulation für ARM Microsoft arbeitet an einer x86-Emulation in Windows 10 Mobile. Damit sollen herkömmliche Windows-Programme auch auf ARM64-Geräten funktionieren. Bis das passiert, dauert es aber noch lange. ( Windows 10 Mobile ,  Microsoft )  \n",
      "{'tech': 0.9980359392163881, 'nontech': 0.001964060783611894}\n",
      "\n",
      "Vivaldi 1.5: Browser mit Lampensteuerung Mehr Browserkomfort verspricht Vivaldi 1.5. Der Browser kann Philips-Hue-Lampen ansteuern und die Tab-Verwaltung ist umfangreicher geworden. Außerdem gibt es einen Lesemodus, eine bessere Notizfunktion und kompaktere Updates. ( Vivaldi ,  Browser )  \n",
      "{'tech': 0.826941844483947, 'nontech': 0.173058155516053}\n",
      "\n",
      "Prozessoren und LTE-Modems: Qualcomm startet begrenztes Bug-Bounty-Programm In Android-Security-Updates finden sich häufig Schwachstellen in Qualcomm-Produkten. Das Unternehmen will die Security mit einem neuen Bug-Bounty-Programm verbessern - hat jedoch einige Einschränkungen. ( Qualcomm ,  Linux-Kernel )  \n",
      "{'tech': 0.9126665382120598, 'nontech': 0.08733346178794016}\n",
      "\n",
      "Mirai-IoT-Botnet: IP-Kamera nach 98 Sekunden mit Malware infiziert Droht die Netzwerkapokalypse, sobald ein unsicheres IoT-Gerät im Heimnetzwerk angeschlossen wurde? Der Sicherheitsforscher Rob Graham hat es ausprobiert - und sich innerhalb von 98 Sekunden die erste Infektion abgeholt. ( Mirai-Botnetz ,  Virus )  \n",
      "{'tech': 0.5219433952108432, 'nontech': 0.4780566047891568}\n",
      "\n",
      "Insider Build mit Powershell: Windows CMD.exe wird durch Open Source ersetzt Im aktuellen Insider Build 14971 von Windows 10 wird die Kommandozeile CMD.exe durch die Powershell ersetzt. Die einfache Eingabeaufforderung verschwindet zwar noch nicht ganz, ein zentraler Bestandteil von Windows ist damit künftig aber Open Source. ( Microsoft ,  .Net )  \n",
      "{'tech': 0.997755131054274, 'nontech': 0.002244868945725964}\n",
      "\n",
      "Raspberry Pi: Der mit dem 64-Bit-Kernel tanzt Die Raspberry Pi Foundation sorgt dafür, dass auf der Version 3 ihres Minirechners ein 32-Bit-Linux startet - und das, obwohl der neue Raspberry Pi eine reinrassige 64-Bit-CPU hat. Echte Linux-Kern-Techniker lässt die angezogene Handbremse nicht ruhen. ( Raspberry Pi ,  Linux-Kernel )  \n",
      "{'tech': 0.9057606893333884, 'nontech': 0.09423931066661155}\n",
      "\n",
      "Android-Backdoor: Schwere Sicherheitslücke in China-Handys entdeckt In der Firmware chinesischer Billig-Handys haben Sicherheitsexperten erstaunliche Lücken entdeckt. Selbst ohne ausgefeilte Angriffsmethoden hätten Millionen Android-Handys gehackt werden können. ( Dirty Cow ,  Smartphone )  \n",
      "{'tech': 0.5700296476011917, 'nontech': 0.4299703523988083}\n",
      "\n",
      "Kaspersky OS: Kaspersky stellt eigenes Betriebssystem vor Sicher ohne Linux: Kaspersky hat ein eigenes Betriebssystem entwickelt. Das Unternehmen hat es nach eigenen Angaben komplett neu entwickelt. Es sei vor allem eins: sicher. ( Kaspersky ,  Betriebssystem )  \n",
      "{'tech': 0.7801003840399331, 'nontech': 0.2198996159600668}\n",
      "\n",
      "Filesharing: Hacker erbeuten Sourcecode von Mega.nz Mehrere Gbyte an Quellcode und einige Admin-Zugänge wurden bei dem von Kim Dotcom gegründeten Dienst Mega.nz kopiert. Nach Angaben des Unternehmens sind keine Nutzerdaten betroffen. ( Mega ,  Urheberrecht )  \n",
      "{'tech': 0.6429957770973651, 'nontech': 0.3570042229026349}\n",
      "\n",
      "Erpressungstrojaner: Ransomware-Programmierer wollte Crypto-Nachhilfe Auch wenn es mittlerweile zahlreiche Open-Source-Ransomware-Templates gibt, ist die Umsetzung von Verschlüsselungsfunktionen nach wie vor schwierig. Ein Entwickler wollte daher Nachhilfe - ausgerechnet von einem Sicherheitsforscher, der sich mit Ransomware beschäftigt. ( Ransomware ,  Virus )  \n",
      "{'tech': 0.5678564872220437, 'nontech': 0.4321435127779562}\n",
      "\n",
      "Google Project Brillo: IoT-Android wird sicherer als Smartphone-Android Google krempelt die Zusammenarbeit mit Herstellern für sein Internet-of-Things-System Brillo im Vergleich zu Android völlig um. So gibt es nur einen Linux-Kernel, der langfristig Updates erhalten soll. Die Geräte müssen zudem mehr als fünf Jahre lang gepflegt werden, was die Sicherheit erhöhen soll. ( Open Source ,  Google )  \n",
      "{'tech': 0.9637640826423961, 'nontech': 0.036235917357603876}\n",
      "\n",
      "Copyright: US-Marine wehrt sich gegen Vorwurf der Softwarepiraterie Ein deutsches Software-Unternehmen fordert fast 600 Millionen US-Dollar von der US-Marine, weil diese angeblich hunderttausende Male Testversionen einer Software installiert hat, ohne dafür die Lizenzen zu besitzen. Die US-Regierung hat sich jetzt erstmals vor Gericht geäußert. ( Urheberrecht ,  Applikationen )  \n",
      "{'tech': 0.603219032136271, 'nontech': 0.39678096786372896}\n",
      "\n",
      "Playstation Network: Gamer soll für DDOS auf Dyn verantwortlich sein Das eigentliche Ziel des DDoS-Angriffs, der Dienste wie Twitter, Amazon, Spotify und Netflix zeitweise lahmgelegt hat, soll Sonys Playstation Network gewesen sein. Diese Theorie äußert der Netzbetreiber Level 3 - Dyn selbst ist noch nicht überzeugt. ( Mirai-Botnetz ,  Virus )  \n",
      "{'tech': 0.5921803139588798, 'nontech': 0.40781968604112023}\n",
      "\n",
      "20 Jahre ICQ: Uh-oh, ich kann mich nicht trennen Vor 20 Jahren erschien mit ICQ einer der erfolgreichsten Chatdienste. Es veränderte das Kommunikationsverhalten einer Generation - auch das unseres Autors. ( ICQ ,  Instant Messenger )  \n",
      "{'tech': 0.43380760168596383, 'nontech': 0.5661923983140361}\n",
      "\n",
      "Verjährung: BGH verlängert Haftung für illegales Filesharing Der Bundesgerichtshof hat die Verjährungsfrist für illegales Filesharing auf zehn Jahre erhöht. Ob wirklich eine neue Welle von Abmahnungen folgt, ist noch unklar. ( Abmahnung ,  Tauschbörse )  \n",
      "{'tech': 0.6040498455167485, 'nontech': 0.39595015448325155}\n",
      "\n",
      "Connect 2016: Microsoft setzt alles auf die Cloud Zur Connect, Microsofts Entwicklermesse, wird endgültig klar, dass die Zukunft des Unternehmens im Cloud-Geschäft liegt. Das zeigt sich etwa an dem längst überfälligen Beitritt zur Linux Foundation oder dem neuen SQL Server. Bei der Mobile-Entwicklung sorgt Microsoft allein für Tools und das Cloud-Backend. ( Microsoft ,  IBM )  \n",
      "{'tech': 0.9375505225509212, 'nontech': 0.06244947744907888}\n",
      "\n",
      "Earth VR: Mit Google und dem Vive durch die Welt fliegen Mit Googles neuem Earth VR für das HTC Vive können Nutzer nicht nur durch virtuelle Straßen der Welt laufen, sondern sich komplett frei bewegen. Zur Orientierung verwenden Nutzer die Controller des Vive, auch Headtracking wird unterstützt. ( Google Earth ,  Google )  \n",
      "{'tech': 0.8097256655501935, 'nontech': 0.1902743344498064}\n",
      "\n",
      "http://newsfeed.zeit.de/politik/index\n",
      "Russland: \"Wir brauchen Freunde\"     Sanktionen, Olympia-Ausschluss, Propaganda: In einer Rede kritisiert Wladimir Putin die Einmischung des Westens in russische Interessen. Er gab sich aber auch kooperativ.\n",
      "{'tech': 0.05237272564676721, 'nontech': 0.9476272743532327}\n",
      "\n",
      "Innere Sicherheit: Australien verschärft Anti-Terror-Gesetze     Verurteilte Straftäter in Australien können künftig nach ihrer Verurteilung in Sicherungsverwahrung verbleiben. Kritiker sprechen von einer \"Aushöhlung der Bürgerrechte\".\n",
      "{'tech': 0.4752665274866425, 'nontech': 0.5247334725133576}\n",
      "\n",
      "Atomstreit: Südkorea verhängt Sanktionen gegen Nordkorea     Erst der UN-Sicherheitsrat, nun die Regierung in Seoul: Die Sanktionen gegen Nordkorea werden verschärft. Ob die neuen Resolutionen Wirkung zeigen, ist fraglich.\n",
      "{'tech': 0.715039497663969, 'nontech': 0.28496050233603093}\n",
      "\n",
      "Türkei: Unser täglich Erdoğan Erpresst Erdoğan Europa? Nein, denn zur Erpressung gehört auch einer, der sich erpressen lässt. Nicht einmal der türkische Präsident kann alles machen, was er ankündigt.\n",
      "{'tech': 0.19562226714560418, 'nontech': 0.8043777328543958}\n",
      "\n",
      "Syrien: UN befürchten \"gigantischen Friedhof\"     Die Lage in Aleppo ist dramatisch, laut Augenzeugen herrschen Panik und Verzweiflung. Der UN-Sicherheitsrat tagte: Statt Lösungen gab es gegenseitige Schuldzuweisungen.\n",
      "{'tech': 0.4334865596905036, 'nontech': 0.5665134403094965}\n",
      "\n",
      "Kolumbien: Abgeordnete billigen Friedensvertrag mit Farc     Der überarbeitete Friedenspakt mit der Farc ist vom kolumbianischen Kongress angenommen worden. Noch in diesem Jahr soll die Entwaffnung der Rebellen beginnen.\n",
      "{'tech': 0.3535699571477823, 'nontech': 0.6464300428522177}\n",
      "\n",
      "Verteidigung: Bundeswehr will Schulabbrecher einstellen     Wegen ihrer Personalnot plant die Truppe laut einem Bericht, künftig auch Bewerber ohne Abschluss einzustellen. Beim Bund sollen sie den Abschluss dann nachholen.\n",
      "{'tech': 0.614406008675527, 'nontech': 0.38559399132447314}\n",
      "\n",
      "Geheimdienst: Kritik an Rekrutierungspraxis des Verfassungsschutzes     Nach der Entdeckung eines möglichen Maulwurfes fordern Politiker eine Prüfung der Einstellungstests. Laut einem Bericht könnte der Verdächtige Komplizen gehabt haben.\n",
      "{'tech': 0.4529358251662105, 'nontech': 0.5470641748337894}\n",
      "\n",
      "US-Wahl: Grünen-Politikerin will auch in Michigan nachzählen lassen     Nach Pennsylvania und Wisconsin hat Jill Stein auch die Neuauszählung der Stimmen in Michigan beantragt. Der Wahlsieg dürfte Donald Trump dennoch nicht zu nehmen sein.\n",
      "{'tech': 0.4332323602695554, 'nontech': 0.5667676397304445}\n",
      "\n",
      "US-Wahl: Pelosi bleibt Fraktionschefin der Demokraten     Die Demokraten im US-Repräsentantenhaus halten an der bisherigen Führungsspitze fest. Der junge Tim Ryan hatte keine Chance gegen die einflussreiche Nancy Pelosi.\n",
      "{'tech': 0.5259865777419495, 'nontech': 0.47401342225805065}\n",
      "\n",
      "Syrien: Fünf Jahre Krieg     Seit 2011 ist Bürgerkrieg in Syrien. Hunderttausende Menschen sind getötet worden, Millionen flohen. Denen, die im Land geblieben sind, drohen Hunger, Folter und Tod.\n",
      "{'tech': 0.16155639040521136, 'nontech': 0.8384436095947886}\n",
      "\n",
      "Ungarn: Flüchtling muss wegen Grenzkrawallen zehn Jahre in Haft     Ein Syrer soll im vergangenen Jahr ungarische Grenzbeamte angegriffen und zu Unruhen aufgerufen haben. Ein Gericht wertete dies nun als terroristischen Akt.\n",
      "{'tech': 0.35531941513079596, 'nontech': 0.644680584869204}\n",
      "\n",
      "Österreich-Wahl: Über den Zebrastreifen zum Erfolg     In Wiener Arbeitervierteln, zwischen Handyshops und Halbwahrheiten, kümmert sich die FPÖ um die Probleme der Leute. Von hier aus will sie es bis in die Hofburg schaffen.\n",
      "{'tech': 0.44443860619099257, 'nontech': 0.5555613938090074}\n",
      "\n",
      "AfD: Von wegen Sammelbecken der Abgehängten     Die AfD ist mitnichten die Partei der Geringverdiener, zeigt eine Studie, die der ZEIT vorliegt. Menschen mit niedrigem Einkommen sympathisieren eher mit der Linkspartei.\n",
      "{'tech': 0.1065591607180053, 'nontech': 0.8934408392819947}\n",
      "\n",
      "Syrien-Krieg: Die letzte Schlacht um Aleppo     Mit Bomben und Bodentruppen erobern das syrische Regime und seine Verbündeten Ost-Aleppo von den Rebellen zurück. Was bedeutet die brutale Offensive für Syriens Zukunft?\n",
      "{'tech': 0.40517332878063594, 'nontech': 0.594826671219364}\n",
      "\n",
      "http://www.welt.de/?service=Rss\n",
      "Fragen und Antworten: So teuer wird die Maut für deutsche Autofahrer Heute will Bundesverkehrsminister Alexander Dobrindt in Brüssel Nägel mit Köpfen machen. Die Pkw-Maut in Deutschland soll kommen. Was hat das für Folgen für die Autofahrer?\n",
      "{'tech': 0.26931675452434434, 'nontech': 0.7306832454756556}\n",
      "\n",
      "Rede an die Nation: Putin erklärt seine neue Weltordnung In seiner jährlichen Rede an die Nation gibt sich der russische Präsident äußerst selbstbewusst. Russland und die USA müssten verstärkt zusammenarbeiten, sonst drohten \"globale Katastrophen\".\n",
      "{'tech': 0.033468952278027424, 'nontech': 0.9665310477219726}\n",
      "\n",
      "\"Bargusin\": Moskau arbeitet am gefürchteten Atomraketen-Zug Die Entwicklung des Raketenzuges vom Typ \"Bargusin\" ist im Gange: Er soll, mit Atomwaffen bestückt, im russischen Hinterland in Bewegung bleiben und stets strategische Ziele im Westen im Visier haben.\n",
      "{'tech': 0.3208223063265825, 'nontech': 0.6791776936734175}\n",
      "\n",
      "Tonmitschnitt von Funkverkehr: \"9000 Fuß, Señorita!\" Ein Tonmitschnitt dokumentiert die dramatischen Minuten vor dem Absturz des Fluges LaMia 933 in Medellín. Der Maschine ging das Kerosin aus. Bis zuletzt funkte der Pilot um Hilfe.\n",
      "{'tech': 0.477395318792913, 'nontech': 0.522604681207087}\n",
      "\n",
      "Manchester United: Der begeisterte Empfang überwältigt Schweinsteiger Nach seinem Comeback spricht Bastian Schweinsteiger von einem \"unglaublichen Abend\". Er durfte im Pokal für Manchester United spielen. Sein großer Gegenspieler war auf die Tribüne verbannt worden.\n",
      "{'tech': 0.4899521095619035, 'nontech': 0.5100478904380965}\n",
      "\n",
      "Eine Million Geräte betroffen: Android-Handys infiziert – So prüfen Sie Ihres Gefährliche Malware späht massenweise Daten von Andoid-Telefonen aus. Cybersoftware-Experten zufolge verschafft sie sich Zugang zu Google-Konten. Im Netz können Nutzer prüfen, ob sie betroffen sind.\n",
      "{'tech': 0.9594941458532998, 'nontech': 0.04050585414670017}\n",
      "\n",
      "Adventskalender: Das große WELTplus-Weihnachtsgewinnspiel 2016 Hier finden Sie das WELTplus-Weihnachtsgewinnspiel. Klicken Sie ab dem 1. Dezember 2016 auf das Türchen des Tages, spielen Sie mit bei unserem Weihnachts-Quiz und gewinnen Sie jeden Tag tolle Preise.\n",
      "{'tech': 0.9425133446140312, 'nontech': 0.057486655385968775}\n",
      "\n",
      "Rotlicht-Prozess: Die Schüsse nach der Demütigung der Ex-Hure Prostitution, Erpressung, Schüsse, eine zurückgenommene Aussagen und ein verschollener Beteiligte. Der Hamburger Prozess um einen blutigen Streit im Rotlichtmilieu bot viele Wendungen und Ungereimtheiten.\n",
      "{'tech': 0.4051964384815326, 'nontech': 0.5948035615184674}\n",
      "\n",
      "Italienischer Pizzameister : Nur mit der \"Geldbörsen-Technik\" essen Sie Pizza richtig Außerhalb Neapels werde die Pizza komplett falsch gegessen, beklagt der italienische Pizza-Maestro Enzo Coccia. Messer und Gabel seien Tabu - der Grund dafür liegt in der Tradition.\n",
      "{'tech': 0.6120158138534779, 'nontech': 0.3879841861465222}\n",
      "\n",
      "In eigener Sache: Die \"Welt Edition\" gibt es jetzt auf allen Geräten Die digitale Zeitung der \"Welt\" ist ab sofort von überall erreichbar: iPad, iPhone, Android und endlich auch im Web und für Windows-Nutzer. Einfach mal ausprobieren – selbstverständlich kostenlos.\n",
      "{'tech': 0.9975097008446749, 'nontech': 0.002490299155325067}\n",
      "\n"
     ]
    }
   ],
   "source": [
    "length = 0\n",
    "for feed in test:\n",
    "    print feed\n",
    "    f=feedparser.parse(feed)\n",
    "    for e in f.entries:\n",
    "        length += 1\n",
    "        fulltext=stripHTML(e.title+' '+e.description)\n",
    "        print fulltext\n",
    "        print naiveBayesClassifierTFStop.testDocument(fulltext)\n",
    "        print"
   ]
  },
  {
   "cell_type": "code",
   "execution_count": 334,
   "metadata": {
    "collapsed": true
   },
   "outputs": [],
   "source": [
    "feed_num = 1\n",
    "\n",
    "data = []\n",
    "\n",
    "for feed in test:\n",
    "    f=feedparser.parse(feed)\n",
    "    for e in f.entries:\n",
    "        length += 1\n",
    "        fulltext=stripHTML(e.title+' '+e.description)\n",
    "        pred_cat=get_highest_prob_cat(naiveBayesClassifierTFStop.testDocument(fulltext))\n",
    "        if feed_num == 1:\n",
    "            data.append([pred_cat, 'tech'])\n",
    "        else:\n",
    "            data.append([pred_cat, 'nontech'])\n",
    "    feed_num += 1\n",
    "\n",
    "    \n",
    "data = pd.DataFrame(data)"
   ]
  },
  {
   "cell_type": "code",
   "execution_count": 335,
   "metadata": {
    "collapsed": false
   },
   "outputs": [
    {
     "name": "stdout",
     "output_type": "stream",
     "text": [
      "Accuracy:  0.815384615385\n"
     ]
    }
   ],
   "source": [
    "accuracy = accuracy_score(data[1].values, data[0].values)\n",
    "print 'Accuracy: ', accuracy"
   ]
  },
  {
   "cell_type": "code",
   "execution_count": 336,
   "metadata": {
    "collapsed": false
   },
   "outputs": [
    {
     "data": {
      "text/plain": [
       "array([[18,  7],\n",
       "       [ 5, 35]])"
      ]
     },
     "execution_count": 336,
     "metadata": {},
     "output_type": "execute_result"
    }
   ],
   "source": [
    "confus = confusion_matrix(data[1].values, data[0].values)\n",
    "confus"
   ]
  },
  {
   "cell_type": "code",
   "execution_count": 337,
   "metadata": {
    "collapsed": false
   },
   "outputs": [
    {
     "name": "stdout",
     "output_type": "stream",
     "text": [
      "Precision for categorie tech: 0.833333\n",
      "Precision for categorie nontech: 0.782609\n"
     ]
    }
   ],
   "source": [
    "tech_prec = precision_score(data[1].values, data[0].values, pos_label='tech')\n",
    "nontech_prec = precision_score(data[1].values, data[0].values, pos_label='nontech')\n",
    "\n",
    "print 'Precision for categorie tech: %f' % (tech_prec)\n",
    "print 'Precision for categorie nontech: %f' % (nontech_prec)"
   ]
  },
  {
   "cell_type": "code",
   "execution_count": 338,
   "metadata": {
    "collapsed": false
   },
   "outputs": [
    {
     "name": "stdout",
     "output_type": "stream",
     "text": [
      "Recall for categorie tech: 0.875000\n",
      "Recall for categorie nontech: 0.720000\n"
     ]
    }
   ],
   "source": [
    "tech_recall = recall_score(data[1].values, data[0].values, pos_label='tech')\n",
    "nontech_recall = recall_score(data[1].values, data[0].values, pos_label='nontech')\n",
    "\n",
    "print 'Recall for categorie tech: %f' % (tech_recall)\n",
    "print 'Recall for categorie nontech: %f' % (nontech_recall)"
   ]
  },
  {
   "cell_type": "code",
   "execution_count": 339,
   "metadata": {
    "collapsed": false
   },
   "outputs": [
    {
     "name": "stdout",
     "output_type": "stream",
     "text": [
      "F1-Score for categorie tech: 0.853659\n",
      "F1-Score for categorie nontech: 0.750000\n"
     ]
    }
   ],
   "source": [
    "tech_f1 = f1_score(data[1].values, data[0].values, pos_label='tech')\n",
    "nontech_f1 = f1_score(data[1].values, data[0].values, pos_label='nontech')\n",
    "\n",
    "print 'F1-Score for categorie tech: %f' % (tech_f1)\n",
    "print 'F1-Score for categorie nontech: %f' % (nontech_f1)"
   ]
  },
  {
   "cell_type": "markdown",
   "metadata": {},
   "source": [
    "### Auswertung token frequency\n",
    "**Wie man schon an der Accuracy gut erkennen kann, hat das Entfernen von den so genannten \"Stop words\" den Wert wieder deutlich verbessert und jetzt sogar besser als den Ausgangswert gemacht.**  \n",
    "**Die accuracy hat sich demnach so verändert:**      \n",
    "**0.75384615384615383 --token frequency--> 0.738461538462 --stop words + TF--> 0.815384615385**  \n",
    "\n",
    "**Dadurch haben wir eine Verbesserung der accuracy um fast 7% zum Startwert.**    \n",
    "\n",
    "**Beim Betrachten der confusion-matrix fällt auf, dass der Gesamtwert zwar besser ist, in diesem Fall jetzt aber auch Dokumente der Kategorie 'nontech' als 'tech' klassifiziert wurden.**\n",
    "\n",
    "**Der letzte Schritt wäre das Verwenden der TF-IDF Werte pro Wort, was dazu führt, dass Worte die in vielen oder allen Dokumenten vorkommen immer weniger berücksichtigt werden.**\n",
    "\n"
   ]
  },
  {
   "cell_type": "markdown",
   "metadata": {},
   "source": [
    "--------------"
   ]
  },
  {
   "cell_type": "markdown",
   "metadata": {},
   "source": [
    "### TF-IDF + removed Stop words   \n",
    "(experimental -> maybe wrong implementation)"
   ]
  },
  {
   "cell_type": "code",
   "execution_count": 340,
   "metadata": {
    "collapsed": false,
    "scrolled": true
   },
   "outputs": [],
   "source": [
    "corpus = []\n",
    "\n",
    "for feed in trainTech:\n",
    "    f=feedparser.parse(feed)\n",
    "    for e in f.entries:\n",
    "        fulltext=stripHTML(e.title+' '+e.description)\n",
    "        corpus.append(fulltext)\n",
    "        \n",
    "for feed in trainNonTech:\n",
    "    f=feedparser.parse(feed)\n",
    "    for e in f.entries:\n",
    "        fulltext=stripHTML(e.title+' '+e.description)\n",
    "        corpus.append(fulltext)\n",
    "        \n",
    "for feed in test:\n",
    "    f=feedparser.parse(feed)\n",
    "    for e in f.entries:\n",
    "        fulltext=stripHTML(e.title+' '+e.description)\n",
    "        corpus.append(fulltext)"
   ]
  },
  {
   "cell_type": "code",
   "execution_count": 341,
   "metadata": {
    "collapsed": false
   },
   "outputs": [],
   "source": [
    "from gensim import corpora\n",
    "\n",
    "#removing stop words from the corpus\n",
    "cleaned_corpus = [[word for word in nltk.regexp_tokenize(text, r\"[\\wäöüÄÖÜß]+\") if word not in stops] for text in corpus]\n",
    "\n",
    "#removing words that only occur once <- bad for such a small corpus like this one\n",
    "#remone_corpus = [[word for word in text if text.count(word) > 1] for text in cleaned_corpus]\n",
    "\n",
    "#creating a dictonary with occurrence frequency\n",
    "dictionary = corpora.Dictionary(cleaned_corpus)\n",
    "fin_corpus = [dictionary.doc2bow(text) for text in cleaned_corpus]"
   ]
  },
  {
   "cell_type": "code",
   "execution_count": 342,
   "metadata": {
    "collapsed": false
   },
   "outputs": [],
   "source": [
    "from gensim.models.tfidfmodel import TfidfModel\n",
    "\n",
    "#initializing the tf-idf weighter with the predefined corpus\n",
    "tfidf = TfidfModel(fin_corpus)"
   ]
  },
  {
   "cell_type": "code",
   "execution_count": 343,
   "metadata": {
    "collapsed": true
   },
   "outputs": [],
   "source": [
    "#improved by removing stop words and using tf-idf instead of just 1 for every word\n",
    "\n",
    "def getwordsTFIDFStop(docText):\n",
    "    \n",
    "    sentence = nltk.regexp_tokenize(docText.lower(), r\"[\\wäöüÄÖÜß]+\")\n",
    "    new_vec = dictionary.doc2bow(sentence)\n",
    "    \n",
    "    vec_vals = tfidf[new_vec]\n",
    "    \n",
    "    wordDict = {x[0]: x[1] for x in vec_vals}\n",
    "    \n",
    "    return wordDict"
   ]
  },
  {
   "cell_type": "code",
   "execution_count": 344,
   "metadata": {
    "collapsed": false
   },
   "outputs": [
    {
     "data": {
      "text/plain": [
       "{157: 0.5956308638248419,\n",
       " 213: 0.1985436212749473,\n",
       " 406: 0.26239254918925087,\n",
       " 480: 0.17276924816509018,\n",
       " 827: 0.2117934709615411,\n",
       " 952: 0.17276924816509018,\n",
       " 1133: 0.23046808523209905,\n",
       " 1288: 0.4609361704641981,\n",
       " 1589: 0.23046808523209905,\n",
       " 2142: 0.2117934709615411,\n",
       " 3672: 0.26239254918925087}"
      ]
     },
     "execution_count": 344,
     "metadata": {},
     "output_type": "execute_result"
    }
   ],
   "source": [
    "text = 'Call of Duty: Black Ops 3 (PS4)   Darauf warten die Shooter-Fans! Call of Duty: Black Ops 3 kommt heute in die Läden. Wir haben den Einzelspieler-Part des bombastischen Shooters vorab auf der PlayStation 4 getestet und dürfen schon jetzt sagen: Black Ops 3 liefert auf hohem Niveau ganz genau das, was sich Fans der Serie erwarten.'\n",
    "getwordsTFIDFStop(text)"
   ]
  },
  {
   "cell_type": "code",
   "execution_count": 345,
   "metadata": {
    "collapsed": false
   },
   "outputs": [],
   "source": [
    "naiveBayesClassifierTFIDFStop = NaiveBayesClassifier(getwordsTFIDFStop)\n",
    "\n",
    "for feed in trainTech:\n",
    "    f=feedparser.parse(feed)\n",
    "    for e in f.entries:\n",
    "        fulltext=stripHTML(e.title+' '+e.description)\n",
    "        naiveBayesClassifierTFIDFStop.train(fulltext, 'tech')\n",
    "\n",
    "for feed in trainNonTech:\n",
    "    f=feedparser.parse(feed)\n",
    "    for e in f.entries:\n",
    "        fulltext=stripHTML(e.title+' '+e.description)\n",
    "        naiveBayesClassifierTFIDFStop.train(fulltext, 'nontech')"
   ]
  },
  {
   "cell_type": "code",
   "execution_count": 346,
   "metadata": {
    "collapsed": false
   },
   "outputs": [
    {
     "name": "stdout",
     "output_type": "stream",
     "text": [
      "http://rss.golem.de/rss.php?r=sw&feed=RSS0.91\n",
      "0-Day: Tor und Firefox patchen kritische Schwachstelle Tor und Mozilla haben schnell reagiert und veröffentlichen einen außerplanmäßigen Patch für eine kritische Sicherheitslücke. Der Fehler lag in einer Animationsfunktion für Vektorgrafiken. ( Security ,  Firefox )  \n",
      "{'tech': 0.5157727421910177, 'nontech': 0.4842272578089823}\n",
      "\n",
      "Hatch: Games ohne Installation auf dem Smartphone spielen Hatch ist ein neues Streaming-Abo für Spiele auf Android-Geräten: Nutzer können Games direkt vom Cloud-Server auf ihr Smartphone oder Tablet streamen, ohne sie vorher installieren zu müssen. Spiele können zudem auch immer zu zweit gespielt werden, indem die Steuerung über die Cloud geteilt wird. ( slush2016 ,  Smartphone )  \n",
      "{'tech': 0.5679825931462342, 'nontech': 0.4320174068537657}\n",
      "\n",
      "0-Day: Nutzer des Tor-Browsers werden mit Javascript angegriffen Wer den Tor-Browsers nutzt, will meist vor allem eins: Anonymität. Eine aktuelle Schwachstelle im Firefox-Browser führt aber dazu, dass Nutzer identifiziert werden können. Das Problem betrifft auch Nutzer des regulären Firefox - ein Patch ist in Arbeit. ( Tor-Netzwerk ,  Firefox )  \n",
      "{'tech': 0.5701029623007385, 'nontech': 0.4298970376992615}\n",
      "\n",
      "Weitere Entlassungen: Cyanogen soll Hauptbüro in Seattle schließen Das Hauptbüro von Cyanogen soll internen und externen Quellen zufolge geschlossen werden - ein Großteil der Angestellten soll entlassen werden. Auch die Zukunft von Cyanogenmod-Gründer Steve Kondik ist offenbar unklar, einige Mitarbeiter können wohl in das kleinere Büro in Kalifornien wechseln. ( Cyanogen OS ,  Applikationen )  \n",
      "{'tech': 0.5089969202374056, 'nontech': 0.4910030797625944}\n",
      "\n",
      "Nach Angriff auf Telekom: Mit dem Strafrecht Router ins Terrorcamp schicken oder so Nach der Überflutung kommen die Mücken und nach dem Telekom-Hack die unsinnigen Vorschläge aus der Politik. Dem Unternehmen kann das nur recht sein, so kann es von seinen eigenen Fehlern ablenken. ( Security ,  Netzwerk )  \n",
      "{'tech': 0.49866357916181747, 'nontech': 0.5013364208381825}\n",
      "\n",
      "Adreno: Aktuelle Qualcomm-GPUs bekommen freien Treiber Für die 500er-Reihe von Qualcomms Adreno-GPUs stehen erste Patches für einen freien Linux-Treiber bereit. Der Code umfasst Kernel- und Userspace und stammt teilweise von Qualcomm selbst. Android-Updates könnten damit künftig wesentlich einfacher werden. ( Linux-Kernel ,  Treiber )  \n",
      "{'tech': 0.530713027819237, 'nontech': 0.46928697218076304}\n",
      "\n",
      "Botnetz: Telekom-Routerausfälle waren nur Kollateralschaden Eine Variante des Mirai-Botnetzes auf Routern hat zahlreiche Ausfälle bei Telekom-Kunden verursacht. Allerdings waren die Telekom-Router selbst nicht Teil des Botnetzes, sie wurden lediglich durch die Angriffsversuche lahmgelegt. ( Telekom ,  Virus )  \n",
      "{'tech': 0.49053927367349653, 'nontech': 0.5094607263265035}\n",
      "\n",
      "Videolan: Neuer VLC-Player spielt 360-Grad-Videos ab Die Technical Preview des VLC-Players eignet sich zur Wiedergabe von 360-Grad-Videos inklusive Rotieren der Kamera per Maus. Künftig will Videolan auch VR-Headsets unterstützen. ( VLC ,  Applikationen )  \n",
      "{'tech': 0.5595732435226087, 'nontech': 0.44042675647739127}\n",
      "\n",
      "Virtualisierungslösung: Update von Parallels Desktop 12 schränkt Funktionen ein Parallels Desktop 12 ermöglicht es seit dem Update auf Version 12.1 nicht mehr, virtuelle Maschinen mit mehr als acht GByte RAM und vier virtuellen Prozessoren einzurichten. Nur die Aboversion arbeitet ohne Einschränkungen. ( Parallels ,  Mac OS X )  \n",
      "{'tech': 0.5353592990075725, 'nontech': 0.4646407009924274}\n",
      "\n",
      "Adblocker: Auch Spiegel Online verliert gegen Adblock Plus Ein weiteres Medium hat vor Gericht gegen Adblock-Plus verloren. Eine kleine Hoffnung für Verleger gibt es trotzdem: Die Adblockerquote ist insgesamt leicht rückläufig. ( Adblock Plus ,  Onlinewerbung )  \n",
      "{'tech': 0.5063656087633703, 'nontech': 0.4936343912366296}\n",
      "\n",
      "Gehackte Zugänge: Kriminelle versenden Malware mit Mailchimp-Accounts Kriminelle nutzen offenbar übernommene Mailchimp-Accounts, um Malware zu verbreiten. Das geschieht vor allem über Mails mit angeblichen Rechnungen. Alle 2.000 betroffenen Accounts wurden vorläufig stillgelegt. ( Malware ,  Virus )  \n",
      "{'tech': 0.5692122452688644, 'nontech': 0.4307877547311356}\n",
      "\n",
      "Deutscher Wetterdienst: Wetter-App zeigt mehr Gefahrenprognosen Der Deutsche Wetterdienst hat seine Wetter-App für Android und iOS aktualisiert und informiert darin jetzt auch über weitere Gefahrenprognosen. Bei Hochwasser, Sturmfluten und Lawinen erhalten Nutzer vorher eine Warnung. ( App )  \n",
      "{'tech': 0.5273095768754439, 'nontech': 0.47269042312455617}\n",
      "\n",
      "Spionage: Malware kann Kopfhörer als Mikrofon nutzen Kein Umbau erforderlich: Ein Programm kann Kopfhörer und andere Lautsprecher ohne Verstärker als Mikrofon verwenden - ohne das Wissen des Nutzers. ( Security ,  Sound-Hardware )  \n",
      "{'tech': 0.5176890991810393, 'nontech': 0.4823109008189606}\n",
      "\n",
      "Google: Chromebooks bekommen \"Wake on Voice\" Mit einem Gerät sprechen, um es aus dem Ruhezustand zu wecken, geht nicht mehr nur mit Smartphones, sondern auch mit einem Chromebook. Die Funktion ist ein weiteres Indiz für das Verschmelzen von ChromeOS und Android. ( Chromebook ,  Google )  \n",
      "{'tech': 0.5390631254919142, 'nontech': 0.46093687450808585}\n",
      "\n",
      "2-Faktor-Authentifizierung: Google warnt mehrere prominente Personen vor Staatshackern Eine Warnung vor staatlichen Hackerangriffen auf Google-Konten sorgt derzeit in den USA für Diskussionen. Vor allem Journalisten und Diplomaten erhielten die Warnung, auch in der Türkei gibt es Betroffene. ( Security ,  Applikationen )  \n",
      "{'tech': 0.5449783261898051, 'nontech': 0.455021673810195}\n",
      "\n",
      "Blog-Software: Gravierender Fehler in Wordpress Auto-Update gefunden Weil der zentrale Update-Server von Wordpress unsichere Hashfunktionen zulässt, hätten Angreifer Code ausführen und massenhaft Wordpress-Installationen angreifen können. Die Sicherheitslücke wurde mittlerweile geschlossen. ( Wordpress ,  Blog )  \n",
      "{'tech': 0.5266646220184676, 'nontech': 0.4733353779815323}\n",
      "\n",
      "SCCACHE: Mozilla baut geteilten Compiler-Cache in Rust Ein weiteres wichtiges Stück Infrastruktur bei Mozilla ist in die Sprache Rust portiert worden: der geteilte Compiler-Cache (Sccache). Builds verschiedener Systeme können damit ihre Ergebnisse teilen, was dank Rust jetzt schneller geht. ( Mozilla ,  Server )  \n",
      "{'tech': 0.5275907784048794, 'nontech': 0.47240922159512067}\n",
      "\n",
      "Webstatistik: Alexa-Daten temporär wieder verfügbar Eine Ankündigung der Firma Alexa, ihre Statistik über die beliebtesten Webseiten künftig nur noch kostenpflichtig anzubieten, führte zu einigen Protesten. Jetzt sind die Daten - zumindest temporär - wieder verfügbar. ( Open Data ,  Studie )  \n",
      "{'tech': 0.5047654942316238, 'nontech': 0.4952345057683762}\n",
      "\n",
      "Update: Google will Android 7.1.1 im Dezember 2016 veröffentlichen Google verteilt eine neue Entwicklervorschau für Android 7.1.1 und hat im Zuge dessen mitgeteilt, wann das Update allgemein verfügbar sein wird: Im Dezember 2016 soll es für drei Nexus-Geräte, das Pixel C und für andere Gerätehersteller zur Verfügung stehen. ( Android 7.0 ,  Google )  \n",
      "{'tech': 0.5849200718548705, 'nontech': 0.4150799281451295}\n",
      "\n",
      "Linux-Distribution: Fedora 25 erscheint mit Wayland als Standard Als erste große Linux-Distribution verabschiedet sich Fedora in Version 25 von X11 und nutzt Wayland als Standard. Außerdem hat das Team versucht, teils mehrere Jahre alte Probleme nutzerfreundlich zu lösen - dazu gehört auch der MP3-Support. ( Fedora ,  Gnome )  \n",
      "{'tech': 0.49971983410580323, 'nontech': 0.5002801658941968}\n",
      "\n",
      "Windows Holographic: Microsofts AR-Plattform benötigt eine DX12-Grafikkarte Die Windows-10-Preview enthält eine App, die testet, ob der PC flott genug für das Creator's Update mit AR-Unterstützung ist. Die Systemanforderungen offenbaren interessante Details. ( Augmented Reality ,  DirectX )  \n",
      "{'tech': 0.5367616407448828, 'nontech': 0.46323835925511725}\n",
      "\n",
      "Alexa-Statistik: Liste der beliebtesten Webseiten nicht mehr kostenlos Jahrelang stellte die Firma Alexa eine Liste der eine Million beliebtesten Webseiten bereit. Viele nutzten sie für Forschungszwecke. Damit ist jetzt Schluss: Die Daten gibt's nur noch gegen Bezahlung. ( Open Data ,  API )  \n",
      "{'tech': 0.5192814656225722, 'nontech': 0.48071853437742784}\n",
      "\n",
      "Testbetrieb: Facebook sucht nach WLAN-Hotspots Die Facebook-App will das gleichnamige soziale Netzwerk auch für die Suche von kostenlos nutzbaren WLAN-Zugängen nutzen. Derzeit wird begrenzt die Funktion getestet in einer integrierten Kartenansicht WLAN-SSIDs aufzuspüren, um sie zu nutzen. ( Facebook ,  WLAN )  \n",
      "{'tech': 0.516256238329783, 'nontech': 0.48374376167021704}\n",
      "\n",
      "Windows 10 Mobile: Microsoft plant eine x86-Emulation für ARM Microsoft arbeitet an einer x86-Emulation in Windows 10 Mobile. Damit sollen herkömmliche Windows-Programme auch auf ARM64-Geräten funktionieren. Bis das passiert, dauert es aber noch lange. ( Windows 10 Mobile ,  Microsoft )  \n",
      "{'tech': 0.5515178305559535, 'nontech': 0.4484821694440464}\n",
      "\n",
      "Vivaldi 1.5: Browser mit Lampensteuerung Mehr Browserkomfort verspricht Vivaldi 1.5. Der Browser kann Philips-Hue-Lampen ansteuern und die Tab-Verwaltung ist umfangreicher geworden. Außerdem gibt es einen Lesemodus, eine bessere Notizfunktion und kompaktere Updates. ( Vivaldi ,  Browser )  \n",
      "{'tech': 0.5727681941277617, 'nontech': 0.42723180587223836}\n",
      "\n",
      "Prozessoren und LTE-Modems: Qualcomm startet begrenztes Bug-Bounty-Programm In Android-Security-Updates finden sich häufig Schwachstellen in Qualcomm-Produkten. Das Unternehmen will die Security mit einem neuen Bug-Bounty-Programm verbessern - hat jedoch einige Einschränkungen. ( Qualcomm ,  Linux-Kernel )  \n",
      "{'tech': 0.523445719562044, 'nontech': 0.47655428043795595}\n",
      "\n",
      "Mirai-IoT-Botnet: IP-Kamera nach 98 Sekunden mit Malware infiziert Droht die Netzwerkapokalypse, sobald ein unsicheres IoT-Gerät im Heimnetzwerk angeschlossen wurde? Der Sicherheitsforscher Rob Graham hat es ausprobiert - und sich innerhalb von 98 Sekunden die erste Infektion abgeholt. ( Mirai-Botnetz ,  Virus )  \n",
      "{'tech': 0.4924230604103748, 'nontech': 0.5075769395896251}\n",
      "\n",
      "Insider Build mit Powershell: Windows CMD.exe wird durch Open Source ersetzt Im aktuellen Insider Build 14971 von Windows 10 wird die Kommandozeile CMD.exe durch die Powershell ersetzt. Die einfache Eingabeaufforderung verschwindet zwar noch nicht ganz, ein zentraler Bestandteil von Windows ist damit künftig aber Open Source. ( Microsoft ,  .Net )  \n",
      "{'tech': 0.5668194870324672, 'nontech': 0.4331805129675328}\n",
      "\n",
      "Raspberry Pi: Der mit dem 64-Bit-Kernel tanzt Die Raspberry Pi Foundation sorgt dafür, dass auf der Version 3 ihres Minirechners ein 32-Bit-Linux startet - und das, obwohl der neue Raspberry Pi eine reinrassige 64-Bit-CPU hat. Echte Linux-Kern-Techniker lässt die angezogene Handbremse nicht ruhen. ( Raspberry Pi ,  Linux-Kernel )  \n",
      "{'tech': 0.5854745385246463, 'nontech': 0.4145254614753538}\n",
      "\n",
      "Android-Backdoor: Schwere Sicherheitslücke in China-Handys entdeckt In der Firmware chinesischer Billig-Handys haben Sicherheitsexperten erstaunliche Lücken entdeckt. Selbst ohne ausgefeilte Angriffsmethoden hätten Millionen Android-Handys gehackt werden können. ( Dirty Cow ,  Smartphone )  \n",
      "{'tech': 0.5115741574604493, 'nontech': 0.48842584253955074}\n",
      "\n",
      "Kaspersky OS: Kaspersky stellt eigenes Betriebssystem vor Sicher ohne Linux: Kaspersky hat ein eigenes Betriebssystem entwickelt. Das Unternehmen hat es nach eigenen Angaben komplett neu entwickelt. Es sei vor allem eins: sicher. ( Kaspersky ,  Betriebssystem )  \n",
      "{'tech': 0.5496157309911326, 'nontech': 0.4503842690088675}\n",
      "\n",
      "Filesharing: Hacker erbeuten Sourcecode von Mega.nz Mehrere Gbyte an Quellcode und einige Admin-Zugänge wurden bei dem von Kim Dotcom gegründeten Dienst Mega.nz kopiert. Nach Angaben des Unternehmens sind keine Nutzerdaten betroffen. ( Mega ,  Urheberrecht )  \n",
      "{'tech': 0.512001872014396, 'nontech': 0.48799812798560405}\n",
      "\n",
      "Erpressungstrojaner: Ransomware-Programmierer wollte Crypto-Nachhilfe Auch wenn es mittlerweile zahlreiche Open-Source-Ransomware-Templates gibt, ist die Umsetzung von Verschlüsselungsfunktionen nach wie vor schwierig. Ein Entwickler wollte daher Nachhilfe - ausgerechnet von einem Sicherheitsforscher, der sich mit Ransomware beschäftigt. ( Ransomware ,  Virus )  \n",
      "{'tech': 0.5119308938612557, 'nontech': 0.4880691061387443}\n",
      "\n",
      "Google Project Brillo: IoT-Android wird sicherer als Smartphone-Android Google krempelt die Zusammenarbeit mit Herstellern für sein Internet-of-Things-System Brillo im Vergleich zu Android völlig um. So gibt es nur einen Linux-Kernel, der langfristig Updates erhalten soll. Die Geräte müssen zudem mehr als fünf Jahre lang gepflegt werden, was die Sicherheit erhöhen soll. ( Open Source ,  Google )  \n",
      "{'tech': 0.5522592986191566, 'nontech': 0.44774070138084343}\n",
      "\n",
      "Copyright: US-Marine wehrt sich gegen Vorwurf der Softwarepiraterie Ein deutsches Software-Unternehmen fordert fast 600 Millionen US-Dollar von der US-Marine, weil diese angeblich hunderttausende Male Testversionen einer Software installiert hat, ohne dafür die Lizenzen zu besitzen. Die US-Regierung hat sich jetzt erstmals vor Gericht geäußert. ( Urheberrecht ,  Applikationen )  \n",
      "{'tech': 0.47657558504777114, 'nontech': 0.5234244149522288}\n",
      "\n",
      "Playstation Network: Gamer soll für DDOS auf Dyn verantwortlich sein Das eigentliche Ziel des DDoS-Angriffs, der Dienste wie Twitter, Amazon, Spotify und Netflix zeitweise lahmgelegt hat, soll Sonys Playstation Network gewesen sein. Diese Theorie äußert der Netzbetreiber Level 3 - Dyn selbst ist noch nicht überzeugt. ( Mirai-Botnetz ,  Virus )  \n",
      "{'tech': 0.5001814027733964, 'nontech': 0.4998185972266036}\n",
      "\n",
      "20 Jahre ICQ: Uh-oh, ich kann mich nicht trennen Vor 20 Jahren erschien mit ICQ einer der erfolgreichsten Chatdienste. Es veränderte das Kommunikationsverhalten einer Generation - auch das unseres Autors. ( ICQ ,  Instant Messenger )  \n",
      "{'tech': 0.4794207761717098, 'nontech': 0.5205792238282902}\n",
      "\n",
      "Verjährung: BGH verlängert Haftung für illegales Filesharing Der Bundesgerichtshof hat die Verjährungsfrist für illegales Filesharing auf zehn Jahre erhöht. Ob wirklich eine neue Welle von Abmahnungen folgt, ist noch unklar. ( Abmahnung ,  Tauschbörse )  \n",
      "{'tech': 0.5274268852764851, 'nontech': 0.47257311472351493}\n",
      "\n",
      "Connect 2016: Microsoft setzt alles auf die Cloud Zur Connect, Microsofts Entwicklermesse, wird endgültig klar, dass die Zukunft des Unternehmens im Cloud-Geschäft liegt. Das zeigt sich etwa an dem längst überfälligen Beitritt zur Linux Foundation oder dem neuen SQL Server. Bei der Mobile-Entwicklung sorgt Microsoft allein für Tools und das Cloud-Backend. ( Microsoft ,  IBM )  \n",
      "{'tech': 0.5562710699648794, 'nontech': 0.44372893003512054}\n",
      "\n",
      "Earth VR: Mit Google und dem Vive durch die Welt fliegen Mit Googles neuem Earth VR für das HTC Vive können Nutzer nicht nur durch virtuelle Straßen der Welt laufen, sondern sich komplett frei bewegen. Zur Orientierung verwenden Nutzer die Controller des Vive, auch Headtracking wird unterstützt. ( Google Earth ,  Google )  \n",
      "{'tech': 0.5247073464463068, 'nontech': 0.47529265355369316}\n",
      "\n",
      "http://newsfeed.zeit.de/politik/index\n",
      "Russland: \"Wir brauchen Freunde\"     Sanktionen, Olympia-Ausschluss, Propaganda: In einer Rede kritisiert Wladimir Putin die Einmischung des Westens in russische Interessen. Er gab sich aber auch kooperativ.\n",
      "{'tech': 0.4497030859345954, 'nontech': 0.5502969140654045}\n",
      "\n",
      "Innere Sicherheit: Australien verschärft Anti-Terror-Gesetze     Verurteilte Straftäter in Australien können künftig nach ihrer Verurteilung in Sicherungsverwahrung verbleiben. Kritiker sprechen von einer \"Aushöhlung der Bürgerrechte\".\n",
      "{'tech': 0.48354534070628447, 'nontech': 0.5164546592937156}\n",
      "\n",
      "Atomstreit: Südkorea verhängt Sanktionen gegen Nordkorea     Erst der UN-Sicherheitsrat, nun die Regierung in Seoul: Die Sanktionen gegen Nordkorea werden verschärft. Ob die neuen Resolutionen Wirkung zeigen, ist fraglich.\n",
      "{'tech': 0.533895621151418, 'nontech': 0.4661043788485821}\n",
      "\n",
      "Türkei: Unser täglich Erdoğan Erpresst Erdoğan Europa? Nein, denn zur Erpressung gehört auch einer, der sich erpressen lässt. Nicht einmal der türkische Präsident kann alles machen, was er ankündigt.\n",
      "{'tech': 0.5039422467803424, 'nontech': 0.4960577532196577}\n",
      "\n",
      "Syrien: UN befürchten \"gigantischen Friedhof\"     Die Lage in Aleppo ist dramatisch, laut Augenzeugen herrschen Panik und Verzweiflung. Der UN-Sicherheitsrat tagte: Statt Lösungen gab es gegenseitige Schuldzuweisungen.\n",
      "{'tech': 0.4952480471845954, 'nontech': 0.5047519528154046}\n",
      "\n",
      "Kolumbien: Abgeordnete billigen Friedensvertrag mit Farc     Der überarbeitete Friedenspakt mit der Farc ist vom kolumbianischen Kongress angenommen worden. Noch in diesem Jahr soll die Entwaffnung der Rebellen beginnen.\n",
      "{'tech': 0.4914738167119936, 'nontech': 0.5085261832880065}\n",
      "\n",
      "Verteidigung: Bundeswehr will Schulabbrecher einstellen     Wegen ihrer Personalnot plant die Truppe laut einem Bericht, künftig auch Bewerber ohne Abschluss einzustellen. Beim Bund sollen sie den Abschluss dann nachholen.\n",
      "{'tech': 0.5360321128347448, 'nontech': 0.46396788716525517}\n",
      "\n",
      "Geheimdienst: Kritik an Rekrutierungspraxis des Verfassungsschutzes     Nach der Entdeckung eines möglichen Maulwurfes fordern Politiker eine Prüfung der Einstellungstests. Laut einem Bericht könnte der Verdächtige Komplizen gehabt haben.\n",
      "{'tech': 0.5085916918211036, 'nontech': 0.49140830817889636}\n",
      "\n",
      "US-Wahl: Grünen-Politikerin will auch in Michigan nachzählen lassen     Nach Pennsylvania und Wisconsin hat Jill Stein auch die Neuauszählung der Stimmen in Michigan beantragt. Der Wahlsieg dürfte Donald Trump dennoch nicht zu nehmen sein.\n",
      "{'tech': 0.5042420376583152, 'nontech': 0.4957579623416848}\n",
      "\n",
      "US-Wahl: Pelosi bleibt Fraktionschefin der Demokraten     Die Demokraten im US-Repräsentantenhaus halten an der bisherigen Führungsspitze fest. Der junge Tim Ryan hatte keine Chance gegen die einflussreiche Nancy Pelosi.\n",
      "{'tech': 0.5012179532509441, 'nontech': 0.4987820467490559}\n",
      "\n",
      "Syrien: Fünf Jahre Krieg     Seit 2011 ist Bürgerkrieg in Syrien. Hunderttausende Menschen sind getötet worden, Millionen flohen. Denen, die im Land geblieben sind, drohen Hunger, Folter und Tod.\n",
      "{'tech': 0.4864692333152293, 'nontech': 0.5135307666847708}\n",
      "\n",
      "Ungarn: Flüchtling muss wegen Grenzkrawallen zehn Jahre in Haft     Ein Syrer soll im vergangenen Jahr ungarische Grenzbeamte angegriffen und zu Unruhen aufgerufen haben. Ein Gericht wertete dies nun als terroristischen Akt.\n",
      "{'tech': 0.4976110080146384, 'nontech': 0.5023889919853617}\n",
      "\n",
      "Österreich-Wahl: Über den Zebrastreifen zum Erfolg     In Wiener Arbeitervierteln, zwischen Handyshops und Halbwahrheiten, kümmert sich die FPÖ um die Probleme der Leute. Von hier aus will sie es bis in die Hofburg schaffen.\n",
      "{'tech': 0.49356223175965663, 'nontech': 0.5064377682403434}\n",
      "\n",
      "AfD: Von wegen Sammelbecken der Abgehängten     Die AfD ist mitnichten die Partei der Geringverdiener, zeigt eine Studie, die der ZEIT vorliegt. Menschen mit niedrigem Einkommen sympathisieren eher mit der Linkspartei.\n",
      "{'tech': 0.501500547614287, 'nontech': 0.4984994523857129}\n",
      "\n",
      "Syrien-Krieg: Die letzte Schlacht um Aleppo     Mit Bomben und Bodentruppen erobern das syrische Regime und seine Verbündeten Ost-Aleppo von den Rebellen zurück. Was bedeutet die brutale Offensive für Syriens Zukunft?\n",
      "{'tech': 0.4994609435466361, 'nontech': 0.5005390564533638}\n",
      "\n",
      "http://www.welt.de/?service=Rss\n",
      "Fragen und Antworten: So teuer wird die Maut für deutsche Autofahrer Heute will Bundesverkehrsminister Alexander Dobrindt in Brüssel Nägel mit Köpfen machen. Die Pkw-Maut in Deutschland soll kommen. Was hat das für Folgen für die Autofahrer?\n",
      "{'tech': 0.5077476494057214, 'nontech': 0.4922523505942786}\n",
      "\n",
      "Rede an die Nation: Putin erklärt seine neue Weltordnung In seiner jährlichen Rede an die Nation gibt sich der russische Präsident äußerst selbstbewusst. Russland und die USA müssten verstärkt zusammenarbeiten, sonst drohten \"globale Katastrophen\".\n",
      "{'tech': 0.5030985161699089, 'nontech': 0.4969014838300911}\n",
      "\n",
      "Bargusin: Moskau arbeitet am gefürchteten Atomraketen-Zug Die Entwicklung des Raketenzuges vom Typ Bargusin ist im Gange: Er soll, mit Atomwaffen bestückt, im russischen Hinterland in Bewegung bleiben und stets strategische Ziele im Westen im Visier haben.\n",
      "{'tech': 0.4640052751396171, 'nontech': 0.5359947248603829}\n",
      "\n",
      "Tonmitschnitt von Funkverkehr: \"9000 Fuß, Señorita!\" Ein Tonmitschnitt dokumentiert die dramatischen Minuten vor dem Absturz des Fluges LaMia 933 in Medellín. Der Maschine ging das Kerosin aus. Bis zuletzt funkte der Pilot um Hilfe.\n",
      "{'tech': 0.5021827653252136, 'nontech': 0.4978172346747863}\n",
      "\n",
      "Manchester United: Der begeisterte Empfang überwältigt Schweinsteiger Nach seinem Comeback spricht Bastian Schweinsteiger von einem \"unglaublichen Abend\". Er durfte im Pokal für Manchester United spielen. Sein großer Gegenspieler war auf die Tribüne verbannt worden.\n",
      "{'tech': 0.5108977862356037, 'nontech': 0.4891022137643963}\n",
      "\n",
      "Eine Million Geräte betroffen: Android-Handys infiziert – So prüfen Sie Ihres Gefährliche Malware späht massenweise Daten von Andoid-Telefonen aus. Cybersoftware-Experten zufolge verschafft sie sich Zugang zu Google-Konten. Im Netz können Nutzer prüfen, ob sie betroffen sind.\n",
      "{'tech': 0.5031051040600281, 'nontech': 0.496894895939972}\n",
      "\n",
      "Adventskalender: Das große WELTplus-Weihnachtsgewinnspiel 2016 Hier finden Sie das WELTplus-Weihnachtsgewinnspiel. Klicken Sie ab dem 1. Dezember 2016 auf das Türchen des Tages, spielen Sie mit bei unserem Weihnachts-Quiz und gewinnen Sie jeden Tag tolle Preise.\n",
      "{'tech': 0.5969976660770169, 'nontech': 0.4030023339229831}\n",
      "\n",
      "Rotlicht-Prozess: Die Schüsse nach der Demütigung der Ex-Hure Prostitution, Erpressung, Schüsse, eine zurückgenommene Aussagen und ein verschollener Beteiligte. Der Hamburger Prozess um einen blutigen Streit im Rotlichtmilieu bot viele Wendungen und Ungereimtheiten.\n",
      "{'tech': 0.49039629073476193, 'nontech': 0.5096037092652381}\n",
      "\n",
      "Italienischer Pizzameister : Nur mit der \"Geldbörsen-Technik\" essen Sie Pizza richtig Außerhalb Neapels werde die Pizza komplett falsch gegessen, beklagt der italienische Pizza-Maestro Enzo Coccia. Messer und Gabel seien Tabu - der Grund dafür liegt in der Tradition.\n",
      "{'tech': 0.5178920582704589, 'nontech': 0.482107941729541}\n",
      "\n",
      "In eigener Sache: Die \"Welt Edition\" gibt es jetzt auf allen Geräten Die digitale Zeitung der \"Welt\" ist ab sofort von überall erreichbar: iPad, iPhone, Android und endlich auch im Web und für Windows-Nutzer. Einfach mal ausprobieren – selbstverständlich kostenlos.\n",
      "{'tech': 0.5669250057015297, 'nontech': 0.4330749942984702}\n",
      "\n"
     ]
    }
   ],
   "source": [
    "for feed in test:\n",
    "    print feed\n",
    "    f=feedparser.parse(feed)\n",
    "    for e in f.entries:\n",
    "        fulltext=stripHTML(e.title+' '+e.description)\n",
    "        print fulltext\n",
    "        print naiveBayesClassifierTFIDFStop.testDocument(fulltext)\n",
    "        print"
   ]
  },
  {
   "cell_type": "code",
   "execution_count": 347,
   "metadata": {
    "collapsed": false
   },
   "outputs": [],
   "source": [
    "feed_num = 1\n",
    "\n",
    "data = []\n",
    "\n",
    "for feed in test:\n",
    "    f=feedparser.parse(feed)\n",
    "    for e in f.entries:\n",
    "        length += 1\n",
    "        fulltext=stripHTML(e.title+' '+e.description)\n",
    "        pred_cat=get_highest_prob_cat(naiveBayesClassifierTFIDFStop.testDocument(fulltext))\n",
    "        if feed_num == 1:\n",
    "            data.append([pred_cat, 'tech'])\n",
    "        else:\n",
    "            data.append([pred_cat, 'nontech'])\n",
    "    feed_num += 1\n",
    "\n",
    "    \n",
    "data = pd.DataFrame(data)"
   ]
  },
  {
   "cell_type": "code",
   "execution_count": 348,
   "metadata": {
    "collapsed": false
   },
   "outputs": [
    {
     "name": "stdout",
     "output_type": "stream",
     "text": [
      "Accuracy:  0.676923076923\n"
     ]
    }
   ],
   "source": [
    "accuracy = accuracy_score(data[1].values, data[0].values)\n",
    "print 'Accuracy: ', accuracy"
   ]
  },
  {
   "cell_type": "code",
   "execution_count": 349,
   "metadata": {
    "collapsed": false
   },
   "outputs": [
    {
     "data": {
      "text/plain": [
       "array([[10, 15],\n",
       "       [ 6, 34]])"
      ]
     },
     "execution_count": 349,
     "metadata": {},
     "output_type": "execute_result"
    }
   ],
   "source": [
    "confus = confusion_matrix(data[1].values, data[0].values)\n",
    "confus"
   ]
  },
  {
   "cell_type": "code",
   "execution_count": 350,
   "metadata": {
    "collapsed": false
   },
   "outputs": [
    {
     "name": "stdout",
     "output_type": "stream",
     "text": [
      "Precision for categorie tech: 0.693878\n",
      "Precision for categorie nontech: 0.625000\n"
     ]
    }
   ],
   "source": [
    "tech_prec = precision_score(data[1].values, data[0].values, pos_label='tech')\n",
    "nontech_prec = precision_score(data[1].values, data[0].values, pos_label='nontech')\n",
    "\n",
    "print 'Precision for categorie tech: %f' % (tech_prec)\n",
    "print 'Precision for categorie nontech: %f' % (nontech_prec)"
   ]
  },
  {
   "cell_type": "code",
   "execution_count": 351,
   "metadata": {
    "collapsed": false
   },
   "outputs": [
    {
     "name": "stdout",
     "output_type": "stream",
     "text": [
      "Recall for categorie tech: 0.850000\n",
      "Recall for categorie nontech: 0.400000\n"
     ]
    }
   ],
   "source": [
    "tech_recall = recall_score(data[1].values, data[0].values, pos_label='tech')\n",
    "nontech_recall = recall_score(data[1].values, data[0].values, pos_label='nontech')\n",
    "\n",
    "print 'Recall for categorie tech: %f' % (tech_recall)\n",
    "print 'Recall for categorie nontech: %f' % (nontech_recall)"
   ]
  },
  {
   "cell_type": "code",
   "execution_count": 352,
   "metadata": {
    "collapsed": false
   },
   "outputs": [
    {
     "name": "stdout",
     "output_type": "stream",
     "text": [
      "F1-Score for categorie tech: 0.764045\n",
      "F1-Score for categorie nontech: 0.487805\n"
     ]
    }
   ],
   "source": [
    "tech_f1 = f1_score(data[1].values, data[0].values, pos_label='tech')\n",
    "nontech_f1 = f1_score(data[1].values, data[0].values, pos_label='nontech')\n",
    "\n",
    "print 'F1-Score for categorie tech: %f' % (tech_f1)\n",
    "print 'F1-Score for categorie nontech: %f' % (nontech_f1)"
   ]
  },
  {
   "cell_type": "markdown",
   "metadata": {},
   "source": [
    "### Auswertung\n",
    "**Obwohl in diesem Fall nur die \"wichtigsten\" und am seltensten vorkommenden Worte als Informationsträger ausgewählt werden, bekommen wir ein deutlich schlechteres Ergebnis als bei allen anderen Einstellungen.**  \n",
    "**Mit einer accuracy von 0.676923076923 liegen wir sogar noch deutlich unter der reinen TF Implementierung, bei der der Wert bei 0.0.75384615384615383 war.**\n",
    "\n",
    "**Es besteht die Möglichkeit, dass unsere Implementierung fehlerhaft ist und wir deshalb diese schlechten Werte für die TF-IDF Variante erhalten. Außerdem könnte es aber sein, dass der Corpus einfach zu klein ist.**"
   ]
  }
 ],
 "metadata": {
  "anaconda-cloud": {},
  "kernelspec": {
   "display_name": "Python 2",
   "language": "python",
   "name": "python2"
  },
  "language_info": {
   "codemirror_mode": {
    "name": "ipython",
    "version": 2
   },
   "file_extension": ".py",
   "mimetype": "text/x-python",
   "name": "python",
   "nbconvert_exporter": "python",
   "pygments_lexer": "ipython2",
   "version": "2.7.11"
  }
 },
 "nbformat": 4,
 "nbformat_minor": 0
}
