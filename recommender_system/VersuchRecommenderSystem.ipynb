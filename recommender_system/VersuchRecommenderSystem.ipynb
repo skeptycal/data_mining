{
 "cells": [
  {
   "cell_type": "markdown",
   "metadata": {
    "toc": "true"
   },
   "source": [
    "# Table of Contents\n",
    " <p><div class=\"lev1 toc-item\"><a href=\"#Data-Mining-Versuch-Recommender-Systeme\" data-toc-modified-id=\"Data-Mining-Versuch-Recommender-Systeme-1\"><span class=\"toc-item-num\">1&nbsp;&nbsp;</span>Data Mining Versuch Recommender Systeme</a></div><div class=\"lev1 toc-item\"><a href=\"#Einführung\" data-toc-modified-id=\"Einführung-2\"><span class=\"toc-item-num\">2&nbsp;&nbsp;</span>Einführung</a></div><div class=\"lev2 toc-item\"><a href=\"#Lernziele:\" data-toc-modified-id=\"Lernziele:-2.1\"><span class=\"toc-item-num\">2.1&nbsp;&nbsp;</span>Lernziele:</a></div><div class=\"lev2 toc-item\"><a href=\"#Theorie-zur-Vorbereitung\" data-toc-modified-id=\"Theorie-zur-Vorbereitung-2.2\"><span class=\"toc-item-num\">2.2&nbsp;&nbsp;</span>Theorie zur Vorbereitung</a></div><div class=\"lev3 toc-item\"><a href=\"#Recommender-Systeme\" data-toc-modified-id=\"Recommender-Systeme-2.2.1\"><span class=\"toc-item-num\">2.2.1&nbsp;&nbsp;</span>Recommender Systeme</a></div><div class=\"lev3 toc-item\"><a href=\"#Gebräuchliche-Ähnlichkeitsmaße\" data-toc-modified-id=\"Gebräuchliche-Ähnlichkeitsmaße-2.2.2\"><span class=\"toc-item-num\">2.2.2&nbsp;&nbsp;</span>Gebräuchliche Ähnlichkeitsmaße</a></div><div class=\"lev2 toc-item\"><a href=\"#Vor-dem-Versuch-zu-klärende-Fragen\" data-toc-modified-id=\"Vor-dem-Versuch-zu-klärende-Fragen-2.3\"><span class=\"toc-item-num\">2.3&nbsp;&nbsp;</span>Vor dem Versuch zu klärende Fragen</a></div><div class=\"lev1 toc-item\"><a href=\"#Versuchsdurchführung\" data-toc-modified-id=\"Versuchsdurchführung-3\"><span class=\"toc-item-num\">3&nbsp;&nbsp;</span>Versuchsdurchführung</a></div><div class=\"lev2 toc-item\"><a href=\"#Teil-1:-Fiktive-Filmbewertung\" data-toc-modified-id=\"Teil-1:-Fiktive-Filmbewertung-3.1\"><span class=\"toc-item-num\">3.1&nbsp;&nbsp;</span>Teil 1: Fiktive Filmbewertung</a></div><div class=\"lev3 toc-item\"><a href=\"#Daten\" data-toc-modified-id=\"Daten-3.1.1\"><span class=\"toc-item-num\">3.1.1&nbsp;&nbsp;</span>Daten</a></div><div class=\"lev3 toc-item\"><a href=\"#Ähnlichkeiten-berechnen\" data-toc-modified-id=\"Ähnlichkeiten-berechnen-3.1.2\"><span class=\"toc-item-num\">3.1.2&nbsp;&nbsp;</span>Ähnlichkeiten berechnen</a></div>"
   ]
  },
  {
   "cell_type": "markdown",
   "metadata": {},
   "source": [
    "# Data Mining Versuch Recommender Systeme\n",
    "\n",
    "* Autor: Prof. Dr. Johannes Maucher\n",
    "* Datum: 30.09.2015\n",
    "* [Download des Jupyter Notebooks (.ipynb)](VersuchRecommenderSystem.ipynb) Klick auf _Ziel speichern unter_. Im Verzeichnis, in dem das Notebook abgelegt wurde, Konsole öffnen und dort _jupyter notebook_ eingeben.\n",
    "\n",
    "[Übersicht Ipython Notebooks im Data Mining Praktikum (.html)](Data Mining Praktikum.html)\n",
    "\n",
    "\n",
    "# Einführung\n",
    "## Lernziele:\n",
    "In diesem Versuch sollen Kenntnisse in folgenden Themen vermittelt werden:\n",
    "\n",
    "* __Ähnlichkeit:__ Verfahren zur Bestimmung der Ähnlichkeit zwischen Personen (Kunden) und Elementen (Produkten)\n",
    "* __Empfehlungssysteme__ Collaborative Filtering \n",
    "* __Collaborative Filtering:__ Nutzerbezogener Ansatz und elementbasierter Ansatz\n",
    "\n",
    "Sämtliche Verfahren und Algorithmen werden in Python implementiert.\n",
    "\n",
    "## Theorie zur Vorbereitung\n",
    "### Recommender Systeme\n",
    "Recommender Systeme werden im E-Commerce eingesetzt um Werbung in Form von kundenspezifischen Empfehlungen zu verteilen. Weitläufig bekannt sind die Amazon-Empfehlungen, die entweder per e-mail geschickt oder nach dem Log-In in der Web-Page angezeigt werden. Diese Empfehlungen werden in Abhängigkeit von den bisher vom jeweiligen Kunden gekauften bzw. bewerteten Produkten erstellt. In diesem Versuch werden die derzeit wohl am weitest verbreiteteten Verfahren für die Erzeugung kundenspezifischer Empfehlungen vorgestellt, darunter das elementweise Collaborative Filtering, welches z.B. auch von Amazon eingesetzt wird.     \n",
    "\n",
    "Direkt-Marketing Methoden wie die kundenspezifische Erzeugung und Bereitstellung von Werbung erfordern detaillierte Kunden- und Warenkorbanalysen. Kunden mit ähnlichem Kaufverhalten werden in Kundengruppen zusammengefasst. Die Warenkorbanalyse untersucht u.a. welche Waren bevorzugt im Verbund von der gleichen Person gekauft werden. Damit kann ein Händler Werbung in Form von Empfehlungen individuell und gezielt an seine Kunden richten, abhängig davon welcher Kundengruppe er angehört und welche Produkte bevorzugt von dieser Kundengruppe nachgefragt werden. \n",
    "\n",
    "Im ersten Teil der Übung werden fiktive Daten in einer überschaubaren Menge verwendet. Es handelt sich hier um Filmbewertungen. Anhand dieses Beispiels sollen die notwendigen Methoden und Abläufe implementiert und getestet werden. Diese werden im zweiten Teil der Übung auf echte Daten angewandt. Hierzu werden über eine Python-API Daten vom Internet-Meta-Radio _last.fm_ integriert. Auf der Basis dieser Daten sollen dann Musikempfehlungen für last.fm User berechnet werden. \n",
    "\n",
    "Recommender Systeme lassen sich mit\n",
    "\n",
    "* Clustering Verfahren\n",
    "* Suchalgorithmen\n",
    "* Collaborativen Filtering \n",
    " \n",
    "realisieren. Am häufigsten wird hierbei das Collaborative Filtering eingesetzt. Für das Collaborative Filtering wird jeder der $M$ User durch einen $N$-dimensionalen Vektor beschrieben, wobei $N$ die Anzahl der Produkte im Angebot des Händlers ist. Jedes Element im Vektor gehört zu einem speziellen Produkt. Das Element hat den Wert 1, wenn der User dieses Produkt bereits gekauft hat, sonst 0 (andere Wertbelegungen sind möglich, z.B. wenn Produktbewertungen vorliegen). Alle $M$ Zeilenvektoren können zur _User/Item_ Matrix zusammengefasst werden (siehe Abbildung).\n",
    "\n",
    "![Abbildung User Item Matrix](https://www.hdm-stuttgart.de/~maucher/ipnotebooks/DataMining//Bilder/UserItemMatrix.png \"User Item Matrix\")"
   ]
  },
  {
   "cell_type": "markdown",
   "metadata": {},
   "source": [
    "Das traditionelle __userbasierte Collaborative Filtering (UCF)__, benutzt die Ähnlichkeit zwischen Benutzern: Um für User $U_i$ eine Empfehlung zu erzeugen wird zunächst der diesem User ähnlichste Kunde (oder eine Menge vom ähnlichsten Kunden) ermittelt. Dann werden $U_i$ die Produkte (Items) empfohlen, welche der ähnlichste Kunde gekauft hat, $U_i$ selbst jedoch noch nicht. \n",
    "\n",
    "Dieser Ansatz skaliert schlecht im Fall sehr großer _User/Item_-Matrizen. Ausserdem ist er für User, welche erst wenige Produkte gekauft haben unzuverlässig. Besser eignet sich in diesen Fällen das __itembasierte Collaborative Filtering (ICF)__. Es wird u.a. von Amazon.com eingesetzt. Diese Variante benutzt die Ähnlichkeit zwischen Produkten (Items). Dabei sind Produkte umso ähnlicher je mehr Kunden diese Produkte gemeinsam gekauft haben. Für die Produkte welche ein Referenzuser $U_i$ bereits gekauft hat, werden die ähnlichsten Produkte ermittelt. Diese ähnlichsten Produkte werden $U_i$ empfohlen, wenn er sie nicht schon selbst gekauft hat.\n",
    "\n",
    "Im folgenden Abschnitt werden einige gebräuchliche Metriken für die Berechnung der Ähnlichkeit zwischen Benutzern oder Artikeln vorgestellt. Für Collaboratives Filtering wird sehr häufig das Cosinus - Ähnlichkeitsmaß eingesetzt.\n"
   ]
  },
  {
   "cell_type": "markdown",
   "metadata": {},
   "source": [
    "### Gebräuchliche Ähnlichkeitsmaße\n",
    "\n",
    "Die __euklidische Distanz__ $d_E(\\underline{a},\\underline{b})$ zwischen zwei n-dimensionalen Vektoren $\\underline{a}=(a_1,\\ldots,a_n)$ und $\\underline{b}=(b_1,\\ldots,b_n)$ berechnet sich zu\n",
    "\t$$\n",
    "\td_E(\\underline{a},\\underline{b})=\\sqrt{\\sum_{i=1}^n (a_i-b_i)^2}\n",
    "\t$$\n",
    "Zwei Vektoren können als umso ähnlicher erachtet werden, je kleiner deren euklidische Distanz ist. \n",
    "Ein auf der euklidischen Metrik basierendes Ähnlichkeitsmaß zwischen zwei Vektoren $\\underline{a}$ und $\\underline{b}$ kann durch \n",
    "$$\n",
    "s_E(\\underline{a},\\underline{b})=\\frac{1}{1+d_E(\\underline{a},\\underline{b})}\n",
    "$$\n",
    "angegeben werden.\n",
    "\n",
    "\n",
    "__Pearson Korrelation__\n",
    "Die Ähnlichkeit zwischen zwei Vektoren kann auch durch den Pearson-Korrelationskoeffizient $\\rho_{\\underline{a},\\underline{b}}$ ausgedrückt werden. Er berechnet sich zu\n",
    "$$\n",
    "\\rho_{\\underline{a},\\underline{b}}= \\frac{1}{N}\\cdot \\sum\\limits_{i=1}^{N}\\frac{(a_i-\\overline{a})}{\\sigma_a} \\frac{(b_i-\\overline{b})}{\\sigma_b}\n",
    "$$\n",
    "Dabei bezeichnet $N$ die Länge der Vektoren, $\\overline{a}$ den Mittelwert und $\\sigma_a$ die Standardabweichung des Vektors $\\underline{a}$. \n",
    "\n",
    "Der Pearson-Korrelationskoeffizient misst die lineare Abhängigkeit zwischen zwei Vektoren. Der maximale Wert von $+1$ wird erreicht, wenn die durch die beiden Vektoren definierten N Punkte im 2-dimensionalen Raum auf einer ansteigenden Geraden liegen. Der Minimalwert von $-1$ wird erreicht, wenn die Punkte auf einer abfallenden Geraden liegen. Der Betrag des Koeffizienten ist umso kleiner, je stärker die Punkte von einer fiktiven Geraden (kann durch lineare Regression berechnet werden) abweichen. Der Koeffizient ist $0$ wenn keine lineare Abhängigkeit zwischen den Vektoren besteht.\n",
    "\n",
    "\n",
    "__Cosinus Ähnlichkeitsmaß__\n",
    "Die Ähnlichkeit zwischen zwei Vektoren kann auch durch den Cosinus $\\cos(\\underline{a},\\underline{b})$ ausgedrückt werden. Er berechnet sich zu\n",
    "$$\n",
    "\\cos(\\underline{a},\\underline{b})= \\frac{\\underline{a} \\cdot \\underline{b}}{\\left\\|\\underline{a}\\right\\|\\cdot \\left\\|\\underline{b}\\right\\|}\n",
    "$$\n",
    "wobei im Zähler das Skalarprodukt der beiden Vektoren steht und mit $\\left\\|\\underline{x}\\right\\|$ der Betrag des Vektors $\\underline{x}$ bezeichnet wird.\n",
    "\n",
    "Falls die Vektoren $\\underline{a}$ und $\\underline{b}$ mittelwertfrei sind, ist der Cosinus-Ähnlichkeitswert gleich dem Pearson-Korrelationswert. In der Dokument- und Textanalyse wird vornehmlich das Cosinus-Ähnlichkeitsmaß verwendet. \n",
    "\n",
    "\n",
    "__Russel Rao Ähnlichkeitsmaß__\n",
    "Die Russel Rao-Ähnlichkeit zwischen zwei binären Vektoren $\\underline{a}$ und $\\underline{b}$ mißt das Verhältnis zwischen der Anzahl $\\alpha$ der Stellen in denen beide Vektoren den Wert 1 haben und der Länge $n$ der Vektoren. Z.B. ist für die Vektoren $\\underline{a}=(1,0,1,0,0,1)$ und $\\underline{b}=(0,1,1,1,0,1)$ die Russel-Rao-Ähnlichkeit $s_{RR}(\\underline{a},\\underline{b})=2/6=0.333$.\n",
    "\n",
    "__Jaccard Ähnlichkeitsmaß__\n",
    "Die Jaccard-Ähnlichkeit zwischen zwei binären Vektoren $\\underline{a}$ und $\\underline{b}$ mißt das Verhältnis zwischen der Anzahl $\\alpha$ der Stellen in denen beide Vektoren den Wert $1$ haben und der Anzahl der Stellen in denen mindestens einer der beiden Vektoren ungleich $1$ ist. Z.B. ist für die Vektoren $\\underline{a}=(1,0,1,0,0,1)$ und $\\underline{b}=(0,1,1,1,0,1)$ die Jaccard-Ähnlichkeit $s_{J}(\\underline{a},\\underline{b})=2/5=0.5$. %Die Jaccard Metrik wird in diesem Versuch für die Bestimmung der Ähnlichkeit von _last.fm_-Usern eingesetzt.\n"
   ]
  },
  {
   "cell_type": "markdown",
   "metadata": {},
   "source": [
    "## Vor dem Versuch zu klärende Fragen\n",
    "Eine Untermenge der im Folgenden aufgeführten Fragen wird zu Beginn des Versuchs im Rahmen eines Gruppenkolloqs abgefragt. Auf jede Frage sollte von mindestens einem Gruppenmitglied eine Antwort geliefert werden und jedes Gruppenmitglied muss mindestens eine der gestellten Fragen beantworten können.\n",
    "\n",
    "**Aufgaben:**\n",
    "\n",
    "* Beschreiben Sie das Prinzip des userbasierten Collaborativen Filtering (UCF)."
   ]
  },
  {
   "cell_type": "markdown",
   "metadata": {
    "collapsed": true
   },
   "source": [
    "<b>Alle User werden als Vektoren mit n Merkmalen repräsentiert. Um für einen bestimmten User A eine Empfehlung zu finden wird der User B gesucht, dessen Merkmalsvektor die geringste Distanz zum Merkmalsvektor von User A hat. Produkte die von User B aber nicht von User A gekauft wurden werden dann als Empfehlung ausgegeben.</b>"
   ]
  },
  {
   "cell_type": "markdown",
   "metadata": {},
   "source": [
    "* Welche Nachteile hat das UCF?"
   ]
  },
  {
   "cell_type": "markdown",
   "metadata": {
    "collapsed": true
   },
   "source": [
    "<b>UCF skaliert schlecht bei vielen Usern bzw. vielen Produkten. Außerdem liefert das Verfahren keine guten Ergebnisse für neue User die bisher nur wenig Produkte gekauft haben.</b>"
   ]
  },
  {
   "cell_type": "markdown",
   "metadata": {},
   "source": [
    "* Worin besteht der Unterschied zwischen UCF und itembasierten Collaborativen Filtering (ICF)?"
   ]
  },
  {
   "cell_type": "markdown",
   "metadata": {
    "collapsed": true
   },
   "source": [
    "<b>Bei UCF wird die nach ähnlichen Usern gesucht. Bei ICF wird dagegen nach ähnlichen Produkten gesucht. Als Ähnlich gelten 2 Produkte, wenn User sie häufig zusammen kaufen.</b>"
   ]
  },
  {
   "cell_type": "markdown",
   "metadata": {},
   "source": [
    "* Gegeben seien die Vektoren \n",
    "\n",
    "    \\begin{eqnarray*}\n",
    "    \\underline{a} & = & [1,2,3,4,5,6] \\\\\n",
    "    \\underline{b} & = & [3,3,5,6,7,8] \\\\\n",
    "    \\end{eqnarray*}\n",
    "    \n",
    "    Schreiben Sie eine Python Funktion, die den Mittelwert derartiger Vektoren berechnet. Schreiben Sie eine weitere Funktion, die die Varianz berechnet"
   ]
  },
  {
   "cell_type": "code",
   "execution_count": 12,
   "metadata": {
    "collapsed": false
   },
   "outputs": [
    {
     "name": "stdout",
     "output_type": "stream",
     "text": [
      "Avg: 3\n",
      "Var: 3\n"
     ]
    }
   ],
   "source": [
    "vector_a = [1, 2, 3, 4, 5, 6]\n",
    "vector_b = [3, 3, 5, 6, 7, 8]\n",
    "\n",
    "def average(iterable):\n",
    "    sum = 0;    \n",
    "    for element in iterable:\n",
    "        sum = sum + element        \n",
    "    return sum/len(iterable)\n",
    "\n",
    "\n",
    "def variance(iterable):\n",
    "    avg = average(iterable)\n",
    "    sum = 0\n",
    "    for element in iterable:\n",
    "        sum = sum + (element-avg)**2\n",
    "    return sum/len(iterable)\n",
    "    \n",
    "\n",
    "print \"Avg: %s\" % average(vector_a)\n",
    "print \"Var: %s\" % variance(vector_a)\n",
    "\n",
    "\n"
   ]
  },
  {
   "cell_type": "markdown",
   "metadata": {},
   "source": [
    "* Wie groß ist die\n",
    "\n",
    "    - Euklidische Ähnlichkeit\n",
    "    - Pearson Ähnlichkeit\n",
    "    - Cosinus Ähnlichkeit\n",
    "    \n",
    "    zwischen den Vektoren $\\underline{a}$ und $\\underline{b}$? "
   ]
  },
  {
   "cell_type": "code",
   "execution_count": 19,
   "metadata": {
    "collapsed": false
   },
   "outputs": [
    {
     "name": "stdout",
     "output_type": "stream",
     "text": [
      "Euklidische Ähnlichkeit = 21\n",
      "Pearson Ähnlichkeit = 0.5\n",
      "Cosinus Ähnlichkeit = 0.991060084745 \n"
     ]
    }
   ],
   "source": [
    "import numpy as np\n",
    "\n",
    "\n",
    "# Euklidische Ähnlichkeit\n",
    "\n",
    "# (1-3)^2 + (2-3)^2 + (3-5)^2 + (4-6)^2 + (5-7)^2 + (6-8)^2 = 21\n",
    "\n",
    "print \"Euklidische Ähnlichkeit = 21\"\n",
    "\n",
    "\n",
    "# Pearson Ähnlichkeit\n",
    "\n",
    "def pearson_difference(vec_a, vec_b):\n",
    "    vec_pair = zip(vec_a, vec_b)\n",
    "    avg_a = average(vec_a)\n",
    "    avg_b = average(vec_b)\n",
    "    var_a = variance(vec_a)\n",
    "    var_b = variance(vec_b)\n",
    "    sum = 0.0\n",
    "    for a, b in vec_pair:        \n",
    "        sum = sum + (((a - avg_a) / var_a) * ((b - avg_b) / var_b))\n",
    "    return sum / len(vec_pair)\n",
    "    \n",
    "\n",
    "print \"Pearson Ähnlichkeit = %s\" % pearson_difference(vector_a, vector_b)\n",
    "\n",
    "\n",
    "# Cosinus Ähnlichkeit\n",
    "\n",
    "def cosinus_difference(vec_a, vec_b):\n",
    "    np_vec_a = np.array(vec_a)\n",
    "    np_vec_b = np.array(vec_b)    \n",
    "    return np.dot(vec_a, vec_b) / (np.linalg.norm(vec_a) * np.linalg.norm(vec_b))\n",
    "    \n",
    "print \"Cosinus Ähnlichkeit = %s \" % cosinus_difference(vector_a, vector_b)\n"
   ]
  },
  {
   "cell_type": "markdown",
   "metadata": {},
   "source": [
    "* In welchen Fällen sind Cosinus- und Pearsonähnlichkeit der euklidischen Ähnlichkeit vorzuziehen?"
   ]
  },
  {
   "cell_type": "markdown",
   "metadata": {
    "collapsed": true
   },
   "source": [
    "<b>Wenn es mehr auf eine Ähnlichkeit der Form der Daten ankommt und nicht auf die absolute Differenz zwischen 2 Vectoren sind Cosinus bzw. Pearsonähnlichkeit besser geignet.</b>\n",
    "\n",
    "\n"
   ]
  },
  {
   "cell_type": "code",
   "execution_count": 7,
   "metadata": {
    "collapsed": false
   },
   "outputs": [],
   "source": [
    "from IPython.display import Latex\n",
    "from IPython.display import Image\n",
    "import pylast"
   ]
  },
  {
   "cell_type": "markdown",
   "metadata": {},
   "source": [
    "# Versuchsdurchführung\n",
    "## Teil 1: Fiktive Filmbewertung\n",
    "### Daten\n",
    "Folgende Tabelle enthält die Filmbewertungen von 7 Personen.\n",
    "from IPython.display import Latex\n",
    "In diesem Versuch sollen Kenntnisse in folgenden Themen vermittelt werden:\n",
    "\n",
    "![Abbildung Bewertung Fiktive Kunden](https://www.hdm-stuttgart.de/~maucher/ipnotebooks/DataMining/Bilder/recommenderFilmRecommendations.PNG)"
   ]
  },
  {
   "cell_type": "markdown",
   "metadata": {},
   "source": [
    "Die Tabelle ist als Python dictionary _critics_ implementiert. Die Keys des Python-Dictionary definieren die Namen von Personen (Zeilen in der Matrix), die Filme bewertet haben. Die Values sind selbst wieder Dictionarys, welche als Keys die Filmnamen (Spalten in der Matrix) und als Values die jeweilige Filmbewertung (Matrixelment) enthalten."
   ]
  },
  {
   "cell_type": "code",
   "execution_count": 202,
   "metadata": {
    "collapsed": true
   },
   "outputs": [],
   "source": [
    "critics={'Lisa Rose': {'Lady in the Water': 2.5, 'Snakes on a Plane': 3.5,\n",
    " 'Just My Luck': 3.0, 'Superman Returns': 3.5, 'You, Me and Dupree': 2.5, \n",
    " 'The Night Listener': 3.0},\n",
    "'Gene Seymour': {'Lady in the Water': 3.0, 'Snakes on a Plane': 3.5, \n",
    " 'Just My Luck': 1.5, 'Superman Returns': 5.0, 'The Night Listener': 3.0, \n",
    " 'You, Me and Dupree': 3.5}, \n",
    "'Michael Phillips': {'Lady in the Water': 2.5, 'Snakes on a Plane': 3.0,\n",
    " 'Superman Returns': 3.5, 'The Night Listener': 4.0},\n",
    "'Claudia Puig': {'Snakes on a Plane': 3.5, 'Just My Luck': 3.0,\n",
    " 'The Night Listener': 4.5, 'Superman Returns': 4.0, \n",
    " 'You, Me and Dupree': 2.5},\n",
    "'Mick LaSalle': {'Lady in the Water': 3.0, 'Snakes on a Plane': 4.0, \n",
    " 'Just My Luck': 2.0, 'Superman Returns': 3.0, 'The Night Listener': 3.0,\n",
    " 'You, Me and Dupree': 2.0}, \n",
    "'Jack Matthews': {'Lady in the Water': 3.0, 'Snakes on a Plane': 4.0,\n",
    " 'The Night Listener': 3.0, 'Superman Returns': 5.0, 'You, Me and Dupree': 3.5},\n",
    "'Toby': {'Snakes on a Plane':4.5,'You, Me and Dupree':1.0,'Superman Returns':4.0}\n",
    "}"
   ]
  },
  {
   "cell_type": "code",
   "execution_count": 200,
   "metadata": {
    "collapsed": true
   },
   "outputs": [],
   "source": [
    "#test\n",
    "critics={'Lisa Rose': {'Lady in the Water': 5.0, 'Snakes on a Plane': 5.0,\n",
    " 'Just My Luck': 5.0, 'Superman Returns': 5.0, 'You, Me and Dupree': 5.0, \n",
    " 'The Night Listener': 5.0},\n",
    "'Toby': {'Snakes on a Plane':1.0,'You, Me and Dupree':1.0,'Superman Returns':1.0}\n",
    "}"
   ]
  },
  {
   "cell_type": "markdown",
   "metadata": {},
   "source": [
    "### Ähnlichkeiten berechnen\n",
    "\n",
    "Für die Bestimmung der Ähnlichkeit zwischen Personen und Produkten werden in diesem Versuch ein auf der euklidischen Distanz basierendes Ähnlichkeitsmaß und die Pearson-Korrelation verwendet. Beide Ähnlichkeitsmaße sind in den unten definierten Funktionen implementiert. Alle drei hier implementierten Funktionen zur Berechnung der Ähnlichkeit erhalten als Übergabeparameter das oben definierte Dictionary, das die Filmbewertungen enthält und die Namen der zwei Personen, die verglichen werden sollen. \n",
    "\n",
    "Zu beachten ist, dass in beiden Funktionen für die Berechnung der Ähnlichkeit zwischen zwei Personen nur die Produkte berücksichtigt werden, welche von beiden Personen schon bewertet wurden. Es handelt sich hier also um modifizierte Ähnlichkeitsfunktionen. \n",
    "\n",
    "__Aufgabe:__\n",
    "Fragen Sie von diesem Dictionary _Toby's_ Bewertung des Films _Snakes on a Plane_ ab und geben Sie diesen Wert aus: "
   ]
  },
  {
   "cell_type": "code",
   "execution_count": 10,
   "metadata": {
    "collapsed": false
   },
   "outputs": [
    {
     "name": "stdout",
     "output_type": "stream",
     "text": [
      "Bewertung:  4.5\n"
     ]
    }
   ],
   "source": [
    "toby = critics['Toby']\n",
    "print 'Bewertung: ', toby['Snakes on a Plane']"
   ]
  },
  {
   "cell_type": "code",
   "execution_count": 25,
   "metadata": {
    "collapsed": true
   },
   "outputs": [],
   "source": [
    "import numpy as np\n",
    "import scipy.spatial.distance as sci\n",
    "\n",
    "\n",
    "def sim_euclid(prefs,person1,person2,normed=True):\n",
    "  ''' Returns a euclidean-distance-based similarity score for \n",
    "  person1 and person2. In the distance calculation the sum is computed \n",
    "  only over those items, which are nonzero for both instances, i.e. only\n",
    "  films which are ranked by both persons are regarded.\n",
    "  If the parameter normed is True, then the euclidean distance is divided by\n",
    "  the number of non-zero elements integrated in the distance calculation. Thus\n",
    "  the effect of larger distances in the case of an increasing number of commonly ranked\n",
    "  items is avoided.\n",
    "  '''\n",
    "  # Get the list of shared_items\n",
    "  si={}\n",
    "  for item in prefs[person1]: \n",
    "    if item in prefs[person2]: si[item]=1\n",
    "  # len(si) counts the number of common ratings\n",
    "  # if they have no ratings in common, return 0\n",
    "  if len(si)==0: return 0\n",
    "\n",
    "  # Add up the squares of all the differences\n",
    "  sum_of_squares=np.sqrt(sum([pow(prefs[person1][item]-prefs[person2][item],2) \n",
    "                     for item in prefs[person1] if item in prefs[person2]]))\n",
    "  if normed:\n",
    "     sum_of_squares= 1.0/len(si)*sum_of_squares\n",
    "  return 1/(1+sum_of_squares)\n",
    "\n",
    "\n",
    "def sim_pearson(prefs,p1,p2):\n",
    "  '''\n",
    "  Returns the Pearson correlation coefficient for p1 and p2\n",
    "  '''\n",
    "    \n",
    "  # Get the list of commonly rated items\n",
    "  si={}\n",
    "  for item in prefs[p1]: \n",
    "    if item in prefs[p2]: si[item]=1\n",
    "\n",
    "  # if they are no ratings in common, return 0\n",
    "  if len(si)==0: return 0\n",
    "\n",
    "  # Sum calculations\n",
    "  n=len(si)\n",
    "  \n",
    "  # Calculate means of person 1 and 2\n",
    "  mp1=np.mean([prefs[p1][it] for it in si])\n",
    "  mp2=np.mean([prefs[p2][it] for it in si])\n",
    "  \n",
    "  # Calculate standard deviation of person 1 and 2\n",
    "  sp1=np.std([prefs[p1][it] for it in si])\n",
    "  sp2=np.std([prefs[p2][it] for it in si])\n",
    "  \n",
    "  # If all elements in one sample are identical, the standard deviation is 0. \n",
    "  # In this case there is no linear correlation between the samples\n",
    "  if sp1==0 or sp2==0:\n",
    "      return 0\n",
    "  r=1/(n*sp1*sp2)*sum([(prefs[p1][it]-mp1)*(prefs[p2][it]-mp2) for it in si])\n",
    "  return r\n",
    "\n",
    "\n",
    "def sim_RusselRao(prefs,person1,person2,normed=True):\n",
    "  ''' Returns RusselRao similaritiy between 2 users. The RusselRao similarity just counts the number\n",
    "  of common non-zero components of the two vectors and divides this number by N, where N is the length\n",
    "  of the vectors. If normed=False, the division by N is omitted.\n",
    "  '''\n",
    "  # Get the list of shared_items\n",
    "  si={}\n",
    "  commons=0\n",
    "  for item in prefs[person1]: \n",
    "    if prefs[person1][item]==1 and prefs[person2][item]==1:   \n",
    "        commons+=1\n",
    "  #print commons\n",
    "  if not normed:\n",
    "      return commons\n",
    "  else:\n",
    "      return commons*1.0/len(prefs[person1]) "
   ]
  },
  {
   "cell_type": "markdown",
   "metadata": {},
   "source": [
    "**Aufgabe:**\n",
    "1.Geben Sie die euklidische Ähnlichkeit und die Pearson Ähnlichkeit zwischen den Personen _Toby_ und _Lisa Rose_ aus."
   ]
  },
  {
   "cell_type": "code",
   "execution_count": 203,
   "metadata": {
    "collapsed": false,
    "scrolled": true
   },
   "outputs": [
    {
     "name": "stdout",
     "output_type": "stream",
     "text": [
      "{'Snakes on a Plane': 4.5, 'Superman Returns': 4.0, 'You, Me and Dupree': 1.0}\n",
      "\n",
      "{'Lady in the Water': 2.5, 'Snakes on a Plane': 3.5, 'Just My Luck': 3.0, 'Superman Returns': 3.5, 'The Night Listener': 3.0, 'You, Me and Dupree': 2.5}\n",
      "\n",
      "Euclid_sim_toby:  1.0\n",
      "Prearson_sim_toby:  1.0\n",
      "\n",
      "Euclid_sim:  0.615911621789\n",
      "Prearson:  0.991240707162\n"
     ]
    }
   ],
   "source": [
    "print critics['Toby']\n",
    "print\n",
    "print critics['Lisa Rose']\n",
    "\n",
    "print \n",
    "\n",
    "euclid = sim_euclid(critics,'Toby','Toby')\n",
    "print 'Euclid_sim_toby: ', euclid\n",
    "pearson = sim_pearson(critics,'Toby','Toby')\n",
    "print 'Prearson_sim_toby: ', pearson\n",
    "\n",
    "print\n",
    "\n",
    "euclid = sim_euclid(critics,'Toby','Lisa Rose')\n",
    "print 'Euclid_sim: ', euclid\n",
    "pearson = sim_pearson(critics,'Toby','Lisa Rose')\n",
    "print 'Prearson: ', pearson"
   ]
  },
  {
   "cell_type": "markdown",
   "metadata": {},
   "source": [
    "2.Diskutieren Sie die unterschiedlichen Ähnlichkeitswert"
   ]
  },
  {
   "cell_type": "markdown",
   "metadata": {
    "collapsed": true
   },
   "source": [
    "<b>Bei der euklidischen Distanz werden die Werte nur absolut betrachtet. Obwohl Toby und Lisa die Filme relative ähnlich Bewerten liegt die Euklidische Ähnlichkeit nur bei 60%. Das liegt daran, dass Toby alle Filme ca. 1 Punkt besser bewertet als Lisa. Die Pearson Ähnlichkeit liegt hingegen bei fast 100%, da hier das anwenden einer lineare Abbildung  (wie z.B. Tobias um 1 bessere Bewertung) nicht zu einer veränderung der Pearson Ähnlichkeit führen.</b>"
   ]
  },
  {
   "cell_type": "markdown",
   "metadata": {},
   "source": [
    "3.Welches Ähnlichkeitsmaß erscheint Ihnen für diese Anwendung am besten geeignet?"
   ]
  },
  {
   "cell_type": "markdown",
   "metadata": {
    "collapsed": true
   },
   "source": [
    "<b>Die Pearsone Ähnlichkeit ist besser geeignet, da die Bewertungskala subjektiv ist und Menschen unterschiedlich bewerten. Wie der Vergleich Lisa und Tobias zeigen, ist es nicht wichtig, dass ca. 1 Punkt Unterschied zwischen den Bewertungen liegt. Bedeutender ist, dass beided Filme gleichartig bewerten.</b>"
   ]
  },
  {
   "cell_type": "markdown",
   "metadata": {},
   "source": [
    "__Aufgabe:__\n",
    "1.Schreiben Sie eine Funktion _topMatches(prefs,person,similarity)_, welche für eine beliebige in _critics_ enthaltene Person die Ähnlichkeitswerte zu allen anderen Personen berechnet und in einer geordneten Liste zurück gibt. Der Funktion soll als Übergabeparameter auch die anzuwendende Ähnlichkeitsfunktion (_sim_euclid_ oder _sim_pearson_) übergeben werden können. Berechnen Sie mit dieser Funktion für jede Person die _top matches_, zunächst unter Verwendung der euklidischen- dann unter Verwendung der Pearson-Ähnlichkeit."
   ]
  },
  {
   "cell_type": "code",
   "execution_count": 76,
   "metadata": {
    "collapsed": false
   },
   "outputs": [
    {
     "name": "stdout",
     "output_type": "stream",
     "text": [
      "Jack Matthews : ['Gene Seymour', 'Lisa Rose', 'Mick LaSalle', 'Claudia Puig', 'Michael Phillips', 'Toby']\n",
      "Mick LaSalle : ['Lisa Rose', 'Michael Phillips', 'Gene Seymour', 'Claudia Puig', 'Jack Matthews', 'Toby']\n",
      "Claudia Puig : ['Michael Phillips', 'Lisa Rose', 'Mick LaSalle', 'Gene Seymour', 'Jack Matthews', 'Toby']\n",
      "Lisa Rose : ['Mick LaSalle', 'Michael Phillips', 'Claudia Puig', 'Jack Matthews', 'Gene Seymour', 'Toby']\n",
      "Toby : ['Mick LaSalle', 'Claudia Puig', 'Lisa Rose', 'Michael Phillips', 'Jack Matthews', 'Gene Seymour']\n",
      "Gene Seymour : ['Jack Matthews', 'Lisa Rose', 'Mick LaSalle', 'Michael Phillips', 'Claudia Puig', 'Toby']\n",
      "Michael Phillips : ['Lisa Rose', 'Claudia Puig', 'Mick LaSalle', 'Gene Seymour', 'Jack Matthews', 'Toby']\n",
      "\n",
      "Jack Matthews : ['Gene Seymour', 'Lisa Rose', 'Toby', 'Mick LaSalle', 'Michael Phillips', 'Claudia Puig']\n",
      "Mick LaSalle : ['Toby', 'Lisa Rose', 'Claudia Puig', 'Gene Seymour', 'Jack Matthews', 'Michael Phillips']\n",
      "Claudia Puig : ['Michael Phillips', 'Toby', 'Mick LaSalle', 'Lisa Rose', 'Gene Seymour', 'Jack Matthews']\n",
      "Lisa Rose : ['Toby', 'Jack Matthews', 'Mick LaSalle', 'Claudia Puig', 'Michael Phillips', 'Gene Seymour']\n",
      "Toby : ['Lisa Rose', 'Mick LaSalle', 'Claudia Puig', 'Jack Matthews', 'Gene Seymour', 'Michael Phillips']\n",
      "Gene Seymour : ['Jack Matthews', 'Mick LaSalle', 'Lisa Rose', 'Toby', 'Claudia Puig', 'Michael Phillips']\n",
      "Michael Phillips : ['Claudia Puig', 'Lisa Rose', 'Gene Seymour', 'Jack Matthews', 'Mick LaSalle', 'Toby']\n"
     ]
    }
   ],
   "source": [
    "def topMatches(prefs, person, similarity):\n",
    "    for p, ratings in prefs.items():\n",
    "        sims = { name: similarity(prefs, person, name) for name in prefs\n",
    "                 if name != person }\n",
    "    \n",
    "    return sorted(sims, key=lambda x: sims[x], reverse=True)\n",
    "\n",
    "for person in critics:\n",
    "    print person, ':', topMatches(critics, person, sim_euclid)\n",
    "\n",
    "print\n",
    "    \n",
    "for person in critics:\n",
    "    print person, ':', topMatches(critics, person, sim_pearson)"
   ]
  },
  {
   "cell_type": "markdown",
   "metadata": {},
   "source": [
    "2.Geben Sie mit der implementierten Funktion die _top matches_ der Person Toby aus."
   ]
  },
  {
   "cell_type": "code",
   "execution_count": 77,
   "metadata": {
    "collapsed": false
   },
   "outputs": [
    {
     "name": "stdout",
     "output_type": "stream",
     "text": [
      "Euclid: ['Mick LaSalle', 'Claudia Puig', 'Lisa Rose', 'Michael Phillips', 'Jack Matthews', 'Gene Seymour']\n",
      "\n",
      "Euclid: ['Lisa Rose', 'Mick LaSalle', 'Claudia Puig', 'Jack Matthews', 'Gene Seymour', 'Michael Phillips']\n"
     ]
    }
   ],
   "source": [
    "print 'Euclid:', topMatches(critics, 'Toby', sim_euclid)\n",
    "\n",
    "print\n",
    "\n",
    "print 'Euclid:', topMatches(critics, 'Toby', sim_pearson)"
   ]
  },
  {
   "cell_type": "markdown",
   "metadata": {},
   "source": [
    "3.Vergleichen Sie die beiden Ähnlichkeitsmaße. Welches Ähnlichkeitsmaß erscheint Ihnen für diesen Anwendungsfall sinnvoller und warum?"
   ]
  },
  {
   "cell_type": "markdown",
   "metadata": {
    "collapsed": true
   },
   "source": [
    "<b>Wie schon in der vorherigen Aufgabe vermutet liefer die Pearson Ähnlichkeit die besseren Ergebnisse</b>"
   ]
  },
  {
   "cell_type": "markdown",
   "metadata": {},
   "source": [
    "__Aufgabe:__\n",
    "Schreiben Sie eine Funktion _getRecommendations(prefs,person,similarity)_, mit der die Empfehlungswerte berechnet werden können und bestimmen Sie die Empfehlungswerte für Toby. Der Funktion wird  \n",
    "\n",
    "* das Dictionary _critics_ mit den Filmbewertungen, \n",
    "* der Name der Person, für welche Empfehlungen berechnet werden sollen\n",
    "* die Methode für die Berechnung der Ähnlichkeit _sim_euclid_ oder _sim_pearson_\n",
    "\n",
    "übergeben. Die Methode soll eine geordnete Liste zurück geben. Jedes Listenelement enthält an erster Stelle den berechneten Empfehlungswert und an zweiter Stelle den Namen des Films. Die Liste soll nach Empfehlungswerten absteigend geordnet sein.\n",
    "\n",
    "Testen Sie diese Funktion indem Sie die Empfehlungen für _Toby_ berechnen und mit den Werten in der oben aufgeführten Tabelle vergleichen."
   ]
  },
  {
   "cell_type": "markdown",
   "metadata": {},
   "source": [
    "###Berechnung von Empfehlungen mit User basiertem Collaborative Filtering\n",
    "Für die Produkte, die von einer Person noch nicht gekauft wurden, sollen Empfehlungen berechnet werden. Die Empfehlungen können ebenfalls Werte zwischen 1 (wird nicht empfohlen) und 5 (wird stark empfohlen) annehmen. Für die Berechnung der Empfehlung werden die Bewertungen des jeweiligen Produkts durch die anderen Personen herangezogen. Dabei werden die Bewertungen der ähnlichen Personen (d.h. hoher Pearson-Korrelationswert) stärker mit einbezogen als die Bewertungen durch Personen mit einem niedrigen Korrelationswert.\n",
    "\n",
    "__Beispiel:__\n",
    "Toby hat die Filme _The Night Listener_, _Lady in the Water_ und _Just My Luck_ noch nicht gekauft. Für diese Filme soll für Toby eine Empfehlung berechnet werden.\n",
    "In der unten aufgeführten Tabelle enthält die zweite Spalte die _Pearson-Ähnlichkeitswerte_ zwischen Toby und den anderen Personen. Die Spalten 3, 5 und 7 enthalten die Bewertungen der Filme _The Night Listener_, _Lady in the Water_ und _Just My Luck_ durch die anderen Personen. Die Spalten 4, 6 und 8 enthalten die jeweilige Filmbewertung gewichtet (mulipliziert) mit den Ähnlichkeitswerten der jeweiligen Person. Es fällt auf, dass in der Tabelle _Michael_ nicht enthalten ist. Das liegt daran, dass _Michael_ und _Toby_ einen negativen Ähnlichkeitswert aufweisen, d.h. deren Interessen sind gegenläufig. Personen mit negativem Ähnlichkeitswert sollten für Empfehlungen nicht berücksichtigt werden.\n",
    "Die Zeile _Sum_ enthält die Summe aller gewichteten Bewertungen. Aus diesem Wert allein kann die Empfehlung noch nicht abgeleitet werden, da Filme die nur von wenigen Personen bewertet wurden, eine relativ kleine Summe ergeben. Deshalb sollte _Sum_ noch durch die Anzahl der Bewertungen für diesen Film geteilt werden. Oder besser: Nicht durch die Summe der Bewertungen, sondern durch die Summe der relevanten Ähnlichkeitswerte (_KSum_). Der resultierende Empfehlungswert ist in der letzten Zeile eingetragen.\n",
    "\n",
    "\n",
    "![Abbildung Calculate Recommendation](https://www.hdm-stuttgart.de/~maucher/ipnotebooks/DataMining/Bilder/recommenderFilmCalculation.PNG)\n"
   ]
  },
  {
   "cell_type": "code",
   "execution_count": 350,
   "metadata": {
    "collapsed": false,
    "scrolled": true
   },
   "outputs": [
    {
     "data": {
      "text/plain": [
       "[(3.35, 'The Night Listener'),\n",
       " (2.83, 'Lady in the Water'),\n",
       " (2.53, 'Just My Luck')]"
      ]
     },
     "execution_count": 350,
     "metadata": {},
     "output_type": "execute_result"
    }
   ],
   "source": [
    "import pandas\n",
    "\n",
    "def getRecommendations(prefs, person, similarity):\n",
    "    person_movies_left = set(sum([critics[x].keys() for x in critics], []))\n",
    "    person_movies_left = list(person_movies_left - set(prefs[person].keys()))\n",
    "    table = []\n",
    "    \n",
    "    for user, movies in prefs.items():\n",
    "        sim_value = similarity(prefs, person, user) \n",
    "        \n",
    "        if sim_value > 0 and user != person:\n",
    "            row = []\n",
    "            row.append(user)\n",
    "            row.append(sim_value)\n",
    "        \n",
    "            for movie in person_movies_left:\n",
    "                if movie in movies.keys():\n",
    "                    row.append(movies[movie])\n",
    "                    row.append(round(movies[movie] * sim_value, 2))\n",
    "                else:\n",
    "                    row.append(0)\n",
    "                    row.append(0)\n",
    "                    \n",
    "                    \n",
    "            table.append(row)\n",
    "            \n",
    "    table = pandas.DataFrame(table)\n",
    "    \n",
    "    sum_val = []\n",
    "    \n",
    "    for col in table:\n",
    "        if col > 1 and col % 2 == 1:\n",
    "            sum_val.append(round(sum(table[col].values), 2))\n",
    "        elif col == 0:\n",
    "            sum_val.append('Sum')\n",
    "        else:\n",
    "            sum_val.append(0.0)\n",
    "            \n",
    "    table = table.append([sum_val])\n",
    "    \n",
    "    k_sum = ['KSum']\n",
    "    \n",
    "    k_sum = k_sum + [round(sum([table[1].values[x] for x in range(len(table)) if table[col].values[x] > 0]), 2)\\\n",
    "             if col % 2 == 1 and col > 1 else 0 \\\n",
    "             for col in range(1, table.shape[1])]\n",
    "    \n",
    "    table = table.append([k_sum])\n",
    "    \n",
    "    recom_val = ['Recom_Value']\n",
    "    recom_val =  recom_val + [round(table[col].values[len(table) - 2] / table[col].values[len(table) - 1] , 2)\\\n",
    "                 if col > 1 and col % 2 == 1 else 0 for col in range(1, table.shape[1])]\n",
    "    table = table.append([recom_val])\n",
    "    \n",
    "    column_names = ['Person', 'Korrelation'] + sum([[str(x), str(x) + ' * K'] for x in person_movies_left], [])\n",
    "    recommendations = [(round(table[col + 1].values[len(table) - 1], 2), column_names[col]) for col in range(table.shape[1] - 1)\\\n",
    "                       if col > 1 and col % 2 == 0]\n",
    "    \n",
    "    table.columns = column_names\n",
    "    return sorted(recommendations, key=lambda x: x[0], reverse=True)\n",
    "    \n",
    "   \n",
    "getRecommendations(critics, 'Toby', sim_pearson)"
   ]
  },
  {
   "cell_type": "markdown",
   "metadata": {},
   "source": [
    "###Berechnung von Empfehlungen mit Item basiertem Collaborative Filtering\n",
    "In den vorigen Aufgaben wurden Ähnlichkeiten zwischen Personen bestimmt und für Produktempfehlungen benutzt (User basiertes Collaborative Filtering). Jetzt soll die Ähnlichkeit zwischen Produkten berechnet werden und auf der Basis dieser Produktähnlichkeit Empfehlungen berechnet werden (Item basiertes Collaborative Filtering).\n",
    "\n",
    "Dabei sollen die bereits implementierten Ähnlichkeitsfunktion _sim_euclid_ und _sim_pearson_ sowie die Ähnlichkeeits-Sortierfunktion _topMatches_ unverändert eingesetzt werden.\n",
    "\n",
    "__Aufgabe:__\n",
    "\n",
    "1. Implementieren Sie eine Funktion, welche das Bewertungsdictionary _critics_derart transformiert, dass die Funktionen _sim_euclid_, _sim_pearson_ und _topMatches_ für das Item basierte CF unverändert eingesetzt werden können. Die transformierte Matrix soll unter dem Namen _transCritics_ abgespeichert werden.\n",
    "2. Schreiben Sie eine Funktion _calculateSimilarItems_, die aus der transformierten Matrix _transCritics_ ein Dictionary berechnet, welches die Ähnlichkeit zwischen allen Filmen beschreibt. Die Keys des Dictionary sind die Filmnamen. Die Values sind geordnete Listen, welche die Funktion _topMatches_ zurückgibt, wenn sie für die Filme (nicht für die User) aufgerufen wird. Dieses Dictionary wird an das aufrufende Programm zurück geben. \n",
    "3. Schreiben Sie eine Funktion _getRecommendedItems_, welche basierend auf dem im unten aufgeführten Beispiel dargestellten Verfahren unter Vorgabe der Bewertungsmatrix und der zu verwendenden Ähnlichkeitsfunktion Produktempfehlungen berechnet.\n",
    "4. Testen Sie die Funktion indem Sie die Empfehlungen für Toby berechnen und mit den Werten in der unten aufgeführten Tabelle vergleichen\n",
    "\n",
    "__Erläuterndes Beispiel:__\n",
    "\n",
    "_Toby_ hat die Filme _The Night Listener_, _Lady in the Water_ und _Just My Luck_ noch nicht gekauft. Für diese Filme soll für _Toby_ eine Empfehlung berechnet werden. Gekauft und bewertet hat _Toby_ die Filme _Snakes on a plane_, _Superman Returns_ und _You and me and Dupree_. Diese bereits vorhandenen Filme bilden die erste Spalte der unten dargestellten Matrix. In der zweiten Spalte befinden sich _Toby's_ Bewertungen dieser Filme. Die Spalten 3,5 und 7 enthalten die Ähnlichkeitswerte (mit _calculateSimilarItems_ unter Verwendung des normierten euklidischen Ähnlichkeitsmaßes berechnet) zwischen den drei von _Toby_ noch nicht gekauften Filmen und den drei von _Toby_ bewerteten Filmen. Diese Ähnlichkeitswerte werden jeweils mit _Toby's_ Bewertungen multipliziert. Das Resultat dieser Multiplikation befindet sich in den Spalten 4,6 und 8. Der finale Empfehlungswert für die von _Toby_ noch nicht gekauften Filme wird berechnet in dem in den Spalten 4,6 und 8 zunächst die Summe über die Werte dieser Spalte in den drei oberen Zeilen berechnet wird und durch die Summe über die Werte der Spalten 3,5 und 7 geteilt wird. Im Fall, dass die _Pearson-Korrelation_ zwischen den Filmen als Ähnlichkeitswert herangezogen wird, können negative Ähnlichkeitswerte auftreten. Dann soll in die Berechnung eines Empfehlungswert für Film A nur dann die Bewertung von Film B einfließen, wenn der Korrelationswert zwischen beiden $>0$ ist.  \n",
    "\n",
    "![Abbildung Calculate Itembased Recommendation](https://www.hdm-stuttgart.de/~maucher/ipnotebooks/DataMining/Bilder/recommenderFilmItemBased.PNG)"
   ]
  },
  {
   "cell_type": "code",
   "execution_count": 14,
   "metadata": {
    "collapsed": true
   },
   "outputs": [],
   "source": [
    "#Your Code"
   ]
  },
  {
   "cell_type": "markdown",
   "metadata": {},
   "source": [
    "##last.fm Musikempfehlungen\n",
    "Kopieren Sie die Datei _pylast.py_ vom _Resources_-Ordner im _DataMining_-Ordner des Skripteservers in das Verzeichnis dieses _IPython Notebooks_. In dieser Datei sind alle Zugriffsfunktionen auf _last.fm_ Dienste implementiert. Die notwendigen Anmelde- und Authentifizierungsdaten für den User _pythonlab_ sind ebenfalls schon in diesem Modul eingetragen.\n",
    "\n",
    "__Aufgabe:__\n",
    "\n",
    "1. Stellen Sie durch Aufruf der Funktion _network=pylast.get_lastfm_network()_ eine Verbindung zu _last.fm_ her. Beim Aufruf der Funktion wird die Anmeldung und Authentifizierung durchgeführt. Die Funktion gibt ein Objekt der Klasse _Network_ zurück. Über dieses Objekt können Methoden, wie\n",
    "\n",
    "    * _get_artist(\"kuenstlerName\")_ (liefert Objekt der Klasse _Artist_\n",
    "    * _get_album(\"albumName\")_ (liefert Objekt der Klasse _Album_\n",
    "    * _get_track(\"songName\")_ (liefert Objekt der Klasse _Track_\n",
    "    * _get_user(\"userName\"): (liefert Objekt der Klass_Tag_\n",
    "    * usw.\n",
    "    \n",
    "      aufgerufen werden. Die Menge aller verfügbaren Klassen und deren Attribute und Methoden können dem Modul _pylast.py_ entnommen werden.\n",
    "\n",
    "1. Rufen Sie über das oben instanziierte _Network_-Objekt die Methode _get_artist(\"BandIhrerWahl\")_ auf.\n",
    "2. Rufen Sie über das oben instanziierte _Artist_-Objekt die Methode _topfans=get_top_fans(10)_ auf. Die Methode gibt eine Liste von _User_-Objekt/Gewichtung-Paaren zurück. Die Gewichtungen von Objekten werden in diesem Versuch nicht benötigt. Legen Sie deshalb mit _group=[a.item for a in topfan]_ eine Liste an, die nur noch die User Objekte enthält. **Wichtige Anmerkung:** Seit August 2015 gibt es Probleme mit der lastFM API Methode _get_top_fans()_ (siehe auch: [pylast issues](https://github.com/pylast/pylast/issues/155s)). Falls am Versuchstermin der Fehler noch nicht behoben ist, können Sie den unten stehenden Code benutzen. Darin wird versucht auf die API-Methode zuzugreifen. Falls das nicht möglich ist, wird eine vordefinierte Liste von Usern angewandt. Diese Liste repräsentiert die _Top Fans_ der Band _Slipknot_ im Frühjahr 2015. \n",
    "3. Implementieren Sie eine Funktion _createLastfmUserDict()_. Dieser Funktion soll, die oben angelegte Liste von _User_-Objekten _group_ übergeben werden. Für jeden User in _group_ sollen die 20 beliebtesten Bands mit der Methode_topartists=get_top_artists()[0:20]_ bestimmt werden. Die Methode gibt eine Liste von _Artist_-Objekt/Gewichtung-Paaren zurück. Die Gewichtungen von Objekten werden in diesem Versuch nicht benötigt. Auf das _i.te_ _Artist_-Objekt selbst kann mit _topartists[i].item_ zugegriffen werden. Die Menge aller Bands, die auf diese Weise gesammelt werden, wird im folgenden mit _AllBands_ bezeichnet. D.h. in _AllBands_ befinden sich alle Bands, die für mindestens einen User in _group_ zu den Top-20 gehören. Nun soll ein verschachteltes Dictionary mit Namen _userDict_ wie folgt angelegt werden:\n",
    "\n",
    "    * Die Keys sind die Namen der _User_-Objekte in _group_. Auf den Namen eines Objekts kann mit _get_name()_ zugegriffen werden.\n",
    "    * Die Values sind selbst wieder Dictionaries, deren Keys die Namen der Bands in _AllBands_ sind. Achten Sie auch hier darauf, dass Sie nicht das _Artist_-Objekt selbst, sondern dessen Namen als Key verwenden. \n",
    "    * Für den User _a_ und die Band _b_ ist der Value _userDict[a][b]= 1_, falls _b_ zu den Top-20 des Users _a_ gehört. Andernfalls ist _userDict[a][b]= 0_. \n",
    "    \n",
    "    Das derart angelegte Dictionary soll von der Funktion zurückgegeben werden. \n",
    "4. Wählen Sie jetzt einen beliebigen User aus _group_. Bestimmen Sie zu diesem User die ähnlichsten User in _group_ durch Anwendung der im ersten Teilversuch implementierten Funktion _topMatches()_. Der Funktion wird das angelegte _userDict_ und der Name des gewählten Users übergeben. Als Ähnlichkeitsmaß soll die euklidische Metrik angewandt werden.\n",
    "5. Bestimmen Sie dann für den gewählten User Band-Empfehlungen durch Anwendung der im ersten Teilversuch implementierten Funktion _getRecommendations()_. Der Funktion wird das angelegte _userDict_ und der Name des gewählten Users übergeben. Als Ähnlichkeitsmaß soll die euklidische Metrik, danach die Russel_Rao Metrik, angewandt werden.     \n",
    "6. Diskutieren Sie das Ergebnis"
   ]
  },
  {
   "cell_type": "code",
   "execution_count": 48,
   "metadata": {
    "collapsed": false
   },
   "outputs": [
    {
     "name": "stdout",
     "output_type": "stream",
     "text": [
      "Most similar (as calculated by lastFM) for artist:  Slipknot\n",
      "1.000 \t Stone Sour\n",
      "0.754 \t Korn\n",
      "0.582 \t Mudvayne\n",
      "0.495 \t System of a Down\n",
      "0.483 \t Mushroomhead\n",
      "\n",
      "lastFM API Error for method get_top_fans\n",
      "Apply predefined group of users\n",
      "Get artists of BrunoJoS\n",
      "Get artists of DPREBOYE\n",
      "Get artists of MPistol40\n",
      "Get artists of NemoNightfall\n",
      "Get artists of SkyRif\n",
      "Get artists of Wags1382\n",
      "Get artists of Znapsen\n",
      "Get artists of cortapsyco\n",
      "Get artists of emill_67\n",
      "Get artists of sattuviitana\n",
      "{'cortapsyco': [u'Becoming the Archetype', u'Slipknot', u'Cradle of Filth', u'Lacuna Coil', u'Killswitch Engage', u'Coheed and Cambria', u'Katy Perry', u'Halestorm', u'Ke$ha', u'Marina & the Diamonds', u'Black Veil Brides', u'Flo Rida', u'Pendulum', u'Krewella', u'Demon Hunter', u'\\u690d\\u677e\\u4f38\\u592b', u'System of a Down', u'Calvin Harris', u'Dimmu Borgir', u'Panic! at the Disco'], 'Wags1382': [u'Coheed and Cambria', u'Misfits', u'Fall Out Boy', u'AFI', u'Energy', u'Motion City Soundtrack', u'Parkway Drive', u'Circa Survive', u'The Dear Hunter', u'Four Year Strong', u'Evergreen Terrace', u'New Found Glory', u'The Wonder Years', u'Saosin', u'My Chemical Romance', u'Gallows', u'Slipknot', u'blink-182', u'Cruel Hand', u'Bayside'], 'DPREBOYE': [u'Warpaint', u'DIR EN GREY', u'Slipknot', u'The White Stripes', u'James Blake', u'Daughter', u'Dr. Dre', u'Beach House', u'Atoms for Peace', u'Damien Rice', u'Die Antwoord', u'Mogwai', u'Rage Against the Machine', u'Hozier', u'The Band', u'Nirvana', u'Wu-Tang Clan', u'Cat Power', u'N.W.A', u'Arctic Monkeys'], 'MPistol40': [u'In Flames', u'Deftones', u'Korn', u'Red Hot Chili Peppers', u'Dark Tranquillity', u'Soilwork', u'Slipknot', u'Limp Bizkit', u'36 Crazyfists', u'Soulfly', u'Rage Against the Machine', u'System of a Down', u'Stone Sour', u'Scar Symmetry', u'Dmitri Shostakovich', u'Nine Inch Nails', u'Pendulum', u'Team Sleep', u'A Perfect Circle', u'Tool'], 'sattuviitana': [u'Slipknot', u'Rammstein', u'In Flames', u'Children of Bodom', u'Stam1na', u'Volbeat', u'Avenged Sevenfold', u'Five Finger Death Punch', u'Metallica', u'Klamydia', u'Sonata Arctica', u'Amorphis', u'Queen', u'System of a Down', u'Sabaton', u'Lindemann', u'Nightwish', u'Leevi and the Leavings', u'Pantera', u'Pendulum'], 'Znapsen': [u'Rammstein', u'Slipknot', u'Black Label Society', u'P.D.P.', u'Dope', u'Pantera', u'Mustasch', u'Five Finger Death Punch', u'Avenged Sevenfold', u'Machine Head', u'Limp Bizkit', u'Korn', u'Magnus Uggla', u'Pink Floyd', u'Godsmack', u'Metallica', u'Gyllene Tider', u'White Zombie', u'Lamb of God', u'Freestyle'], 'BrunoJoS': [u'Muse', u'Queens of the Stone Age', u'Slipknot', u'Arctic Monkeys', u'Radiohead', u'Linkin Park', u'Foo Fighters', u'Papa Roach', u'Rammstein', u'The Killers', u'System of a Down', u'Green Day', u'Three Days Grace', u'Coldplay', u'30 Seconds to Mars', u'Pitty', u'Madonna', u'M.I.A.', u'Sum 41', u'Thom Yorke'], 'NemoNightfall': [u'Stone Sour', u'Bring Me the Horizon', u'Ben Howard', u'Oh, Sleeper', u'Sick Puppies', u'Slipknot', u'Five Finger Death Punch', u'All Time Low', u'Memphis May Fire', u'30 Seconds to Mars', u'Three Days Grace', u'Papa Roach', u'Mumford & Sons', u'Breaking Benjamin', u'System of a Down', u'Billy Talent', u'Bullet for My Valentine', u'Trivium', u'Alexisonfire', u'Linkin Park'], 'SkyRif': [u'Powerwolf', u'Hans Zimmer', u'Slipknot', u'Lamb of God', u'Metallica', u'DragonForce', u'Sabaton', u'Korn', u'Red Hot Chili Peppers', u'Pentakill', u'Rage Against the Machine', u'Linkin Park', u'Papa Roach', u'System of a Down', u'Amon Amarth', u'Tenacious D', u'Wintersun', u'Stone Sour', u'Howard Shore', u'Arch Enemy'], 'emill_67': [u'Slipknot', u'Shinedown', u'Disturbed', u'Foo Fighters', u'Five Finger Death Punch', u'Red Hot Chili Peppers', u'Epic Rap Battles Of History', u'Rob Zombie', u'Pink Floyd', u'Rage Against the Machine', u'Theory of a Deadman', u'Muse', u'Seether', u'Iron Maiden', u'Korn', u'Ween', u'Evanescence', u'Boston', u'deadmau5', u'Electric Light Orchestra']}\n"
     ]
    }
   ],
   "source": [
    "import pylast\n",
    "nw=pylast.get_lastfm_network(api_key = \"993a5bd9d79a98a53677570368d55acd\",api_secret = \"9b8de0b57903ac007cdd8ec9003b341e\",username = \"pythonlab\")\n",
    "band='Slipknot'\n",
    "art1 = nw.get_artist(band)\n",
    "print \"Most similar (as calculated by lastFM) for artist: \", band\n",
    "for it in art1.get_similar(5):\n",
    "    print \"%3.3f \\t %s\"%(it.match, it.item)\n",
    "try:\n",
    "    topfan = art1.get_top_fans(10)\n",
    "    group = [a.item for a in topfan]\n",
    "    print group\n",
    "except:\n",
    "    print \"\\nlastFM API Error for method get_top_fans\\nApply predefined group of users\"\n",
    "    usernames=['BrunoJoS','DPREBOYE','MPistol40','NemoNightfall','SkyRif','Wags1382','Znapsen','cortapsyco','emill_67','sattuviitana']\n",
    "    group=[]\n",
    "    for u in usernames:\n",
    "        u1 = nw.get_user(u)\n",
    "        group.append(u1)\n",
    "        \n",
    "\n",
    "\n",
    "def get_grouped_artists(group):\n",
    "    grouped_artists = {}    \n",
    "    for user in group:\n",
    "        print \"Get artists of %s\" % user\n",
    "        grouped_artists[user.get_name()] = [artist.item.get_name() for artist in user.get_top_artists()[0:20]]\n",
    "    return grouped_artists\n",
    "    \n",
    "        \n",
    "\n",
    "grouped_artists = get_grouped_artists(group)\n",
    "        \n",
    "print grouped_artists"
   ]
  },
  {
   "cell_type": "code",
   "execution_count": 60,
   "metadata": {
    "collapsed": false
   },
   "outputs": [
    {
     "name": "stdout",
     "output_type": "stream",
     "text": [
      "{'cortapsyco': {u'Team Sleep': 0, u'Flo Rida': 1, u'White Zombie': 0, u'Ke$ha': 1, u'Sabaton': 0, u'Killswitch Engage': 1, u'Motion City Soundtrack': 0, u'Damien Rice': 0, u'Seether': 0, u'The Wonder Years': 0, u'Halestorm': 1, u'Freestyle': 0, u'Dimmu Borgir': 1, u'Nirvana': 0, u'Trivium': 0, u'Green Day': 0, u'Electric Light Orchestra': 0, u'Leevi and the Leavings': 0, u'Breaking Benjamin': 0, u'Fall Out Boy': 0, u'Becoming the Archetype': 1, u'Three Days Grace': 0, u'Klamydia': 0, u'Queens of the Stone Age': 0, u'Iron Maiden': 0, u'blink-182': 0, u'Rammstein': 0, u'Pendulum': 1, u'Pitty': 0, u'Black Label Society': 0, u'Lindemann': 0, u'Krewella': 1, u'\\u690d\\u677e\\u4f38\\u592b': 1, u'Arctic Monkeys': 0, u'Gyllene Tider': 0, u'Radiohead': 0, u'Pentakill': 0, u'Bayside': 0, u'Nightwish': 0, u'Katy Perry': 1, u'The White Stripes': 0, u'Soilwork': 0, u'Magnus Uggla': 0, u'Shinedown': 0, u'Rage Against the Machine': 0, u'A Perfect Circle': 0, u'Coheed and Cambria': 1, u'deadmau5': 0, u'My Chemical Romance': 0, u'Muse': 0, u'Soulfly': 0, u'36 Crazyfists': 0, u'M.I.A.': 0, u'Limp Bizkit': 0, u'Lamb of God': 0, u'Alexisonfire': 0, u'Metallica': 0, u'Amorphis': 0, u'AFI': 0, u'P.D.P.': 0, u'Dmitri Shostakovich': 0, u'Stam1na': 0, u'Mogwai': 0, u'Disturbed': 0, u'New Found Glory': 0, u'Evergreen Terrace': 0, u'Sick Puppies': 0, u'Machine Head': 0, u'Lacuna Coil': 1, u'Sum 41': 0, u'Tenacious D': 0, u'Boston': 0, u'Energy': 0, u'Queen': 0, u'The Band': 0, u'Pink Floyd': 0, u'Beach House': 0, u'James Blake': 0, u'Epic Rap Battles Of History': 0, u'Rob Zombie': 0, u'Papa Roach': 0, u'DIR EN GREY': 0, u'30 Seconds to Mars': 0, u'Avenged Sevenfold': 0, u'Panic! at the Disco': 1, u'The Dear Hunter': 0, u'All Time Low': 0, u'Hozier': 0, u'Die Antwoord': 0, u'Korn': 0, u'Ween': 0, u'Four Year Strong': 0, u'Arch Enemy': 0, u'The Killers': 0, u'Cat Power': 0, u'Wintersun': 0, u'Demon Hunter': 1, u'Ben Howard': 0, u'Sonata Arctica': 0, u'Parkway Drive': 0, u'Daughter': 0, u'Gallows': 0, u'Scar Symmetry': 0, u'Misfits': 0, u'Red Hot Chili Peppers': 0, u'Slipknot': 1, u'Theory of a Deadman': 0, u'Saosin': 0, u'Children of Bodom': 0, u'Wu-Tang Clan': 0, u'Pantera': 0, u'Warpaint': 0, u'Black Veil Brides': 1, u'Bring Me the Horizon': 0, u'Hans Zimmer': 0, u'Dark Tranquillity': 0, u'Madonna': 0, u'Stone Sour': 0, u'Evanescence': 0, u'Atoms for Peace': 0, u'Amon Amarth': 0, u'Thom Yorke': 0, u'Coldplay': 0, u'Dr. Dre': 0, u'Dope': 0, u'Marina & the Diamonds': 1, u'Five Finger Death Punch': 0, u'Calvin Harris': 1, u'Nine Inch Nails': 0, u'N.W.A': 0, u'Cradle of Filth': 1, u'Memphis May Fire': 0, u'Powerwolf': 0, u'Deftones': 0, u'Bullet for My Valentine': 0, u'System of a Down': 1, u'Linkin Park': 0, u'Oh, Sleeper': 0, u'Foo Fighters': 0, u'Cruel Hand': 0, u'Godsmack': 0, u'Billy Talent': 0, u'Mustasch': 0, u'In Flames': 0, u'Howard Shore': 0, u'DragonForce': 0, u'Circa Survive': 0, u'Mumford & Sons': 0, u'Volbeat': 0, u'Tool': 0}, 'Wags1382': {u'Team Sleep': 0, u'Flo Rida': 0, u'White Zombie': 0, u'Ke$ha': 0, u'Sabaton': 0, u'Killswitch Engage': 0, u'Motion City Soundtrack': 1, u'Damien Rice': 0, u'Seether': 0, u'The Wonder Years': 1, u'Halestorm': 0, u'Freestyle': 0, u'Dimmu Borgir': 0, u'Nirvana': 0, u'Trivium': 0, u'Green Day': 0, u'Electric Light Orchestra': 0, u'Leevi and the Leavings': 0, u'Breaking Benjamin': 0, u'Fall Out Boy': 1, u'Becoming the Archetype': 0, u'Three Days Grace': 0, u'Klamydia': 0, u'Queens of the Stone Age': 0, u'Iron Maiden': 0, u'blink-182': 1, u'Rammstein': 0, u'Pendulum': 0, u'Pitty': 0, u'Black Label Society': 0, u'Lindemann': 0, u'Krewella': 0, u'\\u690d\\u677e\\u4f38\\u592b': 0, u'Arctic Monkeys': 0, u'Gyllene Tider': 0, u'Radiohead': 0, u'Pentakill': 0, u'Bayside': 1, u'Nightwish': 0, u'Katy Perry': 0, u'The White Stripes': 0, u'Soilwork': 0, u'Magnus Uggla': 0, u'Shinedown': 0, u'Rage Against the Machine': 0, u'A Perfect Circle': 0, u'Coheed and Cambria': 1, u'deadmau5': 0, u'My Chemical Romance': 1, u'Muse': 0, u'Soulfly': 0, u'36 Crazyfists': 0, u'M.I.A.': 0, u'Limp Bizkit': 0, u'Lamb of God': 0, u'Alexisonfire': 0, u'Metallica': 0, u'Amorphis': 0, u'AFI': 1, u'P.D.P.': 0, u'Dmitri Shostakovich': 0, u'Stam1na': 0, u'Mogwai': 0, u'Disturbed': 0, u'New Found Glory': 1, u'Evergreen Terrace': 1, u'Sick Puppies': 0, u'Machine Head': 0, u'Lacuna Coil': 0, u'Sum 41': 0, u'Tenacious D': 0, u'Boston': 0, u'Energy': 1, u'Queen': 0, u'The Band': 0, u'Pink Floyd': 0, u'Beach House': 0, u'James Blake': 0, u'Epic Rap Battles Of History': 0, u'Rob Zombie': 0, u'Papa Roach': 0, u'DIR EN GREY': 0, u'30 Seconds to Mars': 0, u'Avenged Sevenfold': 0, u'Panic! at the Disco': 0, u'The Dear Hunter': 1, u'All Time Low': 0, u'Hozier': 0, u'Die Antwoord': 0, u'Korn': 0, u'Ween': 0, u'Four Year Strong': 1, u'Arch Enemy': 0, u'The Killers': 0, u'Cat Power': 0, u'Wintersun': 0, u'Demon Hunter': 0, u'Ben Howard': 0, u'Sonata Arctica': 0, u'Parkway Drive': 1, u'Daughter': 0, u'Gallows': 1, u'Scar Symmetry': 0, u'Misfits': 1, u'Red Hot Chili Peppers': 0, u'Slipknot': 1, u'Theory of a Deadman': 0, u'Saosin': 1, u'Children of Bodom': 0, u'Wu-Tang Clan': 0, u'Pantera': 0, u'Warpaint': 0, u'Black Veil Brides': 0, u'Bring Me the Horizon': 0, u'Hans Zimmer': 0, u'Dark Tranquillity': 0, u'Madonna': 0, u'Stone Sour': 0, u'Evanescence': 0, u'Atoms for Peace': 0, u'Amon Amarth': 0, u'Thom Yorke': 0, u'Coldplay': 0, u'Dr. Dre': 0, u'Dope': 0, u'Marina & the Diamonds': 0, u'Five Finger Death Punch': 0, u'Calvin Harris': 0, u'Nine Inch Nails': 0, u'N.W.A': 0, u'Cradle of Filth': 0, u'Memphis May Fire': 0, u'Powerwolf': 0, u'Deftones': 0, u'Bullet for My Valentine': 0, u'System of a Down': 0, u'Linkin Park': 0, u'Oh, Sleeper': 0, u'Foo Fighters': 0, u'Cruel Hand': 1, u'Godsmack': 0, u'Billy Talent': 0, u'Mustasch': 0, u'In Flames': 0, u'Howard Shore': 0, u'DragonForce': 0, u'Circa Survive': 1, u'Mumford & Sons': 0, u'Volbeat': 0, u'Tool': 0}, 'DPREBOYE': {u'Team Sleep': 0, u'Flo Rida': 0, u'White Zombie': 0, u'Ke$ha': 0, u'Sabaton': 0, u'Killswitch Engage': 0, u'Motion City Soundtrack': 0, u'Damien Rice': 1, u'Seether': 0, u'The Wonder Years': 0, u'Halestorm': 0, u'Freestyle': 0, u'Dimmu Borgir': 0, u'Nirvana': 1, u'Trivium': 0, u'Green Day': 0, u'Electric Light Orchestra': 0, u'Leevi and the Leavings': 0, u'Breaking Benjamin': 0, u'Fall Out Boy': 0, u'Becoming the Archetype': 0, u'Three Days Grace': 0, u'Klamydia': 0, u'Queens of the Stone Age': 0, u'Iron Maiden': 0, u'blink-182': 0, u'Rammstein': 0, u'Pendulum': 0, u'Pitty': 0, u'Black Label Society': 0, u'Lindemann': 0, u'Krewella': 0, u'\\u690d\\u677e\\u4f38\\u592b': 0, u'Arctic Monkeys': 1, u'Gyllene Tider': 0, u'Radiohead': 0, u'Pentakill': 0, u'Bayside': 0, u'Nightwish': 0, u'Katy Perry': 0, u'The White Stripes': 1, u'Soilwork': 0, u'Magnus Uggla': 0, u'Shinedown': 0, u'Rage Against the Machine': 1, u'A Perfect Circle': 0, u'Coheed and Cambria': 0, u'deadmau5': 0, u'My Chemical Romance': 0, u'Muse': 0, u'Soulfly': 0, u'36 Crazyfists': 0, u'M.I.A.': 0, u'Limp Bizkit': 0, u'Lamb of God': 0, u'Alexisonfire': 0, u'Metallica': 0, u'Amorphis': 0, u'AFI': 0, u'P.D.P.': 0, u'Dmitri Shostakovich': 0, u'Stam1na': 0, u'Mogwai': 1, u'Disturbed': 0, u'New Found Glory': 0, u'Evergreen Terrace': 0, u'Sick Puppies': 0, u'Machine Head': 0, u'Lacuna Coil': 0, u'Sum 41': 0, u'Tenacious D': 0, u'Boston': 0, u'Energy': 0, u'Queen': 0, u'The Band': 1, u'Pink Floyd': 0, u'Beach House': 1, u'James Blake': 1, u'Epic Rap Battles Of History': 0, u'Rob Zombie': 0, u'Papa Roach': 0, u'DIR EN GREY': 1, u'30 Seconds to Mars': 0, u'Avenged Sevenfold': 0, u'Panic! at the Disco': 0, u'The Dear Hunter': 0, u'All Time Low': 0, u'Hozier': 1, u'Die Antwoord': 1, u'Korn': 0, u'Ween': 0, u'Four Year Strong': 0, u'Arch Enemy': 0, u'The Killers': 0, u'Cat Power': 1, u'Wintersun': 0, u'Demon Hunter': 0, u'Ben Howard': 0, u'Sonata Arctica': 0, u'Parkway Drive': 0, u'Daughter': 1, u'Gallows': 0, u'Scar Symmetry': 0, u'Misfits': 0, u'Red Hot Chili Peppers': 0, u'Slipknot': 1, u'Theory of a Deadman': 0, u'Saosin': 0, u'Children of Bodom': 0, u'Wu-Tang Clan': 1, u'Pantera': 0, u'Warpaint': 1, u'Black Veil Brides': 0, u'Bring Me the Horizon': 0, u'Hans Zimmer': 0, u'Dark Tranquillity': 0, u'Madonna': 0, u'Stone Sour': 0, u'Evanescence': 0, u'Atoms for Peace': 1, u'Amon Amarth': 0, u'Thom Yorke': 0, u'Coldplay': 0, u'Dr. Dre': 1, u'Dope': 0, u'Marina & the Diamonds': 0, u'Five Finger Death Punch': 0, u'Calvin Harris': 0, u'Nine Inch Nails': 0, u'N.W.A': 1, u'Cradle of Filth': 0, u'Memphis May Fire': 0, u'Powerwolf': 0, u'Deftones': 0, u'Bullet for My Valentine': 0, u'System of a Down': 0, u'Linkin Park': 0, u'Oh, Sleeper': 0, u'Foo Fighters': 0, u'Cruel Hand': 0, u'Godsmack': 0, u'Billy Talent': 0, u'Mustasch': 0, u'In Flames': 0, u'Howard Shore': 0, u'DragonForce': 0, u'Circa Survive': 0, u'Mumford & Sons': 0, u'Volbeat': 0, u'Tool': 0}, 'MPistol40': {u'Team Sleep': 1, u'Flo Rida': 0, u'White Zombie': 0, u'Ke$ha': 0, u'Sabaton': 0, u'Killswitch Engage': 0, u'Motion City Soundtrack': 0, u'Damien Rice': 0, u'Seether': 0, u'The Wonder Years': 0, u'Halestorm': 0, u'Freestyle': 0, u'Dimmu Borgir': 0, u'Nirvana': 0, u'Trivium': 0, u'Green Day': 0, u'Electric Light Orchestra': 0, u'Leevi and the Leavings': 0, u'Breaking Benjamin': 0, u'Fall Out Boy': 0, u'Becoming the Archetype': 0, u'Three Days Grace': 0, u'Klamydia': 0, u'Queens of the Stone Age': 0, u'Iron Maiden': 0, u'blink-182': 0, u'Rammstein': 0, u'Pendulum': 1, u'Pitty': 0, u'Black Label Society': 0, u'Lindemann': 0, u'Krewella': 0, u'\\u690d\\u677e\\u4f38\\u592b': 0, u'Arctic Monkeys': 0, u'Gyllene Tider': 0, u'Radiohead': 0, u'Pentakill': 0, u'Bayside': 0, u'Nightwish': 0, u'Katy Perry': 0, u'The White Stripes': 0, u'Soilwork': 1, u'Magnus Uggla': 0, u'Shinedown': 0, u'Rage Against the Machine': 1, u'A Perfect Circle': 1, u'Coheed and Cambria': 0, u'deadmau5': 0, u'My Chemical Romance': 0, u'Muse': 0, u'Soulfly': 1, u'36 Crazyfists': 1, u'M.I.A.': 0, u'Limp Bizkit': 1, u'Lamb of God': 0, u'Alexisonfire': 0, u'Metallica': 0, u'Amorphis': 0, u'AFI': 0, u'P.D.P.': 0, u'Dmitri Shostakovich': 1, u'Stam1na': 0, u'Mogwai': 0, u'Disturbed': 0, u'New Found Glory': 0, u'Evergreen Terrace': 0, u'Sick Puppies': 0, u'Machine Head': 0, u'Lacuna Coil': 0, u'Sum 41': 0, u'Tenacious D': 0, u'Boston': 0, u'Energy': 0, u'Queen': 0, u'The Band': 0, u'Pink Floyd': 0, u'Beach House': 0, u'James Blake': 0, u'Epic Rap Battles Of History': 0, u'Rob Zombie': 0, u'Papa Roach': 0, u'DIR EN GREY': 0, u'30 Seconds to Mars': 0, u'Avenged Sevenfold': 0, u'Panic! at the Disco': 0, u'The Dear Hunter': 0, u'All Time Low': 0, u'Hozier': 0, u'Die Antwoord': 0, u'Korn': 1, u'Ween': 0, u'Four Year Strong': 0, u'Arch Enemy': 0, u'The Killers': 0, u'Cat Power': 0, u'Wintersun': 0, u'Demon Hunter': 0, u'Ben Howard': 0, u'Sonata Arctica': 0, u'Parkway Drive': 0, u'Daughter': 0, u'Gallows': 0, u'Scar Symmetry': 1, u'Misfits': 0, u'Red Hot Chili Peppers': 1, u'Slipknot': 1, u'Theory of a Deadman': 0, u'Saosin': 0, u'Children of Bodom': 0, u'Wu-Tang Clan': 0, u'Pantera': 0, u'Warpaint': 0, u'Black Veil Brides': 0, u'Bring Me the Horizon': 0, u'Hans Zimmer': 0, u'Dark Tranquillity': 1, u'Madonna': 0, u'Stone Sour': 1, u'Evanescence': 0, u'Atoms for Peace': 0, u'Amon Amarth': 0, u'Thom Yorke': 0, u'Coldplay': 0, u'Dr. Dre': 0, u'Dope': 0, u'Marina & the Diamonds': 0, u'Five Finger Death Punch': 0, u'Calvin Harris': 0, u'Nine Inch Nails': 1, u'N.W.A': 0, u'Cradle of Filth': 0, u'Memphis May Fire': 0, u'Powerwolf': 0, u'Deftones': 1, u'Bullet for My Valentine': 0, u'System of a Down': 1, u'Linkin Park': 0, u'Oh, Sleeper': 0, u'Foo Fighters': 0, u'Cruel Hand': 0, u'Godsmack': 0, u'Billy Talent': 0, u'Mustasch': 0, u'In Flames': 1, u'Howard Shore': 0, u'DragonForce': 0, u'Circa Survive': 0, u'Mumford & Sons': 0, u'Volbeat': 0, u'Tool': 1}, 'sattuviitana': {u'Team Sleep': 0, u'Flo Rida': 0, u'White Zombie': 0, u'Ke$ha': 0, u'Sabaton': 1, u'Killswitch Engage': 0, u'Motion City Soundtrack': 0, u'Damien Rice': 0, u'Seether': 0, u'The Wonder Years': 0, u'Halestorm': 0, u'Freestyle': 0, u'Dimmu Borgir': 0, u'Nirvana': 0, u'Trivium': 0, u'Green Day': 0, u'Electric Light Orchestra': 0, u'Leevi and the Leavings': 1, u'Breaking Benjamin': 0, u'Fall Out Boy': 0, u'Becoming the Archetype': 0, u'Three Days Grace': 0, u'Klamydia': 1, u'Queens of the Stone Age': 0, u'Iron Maiden': 0, u'blink-182': 0, u'Rammstein': 1, u'Pendulum': 1, u'Pitty': 0, u'Black Label Society': 0, u'Lindemann': 1, u'Krewella': 0, u'\\u690d\\u677e\\u4f38\\u592b': 0, u'Arctic Monkeys': 0, u'Gyllene Tider': 0, u'Radiohead': 0, u'Pentakill': 0, u'Bayside': 0, u'Nightwish': 1, u'Katy Perry': 0, u'The White Stripes': 0, u'Soilwork': 0, u'Magnus Uggla': 0, u'Shinedown': 0, u'Rage Against the Machine': 0, u'A Perfect Circle': 0, u'Coheed and Cambria': 0, u'deadmau5': 0, u'My Chemical Romance': 0, u'Muse': 0, u'Soulfly': 0, u'36 Crazyfists': 0, u'M.I.A.': 0, u'Limp Bizkit': 0, u'Lamb of God': 0, u'Alexisonfire': 0, u'Metallica': 1, u'Amorphis': 1, u'AFI': 0, u'P.D.P.': 0, u'Dmitri Shostakovich': 0, u'Stam1na': 1, u'Mogwai': 0, u'Disturbed': 0, u'New Found Glory': 0, u'Evergreen Terrace': 0, u'Sick Puppies': 0, u'Machine Head': 0, u'Lacuna Coil': 0, u'Sum 41': 0, u'Tenacious D': 0, u'Boston': 0, u'Energy': 0, u'Queen': 1, u'The Band': 0, u'Pink Floyd': 0, u'Beach House': 0, u'James Blake': 0, u'Epic Rap Battles Of History': 0, u'Rob Zombie': 0, u'Papa Roach': 0, u'DIR EN GREY': 0, u'30 Seconds to Mars': 0, u'Avenged Sevenfold': 1, u'Panic! at the Disco': 0, u'The Dear Hunter': 0, u'All Time Low': 0, u'Hozier': 0, u'Die Antwoord': 0, u'Korn': 0, u'Ween': 0, u'Four Year Strong': 0, u'Arch Enemy': 0, u'The Killers': 0, u'Cat Power': 0, u'Wintersun': 0, u'Demon Hunter': 0, u'Ben Howard': 0, u'Sonata Arctica': 1, u'Parkway Drive': 0, u'Daughter': 0, u'Gallows': 0, u'Scar Symmetry': 0, u'Misfits': 0, u'Red Hot Chili Peppers': 0, u'Slipknot': 1, u'Theory of a Deadman': 0, u'Saosin': 0, u'Children of Bodom': 1, u'Wu-Tang Clan': 0, u'Pantera': 1, u'Warpaint': 0, u'Black Veil Brides': 0, u'Bring Me the Horizon': 0, u'Hans Zimmer': 0, u'Dark Tranquillity': 0, u'Madonna': 0, u'Stone Sour': 0, u'Evanescence': 0, u'Atoms for Peace': 0, u'Amon Amarth': 0, u'Thom Yorke': 0, u'Coldplay': 0, u'Dr. Dre': 0, u'Dope': 0, u'Marina & the Diamonds': 0, u'Five Finger Death Punch': 1, u'Calvin Harris': 0, u'Nine Inch Nails': 0, u'N.W.A': 0, u'Cradle of Filth': 0, u'Memphis May Fire': 0, u'Powerwolf': 0, u'Deftones': 0, u'Bullet for My Valentine': 0, u'System of a Down': 1, u'Linkin Park': 0, u'Oh, Sleeper': 0, u'Foo Fighters': 0, u'Cruel Hand': 0, u'Godsmack': 0, u'Billy Talent': 0, u'Mustasch': 0, u'In Flames': 1, u'Howard Shore': 0, u'DragonForce': 0, u'Circa Survive': 0, u'Mumford & Sons': 0, u'Volbeat': 1, u'Tool': 0}, 'BrunoJoS': {u'Team Sleep': 0, u'Flo Rida': 0, u'White Zombie': 0, u'Ke$ha': 0, u'Sabaton': 0, u'Killswitch Engage': 0, u'Motion City Soundtrack': 0, u'Damien Rice': 0, u'Seether': 0, u'The Wonder Years': 0, u'Halestorm': 0, u'Freestyle': 0, u'Dimmu Borgir': 0, u'Nirvana': 0, u'Trivium': 0, u'Green Day': 1, u'Electric Light Orchestra': 0, u'Leevi and the Leavings': 0, u'Breaking Benjamin': 0, u'Fall Out Boy': 0, u'Becoming the Archetype': 0, u'Three Days Grace': 1, u'Klamydia': 0, u'Queens of the Stone Age': 1, u'Iron Maiden': 0, u'blink-182': 0, u'Rammstein': 1, u'Pendulum': 0, u'Pitty': 1, u'Black Label Society': 0, u'Lindemann': 0, u'Krewella': 0, u'\\u690d\\u677e\\u4f38\\u592b': 0, u'Arctic Monkeys': 1, u'Gyllene Tider': 0, u'Radiohead': 1, u'Pentakill': 0, u'Bayside': 0, u'Nightwish': 0, u'Katy Perry': 0, u'The White Stripes': 0, u'Soilwork': 0, u'Magnus Uggla': 0, u'Shinedown': 0, u'Rage Against the Machine': 0, u'A Perfect Circle': 0, u'Coheed and Cambria': 0, u'deadmau5': 0, u'My Chemical Romance': 0, u'Muse': 1, u'Soulfly': 0, u'36 Crazyfists': 0, u'M.I.A.': 1, u'Limp Bizkit': 0, u'Lamb of God': 0, u'Alexisonfire': 0, u'Metallica': 0, u'Amorphis': 0, u'AFI': 0, u'P.D.P.': 0, u'Dmitri Shostakovich': 0, u'Stam1na': 0, u'Mogwai': 0, u'Disturbed': 0, u'New Found Glory': 0, u'Evergreen Terrace': 0, u'Sick Puppies': 0, u'Machine Head': 0, u'Lacuna Coil': 0, u'Sum 41': 1, u'Tenacious D': 0, u'Boston': 0, u'Energy': 0, u'Queen': 0, u'The Band': 0, u'Pink Floyd': 0, u'Beach House': 0, u'James Blake': 0, u'Epic Rap Battles Of History': 0, u'Rob Zombie': 0, u'Papa Roach': 1, u'DIR EN GREY': 0, u'30 Seconds to Mars': 1, u'Avenged Sevenfold': 0, u'Panic! at the Disco': 0, u'The Dear Hunter': 0, u'All Time Low': 0, u'Hozier': 0, u'Die Antwoord': 0, u'Korn': 0, u'Ween': 0, u'Four Year Strong': 0, u'Arch Enemy': 0, u'The Killers': 1, u'Cat Power': 0, u'Wintersun': 0, u'Demon Hunter': 0, u'Ben Howard': 0, u'Sonata Arctica': 0, u'Parkway Drive': 0, u'Daughter': 0, u'Gallows': 0, u'Scar Symmetry': 0, u'Misfits': 0, u'Red Hot Chili Peppers': 0, u'Slipknot': 1, u'Theory of a Deadman': 0, u'Saosin': 0, u'Children of Bodom': 0, u'Wu-Tang Clan': 0, u'Pantera': 0, u'Warpaint': 0, u'Black Veil Brides': 0, u'Bring Me the Horizon': 0, u'Hans Zimmer': 0, u'Dark Tranquillity': 0, u'Madonna': 1, u'Stone Sour': 0, u'Evanescence': 0, u'Atoms for Peace': 0, u'Amon Amarth': 0, u'Thom Yorke': 1, u'Coldplay': 1, u'Dr. Dre': 0, u'Dope': 0, u'Marina & the Diamonds': 0, u'Five Finger Death Punch': 0, u'Calvin Harris': 0, u'Nine Inch Nails': 0, u'N.W.A': 0, u'Cradle of Filth': 0, u'Memphis May Fire': 0, u'Powerwolf': 0, u'Deftones': 0, u'Bullet for My Valentine': 0, u'System of a Down': 1, u'Linkin Park': 1, u'Oh, Sleeper': 0, u'Foo Fighters': 1, u'Cruel Hand': 0, u'Godsmack': 0, u'Billy Talent': 0, u'Mustasch': 0, u'In Flames': 0, u'Howard Shore': 0, u'DragonForce': 0, u'Circa Survive': 0, u'Mumford & Sons': 0, u'Volbeat': 0, u'Tool': 0}, 'Znapsen': {u'Team Sleep': 0, u'Flo Rida': 0, u'White Zombie': 1, u'Ke$ha': 0, u'Sabaton': 0, u'Killswitch Engage': 0, u'Motion City Soundtrack': 0, u'Damien Rice': 0, u'Seether': 0, u'The Wonder Years': 0, u'Halestorm': 0, u'Freestyle': 1, u'Dimmu Borgir': 0, u'Nirvana': 0, u'Trivium': 0, u'Green Day': 0, u'Electric Light Orchestra': 0, u'Leevi and the Leavings': 0, u'Breaking Benjamin': 0, u'Fall Out Boy': 0, u'Becoming the Archetype': 0, u'Three Days Grace': 0, u'Klamydia': 0, u'Queens of the Stone Age': 0, u'Iron Maiden': 0, u'blink-182': 0, u'Rammstein': 1, u'Pendulum': 0, u'Pitty': 0, u'Black Label Society': 1, u'Lindemann': 0, u'Krewella': 0, u'\\u690d\\u677e\\u4f38\\u592b': 0, u'Arctic Monkeys': 0, u'Gyllene Tider': 1, u'Radiohead': 0, u'Pentakill': 0, u'Bayside': 0, u'Nightwish': 0, u'Katy Perry': 0, u'The White Stripes': 0, u'Soilwork': 0, u'Magnus Uggla': 1, u'Shinedown': 0, u'Rage Against the Machine': 0, u'A Perfect Circle': 0, u'Coheed and Cambria': 0, u'deadmau5': 0, u'My Chemical Romance': 0, u'Muse': 0, u'Soulfly': 0, u'36 Crazyfists': 0, u'M.I.A.': 0, u'Limp Bizkit': 1, u'Lamb of God': 1, u'Alexisonfire': 0, u'Metallica': 1, u'Amorphis': 0, u'AFI': 0, u'P.D.P.': 1, u'Dmitri Shostakovich': 0, u'Stam1na': 0, u'Mogwai': 0, u'Disturbed': 0, u'New Found Glory': 0, u'Evergreen Terrace': 0, u'Sick Puppies': 0, u'Machine Head': 1, u'Lacuna Coil': 0, u'Sum 41': 0, u'Tenacious D': 0, u'Boston': 0, u'Energy': 0, u'Queen': 0, u'The Band': 0, u'Pink Floyd': 1, u'Beach House': 0, u'James Blake': 0, u'Epic Rap Battles Of History': 0, u'Rob Zombie': 0, u'Papa Roach': 0, u'DIR EN GREY': 0, u'30 Seconds to Mars': 0, u'Avenged Sevenfold': 1, u'Panic! at the Disco': 0, u'The Dear Hunter': 0, u'All Time Low': 0, u'Hozier': 0, u'Die Antwoord': 0, u'Korn': 1, u'Ween': 0, u'Four Year Strong': 0, u'Arch Enemy': 0, u'The Killers': 0, u'Cat Power': 0, u'Wintersun': 0, u'Demon Hunter': 0, u'Ben Howard': 0, u'Sonata Arctica': 0, u'Parkway Drive': 0, u'Daughter': 0, u'Gallows': 0, u'Scar Symmetry': 0, u'Misfits': 0, u'Red Hot Chili Peppers': 0, u'Slipknot': 1, u'Theory of a Deadman': 0, u'Saosin': 0, u'Children of Bodom': 0, u'Wu-Tang Clan': 0, u'Pantera': 1, u'Warpaint': 0, u'Black Veil Brides': 0, u'Bring Me the Horizon': 0, u'Hans Zimmer': 0, u'Dark Tranquillity': 0, u'Madonna': 0, u'Stone Sour': 0, u'Evanescence': 0, u'Atoms for Peace': 0, u'Amon Amarth': 0, u'Thom Yorke': 0, u'Coldplay': 0, u'Dr. Dre': 0, u'Dope': 1, u'Marina & the Diamonds': 0, u'Five Finger Death Punch': 1, u'Calvin Harris': 0, u'Nine Inch Nails': 0, u'N.W.A': 0, u'Cradle of Filth': 0, u'Memphis May Fire': 0, u'Powerwolf': 0, u'Deftones': 0, u'Bullet for My Valentine': 0, u'System of a Down': 0, u'Linkin Park': 0, u'Oh, Sleeper': 0, u'Foo Fighters': 0, u'Cruel Hand': 0, u'Godsmack': 1, u'Billy Talent': 0, u'Mustasch': 1, u'In Flames': 0, u'Howard Shore': 0, u'DragonForce': 0, u'Circa Survive': 0, u'Mumford & Sons': 0, u'Volbeat': 0, u'Tool': 0}, 'NemoNightfall': {u'Team Sleep': 0, u'Flo Rida': 0, u'White Zombie': 0, u'Ke$ha': 0, u'Sabaton': 0, u'Killswitch Engage': 0, u'Motion City Soundtrack': 0, u'Damien Rice': 0, u'Seether': 0, u'The Wonder Years': 0, u'Halestorm': 0, u'Freestyle': 0, u'Dimmu Borgir': 0, u'Nirvana': 0, u'Trivium': 1, u'Green Day': 0, u'Electric Light Orchestra': 0, u'Leevi and the Leavings': 0, u'Breaking Benjamin': 1, u'Fall Out Boy': 0, u'Becoming the Archetype': 0, u'Three Days Grace': 1, u'Klamydia': 0, u'Queens of the Stone Age': 0, u'Iron Maiden': 0, u'blink-182': 0, u'Rammstein': 0, u'Pendulum': 0, u'Pitty': 0, u'Black Label Society': 0, u'Lindemann': 0, u'Krewella': 0, u'\\u690d\\u677e\\u4f38\\u592b': 0, u'Arctic Monkeys': 0, u'Gyllene Tider': 0, u'Radiohead': 0, u'Pentakill': 0, u'Bayside': 0, u'Nightwish': 0, u'Katy Perry': 0, u'The White Stripes': 0, u'Soilwork': 0, u'Magnus Uggla': 0, u'Shinedown': 0, u'Rage Against the Machine': 0, u'A Perfect Circle': 0, u'Coheed and Cambria': 0, u'deadmau5': 0, u'My Chemical Romance': 0, u'Muse': 0, u'Soulfly': 0, u'36 Crazyfists': 0, u'M.I.A.': 0, u'Limp Bizkit': 0, u'Lamb of God': 0, u'Alexisonfire': 1, u'Metallica': 0, u'Amorphis': 0, u'AFI': 0, u'P.D.P.': 0, u'Dmitri Shostakovich': 0, u'Stam1na': 0, u'Mogwai': 0, u'Disturbed': 0, u'New Found Glory': 0, u'Evergreen Terrace': 0, u'Sick Puppies': 1, u'Machine Head': 0, u'Lacuna Coil': 0, u'Sum 41': 0, u'Tenacious D': 0, u'Boston': 0, u'Energy': 0, u'Queen': 0, u'The Band': 0, u'Pink Floyd': 0, u'Beach House': 0, u'James Blake': 0, u'Epic Rap Battles Of History': 0, u'Rob Zombie': 0, u'Papa Roach': 1, u'DIR EN GREY': 0, u'30 Seconds to Mars': 1, u'Avenged Sevenfold': 0, u'Panic! at the Disco': 0, u'The Dear Hunter': 0, u'All Time Low': 1, u'Hozier': 0, u'Die Antwoord': 0, u'Korn': 0, u'Ween': 0, u'Four Year Strong': 0, u'Arch Enemy': 0, u'The Killers': 0, u'Cat Power': 0, u'Wintersun': 0, u'Demon Hunter': 0, u'Ben Howard': 1, u'Sonata Arctica': 0, u'Parkway Drive': 0, u'Daughter': 0, u'Gallows': 0, u'Scar Symmetry': 0, u'Misfits': 0, u'Red Hot Chili Peppers': 0, u'Slipknot': 1, u'Theory of a Deadman': 0, u'Saosin': 0, u'Children of Bodom': 0, u'Wu-Tang Clan': 0, u'Pantera': 0, u'Warpaint': 0, u'Black Veil Brides': 0, u'Bring Me the Horizon': 1, u'Hans Zimmer': 0, u'Dark Tranquillity': 0, u'Madonna': 0, u'Stone Sour': 1, u'Evanescence': 0, u'Atoms for Peace': 0, u'Amon Amarth': 0, u'Thom Yorke': 0, u'Coldplay': 0, u'Dr. Dre': 0, u'Dope': 0, u'Marina & the Diamonds': 0, u'Five Finger Death Punch': 1, u'Calvin Harris': 0, u'Nine Inch Nails': 0, u'N.W.A': 0, u'Cradle of Filth': 0, u'Memphis May Fire': 1, u'Powerwolf': 0, u'Deftones': 0, u'Bullet for My Valentine': 1, u'System of a Down': 1, u'Linkin Park': 1, u'Oh, Sleeper': 1, u'Foo Fighters': 0, u'Cruel Hand': 0, u'Godsmack': 0, u'Billy Talent': 1, u'Mustasch': 0, u'In Flames': 0, u'Howard Shore': 0, u'DragonForce': 0, u'Circa Survive': 0, u'Mumford & Sons': 1, u'Volbeat': 0, u'Tool': 0}, 'SkyRif': {u'Team Sleep': 0, u'Flo Rida': 0, u'White Zombie': 0, u'Ke$ha': 0, u'Sabaton': 1, u'Killswitch Engage': 0, u'Motion City Soundtrack': 0, u'Damien Rice': 0, u'Seether': 0, u'The Wonder Years': 0, u'Halestorm': 0, u'Freestyle': 0, u'Dimmu Borgir': 0, u'Nirvana': 0, u'Trivium': 0, u'Green Day': 0, u'Electric Light Orchestra': 0, u'Leevi and the Leavings': 0, u'Breaking Benjamin': 0, u'Fall Out Boy': 0, u'Becoming the Archetype': 0, u'Three Days Grace': 0, u'Klamydia': 0, u'Queens of the Stone Age': 0, u'Iron Maiden': 0, u'blink-182': 0, u'Rammstein': 0, u'Pendulum': 0, u'Pitty': 0, u'Black Label Society': 0, u'Lindemann': 0, u'Krewella': 0, u'\\u690d\\u677e\\u4f38\\u592b': 0, u'Arctic Monkeys': 0, u'Gyllene Tider': 0, u'Radiohead': 0, u'Pentakill': 1, u'Bayside': 0, u'Nightwish': 0, u'Katy Perry': 0, u'The White Stripes': 0, u'Soilwork': 0, u'Magnus Uggla': 0, u'Shinedown': 0, u'Rage Against the Machine': 1, u'A Perfect Circle': 0, u'Coheed and Cambria': 0, u'deadmau5': 0, u'My Chemical Romance': 0, u'Muse': 0, u'Soulfly': 0, u'36 Crazyfists': 0, u'M.I.A.': 0, u'Limp Bizkit': 0, u'Lamb of God': 1, u'Alexisonfire': 0, u'Metallica': 1, u'Amorphis': 0, u'AFI': 0, u'P.D.P.': 0, u'Dmitri Shostakovich': 0, u'Stam1na': 0, u'Mogwai': 0, u'Disturbed': 0, u'New Found Glory': 0, u'Evergreen Terrace': 0, u'Sick Puppies': 0, u'Machine Head': 0, u'Lacuna Coil': 0, u'Sum 41': 0, u'Tenacious D': 1, u'Boston': 0, u'Energy': 0, u'Queen': 0, u'The Band': 0, u'Pink Floyd': 0, u'Beach House': 0, u'James Blake': 0, u'Epic Rap Battles Of History': 0, u'Rob Zombie': 0, u'Papa Roach': 1, u'DIR EN GREY': 0, u'30 Seconds to Mars': 0, u'Avenged Sevenfold': 0, u'Panic! at the Disco': 0, u'The Dear Hunter': 0, u'All Time Low': 0, u'Hozier': 0, u'Die Antwoord': 0, u'Korn': 1, u'Ween': 0, u'Four Year Strong': 0, u'Arch Enemy': 1, u'The Killers': 0, u'Cat Power': 0, u'Wintersun': 1, u'Demon Hunter': 0, u'Ben Howard': 0, u'Sonata Arctica': 0, u'Parkway Drive': 0, u'Daughter': 0, u'Gallows': 0, u'Scar Symmetry': 0, u'Misfits': 0, u'Red Hot Chili Peppers': 1, u'Slipknot': 1, u'Theory of a Deadman': 0, u'Saosin': 0, u'Children of Bodom': 0, u'Wu-Tang Clan': 0, u'Pantera': 0, u'Warpaint': 0, u'Black Veil Brides': 0, u'Bring Me the Horizon': 0, u'Hans Zimmer': 1, u'Dark Tranquillity': 0, u'Madonna': 0, u'Stone Sour': 1, u'Evanescence': 0, u'Atoms for Peace': 0, u'Amon Amarth': 1, u'Thom Yorke': 0, u'Coldplay': 0, u'Dr. Dre': 0, u'Dope': 0, u'Marina & the Diamonds': 0, u'Five Finger Death Punch': 0, u'Calvin Harris': 0, u'Nine Inch Nails': 0, u'N.W.A': 0, u'Cradle of Filth': 0, u'Memphis May Fire': 0, u'Powerwolf': 1, u'Deftones': 0, u'Bullet for My Valentine': 0, u'System of a Down': 1, u'Linkin Park': 1, u'Oh, Sleeper': 0, u'Foo Fighters': 0, u'Cruel Hand': 0, u'Godsmack': 0, u'Billy Talent': 0, u'Mustasch': 0, u'In Flames': 0, u'Howard Shore': 1, u'DragonForce': 1, u'Circa Survive': 0, u'Mumford & Sons': 0, u'Volbeat': 0, u'Tool': 0}, 'emill_67': {u'Team Sleep': 0, u'Flo Rida': 0, u'White Zombie': 0, u'Ke$ha': 0, u'Sabaton': 0, u'Killswitch Engage': 0, u'Motion City Soundtrack': 0, u'Damien Rice': 0, u'Seether': 1, u'The Wonder Years': 0, u'Halestorm': 0, u'Freestyle': 0, u'Dimmu Borgir': 0, u'Nirvana': 0, u'Trivium': 0, u'Green Day': 0, u'Electric Light Orchestra': 1, u'Leevi and the Leavings': 0, u'Breaking Benjamin': 0, u'Fall Out Boy': 0, u'Becoming the Archetype': 0, u'Three Days Grace': 0, u'Klamydia': 0, u'Queens of the Stone Age': 0, u'Iron Maiden': 1, u'blink-182': 0, u'Rammstein': 0, u'Pendulum': 0, u'Pitty': 0, u'Black Label Society': 0, u'Lindemann': 0, u'Krewella': 0, u'\\u690d\\u677e\\u4f38\\u592b': 0, u'Arctic Monkeys': 0, u'Gyllene Tider': 0, u'Radiohead': 0, u'Pentakill': 0, u'Bayside': 0, u'Nightwish': 0, u'Katy Perry': 0, u'The White Stripes': 0, u'Soilwork': 0, u'Magnus Uggla': 0, u'Shinedown': 1, u'Rage Against the Machine': 1, u'A Perfect Circle': 0, u'Coheed and Cambria': 0, u'deadmau5': 1, u'My Chemical Romance': 0, u'Muse': 1, u'Soulfly': 0, u'36 Crazyfists': 0, u'M.I.A.': 0, u'Limp Bizkit': 0, u'Lamb of God': 0, u'Alexisonfire': 0, u'Metallica': 0, u'Amorphis': 0, u'AFI': 0, u'P.D.P.': 0, u'Dmitri Shostakovich': 0, u'Stam1na': 0, u'Mogwai': 0, u'Disturbed': 1, u'New Found Glory': 0, u'Evergreen Terrace': 0, u'Sick Puppies': 0, u'Machine Head': 0, u'Lacuna Coil': 0, u'Sum 41': 0, u'Tenacious D': 0, u'Boston': 1, u'Energy': 0, u'Queen': 0, u'The Band': 0, u'Pink Floyd': 1, u'Beach House': 0, u'James Blake': 0, u'Epic Rap Battles Of History': 1, u'Rob Zombie': 1, u'Papa Roach': 0, u'DIR EN GREY': 0, u'30 Seconds to Mars': 0, u'Avenged Sevenfold': 0, u'Panic! at the Disco': 0, u'The Dear Hunter': 0, u'All Time Low': 0, u'Hozier': 0, u'Die Antwoord': 0, u'Korn': 1, u'Ween': 1, u'Four Year Strong': 0, u'Arch Enemy': 0, u'The Killers': 0, u'Cat Power': 0, u'Wintersun': 0, u'Demon Hunter': 0, u'Ben Howard': 0, u'Sonata Arctica': 0, u'Parkway Drive': 0, u'Daughter': 0, u'Gallows': 0, u'Scar Symmetry': 0, u'Misfits': 0, u'Red Hot Chili Peppers': 1, u'Slipknot': 1, u'Theory of a Deadman': 1, u'Saosin': 0, u'Children of Bodom': 0, u'Wu-Tang Clan': 0, u'Pantera': 0, u'Warpaint': 0, u'Black Veil Brides': 0, u'Bring Me the Horizon': 0, u'Hans Zimmer': 0, u'Dark Tranquillity': 0, u'Madonna': 0, u'Stone Sour': 0, u'Evanescence': 1, u'Atoms for Peace': 0, u'Amon Amarth': 0, u'Thom Yorke': 0, u'Coldplay': 0, u'Dr. Dre': 0, u'Dope': 0, u'Marina & the Diamonds': 0, u'Five Finger Death Punch': 1, u'Calvin Harris': 0, u'Nine Inch Nails': 0, u'N.W.A': 0, u'Cradle of Filth': 0, u'Memphis May Fire': 0, u'Powerwolf': 0, u'Deftones': 0, u'Bullet for My Valentine': 0, u'System of a Down': 0, u'Linkin Park': 0, u'Oh, Sleeper': 0, u'Foo Fighters': 1, u'Cruel Hand': 0, u'Godsmack': 0, u'Billy Talent': 0, u'Mustasch': 0, u'In Flames': 0, u'Howard Shore': 0, u'DragonForce': 0, u'Circa Survive': 0, u'Mumford & Sons': 0, u'Volbeat': 0, u'Tool': 0}}\n"
     ]
    }
   ],
   "source": [
    "def create_lastfm_user_dict(grouped_artists):\n",
    "    all_artists = list(set(sum([ artists for (user, artists) in grouped_artists.iteritems() ], [])))\n",
    "    user_dict = { user : get_artist_map_of_user(all_artists, user, artists) for user, artists in grouped_artists.iteritems() }\n",
    "    print user_dict\n",
    "\n",
    "def get_artist_map_of_user(all_artists, users, user_artists):\n",
    "    return { artist: 1 if artist in user_artists else 0 for artist in all_artists }\n",
    "    \n",
    "    \n",
    "create_lastfm_user_dict(grouped_artists)\n"
   ]
  },
  {
   "cell_type": "code",
   "execution_count": null,
   "metadata": {
    "collapsed": true
   },
   "outputs": [],
   "source": []
  }
 ],
 "metadata": {
  "anaconda-cloud": {},
  "kernelspec": {
   "display_name": "Python 2",
   "language": "python",
   "name": "python2"
  },
  "language_info": {
   "codemirror_mode": {
    "name": "ipython",
    "version": 2
   },
   "file_extension": ".py",
   "mimetype": "text/x-python",
   "name": "python",
   "nbconvert_exporter": "python",
   "pygments_lexer": "ipython2",
   "version": "2.7.11"
  },
  "nav_menu": {},
  "toc": {
   "navigate_menu": true,
   "number_sections": true,
   "sideBar": true,
   "threshold": 6,
   "toc_cell": true,
   "toc_section_display": "block",
   "toc_window_display": true
  }
 },
 "nbformat": 4,
 "nbformat_minor": 0
}
